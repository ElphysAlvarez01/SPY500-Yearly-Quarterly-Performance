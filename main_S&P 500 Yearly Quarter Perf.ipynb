{
 "cells": [
  {
   "cell_type": "markdown",
   "metadata": {
    "id": "RsolfaydRevn"
   },
   "source": [
    "### **Title:** *XXXXXXXXXXXX*"
   ]
  },
  {
   "cell_type": "code",
   "execution_count": 65,
   "metadata": {
    "id": "FB_sVJRgRevr"
   },
   "outputs": [],
   "source": [
    "# What is the S&P 500 and the SPY Ticker?\n",
    "# The S&P 500 is a stock market index that measures the performance of 500 of the largest publicly traded companies in the U.S.\n",
    "# Most people consider it to be a broad snapshot of the market's overall health.\n",
    "# The SPY ticker represents the SPDR S&P 500 ETF.\n",
    "\n"
   ]
  },
  {
   "cell_type": "markdown",
   "metadata": {
    "id": "FCrC4BhERevs"
   },
   "source": [
    "##### **The original series of analyses was quite extensive, and due to its length, it has taken me longer than expected to publish.** As a result, I've decided to break the series into smaller parts, releasing the completed analyses first, while continuing to focus on finalizing and publishing the remaining ones as they are finished. I'm also thrilled to dive into several intriguing research questions related to this topic and can't wait to explore them further as the work progresses.\n",
    "\n",
    "##### **Summary of Studies Conducted:** XXXXXXXXXXXXXXXXXX"
   ]
  },
  {
   "cell_type": "markdown",
   "metadata": {
    "id": "Lu_4j_a8Revt"
   },
   "source": [
    "##### **START OF THE ANALYSIS:** \n",
    "##### Importing necessary libraries to conduct the studies and visualizations"
   ]
  },
  {
   "cell_type": "code",
   "execution_count": 66,
   "metadata": {
    "id": "ZP0oy1pkRevt"
   },
   "outputs": [],
   "source": [
    "import pandas as pd\n",
    "import numpy as np"
   ]
  },
  {
   "cell_type": "code",
   "execution_count": 67,
   "metadata": {
    "id": "JIA6ZVRBRevt",
    "outputId": "e3c4100c-ba38-46e2-e0cc-ffbb1054ce4e"
   },
   "outputs": [],
   "source": [
    "import yfinance as yf\n",
    "# note I had to pip install it on my terminal for it to work.\n",
    "# % pip show yfinance"
   ]
  },
  {
   "cell_type": "code",
   "execution_count": 68,
   "metadata": {},
   "outputs": [
    {
     "name": "stdout",
     "output_type": "stream",
     "text": [
      "Requirement already satisfied: seaborn in c:\\users\\alvar\\appdata\\local\\programs\\python\\python312\\lib\\site-packages (0.13.2)\n",
      "Requirement already satisfied: numpy!=1.24.0,>=1.20 in c:\\users\\alvar\\appdata\\local\\programs\\python\\python312\\lib\\site-packages (from seaborn) (1.26.2)\n",
      "Requirement already satisfied: pandas>=1.2 in c:\\users\\alvar\\appdata\\local\\programs\\python\\python312\\lib\\site-packages (from seaborn) (2.1.3)\n",
      "Requirement already satisfied: matplotlib!=3.6.1,>=3.4 in c:\\users\\alvar\\appdata\\local\\programs\\python\\python312\\lib\\site-packages (from seaborn) (3.8.2)\n",
      "Requirement already satisfied: contourpy>=1.0.1 in c:\\users\\alvar\\appdata\\local\\programs\\python\\python312\\lib\\site-packages (from matplotlib!=3.6.1,>=3.4->seaborn) (1.2.0)\n",
      "Requirement already satisfied: cycler>=0.10 in c:\\users\\alvar\\appdata\\local\\programs\\python\\python312\\lib\\site-packages (from matplotlib!=3.6.1,>=3.4->seaborn) (0.12.1)\n",
      "Requirement already satisfied: fonttools>=4.22.0 in c:\\users\\alvar\\appdata\\local\\programs\\python\\python312\\lib\\site-packages (from matplotlib!=3.6.1,>=3.4->seaborn) (4.46.0)\n",
      "Requirement already satisfied: kiwisolver>=1.3.1 in c:\\users\\alvar\\appdata\\local\\programs\\python\\python312\\lib\\site-packages (from matplotlib!=3.6.1,>=3.4->seaborn) (1.4.5)\n",
      "Requirement already satisfied: packaging>=20.0 in c:\\users\\alvar\\appdata\\local\\programs\\python\\python312\\lib\\site-packages (from matplotlib!=3.6.1,>=3.4->seaborn) (23.2)\n",
      "Requirement already satisfied: pillow>=8 in c:\\users\\alvar\\appdata\\local\\programs\\python\\python312\\lib\\site-packages (from matplotlib!=3.6.1,>=3.4->seaborn) (10.1.0)\n",
      "Requirement already satisfied: pyparsing>=2.3.1 in c:\\users\\alvar\\appdata\\local\\programs\\python\\python312\\lib\\site-packages (from matplotlib!=3.6.1,>=3.4->seaborn) (3.1.1)\n",
      "Requirement already satisfied: python-dateutil>=2.7 in c:\\users\\alvar\\appdata\\local\\programs\\python\\python312\\lib\\site-packages (from matplotlib!=3.6.1,>=3.4->seaborn) (2.8.2)\n",
      "Requirement already satisfied: pytz>=2020.1 in c:\\users\\alvar\\appdata\\local\\programs\\python\\python312\\lib\\site-packages (from pandas>=1.2->seaborn) (2023.3.post1)\n",
      "Requirement already satisfied: tzdata>=2022.1 in c:\\users\\alvar\\appdata\\local\\programs\\python\\python312\\lib\\site-packages (from pandas>=1.2->seaborn) (2023.3)\n",
      "Requirement already satisfied: six>=1.5 in c:\\users\\alvar\\appdata\\local\\programs\\python\\python312\\lib\\site-packages (from python-dateutil>=2.7->matplotlib!=3.6.1,>=3.4->seaborn) (1.16.0)\n"
     ]
    },
    {
     "name": "stderr",
     "output_type": "stream",
     "text": [
      "\n",
      "[notice] A new release of pip is available: 24.2 -> 24.3.1\n",
      "[notice] To update, run: C:\\Users\\alvar\\AppData\\Local\\Programs\\Python\\Python312\\python.exe -m pip install --upgrade pip\n"
     ]
    }
   ],
   "source": [
    "!pip install seaborn\n"
   ]
  },
  {
   "cell_type": "code",
   "execution_count": 69,
   "metadata": {
    "id": "xLkBbLoPRevu"
   },
   "outputs": [],
   "source": [
    "from datetime import datetime, timedelta\n",
    "\n",
    "from scipy.stats import ttest_ind, f_oneway\n",
    "from sklearn.cluster import KMeans\n",
    "from sklearn.preprocessing import StandardScaler\n",
    "from sklearn.model_selection import train_test_split\n",
    "from sklearn.linear_model import LogisticRegression\n",
    "from sklearn.metrics import accuracy_score, confusion_matrix, classification_report\n",
    "\n",
    "import plotly.express as px\n",
    "import plotly.graph_objects as go\n",
    "from plotly.subplots import make_subplots\n",
    "import matplotlib.pyplot as plt"
   ]
  },
  {
   "cell_type": "markdown",
   "metadata": {
    "id": "JB_KYt3tRevu"
   },
   "source": [
    "Import Stock information from yahoo finance.\n",
    "Note: Ideally, next time I should make this code more streamline so it can be used with other ticker symbols more quickly. \n",
    "For example, next time, I should not add the name SPY on the so I can quick switch the company / ticker symbol and redo the analysis for multiple stocks. "
   ]
  },
  {
   "cell_type": "code",
   "execution_count": 70,
   "metadata": {
    "id": "zlAquWszRevv",
    "outputId": "20ee6304-2be5-4975-ef0e-8edcd8ef95b5"
   },
   "outputs": [
    {
     "data": {
      "text/html": [
       "<div>\n",
       "<style scoped>\n",
       "    .dataframe tbody tr th:only-of-type {\n",
       "        vertical-align: middle;\n",
       "    }\n",
       "\n",
       "    .dataframe tbody tr th {\n",
       "        vertical-align: top;\n",
       "    }\n",
       "\n",
       "    .dataframe thead th {\n",
       "        text-align: right;\n",
       "    }\n",
       "</style>\n",
       "<table border=\"1\" class=\"dataframe\">\n",
       "  <thead>\n",
       "    <tr style=\"text-align: right;\">\n",
       "      <th></th>\n",
       "      <th>Open</th>\n",
       "      <th>High</th>\n",
       "      <th>Low</th>\n",
       "      <th>Close</th>\n",
       "      <th>Volume</th>\n",
       "    </tr>\n",
       "    <tr>\n",
       "      <th>Date</th>\n",
       "      <th></th>\n",
       "      <th></th>\n",
       "      <th></th>\n",
       "      <th></th>\n",
       "      <th></th>\n",
       "    </tr>\n",
       "  </thead>\n",
       "  <tbody>\n",
       "    <tr>\n",
       "      <th>1995-01-03 00:00:00-05:00</th>\n",
       "      <td>26.941006</td>\n",
       "      <td>27.023901</td>\n",
       "      <td>26.931795</td>\n",
       "      <td>26.987059</td>\n",
       "      <td>324300</td>\n",
       "    </tr>\n",
       "    <tr>\n",
       "      <th>1995-01-04 00:00:00-05:00</th>\n",
       "      <td>27.106802</td>\n",
       "      <td>27.116013</td>\n",
       "      <td>26.968643</td>\n",
       "      <td>27.116013</td>\n",
       "      <td>351800</td>\n",
       "    </tr>\n",
       "    <tr>\n",
       "      <th>1995-01-05 00:00:00-05:00</th>\n",
       "      <td>27.134434</td>\n",
       "      <td>27.180487</td>\n",
       "      <td>27.088381</td>\n",
       "      <td>27.116013</td>\n",
       "      <td>89800</td>\n",
       "    </tr>\n",
       "    <tr>\n",
       "      <th>1995-01-06 00:00:00-05:00</th>\n",
       "      <td>27.171276</td>\n",
       "      <td>27.263382</td>\n",
       "      <td>27.060749</td>\n",
       "      <td>27.143644</td>\n",
       "      <td>448400</td>\n",
       "    </tr>\n",
       "    <tr>\n",
       "      <th>1995-01-09 00:00:00-05:00</th>\n",
       "      <td>27.134437</td>\n",
       "      <td>27.171280</td>\n",
       "      <td>27.116016</td>\n",
       "      <td>27.171280</td>\n",
       "      <td>36800</td>\n",
       "    </tr>\n",
       "    <tr>\n",
       "      <th>...</th>\n",
       "      <td>...</td>\n",
       "      <td>...</td>\n",
       "      <td>...</td>\n",
       "      <td>...</td>\n",
       "      <td>...</td>\n",
       "    </tr>\n",
       "    <tr>\n",
       "      <th>2024-12-13 00:00:00-05:00</th>\n",
       "      <td>606.400024</td>\n",
       "      <td>607.130005</td>\n",
       "      <td>602.809998</td>\n",
       "      <td>604.210022</td>\n",
       "      <td>35904700</td>\n",
       "    </tr>\n",
       "    <tr>\n",
       "      <th>2024-12-16 00:00:00-05:00</th>\n",
       "      <td>606.000000</td>\n",
       "      <td>607.780029</td>\n",
       "      <td>605.210022</td>\n",
       "      <td>606.789978</td>\n",
       "      <td>43695200</td>\n",
       "    </tr>\n",
       "    <tr>\n",
       "      <th>2024-12-17 00:00:00-05:00</th>\n",
       "      <td>604.190002</td>\n",
       "      <td>605.169983</td>\n",
       "      <td>602.890015</td>\n",
       "      <td>604.289978</td>\n",
       "      <td>55773500</td>\n",
       "    </tr>\n",
       "    <tr>\n",
       "      <th>2024-12-18 00:00:00-05:00</th>\n",
       "      <td>603.979980</td>\n",
       "      <td>606.409973</td>\n",
       "      <td>585.890015</td>\n",
       "      <td>586.280029</td>\n",
       "      <td>108248700</td>\n",
       "    </tr>\n",
       "    <tr>\n",
       "      <th>2024-12-19 00:00:00-05:00</th>\n",
       "      <td>591.359985</td>\n",
       "      <td>593.000000</td>\n",
       "      <td>585.849976</td>\n",
       "      <td>586.099976</td>\n",
       "      <td>85081800</td>\n",
       "    </tr>\n",
       "  </tbody>\n",
       "</table>\n",
       "<p>7545 rows × 5 columns</p>\n",
       "</div>"
      ],
      "text/plain": [
       "                                 Open        High         Low       Close  \\\n",
       "Date                                                                        \n",
       "1995-01-03 00:00:00-05:00   26.941006   27.023901   26.931795   26.987059   \n",
       "1995-01-04 00:00:00-05:00   27.106802   27.116013   26.968643   27.116013   \n",
       "1995-01-05 00:00:00-05:00   27.134434   27.180487   27.088381   27.116013   \n",
       "1995-01-06 00:00:00-05:00   27.171276   27.263382   27.060749   27.143644   \n",
       "1995-01-09 00:00:00-05:00   27.134437   27.171280   27.116016   27.171280   \n",
       "...                               ...         ...         ...         ...   \n",
       "2024-12-13 00:00:00-05:00  606.400024  607.130005  602.809998  604.210022   \n",
       "2024-12-16 00:00:00-05:00  606.000000  607.780029  605.210022  606.789978   \n",
       "2024-12-17 00:00:00-05:00  604.190002  605.169983  602.890015  604.289978   \n",
       "2024-12-18 00:00:00-05:00  603.979980  606.409973  585.890015  586.280029   \n",
       "2024-12-19 00:00:00-05:00  591.359985  593.000000  585.849976  586.099976   \n",
       "\n",
       "                              Volume  \n",
       "Date                                  \n",
       "1995-01-03 00:00:00-05:00     324300  \n",
       "1995-01-04 00:00:00-05:00     351800  \n",
       "1995-01-05 00:00:00-05:00      89800  \n",
       "1995-01-06 00:00:00-05:00     448400  \n",
       "1995-01-09 00:00:00-05:00      36800  \n",
       "...                              ...  \n",
       "2024-12-13 00:00:00-05:00   35904700  \n",
       "2024-12-16 00:00:00-05:00   43695200  \n",
       "2024-12-17 00:00:00-05:00   55773500  \n",
       "2024-12-18 00:00:00-05:00  108248700  \n",
       "2024-12-19 00:00:00-05:00   85081800  \n",
       "\n",
       "[7545 rows x 5 columns]"
      ]
     },
     "execution_count": 70,
     "metadata": {},
     "output_type": "execute_result"
    }
   ],
   "source": [
    "# Define the ticker symbol\n",
    "ticker_symbol = 'SPY'\n",
    "\n",
    "spy = yf.Ticker(ticker_symbol)\n",
    "\n",
    "# date range\n",
    "start_date = '1995-01-01'\n",
    "end_date = datetime.today().strftime('%Y-%m-%d')  # Set end date to today\n",
    "\n",
    "# Fetch historical market data without actions\n",
    "spy_data = spy.history(start=start_date, end=end_date)\n",
    "\n",
    "# Getting historical market data without dividends, stock splits, or capital gains\n",
    "spy_data = spy.history(start=start_date, end=end_date, actions=False)\n",
    "spy_data"
   ]
  },
  {
   "cell_type": "code",
   "execution_count": 71,
   "metadata": {
    "id": "KBKaA_VlRevv"
   },
   "outputs": [],
   "source": [
    "# creating a df copy just in case the original is needed\n",
    "spy_basicdata = spy_data.copy()"
   ]
  },
  {
   "cell_type": "code",
   "execution_count": 72,
   "metadata": {
    "id": "rgVzv35FRevv",
    "outputId": "a9d686f7-6a8f-46b4-c830-7fa4fb6c4d2f"
   },
   "outputs": [
    {
     "data": {
      "text/plain": [
       "Index(['Open', 'High', 'Low', 'Close', 'Volume'], dtype='object')"
      ]
     },
     "execution_count": 72,
     "metadata": {},
     "output_type": "execute_result"
    }
   ],
   "source": [
    "spy_basicdata.columns"
   ]
  },
  {
   "cell_type": "code",
   "execution_count": 73,
   "metadata": {
    "id": "VToEbvyYRevv",
    "outputId": "3efa8bb4-3628-4369-8d62-71f0b358ce42"
   },
   "outputs": [
    {
     "data": {
      "text/plain": [
       "(7545, 5)"
      ]
     },
     "execution_count": 73,
     "metadata": {},
     "output_type": "execute_result"
    }
   ],
   "source": [
    "spy_basicdata.shape"
   ]
  },
  {
   "cell_type": "code",
   "execution_count": 74,
   "metadata": {},
   "outputs": [
    {
     "data": {
      "text/html": [
       "<div>\n",
       "<style scoped>\n",
       "    .dataframe tbody tr th:only-of-type {\n",
       "        vertical-align: middle;\n",
       "    }\n",
       "\n",
       "    .dataframe tbody tr th {\n",
       "        vertical-align: top;\n",
       "    }\n",
       "\n",
       "    .dataframe thead th {\n",
       "        text-align: right;\n",
       "    }\n",
       "</style>\n",
       "<table border=\"1\" class=\"dataframe\">\n",
       "  <thead>\n",
       "    <tr style=\"text-align: right;\">\n",
       "      <th></th>\n",
       "      <th>Open</th>\n",
       "      <th>High</th>\n",
       "      <th>Low</th>\n",
       "      <th>Close</th>\n",
       "      <th>Volume</th>\n",
       "    </tr>\n",
       "    <tr>\n",
       "      <th>Date</th>\n",
       "      <th></th>\n",
       "      <th></th>\n",
       "      <th></th>\n",
       "      <th></th>\n",
       "      <th></th>\n",
       "    </tr>\n",
       "  </thead>\n",
       "  <tbody>\n",
       "    <tr>\n",
       "      <th>1995-01-03 00:00:00-05:00</th>\n",
       "      <td>26.941006</td>\n",
       "      <td>27.023901</td>\n",
       "      <td>26.931795</td>\n",
       "      <td>26.987059</td>\n",
       "      <td>324300</td>\n",
       "    </tr>\n",
       "    <tr>\n",
       "      <th>1995-01-04 00:00:00-05:00</th>\n",
       "      <td>27.106802</td>\n",
       "      <td>27.116013</td>\n",
       "      <td>26.968643</td>\n",
       "      <td>27.116013</td>\n",
       "      <td>351800</td>\n",
       "    </tr>\n",
       "    <tr>\n",
       "      <th>1995-01-05 00:00:00-05:00</th>\n",
       "      <td>27.134434</td>\n",
       "      <td>27.180487</td>\n",
       "      <td>27.088381</td>\n",
       "      <td>27.116013</td>\n",
       "      <td>89800</td>\n",
       "    </tr>\n",
       "    <tr>\n",
       "      <th>1995-01-06 00:00:00-05:00</th>\n",
       "      <td>27.171276</td>\n",
       "      <td>27.263382</td>\n",
       "      <td>27.060749</td>\n",
       "      <td>27.143644</td>\n",
       "      <td>448400</td>\n",
       "    </tr>\n",
       "    <tr>\n",
       "      <th>1995-01-09 00:00:00-05:00</th>\n",
       "      <td>27.134437</td>\n",
       "      <td>27.171280</td>\n",
       "      <td>27.116016</td>\n",
       "      <td>27.171280</td>\n",
       "      <td>36800</td>\n",
       "    </tr>\n",
       "  </tbody>\n",
       "</table>\n",
       "</div>"
      ],
      "text/plain": [
       "                                Open       High        Low      Close  Volume\n",
       "Date                                                                         \n",
       "1995-01-03 00:00:00-05:00  26.941006  27.023901  26.931795  26.987059  324300\n",
       "1995-01-04 00:00:00-05:00  27.106802  27.116013  26.968643  27.116013  351800\n",
       "1995-01-05 00:00:00-05:00  27.134434  27.180487  27.088381  27.116013   89800\n",
       "1995-01-06 00:00:00-05:00  27.171276  27.263382  27.060749  27.143644  448400\n",
       "1995-01-09 00:00:00-05:00  27.134437  27.171280  27.116016  27.171280   36800"
      ]
     },
     "execution_count": 74,
     "metadata": {},
     "output_type": "execute_result"
    }
   ],
   "source": [
    "spy_basicdata.head(5)"
   ]
  },
  {
   "cell_type": "code",
   "execution_count": 75,
   "metadata": {
    "id": "vej9sPl8Revw",
    "outputId": "b6de3105-46c9-44f2-f3b4-5a985dbc9151"
   },
   "outputs": [
    {
     "data": {
      "text/html": [
       "<div>\n",
       "<style scoped>\n",
       "    .dataframe tbody tr th:only-of-type {\n",
       "        vertical-align: middle;\n",
       "    }\n",
       "\n",
       "    .dataframe tbody tr th {\n",
       "        vertical-align: top;\n",
       "    }\n",
       "\n",
       "    .dataframe thead th {\n",
       "        text-align: right;\n",
       "    }\n",
       "</style>\n",
       "<table border=\"1\" class=\"dataframe\">\n",
       "  <thead>\n",
       "    <tr style=\"text-align: right;\">\n",
       "      <th></th>\n",
       "      <th>Open</th>\n",
       "      <th>High</th>\n",
       "      <th>Low</th>\n",
       "      <th>Close</th>\n",
       "      <th>Volume</th>\n",
       "    </tr>\n",
       "    <tr>\n",
       "      <th>Date</th>\n",
       "      <th></th>\n",
       "      <th></th>\n",
       "      <th></th>\n",
       "      <th></th>\n",
       "      <th></th>\n",
       "    </tr>\n",
       "  </thead>\n",
       "  <tbody>\n",
       "    <tr>\n",
       "      <th>2024-12-13 00:00:00-05:00</th>\n",
       "      <td>606.400024</td>\n",
       "      <td>607.130005</td>\n",
       "      <td>602.809998</td>\n",
       "      <td>604.210022</td>\n",
       "      <td>35904700</td>\n",
       "    </tr>\n",
       "    <tr>\n",
       "      <th>2024-12-16 00:00:00-05:00</th>\n",
       "      <td>606.000000</td>\n",
       "      <td>607.780029</td>\n",
       "      <td>605.210022</td>\n",
       "      <td>606.789978</td>\n",
       "      <td>43695200</td>\n",
       "    </tr>\n",
       "    <tr>\n",
       "      <th>2024-12-17 00:00:00-05:00</th>\n",
       "      <td>604.190002</td>\n",
       "      <td>605.169983</td>\n",
       "      <td>602.890015</td>\n",
       "      <td>604.289978</td>\n",
       "      <td>55773500</td>\n",
       "    </tr>\n",
       "    <tr>\n",
       "      <th>2024-12-18 00:00:00-05:00</th>\n",
       "      <td>603.979980</td>\n",
       "      <td>606.409973</td>\n",
       "      <td>585.890015</td>\n",
       "      <td>586.280029</td>\n",
       "      <td>108248700</td>\n",
       "    </tr>\n",
       "    <tr>\n",
       "      <th>2024-12-19 00:00:00-05:00</th>\n",
       "      <td>591.359985</td>\n",
       "      <td>593.000000</td>\n",
       "      <td>585.849976</td>\n",
       "      <td>586.099976</td>\n",
       "      <td>85081800</td>\n",
       "    </tr>\n",
       "  </tbody>\n",
       "</table>\n",
       "</div>"
      ],
      "text/plain": [
       "                                 Open        High         Low       Close  \\\n",
       "Date                                                                        \n",
       "2024-12-13 00:00:00-05:00  606.400024  607.130005  602.809998  604.210022   \n",
       "2024-12-16 00:00:00-05:00  606.000000  607.780029  605.210022  606.789978   \n",
       "2024-12-17 00:00:00-05:00  604.190002  605.169983  602.890015  604.289978   \n",
       "2024-12-18 00:00:00-05:00  603.979980  606.409973  585.890015  586.280029   \n",
       "2024-12-19 00:00:00-05:00  591.359985  593.000000  585.849976  586.099976   \n",
       "\n",
       "                              Volume  \n",
       "Date                                  \n",
       "2024-12-13 00:00:00-05:00   35904700  \n",
       "2024-12-16 00:00:00-05:00   43695200  \n",
       "2024-12-17 00:00:00-05:00   55773500  \n",
       "2024-12-18 00:00:00-05:00  108248700  \n",
       "2024-12-19 00:00:00-05:00   85081800  "
      ]
     },
     "execution_count": 75,
     "metadata": {},
     "output_type": "execute_result"
    }
   ],
   "source": [
    "spy_basicdata.tail(5)"
   ]
  },
  {
   "cell_type": "markdown",
   "metadata": {},
   "source": [
    "# -------------------------------------------------------------------------------------------------"
   ]
  },
  {
   "cell_type": "markdown",
   "metadata": {},
   "source": [
    "### Section 1: Basic Statistical Exploratory Analysis:"
   ]
  },
  {
   "cell_type": "markdown",
   "metadata": {
    "id": "DiX4laK2Revw"
   },
   "source": [
    "**Starting of with an exploratory analysis of the basic statistical data overtime.**\n",
    "\n",
    "#### Feature Engineering\n",
    "I created the following features in order to understand the overall behavior of price for each particular year. For example,\n",
    "1. **'30-Day Std Dev'** - reflects short term volatility of price\n",
    "\n",
    "2. **'Annual Std Dev'** - reflects a long term volatility of price\n",
    "\n",
    "3. **'Std Dev Ratio'** - Initially, I did not include any other Std Dev columns. However, when I displayed the table, I thought the difference between the YoY changes in '30-Day Std Dev' was interesting. I also wanted to create a relative field that could potentially show calmness versus high volatility in the market.\n",
    "\n",
    "4. **'Highest High', 'Lowest Low','Average High'** - Other notable fields created were regarding Price. For example, \"High\" Price and \"Low\" Price. I wanted to know the highest high and the lowest low.\n",
    "\n",
    "5. **'Start Price', 'End Price'** - I also included the Start Price and End Price of the Year.\n",
    "\n",
    "6. **'Average Volume', 'Highest Volume Day', 'Lowest Volume Day'** - Lastly, I create a series of fields regarding \"Volume\" such as the average, highest, and lowest for each year.\n"
   ]
  },
  {
   "cell_type": "code",
   "execution_count": 76,
   "metadata": {},
   "outputs": [],
   "source": [
    "# Ensure index is in datetime format\n",
    "spy_data.index = pd.to_datetime(spy_data.index, errors='coerce')\n",
    "\n",
    "# Add columns for Year and Quarter\n",
    "spy_data['Year'] = spy_data.index.year\n",
    "spy_data['Quarter'] = spy_data.index.quarter"
   ]
  },
  {
   "cell_type": "code",
   "execution_count": 77,
   "metadata": {},
   "outputs": [],
   "source": [
    "# Calculate Quarterly Performance\n",
    "quarterly_performance = spy_data.groupby(['Year', 'Quarter'])['Close'].agg(['first', 'last'])\n",
    "quarterly_performance['Quarterly Performance (%)'] = (\n",
    "    (quarterly_performance['last'] - quarterly_performance['first']) / quarterly_performance['first']\n",
    ") * 100\n",
    "quarterly_performance['QoQ Performance (%)'] = quarterly_performance.groupby('Year')['Quarterly Performance (%)'].diff()\n",
    "quarterly_performance.reset_index(inplace=True)"
   ]
  },
  {
   "cell_type": "code",
   "execution_count": 78,
   "metadata": {},
   "outputs": [],
   "source": [
    "# Pivot Quarterly Performance to separate columns for each quarter\n",
    "quarterly_performance_pivot = quarterly_performance.pivot(index='Year', columns='Quarter', values='Quarterly Performance (%)')\n",
    "quarterly_performance_pivot.columns = ['Q1 Performance', 'Q2 Performance', 'Q3 Performance', 'Q4 Performance']\n",
    "\n",
    "# Calculate Quarterly Std Dev\n",
    "quarterly_std_dev = spy_data.groupby(['Year', 'Quarter'])['Close'].std().unstack(level='Quarter')"
   ]
  },
  {
   "cell_type": "code",
   "execution_count": 79,
   "metadata": {},
   "outputs": [],
   "source": [
    "# Ensure all quarters are included\n",
    "expected_quarters = [1, 2, 3, 4]\n",
    "quarterly_std_dev = quarterly_std_dev.reindex(columns=expected_quarters).fillna(0)\n",
    "quarterly_std_dev.columns = ['Q1 Std Dev', 'Q2 Std Dev', 'Q3 Std Dev', 'Q4 Std Dev']\n",
    "annual_std_dev = spy_data.groupby('Year')['Close'].std().rename('Annual Std Dev')"
   ]
  },
  {
   "cell_type": "code",
   "execution_count": 80,
   "metadata": {},
   "outputs": [],
   "source": [
    "# Create Yearly Summary\n",
    "yearly_summary = spy_data.groupby('Year').agg({\n",
    "    'Open': ['mean'],\n",
    "    'High': ['mean', 'max'],\n",
    "    'Low': 'min',\n",
    "    'Volume': ['mean', 'max', 'min'],\n",
    "    'Close': ['first', 'last']\n",
    "})\n",
    "\n",
    "# Flatten the multi-level index\n",
    "yearly_summary.columns = [\n",
    "    \"Average Open\", \"Average High\", \"Highest High\", \"Lowest Low\",\n",
    "    \"Average Volume\", \"Highest Volume Day\", \"Lowest Volume Day\",\n",
    "    \"Start Price\", \"End Price\"\n",
    "]"
   ]
  },
  {
   "cell_type": "code",
   "execution_count": 81,
   "metadata": {},
   "outputs": [],
   "source": [
    "# Merge Quarterly and Annual Data\n",
    "yearly_summary.reset_index(inplace=True)\n",
    "yearly_summary = yearly_summary.merge(quarterly_std_dev, on='Year', how='left')\n",
    "yearly_summary['Annual Std Dev'] = annual_std_dev.values"
   ]
  },
  {
   "cell_type": "code",
   "execution_count": 82,
   "metadata": {},
   "outputs": [],
   "source": [
    "# Merge Quarterly Performance and QoQ Performance (separated by quarters)\n",
    "yearly_summary = yearly_summary.merge(quarterly_performance_pivot, on='Year', how='left')"
   ]
  },
  {
   "cell_type": "code",
   "execution_count": 83,
   "metadata": {},
   "outputs": [],
   "source": [
    "# Calculate Yearly Performance (%)\n",
    "yearly_summary['Yearly Performance (%)'] = (\n",
    "    (yearly_summary['End Price'] - yearly_summary['Start Price']) / yearly_summary['Start Price']) * 100"
   ]
  },
  {
   "cell_type": "code",
   "execution_count": 84,
   "metadata": {},
   "outputs": [],
   "source": [
    "# Calculate Price Range and Price Difference\n",
    "yearly_summary['Price Range'] = yearly_summary['Highest High'] - yearly_summary['Lowest Low']\n",
    "yearly_summary['Price Difference'] = yearly_summary['End Price'] - yearly_summary['Start Price']"
   ]
  },
  {
   "cell_type": "code",
   "execution_count": 85,
   "metadata": {
    "id": "p-gvOJblRevw",
    "outputId": "9ed4f194-f2d1-4a0d-e5d8-5dad87847f03"
   },
   "outputs": [],
   "source": [
    "# Format volume columns with commas\n",
    "# Only HIGHEST VOLUME DAY Day and LOWEST VOLUME DAY were formated to include commas\n",
    "# When I formated the AVERAGE VOLUME, the Time Series chart below looked weird.\n",
    "# The bar-chart showed the bars increasing regardless of whether the volume went up or down the next year.\n",
    "volume_columns = ['Highest Volume Day', 'Lowest Volume Day']\n",
    "yearly_summary[volume_columns] = yearly_summary[volume_columns].applymap(lambda x: f\"{x:,.0f}\")"
   ]
  },
  {
   "cell_type": "code",
   "execution_count": 86,
   "metadata": {
    "id": "b721jLvQRevx",
    "outputId": "e0ddcf0f-14a1-446a-f9e9-33e4c23713d2"
   },
   "outputs": [
    {
     "data": {
      "text/plain": [
       "Index(['Year', 'Average Open', 'Average High', 'Highest High', 'Lowest Low',\n",
       "       'Average Volume', 'Highest Volume Day', 'Lowest Volume Day',\n",
       "       'Start Price', 'End Price', 'Q1 Std Dev', 'Q2 Std Dev', 'Q3 Std Dev',\n",
       "       'Q4 Std Dev', 'Annual Std Dev', 'Q1 Performance', 'Q2 Performance',\n",
       "       'Q3 Performance', 'Q4 Performance', 'Yearly Performance (%)',\n",
       "       'Price Range', 'Price Difference'],\n",
       "      dtype='object')"
      ]
     },
     "execution_count": 86,
     "metadata": {},
     "output_type": "execute_result"
    }
   ],
   "source": [
    "yearly_summary = pd.DataFrame(yearly_summary)\n",
    "yearly_summary.columns"
   ]
  },
  {
   "cell_type": "code",
   "execution_count": 87,
   "metadata": {
    "id": "ZJ2Aw-wmRevx",
    "outputId": "d0fb79fe-e927-4863-a3db-26dd880bbf11"
   },
   "outputs": [
    {
     "data": {
      "text/html": [
       "<div>\n",
       "<style scoped>\n",
       "    .dataframe tbody tr th:only-of-type {\n",
       "        vertical-align: middle;\n",
       "    }\n",
       "\n",
       "    .dataframe tbody tr th {\n",
       "        vertical-align: top;\n",
       "    }\n",
       "\n",
       "    .dataframe thead th {\n",
       "        text-align: right;\n",
       "    }\n",
       "</style>\n",
       "<table border=\"1\" class=\"dataframe\">\n",
       "  <thead>\n",
       "    <tr style=\"text-align: right;\">\n",
       "      <th></th>\n",
       "      <th>Year</th>\n",
       "      <th>Average Open</th>\n",
       "      <th>Average High</th>\n",
       "      <th>Highest High</th>\n",
       "      <th>Lowest Low</th>\n",
       "      <th>Average Volume</th>\n",
       "      <th>Highest Volume Day</th>\n",
       "      <th>Lowest Volume Day</th>\n",
       "      <th>Start Price</th>\n",
       "      <th>End Price</th>\n",
       "      <th>...</th>\n",
       "      <th>Q3 Std Dev</th>\n",
       "      <th>Q4 Std Dev</th>\n",
       "      <th>Annual Std Dev</th>\n",
       "      <th>Q1 Performance</th>\n",
       "      <th>Q2 Performance</th>\n",
       "      <th>Q3 Performance</th>\n",
       "      <th>Q4 Performance</th>\n",
       "      <th>Yearly Performance (%)</th>\n",
       "      <th>Price Range</th>\n",
       "      <th>Price Difference</th>\n",
       "    </tr>\n",
       "  </thead>\n",
       "  <tbody>\n",
       "    <tr>\n",
       "      <th>0</th>\n",
       "      <td>1995</td>\n",
       "      <td>32.305427</td>\n",
       "      <td>32.426335</td>\n",
       "      <td>37.636164</td>\n",
       "      <td>26.931795</td>\n",
       "      <td>3.137948e+05</td>\n",
       "      <td>1,349,800</td>\n",
       "      <td>9,500</td>\n",
       "      <td>26.987059</td>\n",
       "      <td>37.077347</td>\n",
       "      <td>...</td>\n",
       "      <td>0.699873</td>\n",
       "      <td>0.905058</td>\n",
       "      <td>2.937842</td>\n",
       "      <td>10.046349</td>\n",
       "      <td>8.940792</td>\n",
       "      <td>7.667557</td>\n",
       "      <td>6.319183</td>\n",
       "      <td>37.389359</td>\n",
       "      <td>10.704369</td>\n",
       "      <td>10.090288</td>\n",
       "    </tr>\n",
       "    <tr>\n",
       "      <th>1</th>\n",
       "      <td>1996</td>\n",
       "      <td>40.850209</td>\n",
       "      <td>41.062697</td>\n",
       "      <td>46.937224</td>\n",
       "      <td>35.965493</td>\n",
       "      <td>9.028118e+05</td>\n",
       "      <td>4,141,000</td>\n",
       "      <td>154,200</td>\n",
       "      <td>37.473106</td>\n",
       "      <td>45.418819</td>\n",
       "      <td>...</td>\n",
       "      <td>1.120510</td>\n",
       "      <td>1.385170</td>\n",
       "      <td>2.542436</td>\n",
       "      <td>4.560898</td>\n",
       "      <td>3.098320</td>\n",
       "      <td>1.906793</td>\n",
       "      <td>7.545938</td>\n",
       "      <td>21.203775</td>\n",
       "      <td>10.971731</td>\n",
       "      <td>7.945713</td>\n",
       "    </tr>\n",
       "    <tr>\n",
       "      <th>2</th>\n",
       "      <td>1997</td>\n",
       "      <td>54.160123</td>\n",
       "      <td>54.568474</td>\n",
       "      <td>61.587893</td>\n",
       "      <td>44.746076</td>\n",
       "      <td>3.187592e+06</td>\n",
       "      <td>19,548,000</td>\n",
       "      <td>624,600</td>\n",
       "      <td>45.534130</td>\n",
       "      <td>60.622814</td>\n",
       "      <td>...</td>\n",
       "      <td>1.039426</td>\n",
       "      <td>1.418853</td>\n",
       "      <td>4.935257</td>\n",
       "      <td>2.205060</td>\n",
       "      <td>16.869383</td>\n",
       "      <td>6.018755</td>\n",
       "      <td>1.907160</td>\n",
       "      <td>33.137087</td>\n",
       "      <td>16.841817</td>\n",
       "      <td>15.088684</td>\n",
       "    </tr>\n",
       "    <tr>\n",
       "      <th>3</th>\n",
       "      <td>1998</td>\n",
       "      <td>68.257023</td>\n",
       "      <td>68.786796</td>\n",
       "      <td>78.926487</td>\n",
       "      <td>56.777792</td>\n",
       "      <td>7.433582e+06</td>\n",
       "      <td>24,887,800</td>\n",
       "      <td>1,507,100</td>\n",
       "      <td>60.935116</td>\n",
       "      <td>78.017014</td>\n",
       "      <td>...</td>\n",
       "      <td>3.837568</td>\n",
       "      <td>4.812287</td>\n",
       "      <td>4.350746</td>\n",
       "      <td>13.008027</td>\n",
       "      <td>2.566970</td>\n",
       "      <td>-10.918720</td>\n",
       "      <td>25.209131</td>\n",
       "      <td>28.032929</td>\n",
       "      <td>22.148695</td>\n",
       "      <td>17.081898</td>\n",
       "    </tr>\n",
       "    <tr>\n",
       "      <th>4</th>\n",
       "      <td>1999</td>\n",
       "      <td>84.569269</td>\n",
       "      <td>85.167442</td>\n",
       "      <td>94.363808</td>\n",
       "      <td>76.158495</td>\n",
       "      <td>7.238962e+06</td>\n",
       "      <td>16,856,100</td>\n",
       "      <td>1,693,900</td>\n",
       "      <td>77.839058</td>\n",
       "      <td>93.924210</td>\n",
       "      <td>...</td>\n",
       "      <td>2.354795</td>\n",
       "      <td>3.941340</td>\n",
       "      <td>3.868741</td>\n",
       "      <td>4.596531</td>\n",
       "      <td>6.239123</td>\n",
       "      <td>-6.461373</td>\n",
       "      <td>14.608066</td>\n",
       "      <td>20.664628</td>\n",
       "      <td>18.205313</td>\n",
       "      <td>16.085152</td>\n",
       "    </tr>\n",
       "  </tbody>\n",
       "</table>\n",
       "<p>5 rows × 22 columns</p>\n",
       "</div>"
      ],
      "text/plain": [
       "   Year  Average Open  Average High  Highest High  Lowest Low  Average Volume  \\\n",
       "0  1995     32.305427     32.426335     37.636164   26.931795    3.137948e+05   \n",
       "1  1996     40.850209     41.062697     46.937224   35.965493    9.028118e+05   \n",
       "2  1997     54.160123     54.568474     61.587893   44.746076    3.187592e+06   \n",
       "3  1998     68.257023     68.786796     78.926487   56.777792    7.433582e+06   \n",
       "4  1999     84.569269     85.167442     94.363808   76.158495    7.238962e+06   \n",
       "\n",
       "  Highest Volume Day Lowest Volume Day  Start Price  End Price  ...  \\\n",
       "0          1,349,800             9,500    26.987059  37.077347  ...   \n",
       "1          4,141,000           154,200    37.473106  45.418819  ...   \n",
       "2         19,548,000           624,600    45.534130  60.622814  ...   \n",
       "3         24,887,800         1,507,100    60.935116  78.017014  ...   \n",
       "4         16,856,100         1,693,900    77.839058  93.924210  ...   \n",
       "\n",
       "   Q3 Std Dev  Q4 Std Dev  Annual Std Dev  Q1 Performance  Q2 Performance  \\\n",
       "0    0.699873    0.905058        2.937842       10.046349        8.940792   \n",
       "1    1.120510    1.385170        2.542436        4.560898        3.098320   \n",
       "2    1.039426    1.418853        4.935257        2.205060       16.869383   \n",
       "3    3.837568    4.812287        4.350746       13.008027        2.566970   \n",
       "4    2.354795    3.941340        3.868741        4.596531        6.239123   \n",
       "\n",
       "   Q3 Performance  Q4 Performance  Yearly Performance (%)  Price Range  \\\n",
       "0        7.667557        6.319183               37.389359    10.704369   \n",
       "1        1.906793        7.545938               21.203775    10.971731   \n",
       "2        6.018755        1.907160               33.137087    16.841817   \n",
       "3      -10.918720       25.209131               28.032929    22.148695   \n",
       "4       -6.461373       14.608066               20.664628    18.205313   \n",
       "\n",
       "   Price Difference  \n",
       "0         10.090288  \n",
       "1          7.945713  \n",
       "2         15.088684  \n",
       "3         17.081898  \n",
       "4         16.085152  \n",
       "\n",
       "[5 rows x 22 columns]"
      ]
     },
     "execution_count": 87,
     "metadata": {},
     "output_type": "execute_result"
    }
   ],
   "source": [
    "yearly_summary.head()\n",
    "# Reminder, I formated only the Highest Volume and Lowest Volume not the Average Volume\n",
    "# Avg Volume will be used in a chart and when it was formated the chart was not displaying properly"
   ]
  },
  {
   "cell_type": "code",
   "execution_count": 88,
   "metadata": {
    "id": "T1J8qVetRevx",
    "outputId": "e37d2a6d-ff92-411a-b808-216a66885119"
   },
   "outputs": [
    {
     "data": {
      "text/html": [
       "<div>\n",
       "<style scoped>\n",
       "    .dataframe tbody tr th:only-of-type {\n",
       "        vertical-align: middle;\n",
       "    }\n",
       "\n",
       "    .dataframe tbody tr th {\n",
       "        vertical-align: top;\n",
       "    }\n",
       "\n",
       "    .dataframe thead th {\n",
       "        text-align: right;\n",
       "    }\n",
       "</style>\n",
       "<table border=\"1\" class=\"dataframe\">\n",
       "  <thead>\n",
       "    <tr style=\"text-align: right;\">\n",
       "      <th></th>\n",
       "      <th>Year</th>\n",
       "      <th>Average Open</th>\n",
       "      <th>Average High</th>\n",
       "      <th>Highest High</th>\n",
       "      <th>Lowest Low</th>\n",
       "      <th>Average Volume</th>\n",
       "      <th>Highest Volume Day</th>\n",
       "      <th>Lowest Volume Day</th>\n",
       "      <th>Start Price</th>\n",
       "      <th>End Price</th>\n",
       "      <th>...</th>\n",
       "      <th>Q3 Std Dev</th>\n",
       "      <th>Q4 Std Dev</th>\n",
       "      <th>Annual Std Dev</th>\n",
       "      <th>Q1 Performance</th>\n",
       "      <th>Q2 Performance</th>\n",
       "      <th>Q3 Performance</th>\n",
       "      <th>Q4 Performance</th>\n",
       "      <th>Yearly Performance (%)</th>\n",
       "      <th>Price Range</th>\n",
       "      <th>Price Difference</th>\n",
       "    </tr>\n",
       "  </thead>\n",
       "  <tbody>\n",
       "    <tr>\n",
       "      <th>25</th>\n",
       "      <td>2020</td>\n",
       "      <td>301.368453</td>\n",
       "      <td>303.920437</td>\n",
       "      <td>358.635108</td>\n",
       "      <td>204.229125</td>\n",
       "      <td>1.003593e+08</td>\n",
       "      <td>392,220,700</td>\n",
       "      <td>26,457,900</td>\n",
       "      <td>302.208679</td>\n",
       "      <td>354.295013</td>\n",
       "      <td>...</td>\n",
       "      <td>10.021347</td>\n",
       "      <td>12.886044</td>\n",
       "      <td>30.903858</td>\n",
       "      <td>-20.194049</td>\n",
       "      <td>25.824510</td>\n",
       "      <td>8.279856</td>\n",
       "      <td>11.403316</td>\n",
       "      <td>17.235221</td>\n",
       "      <td>154.405983</td>\n",
       "      <td>52.086334</td>\n",
       "    </tr>\n",
       "    <tr>\n",
       "      <th>26</th>\n",
       "      <td>2021</td>\n",
       "      <td>406.146966</td>\n",
       "      <td>408.015318</td>\n",
       "      <td>459.959036</td>\n",
       "      <td>345.709669</td>\n",
       "      <td>7.379523e+07</td>\n",
       "      <td>183,433,000</td>\n",
       "      <td>34,848,500</td>\n",
       "      <td>349.471710</td>\n",
       "      <td>456.079590</td>\n",
       "      <td>...</td>\n",
       "      <td>6.339619</td>\n",
       "      <td>12.324004</td>\n",
       "      <td>28.785145</td>\n",
       "      <td>7.819638</td>\n",
       "      <td>7.201637</td>\n",
       "      <td>0.019713</td>\n",
       "      <td>9.761554</td>\n",
       "      <td>30.505439</td>\n",
       "      <td>114.249367</td>\n",
       "      <td>106.607880</td>\n",
       "    </tr>\n",
       "    <tr>\n",
       "      <th>27</th>\n",
       "      <td>2022</td>\n",
       "      <td>395.079804</td>\n",
       "      <td>398.492222</td>\n",
       "      <td>460.900046</td>\n",
       "      <td>338.142318</td>\n",
       "      <td>9.475961e+07</td>\n",
       "      <td>251,783,900</td>\n",
       "      <td>30,545,400</td>\n",
       "      <td>458.720367</td>\n",
       "      <td>373.185486</td>\n",
       "      <td>...</td>\n",
       "      <td>17.075279</td>\n",
       "      <td>13.014065</td>\n",
       "      <td>26.663549</td>\n",
       "      <td>-5.163582</td>\n",
       "      <td>-16.347351</td>\n",
       "      <td>-5.926120</td>\n",
       "      <td>4.794244</td>\n",
       "      <td>-18.646410</td>\n",
       "      <td>122.757728</td>\n",
       "      <td>-85.534882</td>\n",
       "    </tr>\n",
       "    <tr>\n",
       "      <th>28</th>\n",
       "      <td>2023</td>\n",
       "      <td>419.446682</td>\n",
       "      <td>421.703509</td>\n",
       "      <td>473.088829</td>\n",
       "      <td>368.696668</td>\n",
       "      <td>8.192389e+07</td>\n",
       "      <td>189,253,000</td>\n",
       "      <td>29,737,400</td>\n",
       "      <td>371.614410</td>\n",
       "      <td>470.869751</td>\n",
       "      <td>...</td>\n",
       "      <td>7.368471</td>\n",
       "      <td>19.354557</td>\n",
       "      <td>24.112874</td>\n",
       "      <td>7.912525</td>\n",
       "      <td>8.267813</td>\n",
       "      <td>-3.335393</td>\n",
       "      <td>11.684052</td>\n",
       "      <td>26.709228</td>\n",
       "      <td>104.392161</td>\n",
       "      <td>99.255341</td>\n",
       "    </tr>\n",
       "    <tr>\n",
       "      <th>29</th>\n",
       "      <td>2024</td>\n",
       "      <td>537.682134</td>\n",
       "      <td>539.898521</td>\n",
       "      <td>609.070007</td>\n",
       "      <td>462.072696</td>\n",
       "      <td>5.726893e+07</td>\n",
       "      <td>146,267,400</td>\n",
       "      <td>26,906,600</td>\n",
       "      <td>468.234558</td>\n",
       "      <td>586.099976</td>\n",
       "      <td>...</td>\n",
       "      <td>13.001031</td>\n",
       "      <td>12.580697</td>\n",
       "      <td>37.759219</td>\n",
       "      <td>11.011366</td>\n",
       "      <td>4.560993</td>\n",
       "      <td>5.534139</td>\n",
       "      <td>3.074106</td>\n",
       "      <td>25.172302</td>\n",
       "      <td>146.997311</td>\n",
       "      <td>117.865417</td>\n",
       "    </tr>\n",
       "  </tbody>\n",
       "</table>\n",
       "<p>5 rows × 22 columns</p>\n",
       "</div>"
      ],
      "text/plain": [
       "    Year  Average Open  Average High  Highest High  Lowest Low  \\\n",
       "25  2020    301.368453    303.920437    358.635108  204.229125   \n",
       "26  2021    406.146966    408.015318    459.959036  345.709669   \n",
       "27  2022    395.079804    398.492222    460.900046  338.142318   \n",
       "28  2023    419.446682    421.703509    473.088829  368.696668   \n",
       "29  2024    537.682134    539.898521    609.070007  462.072696   \n",
       "\n",
       "    Average Volume Highest Volume Day Lowest Volume Day  Start Price  \\\n",
       "25    1.003593e+08        392,220,700        26,457,900   302.208679   \n",
       "26    7.379523e+07        183,433,000        34,848,500   349.471710   \n",
       "27    9.475961e+07        251,783,900        30,545,400   458.720367   \n",
       "28    8.192389e+07        189,253,000        29,737,400   371.614410   \n",
       "29    5.726893e+07        146,267,400        26,906,600   468.234558   \n",
       "\n",
       "     End Price  ...  Q3 Std Dev  Q4 Std Dev  Annual Std Dev  Q1 Performance  \\\n",
       "25  354.295013  ...   10.021347   12.886044       30.903858      -20.194049   \n",
       "26  456.079590  ...    6.339619   12.324004       28.785145        7.819638   \n",
       "27  373.185486  ...   17.075279   13.014065       26.663549       -5.163582   \n",
       "28  470.869751  ...    7.368471   19.354557       24.112874        7.912525   \n",
       "29  586.099976  ...   13.001031   12.580697       37.759219       11.011366   \n",
       "\n",
       "    Q2 Performance  Q3 Performance  Q4 Performance  Yearly Performance (%)  \\\n",
       "25       25.824510        8.279856       11.403316               17.235221   \n",
       "26        7.201637        0.019713        9.761554               30.505439   \n",
       "27      -16.347351       -5.926120        4.794244              -18.646410   \n",
       "28        8.267813       -3.335393       11.684052               26.709228   \n",
       "29        4.560993        5.534139        3.074106               25.172302   \n",
       "\n",
       "    Price Range  Price Difference  \n",
       "25   154.405983         52.086334  \n",
       "26   114.249367        106.607880  \n",
       "27   122.757728        -85.534882  \n",
       "28   104.392161         99.255341  \n",
       "29   146.997311        117.865417  \n",
       "\n",
       "[5 rows x 22 columns]"
      ]
     },
     "execution_count": 88,
     "metadata": {},
     "output_type": "execute_result"
    }
   ],
   "source": [
    "yearly_summary.tail()"
   ]
  },
  {
   "cell_type": "markdown",
   "metadata": {},
   "source": [
    "### **Interpretation of Yearly SPY Metrics Summary:**\n",
    "\n",
    "#### **\"Performance Table with Enhanced Formatting\" Chart:**\n"
   ]
  },
  {
   "cell_type": "code",
   "execution_count": 120,
   "metadata": {},
   "outputs": [],
   "source": [
    "# Function to generate cell colors based on performance thresholds\n",
    "def get_cell_colors(df):\n",
    "    colors = []\n",
    "    for index, row in df.iterrows():\n",
    "        row_colors = []\n",
    "        for col in ['Q1 Performance', 'Q2 Performance', 'Q3 Performance', 'Q4 Performance', 'Yearly Performance (%)']:\n",
    "            value = row[col]\n",
    "            if 5 <= value < 10:\n",
    "                row_colors.append('mediumpurple')  # Purple for 5% to 9%\n",
    "            elif value >= 10:\n",
    "                row_colors.append('lightgreen')  # Green for 10% or more\n",
    "            elif -10 <= value < -5:\n",
    "                row_colors.append('lightsalmon')  # Orange for -5% to -9%\n",
    "            elif value < -10:\n",
    "                row_colors.append('lightcoral')  # Red for -10% or less\n",
    "            else:\n",
    "                row_colors.append('white')  # Default color\n",
    "        colors.append(row_colors)\n",
    "    return colors"
   ]
  },
  {
   "cell_type": "code",
   "execution_count": 121,
   "metadata": {},
   "outputs": [],
   "source": [
    "# Generate cell colors based on the data\n",
    "cell_colors = get_cell_colors(yearly_summary)"
   ]
  },
  {
   "cell_type": "code",
   "execution_count": 134,
   "metadata": {},
   "outputs": [
    {
     "data": {
      "application/vnd.plotly.v1+json": {
       "config": {
        "plotlyServerURL": "https://plot.ly"
       },
       "data": [
        {
         "cells": {
          "align": "center",
          "fill": {
           "color": [
            [
             "white",
             "white",
             "white",
             "white",
             "white",
             "white",
             "white",
             "white",
             "white",
             "white",
             "white",
             "white",
             "white",
             "white",
             "white",
             "white",
             "white",
             "white",
             "white",
             "white",
             "white",
             "white",
             "white",
             "white",
             "white",
             "white",
             "white",
             "white",
             "white",
             "white"
            ],
            [
             "lightgreen",
             "white",
             "white",
             "lightgreen",
             "white",
             "white",
             "lightsalmon",
             "white",
             "lightsalmon",
             "white",
             "white",
             "white",
             "white",
             "lightsalmon",
             "lightcoral",
             "white",
             "white",
             "lightgreen",
             "mediumpurple",
             "white",
             "white",
             "white",
             "mediumpurple",
             "white",
             "lightgreen",
             "lightcoral",
             "mediumpurple",
             "lightsalmon",
             "mediumpurple",
             "lightgreen"
            ],
            [
             "mediumpurple",
             "white",
             "lightgreen",
             "white",
             "mediumpurple",
             "white",
             "mediumpurple",
             "lightcoral",
             "lightgreen",
             "white",
             "white",
             "white",
             "mediumpurple",
             "lightsalmon",
             "lightgreen",
             "lightcoral",
             "white",
             "white",
             "white",
             "white",
             "white",
             "white",
             "white",
             "mediumpurple",
             "white",
             "lightgreen",
             "mediumpurple",
             "lightcoral",
             "mediumpurple",
             "white"
            ],
            [
             "mediumpurple",
             "white",
             "mediumpurple",
             "lightcoral",
             "lightsalmon",
             "white",
             "lightcoral",
             "lightcoral",
             "white",
             "white",
             "white",
             "white",
             "white",
             "lightsalmon",
             "lightgreen",
             "lightgreen",
             "lightcoral",
             "mediumpurple",
             "white",
             "white",
             "lightsalmon",
             "white",
             "white",
             "mediumpurple",
             "white",
             "mediumpurple",
             "white",
             "lightsalmon",
             "white",
             "mediumpurple"
            ],
            [
             "mediumpurple",
             "mediumpurple",
             "white",
             "lightgreen",
             "lightgreen",
             "lightsalmon",
             "mediumpurple",
             "white",
             "mediumpurple",
             "mediumpurple",
             "white",
             "mediumpurple",
             "white",
             "lightcoral",
             "mediumpurple",
             "lightgreen",
             "lightgreen",
             "white",
             "mediumpurple",
             "mediumpurple",
             "mediumpurple",
             "white",
             "mediumpurple",
             "lightcoral",
             "lightgreen",
             "lightgreen",
             "mediumpurple",
             "white",
             "lightgreen",
             "white"
            ],
            [
             "lightgreen",
             "lightgreen",
             "lightgreen",
             "lightgreen",
             "lightgreen",
             "lightsalmon",
             "lightcoral",
             "lightcoral",
             "lightgreen",
             "lightgreen",
             "mediumpurple",
             "lightgreen",
             "mediumpurple",
             "lightcoral",
             "lightgreen",
             "lightgreen",
             "white",
             "lightgreen",
             "lightgreen",
             "lightgreen",
             "white",
             "lightgreen",
             "lightgreen",
             "lightsalmon",
             "lightgreen",
             "lightgreen",
             "lightgreen",
             "lightcoral",
             "lightgreen",
             "lightgreen"
            ]
           ]
          },
          "font": {
           "color": "black",
           "size": 12
          },
          "height": 25,
          "values": [
           [
            1995,
            1996,
            1997,
            1998,
            1999,
            2000,
            2001,
            2002,
            2003,
            2004,
            2005,
            2006,
            2007,
            2008,
            2009,
            2010,
            2011,
            2012,
            2013,
            2014,
            2015,
            2016,
            2017,
            2018,
            2019,
            2020,
            2021,
            2022,
            2023,
            2024
           ],
           [
            "10.05%",
            "4.56%",
            "2.21%",
            "13.01%",
            "4.6%",
            "3.66%",
            "-9.17%",
            "-0.59%",
            "-6.58%",
            "2.04%",
            "-1.56%",
            "2.88%",
            "0.84%",
            "-8.49%",
            "-13.85%",
            "3.66%",
            "4.81%",
            "10.92%",
            "7.74%",
            "2.69%",
            "0.94%",
            "2.77%",
            "5.12%",
            "-1.7%",
            "13.41%",
            "-20.19%",
            "7.82%",
            "-5.16%",
            "7.91%",
            "11.01%"
           ],
           [
            "8.94%",
            "3.1%",
            "16.87%",
            "2.57%",
            "6.24%",
            "-3.72%",
            "7.66%",
            "-13.32%",
            "13.88%",
            "1.03%",
            "1.9%",
            "-1.45%",
            "6.27%",
            "-5.85%",
            "14.08%",
            "-11.96%",
            "-0.39%",
            "-3.55%",
            "3.34%",
            "4.47%",
            "0.56%",
            "1.76%",
            "3.25%",
            "5.84%",
            "3.01%",
            "25.82%",
            "7.2%",
            "-16.35%",
            "8.27%",
            "4.56%"
           ],
           [
            "7.67%",
            "1.91%",
            "6.02%",
            "-10.92%",
            "-6.46%",
            "-2.24%",
            "-15.55%",
            "-15.33%",
            "1.83%",
            "-0.63%",
            "3.37%",
            "4.98%",
            "1.0%",
            "-9.13%",
            "14.91%",
            "11.66%",
            "-15.07%",
            "6.03%",
            "4.63%",
            "0.46%",
            "-7.17%",
            "3.56%",
            "4.24%",
            "7.42%",
            "0.84%",
            "8.28%",
            "0.02%",
            "-5.93%",
            "-3.34%",
            "5.53%"
           ],
           [
            "6.32%",
            "7.55%",
            "1.91%",
            "25.21%",
            "14.61%",
            "-8.52%",
            "10.0%",
            "3.43%",
            "9.53%",
            "7.17%",
            "2.1%",
            "7.01%",
            "-4.74%",
            "-21.62%",
            "8.81%",
            "10.3%",
            "14.89%",
            "-0.64%",
            "9.66%",
            "6.34%",
            "6.74%",
            "4.2%",
            "6.3%",
            "-13.83%",
            "10.3%",
            "11.4%",
            "9.76%",
            "4.79%",
            "11.68%",
            "3.07%"
           ],
           [
            "37.39%",
            "21.2%",
            "33.14%",
            "28.03%",
            "20.66%",
            "-8.85%",
            "-10.13%",
            "-22.42%",
            "24.18%",
            "10.75%",
            "5.32%",
            "13.84%",
            "5.33%",
            "-36.24%",
            "22.65%",
            "13.14%",
            "0.85%",
            "14.17%",
            "29.0%",
            "14.56%",
            "1.29%",
            "13.59%",
            "20.78%",
            "-5.25%",
            "31.09%",
            "17.24%",
            "30.51%",
            "-18.65%",
            "26.71%",
            "25.17%"
           ]
          ]
         },
         "header": {
          "align": "center",
          "fill": {
           "color": "lightgrey"
          },
          "font": {
           "color": "black",
           "size": 14
          },
          "height": 30,
          "values": [
           "Year",
           "Q1 Performance",
           "Q2 Performance",
           "Q3 Performance",
           "Q4 Performance",
           "Yearly Performance (%)"
          ]
         },
         "type": "table"
        }
       ],
       "layout": {
        "annotations": [
         {
          "align": "center",
          "font": {
           "size": 15
          },
          "showarrow": false,
          "text": "<b>Shading Legend:</b> <span style='color:mediumpurple'>Purple</span>: 5% to 9%, <span style='color:lightgreen'>Green</span>: 10% or more, <span style='color:lightsalmon'>Orange</span>: -5% to -9%, <span style='color:lightcoral'>Red</span>: -10% or less, White: Everything else.",
          "x": 0.3,
          "xref": "paper",
          "y": 1.15,
          "yref": "paper"
         }
        ],
        "autosize": true,
        "height": 960,
        "template": {
         "data": {
          "bar": [
           {
            "error_x": {
             "color": "#2a3f5f"
            },
            "error_y": {
             "color": "#2a3f5f"
            },
            "marker": {
             "line": {
              "color": "#E5ECF6",
              "width": 0.5
             },
             "pattern": {
              "fillmode": "overlay",
              "size": 10,
              "solidity": 0.2
             }
            },
            "type": "bar"
           }
          ],
          "barpolar": [
           {
            "marker": {
             "line": {
              "color": "#E5ECF6",
              "width": 0.5
             },
             "pattern": {
              "fillmode": "overlay",
              "size": 10,
              "solidity": 0.2
             }
            },
            "type": "barpolar"
           }
          ],
          "carpet": [
           {
            "aaxis": {
             "endlinecolor": "#2a3f5f",
             "gridcolor": "white",
             "linecolor": "white",
             "minorgridcolor": "white",
             "startlinecolor": "#2a3f5f"
            },
            "baxis": {
             "endlinecolor": "#2a3f5f",
             "gridcolor": "white",
             "linecolor": "white",
             "minorgridcolor": "white",
             "startlinecolor": "#2a3f5f"
            },
            "type": "carpet"
           }
          ],
          "choropleth": [
           {
            "colorbar": {
             "outlinewidth": 0,
             "ticks": ""
            },
            "type": "choropleth"
           }
          ],
          "contour": [
           {
            "colorbar": {
             "outlinewidth": 0,
             "ticks": ""
            },
            "colorscale": [
             [
              0,
              "#0d0887"
             ],
             [
              0.1111111111111111,
              "#46039f"
             ],
             [
              0.2222222222222222,
              "#7201a8"
             ],
             [
              0.3333333333333333,
              "#9c179e"
             ],
             [
              0.4444444444444444,
              "#bd3786"
             ],
             [
              0.5555555555555556,
              "#d8576b"
             ],
             [
              0.6666666666666666,
              "#ed7953"
             ],
             [
              0.7777777777777778,
              "#fb9f3a"
             ],
             [
              0.8888888888888888,
              "#fdca26"
             ],
             [
              1,
              "#f0f921"
             ]
            ],
            "type": "contour"
           }
          ],
          "contourcarpet": [
           {
            "colorbar": {
             "outlinewidth": 0,
             "ticks": ""
            },
            "type": "contourcarpet"
           }
          ],
          "heatmap": [
           {
            "colorbar": {
             "outlinewidth": 0,
             "ticks": ""
            },
            "colorscale": [
             [
              0,
              "#0d0887"
             ],
             [
              0.1111111111111111,
              "#46039f"
             ],
             [
              0.2222222222222222,
              "#7201a8"
             ],
             [
              0.3333333333333333,
              "#9c179e"
             ],
             [
              0.4444444444444444,
              "#bd3786"
             ],
             [
              0.5555555555555556,
              "#d8576b"
             ],
             [
              0.6666666666666666,
              "#ed7953"
             ],
             [
              0.7777777777777778,
              "#fb9f3a"
             ],
             [
              0.8888888888888888,
              "#fdca26"
             ],
             [
              1,
              "#f0f921"
             ]
            ],
            "type": "heatmap"
           }
          ],
          "heatmapgl": [
           {
            "colorbar": {
             "outlinewidth": 0,
             "ticks": ""
            },
            "colorscale": [
             [
              0,
              "#0d0887"
             ],
             [
              0.1111111111111111,
              "#46039f"
             ],
             [
              0.2222222222222222,
              "#7201a8"
             ],
             [
              0.3333333333333333,
              "#9c179e"
             ],
             [
              0.4444444444444444,
              "#bd3786"
             ],
             [
              0.5555555555555556,
              "#d8576b"
             ],
             [
              0.6666666666666666,
              "#ed7953"
             ],
             [
              0.7777777777777778,
              "#fb9f3a"
             ],
             [
              0.8888888888888888,
              "#fdca26"
             ],
             [
              1,
              "#f0f921"
             ]
            ],
            "type": "heatmapgl"
           }
          ],
          "histogram": [
           {
            "marker": {
             "pattern": {
              "fillmode": "overlay",
              "size": 10,
              "solidity": 0.2
             }
            },
            "type": "histogram"
           }
          ],
          "histogram2d": [
           {
            "colorbar": {
             "outlinewidth": 0,
             "ticks": ""
            },
            "colorscale": [
             [
              0,
              "#0d0887"
             ],
             [
              0.1111111111111111,
              "#46039f"
             ],
             [
              0.2222222222222222,
              "#7201a8"
             ],
             [
              0.3333333333333333,
              "#9c179e"
             ],
             [
              0.4444444444444444,
              "#bd3786"
             ],
             [
              0.5555555555555556,
              "#d8576b"
             ],
             [
              0.6666666666666666,
              "#ed7953"
             ],
             [
              0.7777777777777778,
              "#fb9f3a"
             ],
             [
              0.8888888888888888,
              "#fdca26"
             ],
             [
              1,
              "#f0f921"
             ]
            ],
            "type": "histogram2d"
           }
          ],
          "histogram2dcontour": [
           {
            "colorbar": {
             "outlinewidth": 0,
             "ticks": ""
            },
            "colorscale": [
             [
              0,
              "#0d0887"
             ],
             [
              0.1111111111111111,
              "#46039f"
             ],
             [
              0.2222222222222222,
              "#7201a8"
             ],
             [
              0.3333333333333333,
              "#9c179e"
             ],
             [
              0.4444444444444444,
              "#bd3786"
             ],
             [
              0.5555555555555556,
              "#d8576b"
             ],
             [
              0.6666666666666666,
              "#ed7953"
             ],
             [
              0.7777777777777778,
              "#fb9f3a"
             ],
             [
              0.8888888888888888,
              "#fdca26"
             ],
             [
              1,
              "#f0f921"
             ]
            ],
            "type": "histogram2dcontour"
           }
          ],
          "mesh3d": [
           {
            "colorbar": {
             "outlinewidth": 0,
             "ticks": ""
            },
            "type": "mesh3d"
           }
          ],
          "parcoords": [
           {
            "line": {
             "colorbar": {
              "outlinewidth": 0,
              "ticks": ""
             }
            },
            "type": "parcoords"
           }
          ],
          "pie": [
           {
            "automargin": true,
            "type": "pie"
           }
          ],
          "scatter": [
           {
            "fillpattern": {
             "fillmode": "overlay",
             "size": 10,
             "solidity": 0.2
            },
            "type": "scatter"
           }
          ],
          "scatter3d": [
           {
            "line": {
             "colorbar": {
              "outlinewidth": 0,
              "ticks": ""
             }
            },
            "marker": {
             "colorbar": {
              "outlinewidth": 0,
              "ticks": ""
             }
            },
            "type": "scatter3d"
           }
          ],
          "scattercarpet": [
           {
            "marker": {
             "colorbar": {
              "outlinewidth": 0,
              "ticks": ""
             }
            },
            "type": "scattercarpet"
           }
          ],
          "scattergeo": [
           {
            "marker": {
             "colorbar": {
              "outlinewidth": 0,
              "ticks": ""
             }
            },
            "type": "scattergeo"
           }
          ],
          "scattergl": [
           {
            "marker": {
             "colorbar": {
              "outlinewidth": 0,
              "ticks": ""
             }
            },
            "type": "scattergl"
           }
          ],
          "scattermapbox": [
           {
            "marker": {
             "colorbar": {
              "outlinewidth": 0,
              "ticks": ""
             }
            },
            "type": "scattermapbox"
           }
          ],
          "scatterpolar": [
           {
            "marker": {
             "colorbar": {
              "outlinewidth": 0,
              "ticks": ""
             }
            },
            "type": "scatterpolar"
           }
          ],
          "scatterpolargl": [
           {
            "marker": {
             "colorbar": {
              "outlinewidth": 0,
              "ticks": ""
             }
            },
            "type": "scatterpolargl"
           }
          ],
          "scatterternary": [
           {
            "marker": {
             "colorbar": {
              "outlinewidth": 0,
              "ticks": ""
             }
            },
            "type": "scatterternary"
           }
          ],
          "surface": [
           {
            "colorbar": {
             "outlinewidth": 0,
             "ticks": ""
            },
            "colorscale": [
             [
              0,
              "#0d0887"
             ],
             [
              0.1111111111111111,
              "#46039f"
             ],
             [
              0.2222222222222222,
              "#7201a8"
             ],
             [
              0.3333333333333333,
              "#9c179e"
             ],
             [
              0.4444444444444444,
              "#bd3786"
             ],
             [
              0.5555555555555556,
              "#d8576b"
             ],
             [
              0.6666666666666666,
              "#ed7953"
             ],
             [
              0.7777777777777778,
              "#fb9f3a"
             ],
             [
              0.8888888888888888,
              "#fdca26"
             ],
             [
              1,
              "#f0f921"
             ]
            ],
            "type": "surface"
           }
          ],
          "table": [
           {
            "cells": {
             "fill": {
              "color": "#EBF0F8"
             },
             "line": {
              "color": "white"
             }
            },
            "header": {
             "fill": {
              "color": "#C8D4E3"
             },
             "line": {
              "color": "white"
             }
            },
            "type": "table"
           }
          ]
         },
         "layout": {
          "annotationdefaults": {
           "arrowcolor": "#2a3f5f",
           "arrowhead": 0,
           "arrowwidth": 1
          },
          "autotypenumbers": "strict",
          "coloraxis": {
           "colorbar": {
            "outlinewidth": 0,
            "ticks": ""
           }
          },
          "colorscale": {
           "diverging": [
            [
             0,
             "#8e0152"
            ],
            [
             0.1,
             "#c51b7d"
            ],
            [
             0.2,
             "#de77ae"
            ],
            [
             0.3,
             "#f1b6da"
            ],
            [
             0.4,
             "#fde0ef"
            ],
            [
             0.5,
             "#f7f7f7"
            ],
            [
             0.6,
             "#e6f5d0"
            ],
            [
             0.7,
             "#b8e186"
            ],
            [
             0.8,
             "#7fbc41"
            ],
            [
             0.9,
             "#4d9221"
            ],
            [
             1,
             "#276419"
            ]
           ],
           "sequential": [
            [
             0,
             "#0d0887"
            ],
            [
             0.1111111111111111,
             "#46039f"
            ],
            [
             0.2222222222222222,
             "#7201a8"
            ],
            [
             0.3333333333333333,
             "#9c179e"
            ],
            [
             0.4444444444444444,
             "#bd3786"
            ],
            [
             0.5555555555555556,
             "#d8576b"
            ],
            [
             0.6666666666666666,
             "#ed7953"
            ],
            [
             0.7777777777777778,
             "#fb9f3a"
            ],
            [
             0.8888888888888888,
             "#fdca26"
            ],
            [
             1,
             "#f0f921"
            ]
           ],
           "sequentialminus": [
            [
             0,
             "#0d0887"
            ],
            [
             0.1111111111111111,
             "#46039f"
            ],
            [
             0.2222222222222222,
             "#7201a8"
            ],
            [
             0.3333333333333333,
             "#9c179e"
            ],
            [
             0.4444444444444444,
             "#bd3786"
            ],
            [
             0.5555555555555556,
             "#d8576b"
            ],
            [
             0.6666666666666666,
             "#ed7953"
            ],
            [
             0.7777777777777778,
             "#fb9f3a"
            ],
            [
             0.8888888888888888,
             "#fdca26"
            ],
            [
             1,
             "#f0f921"
            ]
           ]
          },
          "colorway": [
           "#636efa",
           "#EF553B",
           "#00cc96",
           "#ab63fa",
           "#FFA15A",
           "#19d3f3",
           "#FF6692",
           "#B6E880",
           "#FF97FF",
           "#FECB52"
          ],
          "font": {
           "color": "#2a3f5f"
          },
          "geo": {
           "bgcolor": "white",
           "lakecolor": "white",
           "landcolor": "#E5ECF6",
           "showlakes": true,
           "showland": true,
           "subunitcolor": "white"
          },
          "hoverlabel": {
           "align": "left"
          },
          "hovermode": "closest",
          "mapbox": {
           "style": "light"
          },
          "paper_bgcolor": "white",
          "plot_bgcolor": "#E5ECF6",
          "polar": {
           "angularaxis": {
            "gridcolor": "white",
            "linecolor": "white",
            "ticks": ""
           },
           "bgcolor": "#E5ECF6",
           "radialaxis": {
            "gridcolor": "white",
            "linecolor": "white",
            "ticks": ""
           }
          },
          "scene": {
           "xaxis": {
            "backgroundcolor": "#E5ECF6",
            "gridcolor": "white",
            "gridwidth": 2,
            "linecolor": "white",
            "showbackground": true,
            "ticks": "",
            "zerolinecolor": "white"
           },
           "yaxis": {
            "backgroundcolor": "#E5ECF6",
            "gridcolor": "white",
            "gridwidth": 2,
            "linecolor": "white",
            "showbackground": true,
            "ticks": "",
            "zerolinecolor": "white"
           },
           "zaxis": {
            "backgroundcolor": "#E5ECF6",
            "gridcolor": "white",
            "gridwidth": 2,
            "linecolor": "white",
            "showbackground": true,
            "ticks": "",
            "zerolinecolor": "white"
           }
          },
          "shapedefaults": {
           "line": {
            "color": "#2a3f5f"
           }
          },
          "ternary": {
           "aaxis": {
            "gridcolor": "white",
            "linecolor": "white",
            "ticks": ""
           },
           "baxis": {
            "gridcolor": "white",
            "linecolor": "white",
            "ticks": ""
           },
           "bgcolor": "#E5ECF6",
           "caxis": {
            "gridcolor": "white",
            "linecolor": "white",
            "ticks": ""
           }
          },
          "title": {
           "x": 0.05
          },
          "xaxis": {
           "automargin": true,
           "gridcolor": "white",
           "linecolor": "white",
           "ticks": "",
           "title": {
            "standoff": 15
           },
           "zerolinecolor": "white",
           "zerolinewidth": 2
          },
          "yaxis": {
           "automargin": true,
           "gridcolor": "white",
           "linecolor": "white",
           "ticks": "",
           "title": {
            "standoff": 15
           },
           "zerolinecolor": "white",
           "zerolinewidth": 2
          }
         }
        },
        "title": {
         "text": "Performance Table with Enhanced Formatting"
        }
       }
      }
     },
     "metadata": {},
     "output_type": "display_data"
    }
   ],
   "source": [
    "fig = go.Figure(data=[go.Table(\n",
    "    header=dict(\n",
    "        values=['Year', 'Q1 Performance', 'Q2 Performance', 'Q3 Performance', 'Q4 Performance', 'Yearly Performance (%)'],\n",
    "        align='center',\n",
    "        fill_color='lightgrey',\n",
    "        font=dict(size=14, color='black'),  # Adjusted font size for the header\n",
    "        height=30  # Adjust header height if necessary\n",
    "    ),\n",
    "    cells=dict(\n",
    "        values=[\n",
    "            yearly_summary['Year'],\n",
    "            yearly_summary['Q1 Performance'].round(2).astype(str) + '%',\n",
    "            yearly_summary['Q2 Performance'].round(2).astype(str) + '%',\n",
    "            yearly_summary['Q3 Performance'].round(2).astype(str) + '%',\n",
    "            yearly_summary['Q4 Performance'].round(2).astype(str) + '%',\n",
    "            yearly_summary['Yearly Performance (%)'].round(2).astype(str) + '%'\n",
    "        ],\n",
    "        align='center',\n",
    "        fill_color=[['white'] * len(yearly_summary)] + list(zip(*cell_colors)),\n",
    "        font=dict(size=12, color='black'),  # Adjusted font size for the cells\n",
    "        height=25  # Adjust cell height if necessary\n",
    "    )\n",
    ")])\n",
    "\n",
    "fig.add_annotation(\n",
    "    text=(\n",
    "        \"<b>Shading Legend:</b> \"\n",
    "        \"<span style='color:mediumpurple'>Purple</span>: 5% to 9%, \"\n",
    "        \"<span style='color:lightgreen'>Green</span>: 10% or more, \"\n",
    "        \"<span style='color:lightsalmon'>Orange</span>: -5% to -9%, \"\n",
    "        \"<span style='color:lightcoral'>Red</span>: -10% or less, \"\n",
    "        \"White: Everything else.\"\n",
    "    ),\n",
    "    x=0.3, y=1.15,  # Position above the chart\n",
    "    xref='paper', yref='paper',\n",
    "    showarrow=False,\n",
    "    font=dict(size=15),\n",
    "    align=\"center\"\n",
    ")\n",
    "\n",
    "fig.update_layout(\n",
    "    title=\"Performance Table with Enhanced Formatting\",\n",
    "    autosize=True,  # Automatically size to fit content\n",
    "    height=960,  # Set a fixed height (adjust as needed based on the number of years)\n",
    ")\n",
    "\n",
    "fig.show()"
   ]
  },
  {
   "cell_type": "markdown",
   "metadata": {},
   "source": [
    "### **Interpretation of Quarterly SPY Metrics Summary:**\n",
    "\n",
    "#### **Best-performing Quarter & Average Quarterly Performance:**\n",
    "- The best-performing quarter is Q4 Performance with an average performance of 5.46%. With Q4 outperforming other quarters, it would be a good idea to stay in the market during this time. \n",
    "- The average performance for Q1 is 1.84%, Q2 is 3.13%, Q3 is 0.09%, and Q4 is 5.46%. I wonder if Q3 low performancing is due to September consistently being a low performing month. However, this quarter can be used as a buying opportunity since Q4 has been statistically a stong performing quarter. \n",
    "\n",
    "#### **'Average Quarterly Performance by 5-Year Intervals' Chart:**\n",
    "The chart provides insights into how quarterly performance trends have varied across distinct 5-year intervals:\n",
    "\n",
    "**1995–1999: Q1: 6.88%, Q2: 7.54%, Q3: -0.36%, Q4: 11.12% -** \n",
    "- The late 1990s were a golden era for market performance, with Q4 boasting an impressive 11.12% average return, followed closely by Q2 at 7.54%. Yet, amidst this prosperity, it’s striking to note that Q3 lagged significantly with a nearly flat -0.36%.  This anomaly begs the question: what held back Q3 during a time of such overwhelming market optimism?\n",
    "\n",
    "**2000–2004: Q1: -2.13%, Q2: 1.11%, Q3: -6.38%, Q4: 4.32% -** \n",
    "- The declines in Q1 and Q3 reflect heightened market volatility, likely influenced by the dot-com bubble burst. The strong negative performance of 2001-2002 skew the average negatively for the this period. It is interesting to see how quickly optimism can turn to fear and have it persist for years. In hindsight, these years were great buying opportunities for the upcoming market returns. \n",
    "\n",
    "**2005 to 2009: Q1 is -4.04%, Q2 is 2.99%, Q3 is 3.03%, and Q4 is -1.69%.**\n",
    "- The more notably aspect of this time period is Q3 outperformance compared to other quarters. After the global financial crisis, Q3 emerged as the strongest quarter of this period, outperforming all others quarters, a rare instance of Q3 leading quarterly performance across all observed time frames. \n",
    "\n",
    "**2010–2014: Q1: 5.97%, Q2: -1.62%, Q3: 1.54%, Q4: 8.11% -** \n",
    "- The years following the financial crisis reflect a textbook recovery story. Q4 led the charge with an impressive 8.11%, while Q1 followed closely at 5.97%, driven by improving economic fundamentals and central bank support. However, Q2 lagged with a surprising -1.62%, hinting at mid-year corrections or cautious investor sentiment. This period reaffirms the resilience of markets and the critical role of liquidity in supporting asset prices.\n",
    "\n",
    "**2015–2019: Q1: 4.11%, Q2: 2.88%, Q3: 1.78%, Q4: 2.74% -** \n",
    "- Balanced performance with moderate gains across all quarters. In stark contrast to the turbulence of earlier periods, these years offered consistency. Q1 (4.11%) led a balanced performance, with all quarters posting positive returns.\n",
    "\n",
    "**2020–2024: Q1: 0.28%, Q2: 5.90%, Q3: 0.91%, Q4: 8.15% -** \n",
    "- The pandemic tested global markets like never before, yet Q4 maintained its dominance with an 8.15% return, showcasing the enduring year-end momentum. Q2 followed with a robust 5.90%, driven by fiscal stimulus and economic recovery efforts. However, Q1 (0.28%) and Q3 (0.91%) struggled, but in hindsight appeared to be consistently great buying opportunities due to the returns the following quarters. "
   ]
  },
  {
   "cell_type": "markdown",
   "metadata": {},
   "source": [
    "## **Next Steps for Deeper Analysis:**\n",
    "- After returning the yearly and quarterly performance, a potential next analysis to conduct is to review Sector Rotation and performance to better understand how it influences results.\n"
   ]
  },
  {
   "cell_type": "code",
   "execution_count": 92,
   "metadata": {},
   "outputs": [
    {
     "name": "stdout",
     "output_type": "stream",
     "text": [
      "The best-performing quarter is Q4 Performance with an average performance of 5.46%.\n"
     ]
    }
   ],
   "source": [
    "# Calculate the average performance for each quarter\n",
    "quarterly_averages = yearly_summary[['Q1 Performance', 'Q2 Performance', 'Q3 Performance', 'Q4 Performance']].mean()\n",
    "\n",
    "# best-performing quarter\n",
    "best_quarter = quarterly_averages.idxmax()\n",
    "best_performance = quarterly_averages.max()\n",
    "print(f\"The best-performing quarter is {best_quarter} with an average performance of {best_performance:.2f}%.\")"
   ]
  },
  {
   "cell_type": "code",
   "execution_count": 93,
   "metadata": {},
   "outputs": [
    {
     "name": "stdout",
     "output_type": "stream",
     "text": [
      "The average performance for Q1 is 1.84%, Q2 is 3.13%, Q3 is 0.09%, and Q4 is 5.46%.\n"
     ]
    }
   ],
   "source": [
    "quarterly_averages = yearly_summary[['Q1 Performance', 'Q2 Performance', 'Q3 Performance', 'Q4 Performance']].mean()\n",
    "average_sentence = (\n",
    "    f\"The average performance for Q1 is {quarterly_averages['Q1 Performance']:.2f}%, \"\n",
    "    f\"Q2 is {quarterly_averages['Q2 Performance']:.2f}%, \"\n",
    "    f\"Q3 is {quarterly_averages['Q3 Performance']:.2f}%, \"\n",
    "    f\"and Q4 is {quarterly_averages['Q4 Performance']:.2f}%.\"\n",
    ")\n",
    "print(average_sentence)"
   ]
  },
  {
   "cell_type": "code",
   "execution_count": 115,
   "metadata": {},
   "outputs": [],
   "source": [
    "# Group the years into 5-year intervals and calculate the average performance for each quarter\n",
    "yearly_summary['Year Group'] = (yearly_summary['Year'] // 5) * 5\n",
    "\n",
    "# Calculate the average performance for each quarter within 5-year groups\n",
    "grouped_quarterly_averages = yearly_summary.groupby('Year Group')[['Q1 Performance', 'Q2 Performance', 'Q3 Performance', 'Q4 Performance']].mean()"
   ]
  },
  {
   "cell_type": "code",
   "execution_count": 116,
   "metadata": {},
   "outputs": [
    {
     "name": "stdout",
     "output_type": "stream",
     "text": [
      "From 1995 to 1999, the average performance for Q1 is 6.88%, Q2 is 7.54%, Q3 is -0.36%, and Q4 is 11.12%.\n",
      "From 2000 to 2004, the average performance for Q1 is -2.13%, Q2 is 1.11%, Q3 is -6.38%, and Q4 is 4.32%.\n",
      "From 2005 to 2009, the average performance for Q1 is -4.04%, Q2 is 2.99%, Q3 is 3.03%, and Q4 is -1.69%.\n",
      "From 2010 to 2014, the average performance for Q1 is 5.97%, Q2 is -1.62%, Q3 is 1.54%, and Q4 is 8.11%.\n",
      "From 2015 to 2019, the average performance for Q1 is 4.11%, Q2 is 2.88%, Q3 is 1.78%, and Q4 is 2.74%.\n",
      "From 2020 to 2024, the average performance for Q1 is 0.28%, Q2 is 5.90%, Q3 is 0.91%, and Q4 is 8.14%.\n"
     ]
    }
   ],
   "source": [
    "for year_group, row in grouped_quarterly_averages.iterrows():\n",
    "    print(\n",
    "        f\"From {year_group} to {year_group + 4}, \"\n",
    "        f\"the average performance for Q1 is {row['Q1 Performance']:.2f}%, \"\n",
    "        f\"Q2 is {row['Q2 Performance']:.2f}%, \"\n",
    "        f\"Q3 is {row['Q3 Performance']:.2f}%, \"\n",
    "        f\"and Q4 is {row['Q4 Performance']:.2f}%.\"\n",
    "    )"
   ]
  },
  {
   "cell_type": "code",
   "execution_count": 95,
   "metadata": {},
   "outputs": [
    {
     "data": {
      "application/vnd.plotly.v1+json": {
       "config": {
        "plotlyServerURL": "https://plot.ly"
       },
       "data": [
        {
         "alignmentgroup": "True",
         "hovertemplate": "Quarter=Q1 Performance<br>5-Year Interval=%{x}<br>Average Performance (%)=%{y}<extra></extra>",
         "legendgroup": "Q1 Performance",
         "marker": {
          "color": "#636efa",
          "pattern": {
           "shape": ""
          }
         },
         "name": "Q1 Performance",
         "offsetgroup": "Q1 Performance",
         "orientation": "v",
         "showlegend": true,
         "textposition": "outside",
         "texttemplate": "%{y:.2f}%",
         "type": "bar",
         "x": [
          "1995-1999",
          "2000-2004",
          "2005-2009",
          "2010-2014",
          "2015-2019",
          "2020-2024"
         ],
         "xaxis": "x",
         "y": [
          6.883373054527813,
          -2.127492783322563,
          -4.035022957656627,
          5.965765814520649,
          4.1054800561782425,
          0.2771797451708089
         ],
         "yaxis": "y"
        },
        {
         "alignmentgroup": "True",
         "hovertemplate": "Quarter=Q2 Performance<br>5-Year Interval=%{x}<br>Average Performance (%)=%{y}<extra></extra>",
         "legendgroup": "Q2 Performance",
         "marker": {
          "color": "#EF553B",
          "pattern": {
           "shape": ""
          }
         },
         "name": "Q2 Performance",
         "offsetgroup": "Q2 Performance",
         "orientation": "v",
         "showlegend": true,
         "textposition": "outside",
         "texttemplate": "%{y:.2f}%",
         "type": "bar",
         "x": [
          "1995-1999",
          "2000-2004",
          "2005-2009",
          "2010-2014",
          "2015-2019",
          "2020-2024"
         ],
         "xaxis": "x",
         "y": [
          7.54291763864722,
          1.1050706942173956,
          2.989002530844413,
          -1.618745209747134,
          2.883528002539434,
          5.901520465520167
         ],
         "yaxis": "y"
        },
        {
         "alignmentgroup": "True",
         "hovertemplate": "Quarter=Q3 Performance<br>5-Year Interval=%{x}<br>Average Performance (%)=%{y}<extra></extra>",
         "legendgroup": "Q3 Performance",
         "marker": {
          "color": "#00cc96",
          "pattern": {
           "shape": ""
          }
         },
         "name": "Q3 Performance",
         "offsetgroup": "Q3 Performance",
         "orientation": "v",
         "showlegend": true,
         "textposition": "outside",
         "texttemplate": "%{y:.2f}%",
         "type": "bar",
         "x": [
          "1995-1999",
          "2000-2004",
          "2005-2009",
          "2010-2014",
          "2015-2019",
          "2020-2024"
         ],
         "xaxis": "x",
         "y": [
          -0.35739758211653516,
          -6.383010953295356,
          3.0265248277490997,
          1.5411881181328528,
          1.7781884433804795,
          0.9144388081973112
         ],
         "yaxis": "y"
        },
        {
         "alignmentgroup": "True",
         "hovertemplate": "Quarter=Q4 Performance<br>5-Year Interval=%{x}<br>Average Performance (%)=%{y}<extra></extra>",
         "legendgroup": "Q4 Performance",
         "marker": {
          "color": "#ab63fa",
          "pattern": {
           "shape": ""
          }
         },
         "name": "Q4 Performance",
         "offsetgroup": "Q4 Performance",
         "orientation": "v",
         "showlegend": true,
         "textposition": "outside",
         "texttemplate": "%{y:.2f}%",
         "type": "bar",
         "x": [
          "1995-1999",
          "2000-2004",
          "2005-2009",
          "2010-2014",
          "2015-2019",
          "2020-2024"
         ],
         "xaxis": "x",
         "y": [
          11.117895605512762,
          4.322204901013064,
          -1.6882612210015107,
          8.107668386269165,
          2.7430634822029956,
          8.143454431184656
         ],
         "yaxis": "y"
        }
       ],
       "layout": {
        "barmode": "group",
        "legend": {
         "title": {
          "text": "Quarter"
         },
         "tracegroupgap": 0
        },
        "template": {
         "data": {
          "bar": [
           {
            "error_x": {
             "color": "#2a3f5f"
            },
            "error_y": {
             "color": "#2a3f5f"
            },
            "marker": {
             "line": {
              "color": "white",
              "width": 0.5
             },
             "pattern": {
              "fillmode": "overlay",
              "size": 10,
              "solidity": 0.2
             }
            },
            "type": "bar"
           }
          ],
          "barpolar": [
           {
            "marker": {
             "line": {
              "color": "white",
              "width": 0.5
             },
             "pattern": {
              "fillmode": "overlay",
              "size": 10,
              "solidity": 0.2
             }
            },
            "type": "barpolar"
           }
          ],
          "carpet": [
           {
            "aaxis": {
             "endlinecolor": "#2a3f5f",
             "gridcolor": "#C8D4E3",
             "linecolor": "#C8D4E3",
             "minorgridcolor": "#C8D4E3",
             "startlinecolor": "#2a3f5f"
            },
            "baxis": {
             "endlinecolor": "#2a3f5f",
             "gridcolor": "#C8D4E3",
             "linecolor": "#C8D4E3",
             "minorgridcolor": "#C8D4E3",
             "startlinecolor": "#2a3f5f"
            },
            "type": "carpet"
           }
          ],
          "choropleth": [
           {
            "colorbar": {
             "outlinewidth": 0,
             "ticks": ""
            },
            "type": "choropleth"
           }
          ],
          "contour": [
           {
            "colorbar": {
             "outlinewidth": 0,
             "ticks": ""
            },
            "colorscale": [
             [
              0,
              "#0d0887"
             ],
             [
              0.1111111111111111,
              "#46039f"
             ],
             [
              0.2222222222222222,
              "#7201a8"
             ],
             [
              0.3333333333333333,
              "#9c179e"
             ],
             [
              0.4444444444444444,
              "#bd3786"
             ],
             [
              0.5555555555555556,
              "#d8576b"
             ],
             [
              0.6666666666666666,
              "#ed7953"
             ],
             [
              0.7777777777777778,
              "#fb9f3a"
             ],
             [
              0.8888888888888888,
              "#fdca26"
             ],
             [
              1,
              "#f0f921"
             ]
            ],
            "type": "contour"
           }
          ],
          "contourcarpet": [
           {
            "colorbar": {
             "outlinewidth": 0,
             "ticks": ""
            },
            "type": "contourcarpet"
           }
          ],
          "heatmap": [
           {
            "colorbar": {
             "outlinewidth": 0,
             "ticks": ""
            },
            "colorscale": [
             [
              0,
              "#0d0887"
             ],
             [
              0.1111111111111111,
              "#46039f"
             ],
             [
              0.2222222222222222,
              "#7201a8"
             ],
             [
              0.3333333333333333,
              "#9c179e"
             ],
             [
              0.4444444444444444,
              "#bd3786"
             ],
             [
              0.5555555555555556,
              "#d8576b"
             ],
             [
              0.6666666666666666,
              "#ed7953"
             ],
             [
              0.7777777777777778,
              "#fb9f3a"
             ],
             [
              0.8888888888888888,
              "#fdca26"
             ],
             [
              1,
              "#f0f921"
             ]
            ],
            "type": "heatmap"
           }
          ],
          "heatmapgl": [
           {
            "colorbar": {
             "outlinewidth": 0,
             "ticks": ""
            },
            "colorscale": [
             [
              0,
              "#0d0887"
             ],
             [
              0.1111111111111111,
              "#46039f"
             ],
             [
              0.2222222222222222,
              "#7201a8"
             ],
             [
              0.3333333333333333,
              "#9c179e"
             ],
             [
              0.4444444444444444,
              "#bd3786"
             ],
             [
              0.5555555555555556,
              "#d8576b"
             ],
             [
              0.6666666666666666,
              "#ed7953"
             ],
             [
              0.7777777777777778,
              "#fb9f3a"
             ],
             [
              0.8888888888888888,
              "#fdca26"
             ],
             [
              1,
              "#f0f921"
             ]
            ],
            "type": "heatmapgl"
           }
          ],
          "histogram": [
           {
            "marker": {
             "pattern": {
              "fillmode": "overlay",
              "size": 10,
              "solidity": 0.2
             }
            },
            "type": "histogram"
           }
          ],
          "histogram2d": [
           {
            "colorbar": {
             "outlinewidth": 0,
             "ticks": ""
            },
            "colorscale": [
             [
              0,
              "#0d0887"
             ],
             [
              0.1111111111111111,
              "#46039f"
             ],
             [
              0.2222222222222222,
              "#7201a8"
             ],
             [
              0.3333333333333333,
              "#9c179e"
             ],
             [
              0.4444444444444444,
              "#bd3786"
             ],
             [
              0.5555555555555556,
              "#d8576b"
             ],
             [
              0.6666666666666666,
              "#ed7953"
             ],
             [
              0.7777777777777778,
              "#fb9f3a"
             ],
             [
              0.8888888888888888,
              "#fdca26"
             ],
             [
              1,
              "#f0f921"
             ]
            ],
            "type": "histogram2d"
           }
          ],
          "histogram2dcontour": [
           {
            "colorbar": {
             "outlinewidth": 0,
             "ticks": ""
            },
            "colorscale": [
             [
              0,
              "#0d0887"
             ],
             [
              0.1111111111111111,
              "#46039f"
             ],
             [
              0.2222222222222222,
              "#7201a8"
             ],
             [
              0.3333333333333333,
              "#9c179e"
             ],
             [
              0.4444444444444444,
              "#bd3786"
             ],
             [
              0.5555555555555556,
              "#d8576b"
             ],
             [
              0.6666666666666666,
              "#ed7953"
             ],
             [
              0.7777777777777778,
              "#fb9f3a"
             ],
             [
              0.8888888888888888,
              "#fdca26"
             ],
             [
              1,
              "#f0f921"
             ]
            ],
            "type": "histogram2dcontour"
           }
          ],
          "mesh3d": [
           {
            "colorbar": {
             "outlinewidth": 0,
             "ticks": ""
            },
            "type": "mesh3d"
           }
          ],
          "parcoords": [
           {
            "line": {
             "colorbar": {
              "outlinewidth": 0,
              "ticks": ""
             }
            },
            "type": "parcoords"
           }
          ],
          "pie": [
           {
            "automargin": true,
            "type": "pie"
           }
          ],
          "scatter": [
           {
            "fillpattern": {
             "fillmode": "overlay",
             "size": 10,
             "solidity": 0.2
            },
            "type": "scatter"
           }
          ],
          "scatter3d": [
           {
            "line": {
             "colorbar": {
              "outlinewidth": 0,
              "ticks": ""
             }
            },
            "marker": {
             "colorbar": {
              "outlinewidth": 0,
              "ticks": ""
             }
            },
            "type": "scatter3d"
           }
          ],
          "scattercarpet": [
           {
            "marker": {
             "colorbar": {
              "outlinewidth": 0,
              "ticks": ""
             }
            },
            "type": "scattercarpet"
           }
          ],
          "scattergeo": [
           {
            "marker": {
             "colorbar": {
              "outlinewidth": 0,
              "ticks": ""
             }
            },
            "type": "scattergeo"
           }
          ],
          "scattergl": [
           {
            "marker": {
             "colorbar": {
              "outlinewidth": 0,
              "ticks": ""
             }
            },
            "type": "scattergl"
           }
          ],
          "scattermapbox": [
           {
            "marker": {
             "colorbar": {
              "outlinewidth": 0,
              "ticks": ""
             }
            },
            "type": "scattermapbox"
           }
          ],
          "scatterpolar": [
           {
            "marker": {
             "colorbar": {
              "outlinewidth": 0,
              "ticks": ""
             }
            },
            "type": "scatterpolar"
           }
          ],
          "scatterpolargl": [
           {
            "marker": {
             "colorbar": {
              "outlinewidth": 0,
              "ticks": ""
             }
            },
            "type": "scatterpolargl"
           }
          ],
          "scatterternary": [
           {
            "marker": {
             "colorbar": {
              "outlinewidth": 0,
              "ticks": ""
             }
            },
            "type": "scatterternary"
           }
          ],
          "surface": [
           {
            "colorbar": {
             "outlinewidth": 0,
             "ticks": ""
            },
            "colorscale": [
             [
              0,
              "#0d0887"
             ],
             [
              0.1111111111111111,
              "#46039f"
             ],
             [
              0.2222222222222222,
              "#7201a8"
             ],
             [
              0.3333333333333333,
              "#9c179e"
             ],
             [
              0.4444444444444444,
              "#bd3786"
             ],
             [
              0.5555555555555556,
              "#d8576b"
             ],
             [
              0.6666666666666666,
              "#ed7953"
             ],
             [
              0.7777777777777778,
              "#fb9f3a"
             ],
             [
              0.8888888888888888,
              "#fdca26"
             ],
             [
              1,
              "#f0f921"
             ]
            ],
            "type": "surface"
           }
          ],
          "table": [
           {
            "cells": {
             "fill": {
              "color": "#EBF0F8"
             },
             "line": {
              "color": "white"
             }
            },
            "header": {
             "fill": {
              "color": "#C8D4E3"
             },
             "line": {
              "color": "white"
             }
            },
            "type": "table"
           }
          ]
         },
         "layout": {
          "annotationdefaults": {
           "arrowcolor": "#2a3f5f",
           "arrowhead": 0,
           "arrowwidth": 1
          },
          "autotypenumbers": "strict",
          "coloraxis": {
           "colorbar": {
            "outlinewidth": 0,
            "ticks": ""
           }
          },
          "colorscale": {
           "diverging": [
            [
             0,
             "#8e0152"
            ],
            [
             0.1,
             "#c51b7d"
            ],
            [
             0.2,
             "#de77ae"
            ],
            [
             0.3,
             "#f1b6da"
            ],
            [
             0.4,
             "#fde0ef"
            ],
            [
             0.5,
             "#f7f7f7"
            ],
            [
             0.6,
             "#e6f5d0"
            ],
            [
             0.7,
             "#b8e186"
            ],
            [
             0.8,
             "#7fbc41"
            ],
            [
             0.9,
             "#4d9221"
            ],
            [
             1,
             "#276419"
            ]
           ],
           "sequential": [
            [
             0,
             "#0d0887"
            ],
            [
             0.1111111111111111,
             "#46039f"
            ],
            [
             0.2222222222222222,
             "#7201a8"
            ],
            [
             0.3333333333333333,
             "#9c179e"
            ],
            [
             0.4444444444444444,
             "#bd3786"
            ],
            [
             0.5555555555555556,
             "#d8576b"
            ],
            [
             0.6666666666666666,
             "#ed7953"
            ],
            [
             0.7777777777777778,
             "#fb9f3a"
            ],
            [
             0.8888888888888888,
             "#fdca26"
            ],
            [
             1,
             "#f0f921"
            ]
           ],
           "sequentialminus": [
            [
             0,
             "#0d0887"
            ],
            [
             0.1111111111111111,
             "#46039f"
            ],
            [
             0.2222222222222222,
             "#7201a8"
            ],
            [
             0.3333333333333333,
             "#9c179e"
            ],
            [
             0.4444444444444444,
             "#bd3786"
            ],
            [
             0.5555555555555556,
             "#d8576b"
            ],
            [
             0.6666666666666666,
             "#ed7953"
            ],
            [
             0.7777777777777778,
             "#fb9f3a"
            ],
            [
             0.8888888888888888,
             "#fdca26"
            ],
            [
             1,
             "#f0f921"
            ]
           ]
          },
          "colorway": [
           "#636efa",
           "#EF553B",
           "#00cc96",
           "#ab63fa",
           "#FFA15A",
           "#19d3f3",
           "#FF6692",
           "#B6E880",
           "#FF97FF",
           "#FECB52"
          ],
          "font": {
           "color": "#2a3f5f"
          },
          "geo": {
           "bgcolor": "white",
           "lakecolor": "white",
           "landcolor": "white",
           "showlakes": true,
           "showland": true,
           "subunitcolor": "#C8D4E3"
          },
          "hoverlabel": {
           "align": "left"
          },
          "hovermode": "closest",
          "mapbox": {
           "style": "light"
          },
          "paper_bgcolor": "white",
          "plot_bgcolor": "white",
          "polar": {
           "angularaxis": {
            "gridcolor": "#EBF0F8",
            "linecolor": "#EBF0F8",
            "ticks": ""
           },
           "bgcolor": "white",
           "radialaxis": {
            "gridcolor": "#EBF0F8",
            "linecolor": "#EBF0F8",
            "ticks": ""
           }
          },
          "scene": {
           "xaxis": {
            "backgroundcolor": "white",
            "gridcolor": "#DFE8F3",
            "gridwidth": 2,
            "linecolor": "#EBF0F8",
            "showbackground": true,
            "ticks": "",
            "zerolinecolor": "#EBF0F8"
           },
           "yaxis": {
            "backgroundcolor": "white",
            "gridcolor": "#DFE8F3",
            "gridwidth": 2,
            "linecolor": "#EBF0F8",
            "showbackground": true,
            "ticks": "",
            "zerolinecolor": "#EBF0F8"
           },
           "zaxis": {
            "backgroundcolor": "white",
            "gridcolor": "#DFE8F3",
            "gridwidth": 2,
            "linecolor": "#EBF0F8",
            "showbackground": true,
            "ticks": "",
            "zerolinecolor": "#EBF0F8"
           }
          },
          "shapedefaults": {
           "line": {
            "color": "#2a3f5f"
           }
          },
          "ternary": {
           "aaxis": {
            "gridcolor": "#DFE8F3",
            "linecolor": "#A2B1C6",
            "ticks": ""
           },
           "baxis": {
            "gridcolor": "#DFE8F3",
            "linecolor": "#A2B1C6",
            "ticks": ""
           },
           "bgcolor": "white",
           "caxis": {
            "gridcolor": "#DFE8F3",
            "linecolor": "#A2B1C6",
            "ticks": ""
           }
          },
          "title": {
           "x": 0.05
          },
          "xaxis": {
           "automargin": true,
           "gridcolor": "#EBF0F8",
           "linecolor": "#EBF0F8",
           "ticks": "",
           "title": {
            "standoff": 15
           },
           "zerolinecolor": "#EBF0F8",
           "zerolinewidth": 2
          },
          "yaxis": {
           "automargin": true,
           "gridcolor": "#EBF0F8",
           "linecolor": "#EBF0F8",
           "ticks": "",
           "title": {
            "standoff": 15
           },
           "zerolinecolor": "#EBF0F8",
           "zerolinewidth": 2
          }
         }
        },
        "title": {
         "text": "Average Quarterly Performance by 5-Year Intervals"
        },
        "uniformtext": {
         "minsize": 10,
         "mode": "show"
        },
        "xaxis": {
         "anchor": "y",
         "domain": [
          0,
          1
         ],
         "tickmode": "linear",
         "title": {
          "text": "5-Year Interval"
         }
        },
        "yaxis": {
         "anchor": "x",
         "domain": [
          0,
          1
         ],
         "title": {
          "text": "Average Performance (%)"
         }
        }
       }
      }
     },
     "metadata": {},
     "output_type": "display_data"
    }
   ],
   "source": [
    "grouped_quarterly_averages = yearly_summary.groupby('Year Group')[['Q1 Performance', 'Q2 Performance', 'Q3 Performance', 'Q4 Performance']].mean().reset_index()\n",
    "grouped_quarterly_averages = grouped_quarterly_averages.melt(\n",
    "    id_vars='Year Group', \n",
    "    value_vars=['Q1 Performance', 'Q2 Performance', 'Q3 Performance', 'Q4 Performance'],\n",
    "    var_name='Quarter', \n",
    "    value_name='Avg Performance'\n",
    ")\n",
    "\n",
    "# Format the Year Group for display as ranges (e.g., \"1995-1999\")\n",
    "grouped_quarterly_averages['Year Group'] = grouped_quarterly_averages['Year Group'].apply(\n",
    "    lambda x: f\"{x}-{x+4}\"\n",
    ")\n",
    "\n",
    "fig = px.bar(\n",
    "    grouped_quarterly_averages,\n",
    "    x='Year Group',\n",
    "    y='Avg Performance',\n",
    "    color='Quarter',\n",
    "    barmode='group',\n",
    "    labels={'Year Group': '5-Year Interval', 'Avg Performance': 'Average Performance (%)'},\n",
    "    title='Average Quarterly Performance by 5-Year Intervals'\n",
    ")\n",
    "\n",
    "# Add value labels at the top of each bar\n",
    "fig.update_traces(texttemplate='%{y:.2f}%', textposition='outside')\n",
    "\n",
    "# Update layout for better readability\n",
    "fig.update_layout(\n",
    "    xaxis=dict(title='5-Year Interval', tickmode='linear'),\n",
    "    yaxis=dict(title='Average Performance (%)'),\n",
    "    legend=dict(title='Quarter'),\n",
    "    template='plotly_white',\n",
    "    uniformtext_minsize=10,  # Ensure consistent text size\n",
    "    uniformtext_mode='show'\n",
    ")\n",
    "\n",
    "# Show the bar chart\n",
    "fig.show()"
   ]
  },
  {
   "cell_type": "markdown",
   "metadata": {},
   "source": [
    "### **Summary of 'Price Trend and Average Volume Over Years'**\n",
    "\n",
    "3. **An unexpected finding was regarding the Volume overtime.** When the Volume was plotted, I went back to the code as I thought I had done an error. It was facinating to see that the year with the highest volume was 2008 and Volume has not recovered to that level since then. I do not know how to explain this and would love to take a further look in the future. \n",
    "\n",
    "    a. My assumption of a potential reason why I think 2008 was the year with the highest volume in addition to the following years (e.g. 2009,2010,2011) is fear. Perhaps the amount of fear investors had during that time made me sell at peak levels. On the other hand, since more individuals have now seen that markets eventually recover, their fear of the market has never reach the level of 2008. "
   ]
  },
  {
   "cell_type": "code",
   "execution_count": 96,
   "metadata": {},
   "outputs": [],
   "source": [
    "recession_periods = [\n",
    "    {'start': pd.to_datetime('2001-03-01'), 'end': pd.to_datetime('2001-11-30')},\n",
    "    {'start': pd.to_datetime('2007-12-01'), 'end': pd.to_datetime('2009-06-30')},\n",
    "    {'start': pd.to_datetime('2020-02-01'), 'end': pd.to_datetime('2020-04-30')}\n",
    "]"
   ]
  },
  {
   "cell_type": "code",
   "execution_count": 97,
   "metadata": {},
   "outputs": [],
   "source": [
    "# Ensure 'Year' is a column and not an index\n",
    "yearly_summary = yearly_summary.reset_index()\n",
    "# Identify the 3 years with the highest and lowest average volume\n",
    "highest_volume_years = yearly_summary.nlargest(3, 'Average Volume')['Year'].tolist()"
   ]
  },
  {
   "cell_type": "code",
   "execution_count": 98,
   "metadata": {},
   "outputs": [
    {
     "data": {
      "application/vnd.plotly.v1+json": {
       "config": {
        "plotlyServerURL": "https://plot.ly"
       },
       "data": [
        {
         "line": {
          "color": "black"
         },
         "name": "Price",
         "type": "scatter",
         "x": [
          1995,
          1996,
          1997,
          1998,
          1999,
          2000,
          2001,
          2002,
          2003,
          2004,
          2005,
          2006,
          2007,
          2008,
          2009,
          2010,
          2011,
          2012,
          2013,
          2014,
          2015,
          2016,
          2017,
          2018,
          2019,
          2020,
          2021,
          2022,
          2023,
          2024
         ],
         "y": [
          37.07734680175781,
          45.418819427490234,
          60.6228141784668,
          78.01701354980469,
          93.92420959472656,
          84.77452087402344,
          74.80630493164062,
          58.65962600708008,
          75.19086456298828,
          83.23473358154297,
          87.25347900390625,
          101.07905578613281,
          106.2807846069336,
          67.17475891113281,
          84.87649536132812,
          97.6556396484375,
          99.50621032714844,
          115.41755676269531,
          152.7063751220703,
          173.26651000976562,
          175.4051055908203,
          196.45001220703125,
          239.0902862548828,
          228.16627502441406,
          299.40850830078125,
          354.2950134277344,
          456.07958984375,
          373.18548583984375,
          470.8697509765625,
          586.0999755859375
         ],
         "yaxis": "y"
        },
        {
         "marker": {
          "color": "blue"
         },
         "name": "Average Volume",
         "opacity": 0.6,
         "type": "bar",
         "width": 0.4,
         "x": [
          1995,
          1996,
          1997,
          1998,
          1999,
          2000,
          2001,
          2002,
          2003,
          2004,
          2005,
          2006,
          2007,
          2008,
          2009,
          2010,
          2011,
          2012,
          2013,
          2014,
          2015,
          2016,
          2017,
          2018,
          2019,
          2020,
          2021,
          2022,
          2023,
          2024
         ],
         "y": [
          313794.84126984124,
          902811.811023622,
          3187592.490118577,
          7433581.746031746,
          7238961.904761905,
          7664991.26984127,
          13793258.064516129,
          33795506.746031746,
          40885770.23809524,
          42835263.0952381,
          61146744.44444445,
          70041163.74501993,
          156628316.73306772,
          300240444.2687747,
          246279832.14285713,
          209692210.31746033,
          218219975.7936508,
          143330936.8,
          121538802.38095239,
          109802982.53968254,
          123620206.74603175,
          104724339.28571428,
          70457158.16733068,
          97164470.91633466,
          70042490.07936507,
          100359315.41501977,
          73795232.53968254,
          94759609.96015936,
          81923891.6,
          57268934.28571428
         ],
         "yaxis": "y2"
        }
       ],
       "layout": {
        "bargap": 0.2,
        "barmode": "overlay",
        "height": 600,
        "legend": {
         "bgcolor": "rgba(255,255,255,0)",
         "x": 0.01,
         "y": 0.99
        },
        "shapes": [
         {
          "fillcolor": "red",
          "layer": "below",
          "line": {
           "width": 0
          },
          "opacity": 0.2,
          "type": "rect",
          "x0": 2007.5,
          "x1": 2008.5,
          "xref": "x",
          "y0": 0,
          "y1": 1,
          "yref": "paper"
         },
         {
          "fillcolor": "red",
          "layer": "below",
          "line": {
           "width": 0
          },
          "opacity": 0.2,
          "type": "rect",
          "x0": 2008.5,
          "x1": 2009.5,
          "xref": "x",
          "y0": 0,
          "y1": 1,
          "yref": "paper"
         },
         {
          "fillcolor": "red",
          "layer": "below",
          "line": {
           "width": 0
          },
          "opacity": 0.2,
          "type": "rect",
          "x0": 2010.5,
          "x1": 2011.5,
          "xref": "x",
          "y0": 0,
          "y1": 1,
          "yref": "paper"
         }
        ],
        "template": {
         "data": {
          "bar": [
           {
            "error_x": {
             "color": "#2a3f5f"
            },
            "error_y": {
             "color": "#2a3f5f"
            },
            "marker": {
             "line": {
              "color": "#E5ECF6",
              "width": 0.5
             },
             "pattern": {
              "fillmode": "overlay",
              "size": 10,
              "solidity": 0.2
             }
            },
            "type": "bar"
           }
          ],
          "barpolar": [
           {
            "marker": {
             "line": {
              "color": "#E5ECF6",
              "width": 0.5
             },
             "pattern": {
              "fillmode": "overlay",
              "size": 10,
              "solidity": 0.2
             }
            },
            "type": "barpolar"
           }
          ],
          "carpet": [
           {
            "aaxis": {
             "endlinecolor": "#2a3f5f",
             "gridcolor": "white",
             "linecolor": "white",
             "minorgridcolor": "white",
             "startlinecolor": "#2a3f5f"
            },
            "baxis": {
             "endlinecolor": "#2a3f5f",
             "gridcolor": "white",
             "linecolor": "white",
             "minorgridcolor": "white",
             "startlinecolor": "#2a3f5f"
            },
            "type": "carpet"
           }
          ],
          "choropleth": [
           {
            "colorbar": {
             "outlinewidth": 0,
             "ticks": ""
            },
            "type": "choropleth"
           }
          ],
          "contour": [
           {
            "colorbar": {
             "outlinewidth": 0,
             "ticks": ""
            },
            "colorscale": [
             [
              0,
              "#0d0887"
             ],
             [
              0.1111111111111111,
              "#46039f"
             ],
             [
              0.2222222222222222,
              "#7201a8"
             ],
             [
              0.3333333333333333,
              "#9c179e"
             ],
             [
              0.4444444444444444,
              "#bd3786"
             ],
             [
              0.5555555555555556,
              "#d8576b"
             ],
             [
              0.6666666666666666,
              "#ed7953"
             ],
             [
              0.7777777777777778,
              "#fb9f3a"
             ],
             [
              0.8888888888888888,
              "#fdca26"
             ],
             [
              1,
              "#f0f921"
             ]
            ],
            "type": "contour"
           }
          ],
          "contourcarpet": [
           {
            "colorbar": {
             "outlinewidth": 0,
             "ticks": ""
            },
            "type": "contourcarpet"
           }
          ],
          "heatmap": [
           {
            "colorbar": {
             "outlinewidth": 0,
             "ticks": ""
            },
            "colorscale": [
             [
              0,
              "#0d0887"
             ],
             [
              0.1111111111111111,
              "#46039f"
             ],
             [
              0.2222222222222222,
              "#7201a8"
             ],
             [
              0.3333333333333333,
              "#9c179e"
             ],
             [
              0.4444444444444444,
              "#bd3786"
             ],
             [
              0.5555555555555556,
              "#d8576b"
             ],
             [
              0.6666666666666666,
              "#ed7953"
             ],
             [
              0.7777777777777778,
              "#fb9f3a"
             ],
             [
              0.8888888888888888,
              "#fdca26"
             ],
             [
              1,
              "#f0f921"
             ]
            ],
            "type": "heatmap"
           }
          ],
          "heatmapgl": [
           {
            "colorbar": {
             "outlinewidth": 0,
             "ticks": ""
            },
            "colorscale": [
             [
              0,
              "#0d0887"
             ],
             [
              0.1111111111111111,
              "#46039f"
             ],
             [
              0.2222222222222222,
              "#7201a8"
             ],
             [
              0.3333333333333333,
              "#9c179e"
             ],
             [
              0.4444444444444444,
              "#bd3786"
             ],
             [
              0.5555555555555556,
              "#d8576b"
             ],
             [
              0.6666666666666666,
              "#ed7953"
             ],
             [
              0.7777777777777778,
              "#fb9f3a"
             ],
             [
              0.8888888888888888,
              "#fdca26"
             ],
             [
              1,
              "#f0f921"
             ]
            ],
            "type": "heatmapgl"
           }
          ],
          "histogram": [
           {
            "marker": {
             "pattern": {
              "fillmode": "overlay",
              "size": 10,
              "solidity": 0.2
             }
            },
            "type": "histogram"
           }
          ],
          "histogram2d": [
           {
            "colorbar": {
             "outlinewidth": 0,
             "ticks": ""
            },
            "colorscale": [
             [
              0,
              "#0d0887"
             ],
             [
              0.1111111111111111,
              "#46039f"
             ],
             [
              0.2222222222222222,
              "#7201a8"
             ],
             [
              0.3333333333333333,
              "#9c179e"
             ],
             [
              0.4444444444444444,
              "#bd3786"
             ],
             [
              0.5555555555555556,
              "#d8576b"
             ],
             [
              0.6666666666666666,
              "#ed7953"
             ],
             [
              0.7777777777777778,
              "#fb9f3a"
             ],
             [
              0.8888888888888888,
              "#fdca26"
             ],
             [
              1,
              "#f0f921"
             ]
            ],
            "type": "histogram2d"
           }
          ],
          "histogram2dcontour": [
           {
            "colorbar": {
             "outlinewidth": 0,
             "ticks": ""
            },
            "colorscale": [
             [
              0,
              "#0d0887"
             ],
             [
              0.1111111111111111,
              "#46039f"
             ],
             [
              0.2222222222222222,
              "#7201a8"
             ],
             [
              0.3333333333333333,
              "#9c179e"
             ],
             [
              0.4444444444444444,
              "#bd3786"
             ],
             [
              0.5555555555555556,
              "#d8576b"
             ],
             [
              0.6666666666666666,
              "#ed7953"
             ],
             [
              0.7777777777777778,
              "#fb9f3a"
             ],
             [
              0.8888888888888888,
              "#fdca26"
             ],
             [
              1,
              "#f0f921"
             ]
            ],
            "type": "histogram2dcontour"
           }
          ],
          "mesh3d": [
           {
            "colorbar": {
             "outlinewidth": 0,
             "ticks": ""
            },
            "type": "mesh3d"
           }
          ],
          "parcoords": [
           {
            "line": {
             "colorbar": {
              "outlinewidth": 0,
              "ticks": ""
             }
            },
            "type": "parcoords"
           }
          ],
          "pie": [
           {
            "automargin": true,
            "type": "pie"
           }
          ],
          "scatter": [
           {
            "fillpattern": {
             "fillmode": "overlay",
             "size": 10,
             "solidity": 0.2
            },
            "type": "scatter"
           }
          ],
          "scatter3d": [
           {
            "line": {
             "colorbar": {
              "outlinewidth": 0,
              "ticks": ""
             }
            },
            "marker": {
             "colorbar": {
              "outlinewidth": 0,
              "ticks": ""
             }
            },
            "type": "scatter3d"
           }
          ],
          "scattercarpet": [
           {
            "marker": {
             "colorbar": {
              "outlinewidth": 0,
              "ticks": ""
             }
            },
            "type": "scattercarpet"
           }
          ],
          "scattergeo": [
           {
            "marker": {
             "colorbar": {
              "outlinewidth": 0,
              "ticks": ""
             }
            },
            "type": "scattergeo"
           }
          ],
          "scattergl": [
           {
            "marker": {
             "colorbar": {
              "outlinewidth": 0,
              "ticks": ""
             }
            },
            "type": "scattergl"
           }
          ],
          "scattermapbox": [
           {
            "marker": {
             "colorbar": {
              "outlinewidth": 0,
              "ticks": ""
             }
            },
            "type": "scattermapbox"
           }
          ],
          "scatterpolar": [
           {
            "marker": {
             "colorbar": {
              "outlinewidth": 0,
              "ticks": ""
             }
            },
            "type": "scatterpolar"
           }
          ],
          "scatterpolargl": [
           {
            "marker": {
             "colorbar": {
              "outlinewidth": 0,
              "ticks": ""
             }
            },
            "type": "scatterpolargl"
           }
          ],
          "scatterternary": [
           {
            "marker": {
             "colorbar": {
              "outlinewidth": 0,
              "ticks": ""
             }
            },
            "type": "scatterternary"
           }
          ],
          "surface": [
           {
            "colorbar": {
             "outlinewidth": 0,
             "ticks": ""
            },
            "colorscale": [
             [
              0,
              "#0d0887"
             ],
             [
              0.1111111111111111,
              "#46039f"
             ],
             [
              0.2222222222222222,
              "#7201a8"
             ],
             [
              0.3333333333333333,
              "#9c179e"
             ],
             [
              0.4444444444444444,
              "#bd3786"
             ],
             [
              0.5555555555555556,
              "#d8576b"
             ],
             [
              0.6666666666666666,
              "#ed7953"
             ],
             [
              0.7777777777777778,
              "#fb9f3a"
             ],
             [
              0.8888888888888888,
              "#fdca26"
             ],
             [
              1,
              "#f0f921"
             ]
            ],
            "type": "surface"
           }
          ],
          "table": [
           {
            "cells": {
             "fill": {
              "color": "#EBF0F8"
             },
             "line": {
              "color": "white"
             }
            },
            "header": {
             "fill": {
              "color": "#C8D4E3"
             },
             "line": {
              "color": "white"
             }
            },
            "type": "table"
           }
          ]
         },
         "layout": {
          "annotationdefaults": {
           "arrowcolor": "#2a3f5f",
           "arrowhead": 0,
           "arrowwidth": 1
          },
          "autotypenumbers": "strict",
          "coloraxis": {
           "colorbar": {
            "outlinewidth": 0,
            "ticks": ""
           }
          },
          "colorscale": {
           "diverging": [
            [
             0,
             "#8e0152"
            ],
            [
             0.1,
             "#c51b7d"
            ],
            [
             0.2,
             "#de77ae"
            ],
            [
             0.3,
             "#f1b6da"
            ],
            [
             0.4,
             "#fde0ef"
            ],
            [
             0.5,
             "#f7f7f7"
            ],
            [
             0.6,
             "#e6f5d0"
            ],
            [
             0.7,
             "#b8e186"
            ],
            [
             0.8,
             "#7fbc41"
            ],
            [
             0.9,
             "#4d9221"
            ],
            [
             1,
             "#276419"
            ]
           ],
           "sequential": [
            [
             0,
             "#0d0887"
            ],
            [
             0.1111111111111111,
             "#46039f"
            ],
            [
             0.2222222222222222,
             "#7201a8"
            ],
            [
             0.3333333333333333,
             "#9c179e"
            ],
            [
             0.4444444444444444,
             "#bd3786"
            ],
            [
             0.5555555555555556,
             "#d8576b"
            ],
            [
             0.6666666666666666,
             "#ed7953"
            ],
            [
             0.7777777777777778,
             "#fb9f3a"
            ],
            [
             0.8888888888888888,
             "#fdca26"
            ],
            [
             1,
             "#f0f921"
            ]
           ],
           "sequentialminus": [
            [
             0,
             "#0d0887"
            ],
            [
             0.1111111111111111,
             "#46039f"
            ],
            [
             0.2222222222222222,
             "#7201a8"
            ],
            [
             0.3333333333333333,
             "#9c179e"
            ],
            [
             0.4444444444444444,
             "#bd3786"
            ],
            [
             0.5555555555555556,
             "#d8576b"
            ],
            [
             0.6666666666666666,
             "#ed7953"
            ],
            [
             0.7777777777777778,
             "#fb9f3a"
            ],
            [
             0.8888888888888888,
             "#fdca26"
            ],
            [
             1,
             "#f0f921"
            ]
           ]
          },
          "colorway": [
           "#636efa",
           "#EF553B",
           "#00cc96",
           "#ab63fa",
           "#FFA15A",
           "#19d3f3",
           "#FF6692",
           "#B6E880",
           "#FF97FF",
           "#FECB52"
          ],
          "font": {
           "color": "#2a3f5f"
          },
          "geo": {
           "bgcolor": "white",
           "lakecolor": "white",
           "landcolor": "#E5ECF6",
           "showlakes": true,
           "showland": true,
           "subunitcolor": "white"
          },
          "hoverlabel": {
           "align": "left"
          },
          "hovermode": "closest",
          "mapbox": {
           "style": "light"
          },
          "paper_bgcolor": "white",
          "plot_bgcolor": "#E5ECF6",
          "polar": {
           "angularaxis": {
            "gridcolor": "white",
            "linecolor": "white",
            "ticks": ""
           },
           "bgcolor": "#E5ECF6",
           "radialaxis": {
            "gridcolor": "white",
            "linecolor": "white",
            "ticks": ""
           }
          },
          "scene": {
           "xaxis": {
            "backgroundcolor": "#E5ECF6",
            "gridcolor": "white",
            "gridwidth": 2,
            "linecolor": "white",
            "showbackground": true,
            "ticks": "",
            "zerolinecolor": "white"
           },
           "yaxis": {
            "backgroundcolor": "#E5ECF6",
            "gridcolor": "white",
            "gridwidth": 2,
            "linecolor": "white",
            "showbackground": true,
            "ticks": "",
            "zerolinecolor": "white"
           },
           "zaxis": {
            "backgroundcolor": "#E5ECF6",
            "gridcolor": "white",
            "gridwidth": 2,
            "linecolor": "white",
            "showbackground": true,
            "ticks": "",
            "zerolinecolor": "white"
           }
          },
          "shapedefaults": {
           "line": {
            "color": "#2a3f5f"
           }
          },
          "ternary": {
           "aaxis": {
            "gridcolor": "white",
            "linecolor": "white",
            "ticks": ""
           },
           "baxis": {
            "gridcolor": "white",
            "linecolor": "white",
            "ticks": ""
           },
           "bgcolor": "#E5ECF6",
           "caxis": {
            "gridcolor": "white",
            "linecolor": "white",
            "ticks": ""
           }
          },
          "title": {
           "x": 0.05
          },
          "xaxis": {
           "automargin": true,
           "gridcolor": "white",
           "linecolor": "white",
           "ticks": "",
           "title": {
            "standoff": 15
           },
           "zerolinecolor": "white",
           "zerolinewidth": 2
          },
          "yaxis": {
           "automargin": true,
           "gridcolor": "white",
           "linecolor": "white",
           "ticks": "",
           "title": {
            "standoff": 15
           },
           "zerolinecolor": "white",
           "zerolinewidth": 2
          }
         }
        },
        "title": {
         "text": "Price Trend and Average Volume Over Years"
        },
        "width": 1400,
        "xaxis": {
         "dtick": 1,
         "tick0": 1995,
         "tickangle": -90,
         "tickmode": "linear",
         "title": {
          "text": "Year"
         }
        },
        "yaxis": {
         "tickfont": {
          "color": "black"
         },
         "title": {
          "font": {
           "color": "black"
          },
          "text": "Price"
         }
        },
        "yaxis2": {
         "anchor": "x",
         "overlaying": "y",
         "range": [
          0,
          360288533.1225296
         ],
         "showgrid": false,
         "side": "right",
         "tickfont": {
          "color": "blue"
         },
         "title": {
          "font": {
           "color": "blue"
          },
          "text": "Average Volume"
         }
        }
       }
      }
     },
     "metadata": {},
     "output_type": "display_data"
    }
   ],
   "source": [
    "fig = go.Figure()\n",
    "fig.add_trace(\n",
    "    go.Scatter(\n",
    "        x=yearly_summary['Year'],\n",
    "        y=yearly_summary['End Price'],  # Replace with 'Start Price' or another column if preferred\n",
    "        name='Price',\n",
    "        line=dict(color='black'),\n",
    "        yaxis='y1'\n",
    "    )\n",
    ")\n",
    "\n",
    "fig.add_trace(\n",
    "    go.Bar(\n",
    "        x=yearly_summary['Year'],\n",
    "        y=yearly_summary['Average Volume'],\n",
    "        name='Average Volume',\n",
    "        marker_color='blue',\n",
    "        yaxis='y2',\n",
    "        opacity=0.6,\n",
    "        width=0.4  # Adjust the bar width\n",
    "    )\n",
    ")\n",
    "\n",
    "fig.update_layout(\n",
    "    title='Price Trend and Average Volume Over Years',\n",
    "    xaxis=dict(\n",
    "        title='Year',\n",
    "        tickmode='linear',  # Ensure all years are displayed\n",
    "        tick0=yearly_summary['Year'].min(),  # Start from the first year\n",
    "        dtick=1,  # Increment ticks by 1 year\n",
    "        tickangle=-90  # Rotate year labels vertically\n",
    "    ),\n",
    "    yaxis=dict(\n",
    "        title='Price',\n",
    "        titlefont=dict(color='black'),\n",
    "        tickfont=dict(color='black')\n",
    "    ),\n",
    "    yaxis2=dict(\n",
    "        title='Average Volume',\n",
    "        titlefont=dict(color='blue'),\n",
    "        tickfont=dict(color='blue'),\n",
    "        anchor='x',\n",
    "        overlaying='y',\n",
    "        side='right',\n",
    "        showgrid=False,\n",
    "        range=[0, yearly_summary['Average Volume'].max() * 1.2]\n",
    "    ),\n",
    "    height=600,\n",
    "    width=1400,\n",
    "    legend=dict(x=0.01, y=0.99, bgcolor='rgba(255,255,255,0)'),\n",
    "    bargap=0.2,\n",
    "    barmode='overlay'\n",
    ")\n",
    "\n",
    "# Add vertical shading (if required)\n",
    "shapes = []\n",
    "for year in highest_volume_years:\n",
    "    shapes.append(dict(\n",
    "        type='rect',\n",
    "        xref='x',\n",
    "        yref='paper',\n",
    "        x0=year - 0.5,\n",
    "        x1=year + 0.5,\n",
    "        y0=0,\n",
    "        y1=1,\n",
    "        fillcolor='red',\n",
    "        opacity=0.2,\n",
    "        layer='below',\n",
    "        line_width=0\n",
    "    ))\n",
    "\n",
    "fig.update_layout(shapes=shapes)\n",
    "fig.show()"
   ]
  },
  {
   "cell_type": "code",
   "execution_count": 138,
   "metadata": {},
   "outputs": [
    {
     "data": {
      "text/html": [
       "<div>\n",
       "<style scoped>\n",
       "    .dataframe tbody tr th:only-of-type {\n",
       "        vertical-align: middle;\n",
       "    }\n",
       "\n",
       "    .dataframe tbody tr th {\n",
       "        vertical-align: top;\n",
       "    }\n",
       "\n",
       "    .dataframe thead th {\n",
       "        text-align: right;\n",
       "    }\n",
       "</style>\n",
       "<table border=\"1\" class=\"dataframe\">\n",
       "  <thead>\n",
       "    <tr style=\"text-align: right;\">\n",
       "      <th></th>\n",
       "      <th>Year</th>\n",
       "      <th>Start Price</th>\n",
       "      <th>End Price</th>\n",
       "      <th>Q1 Performance</th>\n",
       "      <th>Q2 Performance</th>\n",
       "      <th>Q3 Performance</th>\n",
       "      <th>Q4 Performance</th>\n",
       "      <th>Yearly Performance (%)</th>\n",
       "    </tr>\n",
       "  </thead>\n",
       "  <tbody>\n",
       "    <tr>\n",
       "      <th>0</th>\n",
       "      <td>1995</td>\n",
       "      <td>26.987059</td>\n",
       "      <td>37.077347</td>\n",
       "      <td>10.046349</td>\n",
       "      <td>8.940792</td>\n",
       "      <td>7.667557</td>\n",
       "      <td>6.319183</td>\n",
       "      <td>37.389359</td>\n",
       "    </tr>\n",
       "    <tr>\n",
       "      <th>1</th>\n",
       "      <td>1996</td>\n",
       "      <td>37.473106</td>\n",
       "      <td>45.418819</td>\n",
       "      <td>4.560898</td>\n",
       "      <td>3.098320</td>\n",
       "      <td>1.906793</td>\n",
       "      <td>7.545938</td>\n",
       "      <td>21.203775</td>\n",
       "    </tr>\n",
       "    <tr>\n",
       "      <th>2</th>\n",
       "      <td>1997</td>\n",
       "      <td>45.534130</td>\n",
       "      <td>60.622814</td>\n",
       "      <td>2.205060</td>\n",
       "      <td>16.869383</td>\n",
       "      <td>6.018755</td>\n",
       "      <td>1.907160</td>\n",
       "      <td>33.137087</td>\n",
       "    </tr>\n",
       "    <tr>\n",
       "      <th>3</th>\n",
       "      <td>1998</td>\n",
       "      <td>60.935116</td>\n",
       "      <td>78.017014</td>\n",
       "      <td>13.008027</td>\n",
       "      <td>2.566970</td>\n",
       "      <td>-10.918720</td>\n",
       "      <td>25.209131</td>\n",
       "      <td>28.032929</td>\n",
       "    </tr>\n",
       "    <tr>\n",
       "      <th>4</th>\n",
       "      <td>1999</td>\n",
       "      <td>77.839058</td>\n",
       "      <td>93.924210</td>\n",
       "      <td>4.596531</td>\n",
       "      <td>6.239123</td>\n",
       "      <td>-6.461373</td>\n",
       "      <td>14.608066</td>\n",
       "      <td>20.664628</td>\n",
       "    </tr>\n",
       "    <tr>\n",
       "      <th>8</th>\n",
       "      <td>2003</td>\n",
       "      <td>60.547787</td>\n",
       "      <td>75.190865</td>\n",
       "      <td>-6.575512</td>\n",
       "      <td>13.880447</td>\n",
       "      <td>1.830636</td>\n",
       "      <td>9.527671</td>\n",
       "      <td>24.184332</td>\n",
       "    </tr>\n",
       "    <tr>\n",
       "      <th>14</th>\n",
       "      <td>2009</td>\n",
       "      <td>69.199547</td>\n",
       "      <td>84.876495</td>\n",
       "      <td>-13.845590</td>\n",
       "      <td>14.075246</td>\n",
       "      <td>14.906207</td>\n",
       "      <td>8.808346</td>\n",
       "      <td>22.654698</td>\n",
       "    </tr>\n",
       "    <tr>\n",
       "      <th>18</th>\n",
       "      <td>2013</td>\n",
       "      <td>118.375740</td>\n",
       "      <td>152.706375</td>\n",
       "      <td>7.741227</td>\n",
       "      <td>3.344364</td>\n",
       "      <td>4.628680</td>\n",
       "      <td>9.656652</td>\n",
       "      <td>29.001411</td>\n",
       "    </tr>\n",
       "    <tr>\n",
       "      <th>22</th>\n",
       "      <td>2017</td>\n",
       "      <td>197.952850</td>\n",
       "      <td>239.090286</td>\n",
       "      <td>5.117020</td>\n",
       "      <td>3.250385</td>\n",
       "      <td>4.238797</td>\n",
       "      <td>6.303117</td>\n",
       "      <td>20.781431</td>\n",
       "    </tr>\n",
       "    <tr>\n",
       "      <th>24</th>\n",
       "      <td>2019</td>\n",
       "      <td>228.403625</td>\n",
       "      <td>299.408508</td>\n",
       "      <td>13.408041</td>\n",
       "      <td>3.007059</td>\n",
       "      <td>0.838976</td>\n",
       "      <td>10.299511</td>\n",
       "      <td>31.087459</td>\n",
       "    </tr>\n",
       "    <tr>\n",
       "      <th>26</th>\n",
       "      <td>2021</td>\n",
       "      <td>349.471710</td>\n",
       "      <td>456.079590</td>\n",
       "      <td>7.819638</td>\n",
       "      <td>7.201637</td>\n",
       "      <td>0.019713</td>\n",
       "      <td>9.761554</td>\n",
       "      <td>30.505439</td>\n",
       "    </tr>\n",
       "    <tr>\n",
       "      <th>28</th>\n",
       "      <td>2023</td>\n",
       "      <td>371.614410</td>\n",
       "      <td>470.869751</td>\n",
       "      <td>7.912525</td>\n",
       "      <td>8.267813</td>\n",
       "      <td>-3.335393</td>\n",
       "      <td>11.684052</td>\n",
       "      <td>26.709228</td>\n",
       "    </tr>\n",
       "    <tr>\n",
       "      <th>29</th>\n",
       "      <td>2024</td>\n",
       "      <td>468.234558</td>\n",
       "      <td>586.099976</td>\n",
       "      <td>11.011366</td>\n",
       "      <td>4.560993</td>\n",
       "      <td>5.534139</td>\n",
       "      <td>3.074106</td>\n",
       "      <td>25.172302</td>\n",
       "    </tr>\n",
       "  </tbody>\n",
       "</table>\n",
       "</div>"
      ],
      "text/plain": [
       "    Year  Start Price   End Price  Q1 Performance  Q2 Performance  \\\n",
       "0   1995    26.987059   37.077347       10.046349        8.940792   \n",
       "1   1996    37.473106   45.418819        4.560898        3.098320   \n",
       "2   1997    45.534130   60.622814        2.205060       16.869383   \n",
       "3   1998    60.935116   78.017014       13.008027        2.566970   \n",
       "4   1999    77.839058   93.924210        4.596531        6.239123   \n",
       "8   2003    60.547787   75.190865       -6.575512       13.880447   \n",
       "14  2009    69.199547   84.876495      -13.845590       14.075246   \n",
       "18  2013   118.375740  152.706375        7.741227        3.344364   \n",
       "22  2017   197.952850  239.090286        5.117020        3.250385   \n",
       "24  2019   228.403625  299.408508       13.408041        3.007059   \n",
       "26  2021   349.471710  456.079590        7.819638        7.201637   \n",
       "28  2023   371.614410  470.869751        7.912525        8.267813   \n",
       "29  2024   468.234558  586.099976       11.011366        4.560993   \n",
       "\n",
       "    Q3 Performance  Q4 Performance  Yearly Performance (%)  \n",
       "0         7.667557        6.319183               37.389359  \n",
       "1         1.906793        7.545938               21.203775  \n",
       "2         6.018755        1.907160               33.137087  \n",
       "3       -10.918720       25.209131               28.032929  \n",
       "4        -6.461373       14.608066               20.664628  \n",
       "8         1.830636        9.527671               24.184332  \n",
       "14       14.906207        8.808346               22.654698  \n",
       "18        4.628680        9.656652               29.001411  \n",
       "22        4.238797        6.303117               20.781431  \n",
       "24        0.838976       10.299511               31.087459  \n",
       "26        0.019713        9.761554               30.505439  \n",
       "28       -3.335393       11.684052               26.709228  \n",
       "29        5.534139        3.074106               25.172302  "
      ]
     },
     "execution_count": 138,
     "metadata": {},
     "output_type": "execute_result"
    }
   ],
   "source": [
    "# Filter years where performance exceeds 20%\n",
    "performance_20_plus = yearly_summary[yearly_summary['Yearly Performance (%)'] > 20]\n",
    "performance_20_plus_summary = performance_20_plus[[\"Year\",\"Start Price\",\"End Price\",\"Q1 Performance\",\"Q2 Performance\",\"Q3 Performance\",\"Q4 Performance\",\"Yearly Performance (%)\"]]\n",
    "performance_20_plus_summary"
   ]
  },
  {
   "cell_type": "markdown",
   "metadata": {},
   "source": [
    "### **Interpretation of the Charts - Start Price with Highlighted Years (Performance > 20%) as well as Consecutive Years with Performance > 20%:**\n",
    "- Since 1995, there have been 26 years with performance above 20% and 4 years with performance above 30%. This underscores the market's capability to experience significant bullish trends, often linked to broader economic and policy shifts. Such periods often act as catalysts for long-term investments and signal economic recovery or expansion phases.\n",
    "\n",
    "#### **Start Price with Highlighted Years (Performance > 20%)**\n",
    "- Upon examining the chart, it is clear that most of the years with performance above 20% occur in clusters. This observation suggests that strong market trends tend to persist for multiple years, reflecting the inertia of positive economic growth or market momentum. This clustering can help analysts anticipate prolonged bullish cycles once a strong upward trend begins, offering opportunities for sustained investment strategies.\n",
    "\n",
    "- Additionally, these high-performance years often align with major economic shifts, such as technological innovations or monetary easing policies, which reinforce the trends and attract new capital into the market.\n",
    "\n",
    "#### **Start Price with Highlighted Consecutive Years (Performance > 20%)**\n",
    "- The chart also highlights two distinct periods of consecutive years with performance exceeding 20%: 1995-1999 and 2023-2024. These periods reveal the occurrence of sustained growth cycles that often arise from favorable economic conditions or transformative policy decisions.\n",
    "\n",
    "- Interestingly, both periods were preceded by Federal Fund rate cuts, which typically stimulate economic activity by lowering borrowing costs and boosting liquidity. This connection underscores the critical role of monetary policy in shaping market trajectories. Recognizing such patterns can assist in forecasting and understanding how macroeconomic factors drive market performance over time."
   ]
  },
  {
   "cell_type": "code",
   "execution_count": null,
   "metadata": {},
   "outputs": [
    {
     "data": {
      "application/vnd.plotly.v1+json": {
       "config": {
        "plotlyServerURL": "https://plot.ly"
       },
       "data": [
        {
         "line": {
          "color": "black"
         },
         "mode": "lines",
         "name": "Start Price",
         "type": "scatter",
         "x": [
          1995,
          1996,
          1997,
          1998,
          1999,
          2000,
          2001,
          2002,
          2003,
          2004,
          2005,
          2006,
          2007,
          2008,
          2009,
          2010,
          2011,
          2012,
          2013,
          2014,
          2015,
          2016,
          2017,
          2018,
          2019,
          2020,
          2021,
          2022,
          2023,
          2024
         ],
         "y": [
          26.987058639526367,
          37.473106384277344,
          45.53413009643555,
          60.935115814208984,
          77.83905792236328,
          93.00489044189453,
          83.23974609375,
          75.61128234863281,
          60.547786712646484,
          75.15706634521484,
          82.84221649169922,
          88.78819274902344,
          100.90058898925781,
          105.35030364990234,
          69.19954681396484,
          86.31600189208984,
          98.66519165039062,
          101.09196472167969,
          118.37574005126953,
          151.2429962158203,
          173.1737823486328,
          172.95301818847656,
          197.95285034179688,
          240.8015899658203,
          228.40362548828125,
          302.20867919921875,
          349.4717102050781,
          458.7203674316406,
          371.6144104003906,
          468.23455810546875
         ]
        }
       ],
       "layout": {
        "shapes": [
         {
          "fillcolor": "green",
          "layer": "below",
          "line": {
           "width": 0
          },
          "opacity": 0.3,
          "type": "rect",
          "x0": 1994.5,
          "x1": 1995.5,
          "y0": 26.987058639526367,
          "y1": 468.23455810546875
         },
         {
          "fillcolor": "green",
          "layer": "below",
          "line": {
           "width": 0
          },
          "opacity": 0.3,
          "type": "rect",
          "x0": 1995.5,
          "x1": 1996.5,
          "y0": 26.987058639526367,
          "y1": 468.23455810546875
         },
         {
          "fillcolor": "green",
          "layer": "below",
          "line": {
           "width": 0
          },
          "opacity": 0.3,
          "type": "rect",
          "x0": 1996.5,
          "x1": 1997.5,
          "y0": 26.987058639526367,
          "y1": 468.23455810546875
         },
         {
          "fillcolor": "green",
          "layer": "below",
          "line": {
           "width": 0
          },
          "opacity": 0.3,
          "type": "rect",
          "x0": 1997.5,
          "x1": 1998.5,
          "y0": 26.987058639526367,
          "y1": 468.23455810546875
         },
         {
          "fillcolor": "green",
          "layer": "below",
          "line": {
           "width": 0
          },
          "opacity": 0.3,
          "type": "rect",
          "x0": 1998.5,
          "x1": 1999.5,
          "y0": 26.987058639526367,
          "y1": 468.23455810546875
         },
         {
          "fillcolor": "green",
          "layer": "below",
          "line": {
           "width": 0
          },
          "opacity": 0.3,
          "type": "rect",
          "x0": 2002.5,
          "x1": 2003.5,
          "y0": 26.987058639526367,
          "y1": 468.23455810546875
         },
         {
          "fillcolor": "green",
          "layer": "below",
          "line": {
           "width": 0
          },
          "opacity": 0.3,
          "type": "rect",
          "x0": 2008.5,
          "x1": 2009.5,
          "y0": 26.987058639526367,
          "y1": 468.23455810546875
         },
         {
          "fillcolor": "green",
          "layer": "below",
          "line": {
           "width": 0
          },
          "opacity": 0.3,
          "type": "rect",
          "x0": 2012.5,
          "x1": 2013.5,
          "y0": 26.987058639526367,
          "y1": 468.23455810546875
         },
         {
          "fillcolor": "green",
          "layer": "below",
          "line": {
           "width": 0
          },
          "opacity": 0.3,
          "type": "rect",
          "x0": 2016.5,
          "x1": 2017.5,
          "y0": 26.987058639526367,
          "y1": 468.23455810546875
         },
         {
          "fillcolor": "green",
          "layer": "below",
          "line": {
           "width": 0
          },
          "opacity": 0.3,
          "type": "rect",
          "x0": 2018.5,
          "x1": 2019.5,
          "y0": 26.987058639526367,
          "y1": 468.23455810546875
         },
         {
          "fillcolor": "green",
          "layer": "below",
          "line": {
           "width": 0
          },
          "opacity": 0.3,
          "type": "rect",
          "x0": 2020.5,
          "x1": 2021.5,
          "y0": 26.987058639526367,
          "y1": 468.23455810546875
         },
         {
          "fillcolor": "green",
          "layer": "below",
          "line": {
           "width": 0
          },
          "opacity": 0.3,
          "type": "rect",
          "x0": 2022.5,
          "x1": 2023.5,
          "y0": 26.987058639526367,
          "y1": 468.23455810546875
         },
         {
          "fillcolor": "green",
          "layer": "below",
          "line": {
           "width": 0
          },
          "opacity": 0.3,
          "type": "rect",
          "x0": 2023.5,
          "x1": 2024.5,
          "y0": 26.987058639526367,
          "y1": 468.23455810546875
         }
        ],
        "showlegend": true,
        "template": {
         "data": {
          "bar": [
           {
            "error_x": {
             "color": "#2a3f5f"
            },
            "error_y": {
             "color": "#2a3f5f"
            },
            "marker": {
             "line": {
              "color": "#E5ECF6",
              "width": 0.5
             },
             "pattern": {
              "fillmode": "overlay",
              "size": 10,
              "solidity": 0.2
             }
            },
            "type": "bar"
           }
          ],
          "barpolar": [
           {
            "marker": {
             "line": {
              "color": "#E5ECF6",
              "width": 0.5
             },
             "pattern": {
              "fillmode": "overlay",
              "size": 10,
              "solidity": 0.2
             }
            },
            "type": "barpolar"
           }
          ],
          "carpet": [
           {
            "aaxis": {
             "endlinecolor": "#2a3f5f",
             "gridcolor": "white",
             "linecolor": "white",
             "minorgridcolor": "white",
             "startlinecolor": "#2a3f5f"
            },
            "baxis": {
             "endlinecolor": "#2a3f5f",
             "gridcolor": "white",
             "linecolor": "white",
             "minorgridcolor": "white",
             "startlinecolor": "#2a3f5f"
            },
            "type": "carpet"
           }
          ],
          "choropleth": [
           {
            "colorbar": {
             "outlinewidth": 0,
             "ticks": ""
            },
            "type": "choropleth"
           }
          ],
          "contour": [
           {
            "colorbar": {
             "outlinewidth": 0,
             "ticks": ""
            },
            "colorscale": [
             [
              0,
              "#0d0887"
             ],
             [
              0.1111111111111111,
              "#46039f"
             ],
             [
              0.2222222222222222,
              "#7201a8"
             ],
             [
              0.3333333333333333,
              "#9c179e"
             ],
             [
              0.4444444444444444,
              "#bd3786"
             ],
             [
              0.5555555555555556,
              "#d8576b"
             ],
             [
              0.6666666666666666,
              "#ed7953"
             ],
             [
              0.7777777777777778,
              "#fb9f3a"
             ],
             [
              0.8888888888888888,
              "#fdca26"
             ],
             [
              1,
              "#f0f921"
             ]
            ],
            "type": "contour"
           }
          ],
          "contourcarpet": [
           {
            "colorbar": {
             "outlinewidth": 0,
             "ticks": ""
            },
            "type": "contourcarpet"
           }
          ],
          "heatmap": [
           {
            "colorbar": {
             "outlinewidth": 0,
             "ticks": ""
            },
            "colorscale": [
             [
              0,
              "#0d0887"
             ],
             [
              0.1111111111111111,
              "#46039f"
             ],
             [
              0.2222222222222222,
              "#7201a8"
             ],
             [
              0.3333333333333333,
              "#9c179e"
             ],
             [
              0.4444444444444444,
              "#bd3786"
             ],
             [
              0.5555555555555556,
              "#d8576b"
             ],
             [
              0.6666666666666666,
              "#ed7953"
             ],
             [
              0.7777777777777778,
              "#fb9f3a"
             ],
             [
              0.8888888888888888,
              "#fdca26"
             ],
             [
              1,
              "#f0f921"
             ]
            ],
            "type": "heatmap"
           }
          ],
          "heatmapgl": [
           {
            "colorbar": {
             "outlinewidth": 0,
             "ticks": ""
            },
            "colorscale": [
             [
              0,
              "#0d0887"
             ],
             [
              0.1111111111111111,
              "#46039f"
             ],
             [
              0.2222222222222222,
              "#7201a8"
             ],
             [
              0.3333333333333333,
              "#9c179e"
             ],
             [
              0.4444444444444444,
              "#bd3786"
             ],
             [
              0.5555555555555556,
              "#d8576b"
             ],
             [
              0.6666666666666666,
              "#ed7953"
             ],
             [
              0.7777777777777778,
              "#fb9f3a"
             ],
             [
              0.8888888888888888,
              "#fdca26"
             ],
             [
              1,
              "#f0f921"
             ]
            ],
            "type": "heatmapgl"
           }
          ],
          "histogram": [
           {
            "marker": {
             "pattern": {
              "fillmode": "overlay",
              "size": 10,
              "solidity": 0.2
             }
            },
            "type": "histogram"
           }
          ],
          "histogram2d": [
           {
            "colorbar": {
             "outlinewidth": 0,
             "ticks": ""
            },
            "colorscale": [
             [
              0,
              "#0d0887"
             ],
             [
              0.1111111111111111,
              "#46039f"
             ],
             [
              0.2222222222222222,
              "#7201a8"
             ],
             [
              0.3333333333333333,
              "#9c179e"
             ],
             [
              0.4444444444444444,
              "#bd3786"
             ],
             [
              0.5555555555555556,
              "#d8576b"
             ],
             [
              0.6666666666666666,
              "#ed7953"
             ],
             [
              0.7777777777777778,
              "#fb9f3a"
             ],
             [
              0.8888888888888888,
              "#fdca26"
             ],
             [
              1,
              "#f0f921"
             ]
            ],
            "type": "histogram2d"
           }
          ],
          "histogram2dcontour": [
           {
            "colorbar": {
             "outlinewidth": 0,
             "ticks": ""
            },
            "colorscale": [
             [
              0,
              "#0d0887"
             ],
             [
              0.1111111111111111,
              "#46039f"
             ],
             [
              0.2222222222222222,
              "#7201a8"
             ],
             [
              0.3333333333333333,
              "#9c179e"
             ],
             [
              0.4444444444444444,
              "#bd3786"
             ],
             [
              0.5555555555555556,
              "#d8576b"
             ],
             [
              0.6666666666666666,
              "#ed7953"
             ],
             [
              0.7777777777777778,
              "#fb9f3a"
             ],
             [
              0.8888888888888888,
              "#fdca26"
             ],
             [
              1,
              "#f0f921"
             ]
            ],
            "type": "histogram2dcontour"
           }
          ],
          "mesh3d": [
           {
            "colorbar": {
             "outlinewidth": 0,
             "ticks": ""
            },
            "type": "mesh3d"
           }
          ],
          "parcoords": [
           {
            "line": {
             "colorbar": {
              "outlinewidth": 0,
              "ticks": ""
             }
            },
            "type": "parcoords"
           }
          ],
          "pie": [
           {
            "automargin": true,
            "type": "pie"
           }
          ],
          "scatter": [
           {
            "fillpattern": {
             "fillmode": "overlay",
             "size": 10,
             "solidity": 0.2
            },
            "type": "scatter"
           }
          ],
          "scatter3d": [
           {
            "line": {
             "colorbar": {
              "outlinewidth": 0,
              "ticks": ""
             }
            },
            "marker": {
             "colorbar": {
              "outlinewidth": 0,
              "ticks": ""
             }
            },
            "type": "scatter3d"
           }
          ],
          "scattercarpet": [
           {
            "marker": {
             "colorbar": {
              "outlinewidth": 0,
              "ticks": ""
             }
            },
            "type": "scattercarpet"
           }
          ],
          "scattergeo": [
           {
            "marker": {
             "colorbar": {
              "outlinewidth": 0,
              "ticks": ""
             }
            },
            "type": "scattergeo"
           }
          ],
          "scattergl": [
           {
            "marker": {
             "colorbar": {
              "outlinewidth": 0,
              "ticks": ""
             }
            },
            "type": "scattergl"
           }
          ],
          "scattermapbox": [
           {
            "marker": {
             "colorbar": {
              "outlinewidth": 0,
              "ticks": ""
             }
            },
            "type": "scattermapbox"
           }
          ],
          "scatterpolar": [
           {
            "marker": {
             "colorbar": {
              "outlinewidth": 0,
              "ticks": ""
             }
            },
            "type": "scatterpolar"
           }
          ],
          "scatterpolargl": [
           {
            "marker": {
             "colorbar": {
              "outlinewidth": 0,
              "ticks": ""
             }
            },
            "type": "scatterpolargl"
           }
          ],
          "scatterternary": [
           {
            "marker": {
             "colorbar": {
              "outlinewidth": 0,
              "ticks": ""
             }
            },
            "type": "scatterternary"
           }
          ],
          "surface": [
           {
            "colorbar": {
             "outlinewidth": 0,
             "ticks": ""
            },
            "colorscale": [
             [
              0,
              "#0d0887"
             ],
             [
              0.1111111111111111,
              "#46039f"
             ],
             [
              0.2222222222222222,
              "#7201a8"
             ],
             [
              0.3333333333333333,
              "#9c179e"
             ],
             [
              0.4444444444444444,
              "#bd3786"
             ],
             [
              0.5555555555555556,
              "#d8576b"
             ],
             [
              0.6666666666666666,
              "#ed7953"
             ],
             [
              0.7777777777777778,
              "#fb9f3a"
             ],
             [
              0.8888888888888888,
              "#fdca26"
             ],
             [
              1,
              "#f0f921"
             ]
            ],
            "type": "surface"
           }
          ],
          "table": [
           {
            "cells": {
             "fill": {
              "color": "#EBF0F8"
             },
             "line": {
              "color": "white"
             }
            },
            "header": {
             "fill": {
              "color": "#C8D4E3"
             },
             "line": {
              "color": "white"
             }
            },
            "type": "table"
           }
          ]
         },
         "layout": {
          "annotationdefaults": {
           "arrowcolor": "#2a3f5f",
           "arrowhead": 0,
           "arrowwidth": 1
          },
          "autotypenumbers": "strict",
          "coloraxis": {
           "colorbar": {
            "outlinewidth": 0,
            "ticks": ""
           }
          },
          "colorscale": {
           "diverging": [
            [
             0,
             "#8e0152"
            ],
            [
             0.1,
             "#c51b7d"
            ],
            [
             0.2,
             "#de77ae"
            ],
            [
             0.3,
             "#f1b6da"
            ],
            [
             0.4,
             "#fde0ef"
            ],
            [
             0.5,
             "#f7f7f7"
            ],
            [
             0.6,
             "#e6f5d0"
            ],
            [
             0.7,
             "#b8e186"
            ],
            [
             0.8,
             "#7fbc41"
            ],
            [
             0.9,
             "#4d9221"
            ],
            [
             1,
             "#276419"
            ]
           ],
           "sequential": [
            [
             0,
             "#0d0887"
            ],
            [
             0.1111111111111111,
             "#46039f"
            ],
            [
             0.2222222222222222,
             "#7201a8"
            ],
            [
             0.3333333333333333,
             "#9c179e"
            ],
            [
             0.4444444444444444,
             "#bd3786"
            ],
            [
             0.5555555555555556,
             "#d8576b"
            ],
            [
             0.6666666666666666,
             "#ed7953"
            ],
            [
             0.7777777777777778,
             "#fb9f3a"
            ],
            [
             0.8888888888888888,
             "#fdca26"
            ],
            [
             1,
             "#f0f921"
            ]
           ],
           "sequentialminus": [
            [
             0,
             "#0d0887"
            ],
            [
             0.1111111111111111,
             "#46039f"
            ],
            [
             0.2222222222222222,
             "#7201a8"
            ],
            [
             0.3333333333333333,
             "#9c179e"
            ],
            [
             0.4444444444444444,
             "#bd3786"
            ],
            [
             0.5555555555555556,
             "#d8576b"
            ],
            [
             0.6666666666666666,
             "#ed7953"
            ],
            [
             0.7777777777777778,
             "#fb9f3a"
            ],
            [
             0.8888888888888888,
             "#fdca26"
            ],
            [
             1,
             "#f0f921"
            ]
           ]
          },
          "colorway": [
           "#636efa",
           "#EF553B",
           "#00cc96",
           "#ab63fa",
           "#FFA15A",
           "#19d3f3",
           "#FF6692",
           "#B6E880",
           "#FF97FF",
           "#FECB52"
          ],
          "font": {
           "color": "#2a3f5f"
          },
          "geo": {
           "bgcolor": "white",
           "lakecolor": "white",
           "landcolor": "#E5ECF6",
           "showlakes": true,
           "showland": true,
           "subunitcolor": "white"
          },
          "hoverlabel": {
           "align": "left"
          },
          "hovermode": "closest",
          "mapbox": {
           "style": "light"
          },
          "paper_bgcolor": "white",
          "plot_bgcolor": "#E5ECF6",
          "polar": {
           "angularaxis": {
            "gridcolor": "white",
            "linecolor": "white",
            "ticks": ""
           },
           "bgcolor": "#E5ECF6",
           "radialaxis": {
            "gridcolor": "white",
            "linecolor": "white",
            "ticks": ""
           }
          },
          "scene": {
           "xaxis": {
            "backgroundcolor": "#E5ECF6",
            "gridcolor": "white",
            "gridwidth": 2,
            "linecolor": "white",
            "showbackground": true,
            "ticks": "",
            "zerolinecolor": "white"
           },
           "yaxis": {
            "backgroundcolor": "#E5ECF6",
            "gridcolor": "white",
            "gridwidth": 2,
            "linecolor": "white",
            "showbackground": true,
            "ticks": "",
            "zerolinecolor": "white"
           },
           "zaxis": {
            "backgroundcolor": "#E5ECF6",
            "gridcolor": "white",
            "gridwidth": 2,
            "linecolor": "white",
            "showbackground": true,
            "ticks": "",
            "zerolinecolor": "white"
           }
          },
          "shapedefaults": {
           "line": {
            "color": "#2a3f5f"
           }
          },
          "ternary": {
           "aaxis": {
            "gridcolor": "white",
            "linecolor": "white",
            "ticks": ""
           },
           "baxis": {
            "gridcolor": "white",
            "linecolor": "white",
            "ticks": ""
           },
           "bgcolor": "#E5ECF6",
           "caxis": {
            "gridcolor": "white",
            "linecolor": "white",
            "ticks": ""
           }
          },
          "title": {
           "x": 0.05
          },
          "xaxis": {
           "automargin": true,
           "gridcolor": "white",
           "linecolor": "white",
           "ticks": "",
           "title": {
            "standoff": 15
           },
           "zerolinecolor": "white",
           "zerolinewidth": 2
          },
          "yaxis": {
           "automargin": true,
           "gridcolor": "white",
           "linecolor": "white",
           "ticks": "",
           "title": {
            "standoff": 15
           },
           "zerolinecolor": "white",
           "zerolinewidth": 2
          }
         }
        },
        "title": {
         "text": "Start Price with Highlighted Years (Performance > 20%)"
        },
        "xaxis": {
         "title": {
          "text": "Year"
         }
        },
        "yaxis": {
         "title": {
          "text": "Start Price"
         }
        }
       }
      }
     },
     "metadata": {},
     "output_type": "display_data"
    }
   ],
   "source": [
    "# Create the Plotly line chart\n",
    "fig = go.Figure()\n",
    "\n",
    "fig.add_trace(go.Scatter(\n",
    "    x=yearly_summary['Year'],\n",
    "    y=yearly_summary['Start Price'],\n",
    "    mode='lines',\n",
    "    name='Start Price',\n",
    "    line=dict(color='black')\n",
    "))\n",
    "\n",
    "# Highlight years exceeding 20%\n",
    "for _, row in performance_20_plus.iterrows():\n",
    "    fig.add_shape(\n",
    "        type=\"rect\",\n",
    "        x0=row['Year'] - 0.5,  # Adjusting to include the whole year\n",
    "        x1=row['Year'] + 0.5,\n",
    "        y0=yearly_summary['Start Price'].min(),\n",
    "        y1=yearly_summary['Start Price'].max(),\n",
    "        fillcolor=\"green\",\n",
    "        opacity=0.3,\n",
    "        layer=\"below\",\n",
    "        line_width=0,\n",
    "    )\n",
    "\n",
    "# Update layout\n",
    "fig.update_layout(\n",
    "    title=\"Start Price with Highlighted Years (Performance > 20%)\",\n",
    "    xaxis_title=\"Year\",\n",
    "    yaxis_title=\"Start Price\",\n",
    "    showlegend=True\n",
    ")\n",
    "fig.show()\n"
   ]
  },
  {
   "cell_type": "code",
   "execution_count": null,
   "metadata": {},
   "outputs": [
    {
     "data": {
      "application/vnd.plotly.v1+json": {
       "config": {
        "plotlyServerURL": "https://plot.ly"
       },
       "data": [
        {
         "line": {
          "color": "black"
         },
         "mode": "lines",
         "name": "End Price",
         "type": "scatter",
         "x": [
          1995,
          1996,
          1997,
          1998,
          1999,
          2000,
          2001,
          2002,
          2003,
          2004,
          2005,
          2006,
          2007,
          2008,
          2009,
          2010,
          2011,
          2012,
          2013,
          2014,
          2015,
          2016,
          2017,
          2018,
          2019,
          2020,
          2021,
          2022,
          2023,
          2024
         ],
         "y": [
          37.07734680175781,
          45.418819427490234,
          60.6228141784668,
          78.01701354980469,
          93.92420959472656,
          84.77452087402344,
          74.80630493164062,
          58.65962600708008,
          75.19086456298828,
          83.23473358154297,
          87.25347900390625,
          101.07905578613281,
          106.2807846069336,
          67.17475891113281,
          84.87649536132812,
          97.6556396484375,
          99.50621032714844,
          115.41755676269531,
          152.7063751220703,
          173.26651000976562,
          175.4051055908203,
          196.45001220703125,
          239.0902862548828,
          228.16627502441406,
          299.40850830078125,
          354.2950134277344,
          456.07958984375,
          373.18548583984375,
          470.8697509765625,
          586.0999755859375
         ]
        }
       ],
       "layout": {
        "shapes": [
         {
          "fillcolor": "green",
          "layer": "below",
          "line": {
           "width": 0
          },
          "opacity": 0.3,
          "type": "rect",
          "x0": 1994.5,
          "x1": 1995.5,
          "y0": 37.07734680175781,
          "y1": 586.0999755859375
         },
         {
          "fillcolor": "green",
          "layer": "below",
          "line": {
           "width": 0
          },
          "opacity": 0.3,
          "type": "rect",
          "x0": 1995.5,
          "x1": 1996.5,
          "y0": 37.07734680175781,
          "y1": 586.0999755859375
         },
         {
          "fillcolor": "green",
          "layer": "below",
          "line": {
           "width": 0
          },
          "opacity": 0.3,
          "type": "rect",
          "x0": 1996.5,
          "x1": 1997.5,
          "y0": 37.07734680175781,
          "y1": 586.0999755859375
         },
         {
          "fillcolor": "green",
          "layer": "below",
          "line": {
           "width": 0
          },
          "opacity": 0.3,
          "type": "rect",
          "x0": 1997.5,
          "x1": 1998.5,
          "y0": 37.07734680175781,
          "y1": 586.0999755859375
         },
         {
          "fillcolor": "green",
          "layer": "below",
          "line": {
           "width": 0
          },
          "opacity": 0.3,
          "type": "rect",
          "x0": 1998.5,
          "x1": 1999.5,
          "y0": 37.07734680175781,
          "y1": 586.0999755859375
         },
         {
          "fillcolor": "green",
          "layer": "below",
          "line": {
           "width": 0
          },
          "opacity": 0.3,
          "type": "rect",
          "x0": 2023.5,
          "x1": 2024.5,
          "y0": 37.07734680175781,
          "y1": 586.0999755859375
         }
        ],
        "showlegend": true,
        "template": {
         "data": {
          "bar": [
           {
            "error_x": {
             "color": "#2a3f5f"
            },
            "error_y": {
             "color": "#2a3f5f"
            },
            "marker": {
             "line": {
              "color": "#E5ECF6",
              "width": 0.5
             },
             "pattern": {
              "fillmode": "overlay",
              "size": 10,
              "solidity": 0.2
             }
            },
            "type": "bar"
           }
          ],
          "barpolar": [
           {
            "marker": {
             "line": {
              "color": "#E5ECF6",
              "width": 0.5
             },
             "pattern": {
              "fillmode": "overlay",
              "size": 10,
              "solidity": 0.2
             }
            },
            "type": "barpolar"
           }
          ],
          "carpet": [
           {
            "aaxis": {
             "endlinecolor": "#2a3f5f",
             "gridcolor": "white",
             "linecolor": "white",
             "minorgridcolor": "white",
             "startlinecolor": "#2a3f5f"
            },
            "baxis": {
             "endlinecolor": "#2a3f5f",
             "gridcolor": "white",
             "linecolor": "white",
             "minorgridcolor": "white",
             "startlinecolor": "#2a3f5f"
            },
            "type": "carpet"
           }
          ],
          "choropleth": [
           {
            "colorbar": {
             "outlinewidth": 0,
             "ticks": ""
            },
            "type": "choropleth"
           }
          ],
          "contour": [
           {
            "colorbar": {
             "outlinewidth": 0,
             "ticks": ""
            },
            "colorscale": [
             [
              0,
              "#0d0887"
             ],
             [
              0.1111111111111111,
              "#46039f"
             ],
             [
              0.2222222222222222,
              "#7201a8"
             ],
             [
              0.3333333333333333,
              "#9c179e"
             ],
             [
              0.4444444444444444,
              "#bd3786"
             ],
             [
              0.5555555555555556,
              "#d8576b"
             ],
             [
              0.6666666666666666,
              "#ed7953"
             ],
             [
              0.7777777777777778,
              "#fb9f3a"
             ],
             [
              0.8888888888888888,
              "#fdca26"
             ],
             [
              1,
              "#f0f921"
             ]
            ],
            "type": "contour"
           }
          ],
          "contourcarpet": [
           {
            "colorbar": {
             "outlinewidth": 0,
             "ticks": ""
            },
            "type": "contourcarpet"
           }
          ],
          "heatmap": [
           {
            "colorbar": {
             "outlinewidth": 0,
             "ticks": ""
            },
            "colorscale": [
             [
              0,
              "#0d0887"
             ],
             [
              0.1111111111111111,
              "#46039f"
             ],
             [
              0.2222222222222222,
              "#7201a8"
             ],
             [
              0.3333333333333333,
              "#9c179e"
             ],
             [
              0.4444444444444444,
              "#bd3786"
             ],
             [
              0.5555555555555556,
              "#d8576b"
             ],
             [
              0.6666666666666666,
              "#ed7953"
             ],
             [
              0.7777777777777778,
              "#fb9f3a"
             ],
             [
              0.8888888888888888,
              "#fdca26"
             ],
             [
              1,
              "#f0f921"
             ]
            ],
            "type": "heatmap"
           }
          ],
          "heatmapgl": [
           {
            "colorbar": {
             "outlinewidth": 0,
             "ticks": ""
            },
            "colorscale": [
             [
              0,
              "#0d0887"
             ],
             [
              0.1111111111111111,
              "#46039f"
             ],
             [
              0.2222222222222222,
              "#7201a8"
             ],
             [
              0.3333333333333333,
              "#9c179e"
             ],
             [
              0.4444444444444444,
              "#bd3786"
             ],
             [
              0.5555555555555556,
              "#d8576b"
             ],
             [
              0.6666666666666666,
              "#ed7953"
             ],
             [
              0.7777777777777778,
              "#fb9f3a"
             ],
             [
              0.8888888888888888,
              "#fdca26"
             ],
             [
              1,
              "#f0f921"
             ]
            ],
            "type": "heatmapgl"
           }
          ],
          "histogram": [
           {
            "marker": {
             "pattern": {
              "fillmode": "overlay",
              "size": 10,
              "solidity": 0.2
             }
            },
            "type": "histogram"
           }
          ],
          "histogram2d": [
           {
            "colorbar": {
             "outlinewidth": 0,
             "ticks": ""
            },
            "colorscale": [
             [
              0,
              "#0d0887"
             ],
             [
              0.1111111111111111,
              "#46039f"
             ],
             [
              0.2222222222222222,
              "#7201a8"
             ],
             [
              0.3333333333333333,
              "#9c179e"
             ],
             [
              0.4444444444444444,
              "#bd3786"
             ],
             [
              0.5555555555555556,
              "#d8576b"
             ],
             [
              0.6666666666666666,
              "#ed7953"
             ],
             [
              0.7777777777777778,
              "#fb9f3a"
             ],
             [
              0.8888888888888888,
              "#fdca26"
             ],
             [
              1,
              "#f0f921"
             ]
            ],
            "type": "histogram2d"
           }
          ],
          "histogram2dcontour": [
           {
            "colorbar": {
             "outlinewidth": 0,
             "ticks": ""
            },
            "colorscale": [
             [
              0,
              "#0d0887"
             ],
             [
              0.1111111111111111,
              "#46039f"
             ],
             [
              0.2222222222222222,
              "#7201a8"
             ],
             [
              0.3333333333333333,
              "#9c179e"
             ],
             [
              0.4444444444444444,
              "#bd3786"
             ],
             [
              0.5555555555555556,
              "#d8576b"
             ],
             [
              0.6666666666666666,
              "#ed7953"
             ],
             [
              0.7777777777777778,
              "#fb9f3a"
             ],
             [
              0.8888888888888888,
              "#fdca26"
             ],
             [
              1,
              "#f0f921"
             ]
            ],
            "type": "histogram2dcontour"
           }
          ],
          "mesh3d": [
           {
            "colorbar": {
             "outlinewidth": 0,
             "ticks": ""
            },
            "type": "mesh3d"
           }
          ],
          "parcoords": [
           {
            "line": {
             "colorbar": {
              "outlinewidth": 0,
              "ticks": ""
             }
            },
            "type": "parcoords"
           }
          ],
          "pie": [
           {
            "automargin": true,
            "type": "pie"
           }
          ],
          "scatter": [
           {
            "fillpattern": {
             "fillmode": "overlay",
             "size": 10,
             "solidity": 0.2
            },
            "type": "scatter"
           }
          ],
          "scatter3d": [
           {
            "line": {
             "colorbar": {
              "outlinewidth": 0,
              "ticks": ""
             }
            },
            "marker": {
             "colorbar": {
              "outlinewidth": 0,
              "ticks": ""
             }
            },
            "type": "scatter3d"
           }
          ],
          "scattercarpet": [
           {
            "marker": {
             "colorbar": {
              "outlinewidth": 0,
              "ticks": ""
             }
            },
            "type": "scattercarpet"
           }
          ],
          "scattergeo": [
           {
            "marker": {
             "colorbar": {
              "outlinewidth": 0,
              "ticks": ""
             }
            },
            "type": "scattergeo"
           }
          ],
          "scattergl": [
           {
            "marker": {
             "colorbar": {
              "outlinewidth": 0,
              "ticks": ""
             }
            },
            "type": "scattergl"
           }
          ],
          "scattermapbox": [
           {
            "marker": {
             "colorbar": {
              "outlinewidth": 0,
              "ticks": ""
             }
            },
            "type": "scattermapbox"
           }
          ],
          "scatterpolar": [
           {
            "marker": {
             "colorbar": {
              "outlinewidth": 0,
              "ticks": ""
             }
            },
            "type": "scatterpolar"
           }
          ],
          "scatterpolargl": [
           {
            "marker": {
             "colorbar": {
              "outlinewidth": 0,
              "ticks": ""
             }
            },
            "type": "scatterpolargl"
           }
          ],
          "scatterternary": [
           {
            "marker": {
             "colorbar": {
              "outlinewidth": 0,
              "ticks": ""
             }
            },
            "type": "scatterternary"
           }
          ],
          "surface": [
           {
            "colorbar": {
             "outlinewidth": 0,
             "ticks": ""
            },
            "colorscale": [
             [
              0,
              "#0d0887"
             ],
             [
              0.1111111111111111,
              "#46039f"
             ],
             [
              0.2222222222222222,
              "#7201a8"
             ],
             [
              0.3333333333333333,
              "#9c179e"
             ],
             [
              0.4444444444444444,
              "#bd3786"
             ],
             [
              0.5555555555555556,
              "#d8576b"
             ],
             [
              0.6666666666666666,
              "#ed7953"
             ],
             [
              0.7777777777777778,
              "#fb9f3a"
             ],
             [
              0.8888888888888888,
              "#fdca26"
             ],
             [
              1,
              "#f0f921"
             ]
            ],
            "type": "surface"
           }
          ],
          "table": [
           {
            "cells": {
             "fill": {
              "color": "#EBF0F8"
             },
             "line": {
              "color": "white"
             }
            },
            "header": {
             "fill": {
              "color": "#C8D4E3"
             },
             "line": {
              "color": "white"
             }
            },
            "type": "table"
           }
          ]
         },
         "layout": {
          "annotationdefaults": {
           "arrowcolor": "#2a3f5f",
           "arrowhead": 0,
           "arrowwidth": 1
          },
          "autotypenumbers": "strict",
          "coloraxis": {
           "colorbar": {
            "outlinewidth": 0,
            "ticks": ""
           }
          },
          "colorscale": {
           "diverging": [
            [
             0,
             "#8e0152"
            ],
            [
             0.1,
             "#c51b7d"
            ],
            [
             0.2,
             "#de77ae"
            ],
            [
             0.3,
             "#f1b6da"
            ],
            [
             0.4,
             "#fde0ef"
            ],
            [
             0.5,
             "#f7f7f7"
            ],
            [
             0.6,
             "#e6f5d0"
            ],
            [
             0.7,
             "#b8e186"
            ],
            [
             0.8,
             "#7fbc41"
            ],
            [
             0.9,
             "#4d9221"
            ],
            [
             1,
             "#276419"
            ]
           ],
           "sequential": [
            [
             0,
             "#0d0887"
            ],
            [
             0.1111111111111111,
             "#46039f"
            ],
            [
             0.2222222222222222,
             "#7201a8"
            ],
            [
             0.3333333333333333,
             "#9c179e"
            ],
            [
             0.4444444444444444,
             "#bd3786"
            ],
            [
             0.5555555555555556,
             "#d8576b"
            ],
            [
             0.6666666666666666,
             "#ed7953"
            ],
            [
             0.7777777777777778,
             "#fb9f3a"
            ],
            [
             0.8888888888888888,
             "#fdca26"
            ],
            [
             1,
             "#f0f921"
            ]
           ],
           "sequentialminus": [
            [
             0,
             "#0d0887"
            ],
            [
             0.1111111111111111,
             "#46039f"
            ],
            [
             0.2222222222222222,
             "#7201a8"
            ],
            [
             0.3333333333333333,
             "#9c179e"
            ],
            [
             0.4444444444444444,
             "#bd3786"
            ],
            [
             0.5555555555555556,
             "#d8576b"
            ],
            [
             0.6666666666666666,
             "#ed7953"
            ],
            [
             0.7777777777777778,
             "#fb9f3a"
            ],
            [
             0.8888888888888888,
             "#fdca26"
            ],
            [
             1,
             "#f0f921"
            ]
           ]
          },
          "colorway": [
           "#636efa",
           "#EF553B",
           "#00cc96",
           "#ab63fa",
           "#FFA15A",
           "#19d3f3",
           "#FF6692",
           "#B6E880",
           "#FF97FF",
           "#FECB52"
          ],
          "font": {
           "color": "#2a3f5f"
          },
          "geo": {
           "bgcolor": "white",
           "lakecolor": "white",
           "landcolor": "#E5ECF6",
           "showlakes": true,
           "showland": true,
           "subunitcolor": "white"
          },
          "hoverlabel": {
           "align": "left"
          },
          "hovermode": "closest",
          "mapbox": {
           "style": "light"
          },
          "paper_bgcolor": "white",
          "plot_bgcolor": "#E5ECF6",
          "polar": {
           "angularaxis": {
            "gridcolor": "white",
            "linecolor": "white",
            "ticks": ""
           },
           "bgcolor": "#E5ECF6",
           "radialaxis": {
            "gridcolor": "white",
            "linecolor": "white",
            "ticks": ""
           }
          },
          "scene": {
           "xaxis": {
            "backgroundcolor": "#E5ECF6",
            "gridcolor": "white",
            "gridwidth": 2,
            "linecolor": "white",
            "showbackground": true,
            "ticks": "",
            "zerolinecolor": "white"
           },
           "yaxis": {
            "backgroundcolor": "#E5ECF6",
            "gridcolor": "white",
            "gridwidth": 2,
            "linecolor": "white",
            "showbackground": true,
            "ticks": "",
            "zerolinecolor": "white"
           },
           "zaxis": {
            "backgroundcolor": "#E5ECF6",
            "gridcolor": "white",
            "gridwidth": 2,
            "linecolor": "white",
            "showbackground": true,
            "ticks": "",
            "zerolinecolor": "white"
           }
          },
          "shapedefaults": {
           "line": {
            "color": "#2a3f5f"
           }
          },
          "ternary": {
           "aaxis": {
            "gridcolor": "white",
            "linecolor": "white",
            "ticks": ""
           },
           "baxis": {
            "gridcolor": "white",
            "linecolor": "white",
            "ticks": ""
           },
           "bgcolor": "#E5ECF6",
           "caxis": {
            "gridcolor": "white",
            "linecolor": "white",
            "ticks": ""
           }
          },
          "title": {
           "x": 0.05
          },
          "xaxis": {
           "automargin": true,
           "gridcolor": "white",
           "linecolor": "white",
           "ticks": "",
           "title": {
            "standoff": 15
           },
           "zerolinecolor": "white",
           "zerolinewidth": 2
          },
          "yaxis": {
           "automargin": true,
           "gridcolor": "white",
           "linecolor": "white",
           "ticks": "",
           "title": {
            "standoff": 15
           },
           "zerolinecolor": "white",
           "zerolinewidth": 2
          }
         }
        },
        "title": {
         "text": "Start Price with Highlighted Consecutive Years (Performance > 20%)"
        },
        "xaxis": {
         "title": {
          "text": "Year"
         }
        },
        "yaxis": {
         "title": {
          "text": "Start Price"
         }
        }
       }
      }
     },
     "metadata": {},
     "output_type": "display_data"
    }
   ],
   "source": [
    "# Filter for years with two consecutive years exceeding 20%\n",
    "consecutive_years = performance_20_plus[\n",
    "    performance_20_plus['Year'].diff().fillna(1) == 1\n",
    "]\n",
    "fig = go.Figure()\n",
    "\n",
    "# Add \"End Price\" line\n",
    "fig.add_trace(go.Scatter(\n",
    "    x=yearly_summary['Year'],\n",
    "    y=yearly_summary['End Price'],\n",
    "    mode='lines',\n",
    "    name='End Price',\n",
    "    line=dict(color='black')\n",
    "))\n",
    "\n",
    "# Highlight consecutive years exceeding 20%\n",
    "for _, row in consecutive_years.iterrows():\n",
    "    fig.add_shape(\n",
    "        type=\"rect\",\n",
    "        x0=row['Year'] - 0.5,  # Adjusting to include the whole year\n",
    "        x1=row['Year'] + 0.5,\n",
    "        y0=yearly_summary['End Price'].min(),\n",
    "        y1=yearly_summary['End Price'].max(),\n",
    "        fillcolor=\"green\",\n",
    "        opacity=0.3,\n",
    "        layer=\"below\",\n",
    "        line_width=0,\n",
    "    )\n",
    "\n",
    "fig.update_layout(\n",
    "    title=\"Start Price with Highlighted Consecutive Years (Performance > 20%)\",\n",
    "    xaxis_title=\"Year\",\n",
    "    yaxis_title=\"Start Price\",\n",
    "    showlegend=True\n",
    ")\n",
    "fig.show()\n"
   ]
  },
  {
   "cell_type": "code",
   "execution_count": 104,
   "metadata": {},
   "outputs": [
    {
     "data": {
      "text/plain": [
       "Index(['index', 'Year', 'Average Open', 'Average High', 'Highest High',\n",
       "       'Lowest Low', 'Average Volume', 'Highest Volume Day',\n",
       "       'Lowest Volume Day', 'Start Price', 'End Price', 'Q1 Std Dev',\n",
       "       'Q2 Std Dev', 'Q3 Std Dev', 'Q4 Std Dev', 'Annual Std Dev',\n",
       "       'Q1 Performance', 'Q2 Performance', 'Q3 Performance', 'Q4 Performance',\n",
       "       'Yearly Performance (%)', 'Price Range', 'Price Difference',\n",
       "       'Year Group'],\n",
       "      dtype='object')"
      ]
     },
     "execution_count": 104,
     "metadata": {},
     "output_type": "execute_result"
    }
   ],
   "source": [
    "yearly_summary.columns"
   ]
  },
  {
   "cell_type": "code",
   "execution_count": 105,
   "metadata": {
    "id": "QFjUviEMRevz"
   },
   "outputs": [],
   "source": [
    "spy_basicdata.index = pd.to_datetime(spy_basicdata.index, format='%Y')"
   ]
  },
  {
   "cell_type": "code",
   "execution_count": 106,
   "metadata": {},
   "outputs": [],
   "source": [
    "# Sort by 'Annual Std Dev' in descending and ascending order and get the top 5 rows for each\n",
    "top_5_highest_yearly_perf = yearly_summary.nlargest(5, 'Yearly Performance (%)')\n",
    "top_5_lowest_yearly_perf = yearly_summary.nsmallest(5, 'Yearly Performance (%)')"
   ]
  },
  {
   "cell_type": "code",
   "execution_count": 107,
   "metadata": {},
   "outputs": [
    {
     "data": {
      "text/html": [
       "<div>\n",
       "<style scoped>\n",
       "    .dataframe tbody tr th:only-of-type {\n",
       "        vertical-align: middle;\n",
       "    }\n",
       "\n",
       "    .dataframe tbody tr th {\n",
       "        vertical-align: top;\n",
       "    }\n",
       "\n",
       "    .dataframe thead th {\n",
       "        text-align: right;\n",
       "    }\n",
       "</style>\n",
       "<table border=\"1\" class=\"dataframe\">\n",
       "  <thead>\n",
       "    <tr style=\"text-align: right;\">\n",
       "      <th></th>\n",
       "      <th>index</th>\n",
       "      <th>Year</th>\n",
       "      <th>Average Open</th>\n",
       "      <th>Average High</th>\n",
       "      <th>Highest High</th>\n",
       "      <th>Lowest Low</th>\n",
       "      <th>Average Volume</th>\n",
       "      <th>Highest Volume Day</th>\n",
       "      <th>Lowest Volume Day</th>\n",
       "      <th>Start Price</th>\n",
       "      <th>...</th>\n",
       "      <th>Q4 Std Dev</th>\n",
       "      <th>Annual Std Dev</th>\n",
       "      <th>Q1 Performance</th>\n",
       "      <th>Q2 Performance</th>\n",
       "      <th>Q3 Performance</th>\n",
       "      <th>Q4 Performance</th>\n",
       "      <th>Yearly Performance (%)</th>\n",
       "      <th>Price Range</th>\n",
       "      <th>Price Difference</th>\n",
       "      <th>Year Group</th>\n",
       "    </tr>\n",
       "  </thead>\n",
       "  <tbody>\n",
       "    <tr>\n",
       "      <th>0</th>\n",
       "      <td>0</td>\n",
       "      <td>1995</td>\n",
       "      <td>32.305427</td>\n",
       "      <td>32.426335</td>\n",
       "      <td>37.636164</td>\n",
       "      <td>26.931795</td>\n",
       "      <td>3.137948e+05</td>\n",
       "      <td>1,349,800</td>\n",
       "      <td>9,500</td>\n",
       "      <td>26.987059</td>\n",
       "      <td>...</td>\n",
       "      <td>0.905058</td>\n",
       "      <td>2.937842</td>\n",
       "      <td>10.046349</td>\n",
       "      <td>8.940792</td>\n",
       "      <td>7.667557</td>\n",
       "      <td>6.319183</td>\n",
       "      <td>37.389359</td>\n",
       "      <td>10.704369</td>\n",
       "      <td>10.090288</td>\n",
       "      <td>1995</td>\n",
       "    </tr>\n",
       "    <tr>\n",
       "      <th>2</th>\n",
       "      <td>2</td>\n",
       "      <td>1997</td>\n",
       "      <td>54.160123</td>\n",
       "      <td>54.568474</td>\n",
       "      <td>61.587893</td>\n",
       "      <td>44.746076</td>\n",
       "      <td>3.187592e+06</td>\n",
       "      <td>19,548,000</td>\n",
       "      <td>624,600</td>\n",
       "      <td>45.534130</td>\n",
       "      <td>...</td>\n",
       "      <td>1.418853</td>\n",
       "      <td>4.935257</td>\n",
       "      <td>2.205060</td>\n",
       "      <td>16.869383</td>\n",
       "      <td>6.018755</td>\n",
       "      <td>1.907160</td>\n",
       "      <td>33.137087</td>\n",
       "      <td>16.841817</td>\n",
       "      <td>15.088684</td>\n",
       "      <td>1995</td>\n",
       "    </tr>\n",
       "    <tr>\n",
       "      <th>24</th>\n",
       "      <td>24</td>\n",
       "      <td>2019</td>\n",
       "      <td>267.615108</td>\n",
       "      <td>268.717834</td>\n",
       "      <td>301.213208</td>\n",
       "      <td>222.460258</td>\n",
       "      <td>7.004249e+07</td>\n",
       "      <td>178,745,400</td>\n",
       "      <td>20,270,000</td>\n",
       "      <td>228.403625</td>\n",
       "      <td>...</td>\n",
       "      <td>9.072120</td>\n",
       "      <td>15.151646</td>\n",
       "      <td>13.408041</td>\n",
       "      <td>3.007059</td>\n",
       "      <td>0.838976</td>\n",
       "      <td>10.299511</td>\n",
       "      <td>31.087459</td>\n",
       "      <td>78.752950</td>\n",
       "      <td>71.004883</td>\n",
       "      <td>2015</td>\n",
       "    </tr>\n",
       "    <tr>\n",
       "      <th>26</th>\n",
       "      <td>26</td>\n",
       "      <td>2021</td>\n",
       "      <td>406.146966</td>\n",
       "      <td>408.015318</td>\n",
       "      <td>459.959036</td>\n",
       "      <td>345.709669</td>\n",
       "      <td>7.379523e+07</td>\n",
       "      <td>183,433,000</td>\n",
       "      <td>34,848,500</td>\n",
       "      <td>349.471710</td>\n",
       "      <td>...</td>\n",
       "      <td>12.324004</td>\n",
       "      <td>28.785145</td>\n",
       "      <td>7.819638</td>\n",
       "      <td>7.201637</td>\n",
       "      <td>0.019713</td>\n",
       "      <td>9.761554</td>\n",
       "      <td>30.505439</td>\n",
       "      <td>114.249367</td>\n",
       "      <td>106.607880</td>\n",
       "      <td>2020</td>\n",
       "    </tr>\n",
       "    <tr>\n",
       "      <th>18</th>\n",
       "      <td>18</td>\n",
       "      <td>2013</td>\n",
       "      <td>134.322583</td>\n",
       "      <td>134.887078</td>\n",
       "      <td>152.706375</td>\n",
       "      <td>117.297827</td>\n",
       "      <td>1.215388e+08</td>\n",
       "      <td>321,255,900</td>\n",
       "      <td>45,368,800</td>\n",
       "      <td>118.375740</td>\n",
       "      <td>...</td>\n",
       "      <td>4.046470</td>\n",
       "      <td>8.864840</td>\n",
       "      <td>7.741227</td>\n",
       "      <td>3.344364</td>\n",
       "      <td>4.628680</td>\n",
       "      <td>9.656652</td>\n",
       "      <td>29.001411</td>\n",
       "      <td>35.408548</td>\n",
       "      <td>34.330635</td>\n",
       "      <td>2010</td>\n",
       "    </tr>\n",
       "  </tbody>\n",
       "</table>\n",
       "<p>5 rows × 24 columns</p>\n",
       "</div>"
      ],
      "text/plain": [
       "    index  Year  Average Open  Average High  Highest High  Lowest Low  \\\n",
       "0       0  1995     32.305427     32.426335     37.636164   26.931795   \n",
       "2       2  1997     54.160123     54.568474     61.587893   44.746076   \n",
       "24     24  2019    267.615108    268.717834    301.213208  222.460258   \n",
       "26     26  2021    406.146966    408.015318    459.959036  345.709669   \n",
       "18     18  2013    134.322583    134.887078    152.706375  117.297827   \n",
       "\n",
       "    Average Volume Highest Volume Day Lowest Volume Day  Start Price  ...  \\\n",
       "0     3.137948e+05          1,349,800             9,500    26.987059  ...   \n",
       "2     3.187592e+06         19,548,000           624,600    45.534130  ...   \n",
       "24    7.004249e+07        178,745,400        20,270,000   228.403625  ...   \n",
       "26    7.379523e+07        183,433,000        34,848,500   349.471710  ...   \n",
       "18    1.215388e+08        321,255,900        45,368,800   118.375740  ...   \n",
       "\n",
       "    Q4 Std Dev  Annual Std Dev  Q1 Performance  Q2 Performance  \\\n",
       "0     0.905058        2.937842       10.046349        8.940792   \n",
       "2     1.418853        4.935257        2.205060       16.869383   \n",
       "24    9.072120       15.151646       13.408041        3.007059   \n",
       "26   12.324004       28.785145        7.819638        7.201637   \n",
       "18    4.046470        8.864840        7.741227        3.344364   \n",
       "\n",
       "    Q3 Performance  Q4 Performance  Yearly Performance (%)  Price Range  \\\n",
       "0         7.667557        6.319183               37.389359    10.704369   \n",
       "2         6.018755        1.907160               33.137087    16.841817   \n",
       "24        0.838976       10.299511               31.087459    78.752950   \n",
       "26        0.019713        9.761554               30.505439   114.249367   \n",
       "18        4.628680        9.656652               29.001411    35.408548   \n",
       "\n",
       "    Price Difference  Year Group  \n",
       "0          10.090288        1995  \n",
       "2          15.088684        1995  \n",
       "24         71.004883        2015  \n",
       "26        106.607880        2020  \n",
       "18         34.330635        2010  \n",
       "\n",
       "[5 rows x 24 columns]"
      ]
     },
     "execution_count": 107,
     "metadata": {},
     "output_type": "execute_result"
    }
   ],
   "source": [
    "top_5_highest_yearly_perf"
   ]
  },
  {
   "cell_type": "code",
   "execution_count": 108,
   "metadata": {},
   "outputs": [
    {
     "data": {
      "text/html": [
       "<div>\n",
       "<style scoped>\n",
       "    .dataframe tbody tr th:only-of-type {\n",
       "        vertical-align: middle;\n",
       "    }\n",
       "\n",
       "    .dataframe tbody tr th {\n",
       "        vertical-align: top;\n",
       "    }\n",
       "\n",
       "    .dataframe thead th {\n",
       "        text-align: right;\n",
       "    }\n",
       "</style>\n",
       "<table border=\"1\" class=\"dataframe\">\n",
       "  <thead>\n",
       "    <tr style=\"text-align: right;\">\n",
       "      <th></th>\n",
       "      <th>index</th>\n",
       "      <th>Year</th>\n",
       "      <th>Average Open</th>\n",
       "      <th>Average High</th>\n",
       "      <th>Highest High</th>\n",
       "      <th>Lowest Low</th>\n",
       "      <th>Average Volume</th>\n",
       "      <th>Highest Volume Day</th>\n",
       "      <th>Lowest Volume Day</th>\n",
       "      <th>Start Price</th>\n",
       "      <th>...</th>\n",
       "      <th>Q4 Std Dev</th>\n",
       "      <th>Annual Std Dev</th>\n",
       "      <th>Q1 Performance</th>\n",
       "      <th>Q2 Performance</th>\n",
       "      <th>Q3 Performance</th>\n",
       "      <th>Q4 Performance</th>\n",
       "      <th>Yearly Performance (%)</th>\n",
       "      <th>Price Range</th>\n",
       "      <th>Price Difference</th>\n",
       "      <th>Year Group</th>\n",
       "    </tr>\n",
       "  </thead>\n",
       "  <tbody>\n",
       "    <tr>\n",
       "      <th>13</th>\n",
       "      <td>13</td>\n",
       "      <td>2008</td>\n",
       "      <td>89.542020</td>\n",
       "      <td>90.618357</td>\n",
       "      <td>106.847737</td>\n",
       "      <td>54.893140</td>\n",
       "      <td>3.002404e+08</td>\n",
       "      <td>871,026,300</td>\n",
       "      <td>62,061,600</td>\n",
       "      <td>105.350304</td>\n",
       "      <td>...</td>\n",
       "      <td>5.281790</td>\n",
       "      <td>13.590749</td>\n",
       "      <td>-8.491437</td>\n",
       "      <td>-5.848675</td>\n",
       "      <td>-9.128085</td>\n",
       "      <td>-21.615949</td>\n",
       "      <td>-36.236768</td>\n",
       "      <td>51.954597</td>\n",
       "      <td>-38.175545</td>\n",
       "      <td>2005</td>\n",
       "    </tr>\n",
       "    <tr>\n",
       "      <th>7</th>\n",
       "      <td>7</td>\n",
       "      <td>2002</td>\n",
       "      <td>65.679318</td>\n",
       "      <td>66.324024</td>\n",
       "      <td>77.278415</td>\n",
       "      <td>50.989341</td>\n",
       "      <td>3.379551e+07</td>\n",
       "      <td>107,022,800</td>\n",
       "      <td>10,499,200</td>\n",
       "      <td>75.611282</td>\n",
       "      <td>...</td>\n",
       "      <td>2.432789</td>\n",
       "      <td>7.242395</td>\n",
       "      <td>-0.590272</td>\n",
       "      <td>-13.322521</td>\n",
       "      <td>-15.328639</td>\n",
       "      <td>3.433930</td>\n",
       "      <td>-22.419480</td>\n",
       "      <td>26.289074</td>\n",
       "      <td>-16.951656</td>\n",
       "      <td>2000</td>\n",
       "    </tr>\n",
       "    <tr>\n",
       "      <th>27</th>\n",
       "      <td>27</td>\n",
       "      <td>2022</td>\n",
       "      <td>395.079804</td>\n",
       "      <td>398.492222</td>\n",
       "      <td>460.900046</td>\n",
       "      <td>338.142318</td>\n",
       "      <td>9.475961e+07</td>\n",
       "      <td>251,783,900</td>\n",
       "      <td>30,545,400</td>\n",
       "      <td>458.720367</td>\n",
       "      <td>...</td>\n",
       "      <td>13.014065</td>\n",
       "      <td>26.663549</td>\n",
       "      <td>-5.163582</td>\n",
       "      <td>-16.347351</td>\n",
       "      <td>-5.926120</td>\n",
       "      <td>4.794244</td>\n",
       "      <td>-18.646410</td>\n",
       "      <td>122.757728</td>\n",
       "      <td>-85.534882</td>\n",
       "      <td>2020</td>\n",
       "    </tr>\n",
       "    <tr>\n",
       "      <th>6</th>\n",
       "      <td>6</td>\n",
       "      <td>2001</td>\n",
       "      <td>77.746150</td>\n",
       "      <td>78.427835</td>\n",
       "      <td>89.629159</td>\n",
       "      <td>61.179179</td>\n",
       "      <td>1.379326e+07</td>\n",
       "      <td>58,514,600</td>\n",
       "      <td>3,303,100</td>\n",
       "      <td>83.239746</td>\n",
       "      <td>...</td>\n",
       "      <td>2.339838</td>\n",
       "      <td>5.417580</td>\n",
       "      <td>-9.167079</td>\n",
       "      <td>7.660944</td>\n",
       "      <td>-15.546745</td>\n",
       "      <td>9.996351</td>\n",
       "      <td>-10.131508</td>\n",
       "      <td>28.449981</td>\n",
       "      <td>-8.433441</td>\n",
       "      <td>2000</td>\n",
       "    </tr>\n",
       "    <tr>\n",
       "      <th>5</th>\n",
       "      <td>5</td>\n",
       "      <td>2000</td>\n",
       "      <td>91.913951</td>\n",
       "      <td>92.702671</td>\n",
       "      <td>99.852720</td>\n",
       "      <td>81.119404</td>\n",
       "      <td>7.664991e+06</td>\n",
       "      <td>29,604,000</td>\n",
       "      <td>1,436,600</td>\n",
       "      <td>93.004890</td>\n",
       "      <td>...</td>\n",
       "      <td>2.684704</td>\n",
       "      <td>3.584780</td>\n",
       "      <td>3.657725</td>\n",
       "      <td>-3.720104</td>\n",
       "      <td>-2.237478</td>\n",
       "      <td>-8.518863</td>\n",
       "      <td>-8.849394</td>\n",
       "      <td>18.733316</td>\n",
       "      <td>-8.230370</td>\n",
       "      <td>2000</td>\n",
       "    </tr>\n",
       "  </tbody>\n",
       "</table>\n",
       "<p>5 rows × 24 columns</p>\n",
       "</div>"
      ],
      "text/plain": [
       "    index  Year  Average Open  Average High  Highest High  Lowest Low  \\\n",
       "13     13  2008     89.542020     90.618357    106.847737   54.893140   \n",
       "7       7  2002     65.679318     66.324024     77.278415   50.989341   \n",
       "27     27  2022    395.079804    398.492222    460.900046  338.142318   \n",
       "6       6  2001     77.746150     78.427835     89.629159   61.179179   \n",
       "5       5  2000     91.913951     92.702671     99.852720   81.119404   \n",
       "\n",
       "    Average Volume Highest Volume Day Lowest Volume Day  Start Price  ...  \\\n",
       "13    3.002404e+08        871,026,300        62,061,600   105.350304  ...   \n",
       "7     3.379551e+07        107,022,800        10,499,200    75.611282  ...   \n",
       "27    9.475961e+07        251,783,900        30,545,400   458.720367  ...   \n",
       "6     1.379326e+07         58,514,600         3,303,100    83.239746  ...   \n",
       "5     7.664991e+06         29,604,000         1,436,600    93.004890  ...   \n",
       "\n",
       "    Q4 Std Dev  Annual Std Dev  Q1 Performance  Q2 Performance  \\\n",
       "13    5.281790       13.590749       -8.491437       -5.848675   \n",
       "7     2.432789        7.242395       -0.590272      -13.322521   \n",
       "27   13.014065       26.663549       -5.163582      -16.347351   \n",
       "6     2.339838        5.417580       -9.167079        7.660944   \n",
       "5     2.684704        3.584780        3.657725       -3.720104   \n",
       "\n",
       "    Q3 Performance  Q4 Performance  Yearly Performance (%)  Price Range  \\\n",
       "13       -9.128085      -21.615949              -36.236768    51.954597   \n",
       "7       -15.328639        3.433930              -22.419480    26.289074   \n",
       "27       -5.926120        4.794244              -18.646410   122.757728   \n",
       "6       -15.546745        9.996351              -10.131508    28.449981   \n",
       "5        -2.237478       -8.518863               -8.849394    18.733316   \n",
       "\n",
       "    Price Difference  Year Group  \n",
       "13        -38.175545        2005  \n",
       "7         -16.951656        2000  \n",
       "27        -85.534882        2020  \n",
       "6          -8.433441        2000  \n",
       "5          -8.230370        2000  \n",
       "\n",
       "[5 rows x 24 columns]"
      ]
     },
     "execution_count": 108,
     "metadata": {},
     "output_type": "execute_result"
    }
   ],
   "source": [
    "top_5_lowest_yearly_perf"
   ]
  },
  {
   "cell_type": "markdown",
   "metadata": {},
   "source": [
    "#### **Interpretation: Yearly Performance & Annual Std Dev Correlation - No Correlation between Volatility and Performance**\n",
    "The correlations suggest that none of the standard deviation measures (annual or quarterly) have a strong linear relationship with Yearly Performance (%).\n",
    "The highest correlation is with Annual Std Dev (-0.147195), but this is still too low to consider it meaningful.\n",
    "\n",
    "##### **Correlation Table is below this code**\n"
   ]
  },
  {
   "cell_type": "code",
   "execution_count": 109,
   "metadata": {},
   "outputs": [
    {
     "data": {
      "text/html": [
       "<div>\n",
       "<style scoped>\n",
       "    .dataframe tbody tr th:only-of-type {\n",
       "        vertical-align: middle;\n",
       "    }\n",
       "\n",
       "    .dataframe tbody tr th {\n",
       "        vertical-align: top;\n",
       "    }\n",
       "\n",
       "    .dataframe thead th {\n",
       "        text-align: right;\n",
       "    }\n",
       "</style>\n",
       "<table border=\"1\" class=\"dataframe\">\n",
       "  <thead>\n",
       "    <tr style=\"text-align: right;\">\n",
       "      <th></th>\n",
       "      <th>Correlation</th>\n",
       "      <th>Strength</th>\n",
       "      <th>Needs Investigation</th>\n",
       "    </tr>\n",
       "  </thead>\n",
       "  <tbody>\n",
       "    <tr>\n",
       "      <th>Yearly Performance (%)</th>\n",
       "      <td>1.000000</td>\n",
       "      <td>Very strong</td>\n",
       "      <td>Yes</td>\n",
       "    </tr>\n",
       "    <tr>\n",
       "      <th>Annual Std Dev</th>\n",
       "      <td>0.080329</td>\n",
       "      <td>Very weak/negligible</td>\n",
       "      <td>No</td>\n",
       "    </tr>\n",
       "    <tr>\n",
       "      <th>Q4 Std Dev</th>\n",
       "      <td>0.058006</td>\n",
       "      <td>Very weak/negligible</td>\n",
       "      <td>No</td>\n",
       "    </tr>\n",
       "    <tr>\n",
       "      <th>Q1 Std Dev</th>\n",
       "      <td>0.044193</td>\n",
       "      <td>Very weak/negligible</td>\n",
       "      <td>No</td>\n",
       "    </tr>\n",
       "    <tr>\n",
       "      <th>Q2 Std Dev</th>\n",
       "      <td>-0.098122</td>\n",
       "      <td>Very weak/negligible</td>\n",
       "      <td>No</td>\n",
       "    </tr>\n",
       "    <tr>\n",
       "      <th>Q3 Std Dev</th>\n",
       "      <td>-0.164206</td>\n",
       "      <td>Very weak/negligible</td>\n",
       "      <td>No</td>\n",
       "    </tr>\n",
       "  </tbody>\n",
       "</table>\n",
       "</div>"
      ],
      "text/plain": [
       "                        Correlation              Strength Needs Investigation\n",
       "Yearly Performance (%)     1.000000           Very strong                 Yes\n",
       "Annual Std Dev             0.080329  Very weak/negligible                  No\n",
       "Q4 Std Dev                 0.058006  Very weak/negligible                  No\n",
       "Q1 Std Dev                 0.044193  Very weak/negligible                  No\n",
       "Q2 Std Dev                -0.098122  Very weak/negligible                  No\n",
       "Q3 Std Dev                -0.164206  Very weak/negligible                  No"
      ]
     },
     "execution_count": 109,
     "metadata": {},
     "output_type": "execute_result"
    }
   ],
   "source": [
    "# Define thresholds and descriptions\n",
    "def classify_correlation(correlation):\n",
    "    if correlation > 0.8 or correlation < -0.8:\n",
    "        return \"Very strong\"\n",
    "    elif 0.6 <= correlation <= 0.8 or -0.8 <= correlation <= -0.6:\n",
    "        return \"Strong\"\n",
    "    elif 0.4 <= correlation < 0.6 or -0.6 < correlation <= -0.4:\n",
    "        return \"Moderate\"\n",
    "    elif 0.2 <= correlation < 0.4 or -0.4 < correlation <= -0.2:\n",
    "        return \"Weak\"\n",
    "    else:\n",
    "        return \"Very weak/negligible\"\n",
    "\n",
    "def needs_investigation(correlation):\n",
    "    if abs(correlation) >= 0.3:\n",
    "        return \"Yes\"\n",
    "    return \"No\"\n",
    "\n",
    "# Define relevant columns for correlation analysis\n",
    "relevant_columns = ['Q1 Std Dev', 'Q2 Std Dev', \n",
    "                    'Q3 Std Dev', 'Q4 Std Dev', 'Annual Std Dev', 'Yearly Performance (%)']\n",
    "\n",
    "\n",
    "correlation_matrix = yearly_summary[relevant_columns].corr()\n",
    "yearly_performance_corr = correlation_matrix['Yearly Performance (%)'].sort_values(ascending=False)\n",
    "correlation_details = pd.DataFrame({\n",
    "    \"Correlation\": yearly_performance_corr,\n",
    "    \"Strength\": yearly_performance_corr.apply(classify_correlation),\n",
    "    \"Needs Investigation\": yearly_performance_corr.apply(needs_investigation)\n",
    "})\n",
    "\n",
    "correlation_details"
   ]
  },
  {
   "cell_type": "code",
   "execution_count": 110,
   "metadata": {},
   "outputs": [
    {
     "name": "stdout",
     "output_type": "stream",
     "text": [
      "No significant correlations (moderate, strong, or very strong) found across years.\n"
     ]
    }
   ],
   "source": [
    "# Function to analyze correlations per year\n",
    "def analyze_correlations_per_year(dataframe, target_column, relevant_columns):\n",
    "    # Store results\n",
    "    significant_relationships_all_years = []\n",
    "    \n",
    "    # Group by year\n",
    "    grouped = dataframe.groupby(\"Year\")\n",
    "    \n",
    "    for year, group in grouped:\n",
    "        # Filter relevant columns for the current year\n",
    "        year_data = group[relevant_columns].dropna()  # Ensure no NaN values\n",
    "        \n",
    "        # Calculate correlation matrix for the year\n",
    "        correlation_matrix = year_data.corr()\n",
    "        \n",
    "        # Extract correlations with the target column\n",
    "        if target_column in correlation_matrix:\n",
    "            target_corr = correlation_matrix[target_column].sort_values(ascending=False)\n",
    "            \n",
    "            # Classify correlations and filter for moderate, strong, or very strong\n",
    "            correlation_details = pd.DataFrame({\n",
    "                \"Correlation\": target_corr,\n",
    "                \"Strength\": target_corr.apply(classify_correlation),\n",
    "            })\n",
    "            significant_relationships = correlation_details[\n",
    "                correlation_details[\"Strength\"].isin([\"Moderate\", \"Strong\", \"Very strong\"])\n",
    "            ]\n",
    "            \n",
    "            if not significant_relationships.empty:\n",
    "                significant_relationships[\"Year\"] = year  # Add the year for context\n",
    "                significant_relationships_all_years.append(significant_relationships)\n",
    "    \n",
    "    # Combine all significant relationships across years\n",
    "    if significant_relationships_all_years:\n",
    "        return pd.concat(significant_relationships_all_years)\n",
    "    else:\n",
    "        return pd.DataFrame(columns=[\"Year\", \"Correlation\", \"Strength\"])\n",
    "\n",
    "# Define relevant columns and target\n",
    "relevant_columns = ['Q1 Std Dev', 'Q2 Std Dev', 'Q3 Std Dev', 'Q4 Std Dev',\n",
    "                    'Annual Std Dev', 'Yearly Performance (%)']\n",
    "target_column = 'Yearly Performance (%)'\n",
    "\n",
    "# Analyze correlations per year\n",
    "significant_relationships_over_years = analyze_correlations_per_year(\n",
    "    yearly_summary, target_column, relevant_columns\n",
    ")\n",
    "\n",
    "# Display results\n",
    "if significant_relationships_over_years.empty:\n",
    "    print(\"No significant correlations (moderate, strong, or very strong) found across years.\")\n",
    "else:\n",
    "    print(\"Significant correlations found across years:\")\n",
    "    print(significant_relationships_over_years)"
   ]
  },
  {
   "cell_type": "code",
   "execution_count": 111,
   "metadata": {},
   "outputs": [],
   "source": [
    "# Filter the dataset to start from 1995\n",
    "filtered_data = yearly_summary[yearly_summary['Year'] >= 1995]"
   ]
  },
  {
   "cell_type": "code",
   "execution_count": 112,
   "metadata": {},
   "outputs": [
    {
     "data": {
      "text/html": [
       "<div>\n",
       "<style scoped>\n",
       "    .dataframe tbody tr th:only-of-type {\n",
       "        vertical-align: middle;\n",
       "    }\n",
       "\n",
       "    .dataframe tbody tr th {\n",
       "        vertical-align: top;\n",
       "    }\n",
       "\n",
       "    .dataframe thead th {\n",
       "        text-align: right;\n",
       "    }\n",
       "</style>\n",
       "<table border=\"1\" class=\"dataframe\">\n",
       "  <thead>\n",
       "    <tr style=\"text-align: right;\">\n",
       "      <th></th>\n",
       "      <th>index</th>\n",
       "      <th>Year</th>\n",
       "      <th>Average Open</th>\n",
       "      <th>Average High</th>\n",
       "      <th>Highest High</th>\n",
       "      <th>Lowest Low</th>\n",
       "      <th>Average Volume</th>\n",
       "      <th>Highest Volume Day</th>\n",
       "      <th>Lowest Volume Day</th>\n",
       "      <th>Start Price</th>\n",
       "      <th>...</th>\n",
       "      <th>Q4 Std Dev</th>\n",
       "      <th>Annual Std Dev</th>\n",
       "      <th>Q1 Performance</th>\n",
       "      <th>Q2 Performance</th>\n",
       "      <th>Q3 Performance</th>\n",
       "      <th>Q4 Performance</th>\n",
       "      <th>Yearly Performance (%)</th>\n",
       "      <th>Price Range</th>\n",
       "      <th>Price Difference</th>\n",
       "      <th>Year Group</th>\n",
       "    </tr>\n",
       "  </thead>\n",
       "  <tbody>\n",
       "    <tr>\n",
       "      <th>0</th>\n",
       "      <td>0</td>\n",
       "      <td>1995</td>\n",
       "      <td>32.305427</td>\n",
       "      <td>32.426335</td>\n",
       "      <td>37.636164</td>\n",
       "      <td>26.931795</td>\n",
       "      <td>3.137948e+05</td>\n",
       "      <td>1,349,800</td>\n",
       "      <td>9,500</td>\n",
       "      <td>26.987059</td>\n",
       "      <td>...</td>\n",
       "      <td>0.905058</td>\n",
       "      <td>2.937842</td>\n",
       "      <td>10.046349</td>\n",
       "      <td>8.940792</td>\n",
       "      <td>7.667557</td>\n",
       "      <td>6.319183</td>\n",
       "      <td>37.389359</td>\n",
       "      <td>10.704369</td>\n",
       "      <td>10.090288</td>\n",
       "      <td>1995</td>\n",
       "    </tr>\n",
       "    <tr>\n",
       "      <th>1</th>\n",
       "      <td>1</td>\n",
       "      <td>1996</td>\n",
       "      <td>40.850209</td>\n",
       "      <td>41.062697</td>\n",
       "      <td>46.937224</td>\n",
       "      <td>35.965493</td>\n",
       "      <td>9.028118e+05</td>\n",
       "      <td>4,141,000</td>\n",
       "      <td>154,200</td>\n",
       "      <td>37.473106</td>\n",
       "      <td>...</td>\n",
       "      <td>1.385170</td>\n",
       "      <td>2.542436</td>\n",
       "      <td>4.560898</td>\n",
       "      <td>3.098320</td>\n",
       "      <td>1.906793</td>\n",
       "      <td>7.545938</td>\n",
       "      <td>21.203775</td>\n",
       "      <td>10.971731</td>\n",
       "      <td>7.945713</td>\n",
       "      <td>1995</td>\n",
       "    </tr>\n",
       "    <tr>\n",
       "      <th>2</th>\n",
       "      <td>2</td>\n",
       "      <td>1997</td>\n",
       "      <td>54.160123</td>\n",
       "      <td>54.568474</td>\n",
       "      <td>61.587893</td>\n",
       "      <td>44.746076</td>\n",
       "      <td>3.187592e+06</td>\n",
       "      <td>19,548,000</td>\n",
       "      <td>624,600</td>\n",
       "      <td>45.534130</td>\n",
       "      <td>...</td>\n",
       "      <td>1.418853</td>\n",
       "      <td>4.935257</td>\n",
       "      <td>2.205060</td>\n",
       "      <td>16.869383</td>\n",
       "      <td>6.018755</td>\n",
       "      <td>1.907160</td>\n",
       "      <td>33.137087</td>\n",
       "      <td>16.841817</td>\n",
       "      <td>15.088684</td>\n",
       "      <td>1995</td>\n",
       "    </tr>\n",
       "    <tr>\n",
       "      <th>3</th>\n",
       "      <td>3</td>\n",
       "      <td>1998</td>\n",
       "      <td>68.257023</td>\n",
       "      <td>68.786796</td>\n",
       "      <td>78.926487</td>\n",
       "      <td>56.777792</td>\n",
       "      <td>7.433582e+06</td>\n",
       "      <td>24,887,800</td>\n",
       "      <td>1,507,100</td>\n",
       "      <td>60.935116</td>\n",
       "      <td>...</td>\n",
       "      <td>4.812287</td>\n",
       "      <td>4.350746</td>\n",
       "      <td>13.008027</td>\n",
       "      <td>2.566970</td>\n",
       "      <td>-10.918720</td>\n",
       "      <td>25.209131</td>\n",
       "      <td>28.032929</td>\n",
       "      <td>22.148695</td>\n",
       "      <td>17.081898</td>\n",
       "      <td>1995</td>\n",
       "    </tr>\n",
       "  </tbody>\n",
       "</table>\n",
       "<p>4 rows × 24 columns</p>\n",
       "</div>"
      ],
      "text/plain": [
       "   index  Year  Average Open  Average High  Highest High  Lowest Low  \\\n",
       "0      0  1995     32.305427     32.426335     37.636164   26.931795   \n",
       "1      1  1996     40.850209     41.062697     46.937224   35.965493   \n",
       "2      2  1997     54.160123     54.568474     61.587893   44.746076   \n",
       "3      3  1998     68.257023     68.786796     78.926487   56.777792   \n",
       "\n",
       "   Average Volume Highest Volume Day Lowest Volume Day  Start Price  ...  \\\n",
       "0    3.137948e+05          1,349,800             9,500    26.987059  ...   \n",
       "1    9.028118e+05          4,141,000           154,200    37.473106  ...   \n",
       "2    3.187592e+06         19,548,000           624,600    45.534130  ...   \n",
       "3    7.433582e+06         24,887,800         1,507,100    60.935116  ...   \n",
       "\n",
       "   Q4 Std Dev  Annual Std Dev  Q1 Performance  Q2 Performance  Q3 Performance  \\\n",
       "0    0.905058        2.937842       10.046349        8.940792        7.667557   \n",
       "1    1.385170        2.542436        4.560898        3.098320        1.906793   \n",
       "2    1.418853        4.935257        2.205060       16.869383        6.018755   \n",
       "3    4.812287        4.350746       13.008027        2.566970      -10.918720   \n",
       "\n",
       "   Q4 Performance  Yearly Performance (%)  Price Range  Price Difference  \\\n",
       "0        6.319183               37.389359    10.704369         10.090288   \n",
       "1        7.545938               21.203775    10.971731          7.945713   \n",
       "2        1.907160               33.137087    16.841817         15.088684   \n",
       "3       25.209131               28.032929    22.148695         17.081898   \n",
       "\n",
       "   Year Group  \n",
       "0        1995  \n",
       "1        1995  \n",
       "2        1995  \n",
       "3        1995  \n",
       "\n",
       "[4 rows x 24 columns]"
      ]
     },
     "execution_count": 112,
     "metadata": {},
     "output_type": "execute_result"
    }
   ],
   "source": [
    "filtered_data.head(4)"
   ]
  },
  {
   "cell_type": "code",
   "execution_count": null,
   "metadata": {},
   "outputs": [
    {
     "data": {
      "application/vnd.plotly.v1+json": {
       "config": {
        "plotlyServerURL": "https://plot.ly"
       },
       "data": [
        {
         "line": {
          "width": 2
         },
         "mode": "lines+markers",
         "name": "End Price for the Year",
         "type": "scatter",
         "x": [
          1995,
          1996,
          1997,
          1998,
          1999,
          2000,
          2001,
          2002,
          2003,
          2004,
          2005,
          2006,
          2007,
          2008,
          2009,
          2010,
          2011,
          2012,
          2013,
          2014,
          2015,
          2016,
          2017,
          2018,
          2019,
          2020,
          2021,
          2022,
          2023,
          2024
         ],
         "y": [
          37.07734680175781,
          45.418819427490234,
          60.6228141784668,
          78.01701354980469,
          93.92420959472656,
          84.77452087402344,
          74.80630493164062,
          58.65962600708008,
          75.19086456298828,
          83.23473358154297,
          87.25347900390625,
          101.07905578613281,
          106.2807846069336,
          67.17475891113281,
          84.87649536132812,
          97.6556396484375,
          99.50621032714844,
          115.41755676269531,
          152.7063751220703,
          173.26651000976562,
          175.4051055908203,
          196.45001220703125,
          239.0902862548828,
          228.16627502441406,
          299.40850830078125,
          354.2950134277344,
          456.07958984375,
          373.18548583984375,
          470.8697509765625,
          586.0999755859375
         ]
        }
       ],
       "layout": {
        "legend": {
         "font": {
          "size": 12
         }
        },
        "template": {
         "data": {
          "bar": [
           {
            "error_x": {
             "color": "#2a3f5f"
            },
            "error_y": {
             "color": "#2a3f5f"
            },
            "marker": {
             "line": {
              "color": "white",
              "width": 0.5
             },
             "pattern": {
              "fillmode": "overlay",
              "size": 10,
              "solidity": 0.2
             }
            },
            "type": "bar"
           }
          ],
          "barpolar": [
           {
            "marker": {
             "line": {
              "color": "white",
              "width": 0.5
             },
             "pattern": {
              "fillmode": "overlay",
              "size": 10,
              "solidity": 0.2
             }
            },
            "type": "barpolar"
           }
          ],
          "carpet": [
           {
            "aaxis": {
             "endlinecolor": "#2a3f5f",
             "gridcolor": "#C8D4E3",
             "linecolor": "#C8D4E3",
             "minorgridcolor": "#C8D4E3",
             "startlinecolor": "#2a3f5f"
            },
            "baxis": {
             "endlinecolor": "#2a3f5f",
             "gridcolor": "#C8D4E3",
             "linecolor": "#C8D4E3",
             "minorgridcolor": "#C8D4E3",
             "startlinecolor": "#2a3f5f"
            },
            "type": "carpet"
           }
          ],
          "choropleth": [
           {
            "colorbar": {
             "outlinewidth": 0,
             "ticks": ""
            },
            "type": "choropleth"
           }
          ],
          "contour": [
           {
            "colorbar": {
             "outlinewidth": 0,
             "ticks": ""
            },
            "colorscale": [
             [
              0,
              "#0d0887"
             ],
             [
              0.1111111111111111,
              "#46039f"
             ],
             [
              0.2222222222222222,
              "#7201a8"
             ],
             [
              0.3333333333333333,
              "#9c179e"
             ],
             [
              0.4444444444444444,
              "#bd3786"
             ],
             [
              0.5555555555555556,
              "#d8576b"
             ],
             [
              0.6666666666666666,
              "#ed7953"
             ],
             [
              0.7777777777777778,
              "#fb9f3a"
             ],
             [
              0.8888888888888888,
              "#fdca26"
             ],
             [
              1,
              "#f0f921"
             ]
            ],
            "type": "contour"
           }
          ],
          "contourcarpet": [
           {
            "colorbar": {
             "outlinewidth": 0,
             "ticks": ""
            },
            "type": "contourcarpet"
           }
          ],
          "heatmap": [
           {
            "colorbar": {
             "outlinewidth": 0,
             "ticks": ""
            },
            "colorscale": [
             [
              0,
              "#0d0887"
             ],
             [
              0.1111111111111111,
              "#46039f"
             ],
             [
              0.2222222222222222,
              "#7201a8"
             ],
             [
              0.3333333333333333,
              "#9c179e"
             ],
             [
              0.4444444444444444,
              "#bd3786"
             ],
             [
              0.5555555555555556,
              "#d8576b"
             ],
             [
              0.6666666666666666,
              "#ed7953"
             ],
             [
              0.7777777777777778,
              "#fb9f3a"
             ],
             [
              0.8888888888888888,
              "#fdca26"
             ],
             [
              1,
              "#f0f921"
             ]
            ],
            "type": "heatmap"
           }
          ],
          "heatmapgl": [
           {
            "colorbar": {
             "outlinewidth": 0,
             "ticks": ""
            },
            "colorscale": [
             [
              0,
              "#0d0887"
             ],
             [
              0.1111111111111111,
              "#46039f"
             ],
             [
              0.2222222222222222,
              "#7201a8"
             ],
             [
              0.3333333333333333,
              "#9c179e"
             ],
             [
              0.4444444444444444,
              "#bd3786"
             ],
             [
              0.5555555555555556,
              "#d8576b"
             ],
             [
              0.6666666666666666,
              "#ed7953"
             ],
             [
              0.7777777777777778,
              "#fb9f3a"
             ],
             [
              0.8888888888888888,
              "#fdca26"
             ],
             [
              1,
              "#f0f921"
             ]
            ],
            "type": "heatmapgl"
           }
          ],
          "histogram": [
           {
            "marker": {
             "pattern": {
              "fillmode": "overlay",
              "size": 10,
              "solidity": 0.2
             }
            },
            "type": "histogram"
           }
          ],
          "histogram2d": [
           {
            "colorbar": {
             "outlinewidth": 0,
             "ticks": ""
            },
            "colorscale": [
             [
              0,
              "#0d0887"
             ],
             [
              0.1111111111111111,
              "#46039f"
             ],
             [
              0.2222222222222222,
              "#7201a8"
             ],
             [
              0.3333333333333333,
              "#9c179e"
             ],
             [
              0.4444444444444444,
              "#bd3786"
             ],
             [
              0.5555555555555556,
              "#d8576b"
             ],
             [
              0.6666666666666666,
              "#ed7953"
             ],
             [
              0.7777777777777778,
              "#fb9f3a"
             ],
             [
              0.8888888888888888,
              "#fdca26"
             ],
             [
              1,
              "#f0f921"
             ]
            ],
            "type": "histogram2d"
           }
          ],
          "histogram2dcontour": [
           {
            "colorbar": {
             "outlinewidth": 0,
             "ticks": ""
            },
            "colorscale": [
             [
              0,
              "#0d0887"
             ],
             [
              0.1111111111111111,
              "#46039f"
             ],
             [
              0.2222222222222222,
              "#7201a8"
             ],
             [
              0.3333333333333333,
              "#9c179e"
             ],
             [
              0.4444444444444444,
              "#bd3786"
             ],
             [
              0.5555555555555556,
              "#d8576b"
             ],
             [
              0.6666666666666666,
              "#ed7953"
             ],
             [
              0.7777777777777778,
              "#fb9f3a"
             ],
             [
              0.8888888888888888,
              "#fdca26"
             ],
             [
              1,
              "#f0f921"
             ]
            ],
            "type": "histogram2dcontour"
           }
          ],
          "mesh3d": [
           {
            "colorbar": {
             "outlinewidth": 0,
             "ticks": ""
            },
            "type": "mesh3d"
           }
          ],
          "parcoords": [
           {
            "line": {
             "colorbar": {
              "outlinewidth": 0,
              "ticks": ""
             }
            },
            "type": "parcoords"
           }
          ],
          "pie": [
           {
            "automargin": true,
            "type": "pie"
           }
          ],
          "scatter": [
           {
            "fillpattern": {
             "fillmode": "overlay",
             "size": 10,
             "solidity": 0.2
            },
            "type": "scatter"
           }
          ],
          "scatter3d": [
           {
            "line": {
             "colorbar": {
              "outlinewidth": 0,
              "ticks": ""
             }
            },
            "marker": {
             "colorbar": {
              "outlinewidth": 0,
              "ticks": ""
             }
            },
            "type": "scatter3d"
           }
          ],
          "scattercarpet": [
           {
            "marker": {
             "colorbar": {
              "outlinewidth": 0,
              "ticks": ""
             }
            },
            "type": "scattercarpet"
           }
          ],
          "scattergeo": [
           {
            "marker": {
             "colorbar": {
              "outlinewidth": 0,
              "ticks": ""
             }
            },
            "type": "scattergeo"
           }
          ],
          "scattergl": [
           {
            "marker": {
             "colorbar": {
              "outlinewidth": 0,
              "ticks": ""
             }
            },
            "type": "scattergl"
           }
          ],
          "scattermapbox": [
           {
            "marker": {
             "colorbar": {
              "outlinewidth": 0,
              "ticks": ""
             }
            },
            "type": "scattermapbox"
           }
          ],
          "scatterpolar": [
           {
            "marker": {
             "colorbar": {
              "outlinewidth": 0,
              "ticks": ""
             }
            },
            "type": "scatterpolar"
           }
          ],
          "scatterpolargl": [
           {
            "marker": {
             "colorbar": {
              "outlinewidth": 0,
              "ticks": ""
             }
            },
            "type": "scatterpolargl"
           }
          ],
          "scatterternary": [
           {
            "marker": {
             "colorbar": {
              "outlinewidth": 0,
              "ticks": ""
             }
            },
            "type": "scatterternary"
           }
          ],
          "surface": [
           {
            "colorbar": {
             "outlinewidth": 0,
             "ticks": ""
            },
            "colorscale": [
             [
              0,
              "#0d0887"
             ],
             [
              0.1111111111111111,
              "#46039f"
             ],
             [
              0.2222222222222222,
              "#7201a8"
             ],
             [
              0.3333333333333333,
              "#9c179e"
             ],
             [
              0.4444444444444444,
              "#bd3786"
             ],
             [
              0.5555555555555556,
              "#d8576b"
             ],
             [
              0.6666666666666666,
              "#ed7953"
             ],
             [
              0.7777777777777778,
              "#fb9f3a"
             ],
             [
              0.8888888888888888,
              "#fdca26"
             ],
             [
              1,
              "#f0f921"
             ]
            ],
            "type": "surface"
           }
          ],
          "table": [
           {
            "cells": {
             "fill": {
              "color": "#EBF0F8"
             },
             "line": {
              "color": "white"
             }
            },
            "header": {
             "fill": {
              "color": "#C8D4E3"
             },
             "line": {
              "color": "white"
             }
            },
            "type": "table"
           }
          ]
         },
         "layout": {
          "annotationdefaults": {
           "arrowcolor": "#2a3f5f",
           "arrowhead": 0,
           "arrowwidth": 1
          },
          "autotypenumbers": "strict",
          "coloraxis": {
           "colorbar": {
            "outlinewidth": 0,
            "ticks": ""
           }
          },
          "colorscale": {
           "diverging": [
            [
             0,
             "#8e0152"
            ],
            [
             0.1,
             "#c51b7d"
            ],
            [
             0.2,
             "#de77ae"
            ],
            [
             0.3,
             "#f1b6da"
            ],
            [
             0.4,
             "#fde0ef"
            ],
            [
             0.5,
             "#f7f7f7"
            ],
            [
             0.6,
             "#e6f5d0"
            ],
            [
             0.7,
             "#b8e186"
            ],
            [
             0.8,
             "#7fbc41"
            ],
            [
             0.9,
             "#4d9221"
            ],
            [
             1,
             "#276419"
            ]
           ],
           "sequential": [
            [
             0,
             "#0d0887"
            ],
            [
             0.1111111111111111,
             "#46039f"
            ],
            [
             0.2222222222222222,
             "#7201a8"
            ],
            [
             0.3333333333333333,
             "#9c179e"
            ],
            [
             0.4444444444444444,
             "#bd3786"
            ],
            [
             0.5555555555555556,
             "#d8576b"
            ],
            [
             0.6666666666666666,
             "#ed7953"
            ],
            [
             0.7777777777777778,
             "#fb9f3a"
            ],
            [
             0.8888888888888888,
             "#fdca26"
            ],
            [
             1,
             "#f0f921"
            ]
           ],
           "sequentialminus": [
            [
             0,
             "#0d0887"
            ],
            [
             0.1111111111111111,
             "#46039f"
            ],
            [
             0.2222222222222222,
             "#7201a8"
            ],
            [
             0.3333333333333333,
             "#9c179e"
            ],
            [
             0.4444444444444444,
             "#bd3786"
            ],
            [
             0.5555555555555556,
             "#d8576b"
            ],
            [
             0.6666666666666666,
             "#ed7953"
            ],
            [
             0.7777777777777778,
             "#fb9f3a"
            ],
            [
             0.8888888888888888,
             "#fdca26"
            ],
            [
             1,
             "#f0f921"
            ]
           ]
          },
          "colorway": [
           "#636efa",
           "#EF553B",
           "#00cc96",
           "#ab63fa",
           "#FFA15A",
           "#19d3f3",
           "#FF6692",
           "#B6E880",
           "#FF97FF",
           "#FECB52"
          ],
          "font": {
           "color": "#2a3f5f"
          },
          "geo": {
           "bgcolor": "white",
           "lakecolor": "white",
           "landcolor": "white",
           "showlakes": true,
           "showland": true,
           "subunitcolor": "#C8D4E3"
          },
          "hoverlabel": {
           "align": "left"
          },
          "hovermode": "closest",
          "mapbox": {
           "style": "light"
          },
          "paper_bgcolor": "white",
          "plot_bgcolor": "white",
          "polar": {
           "angularaxis": {
            "gridcolor": "#EBF0F8",
            "linecolor": "#EBF0F8",
            "ticks": ""
           },
           "bgcolor": "white",
           "radialaxis": {
            "gridcolor": "#EBF0F8",
            "linecolor": "#EBF0F8",
            "ticks": ""
           }
          },
          "scene": {
           "xaxis": {
            "backgroundcolor": "white",
            "gridcolor": "#DFE8F3",
            "gridwidth": 2,
            "linecolor": "#EBF0F8",
            "showbackground": true,
            "ticks": "",
            "zerolinecolor": "#EBF0F8"
           },
           "yaxis": {
            "backgroundcolor": "white",
            "gridcolor": "#DFE8F3",
            "gridwidth": 2,
            "linecolor": "#EBF0F8",
            "showbackground": true,
            "ticks": "",
            "zerolinecolor": "#EBF0F8"
           },
           "zaxis": {
            "backgroundcolor": "white",
            "gridcolor": "#DFE8F3",
            "gridwidth": 2,
            "linecolor": "#EBF0F8",
            "showbackground": true,
            "ticks": "",
            "zerolinecolor": "#EBF0F8"
           }
          },
          "shapedefaults": {
           "line": {
            "color": "#2a3f5f"
           }
          },
          "ternary": {
           "aaxis": {
            "gridcolor": "#DFE8F3",
            "linecolor": "#A2B1C6",
            "ticks": ""
           },
           "baxis": {
            "gridcolor": "#DFE8F3",
            "linecolor": "#A2B1C6",
            "ticks": ""
           },
           "bgcolor": "white",
           "caxis": {
            "gridcolor": "#DFE8F3",
            "linecolor": "#A2B1C6",
            "ticks": ""
           }
          },
          "title": {
           "x": 0.05
          },
          "xaxis": {
           "automargin": true,
           "gridcolor": "#EBF0F8",
           "linecolor": "#EBF0F8",
           "ticks": "",
           "title": {
            "standoff": 15
           },
           "zerolinecolor": "#EBF0F8",
           "zerolinewidth": 2
          },
          "yaxis": {
           "automargin": true,
           "gridcolor": "#EBF0F8",
           "linecolor": "#EBF0F8",
           "ticks": "",
           "title": {
            "standoff": 15
           },
           "zerolinecolor": "#EBF0F8",
           "zerolinewidth": 2
          }
         }
        },
        "title": {
         "text": "End Price for each Year Over Time (Filtered from 1995)"
        },
        "xaxis": {
         "range": [
          1995,
          2024
         ],
         "tickfont": {
          "size": 12
         },
         "tickmode": "linear",
         "title": {
          "text": "Year"
         }
        },
        "yaxis": {
         "tickfont": {
          "size": 12
         },
         "title": {
          "text": "End Price for the Year"
         }
        }
       }
      }
     },
     "metadata": {},
     "output_type": "display_data"
    },
    {
     "data": {
      "application/vnd.plotly.v1+json": {
       "config": {
        "plotlyServerURL": "https://plot.ly"
       },
       "data": [
        {
         "marker": {
          "color": [
           "green",
           "green",
           "green",
           "green",
           "green",
           "red",
           "red",
           "red",
           "green",
           "green",
           "green",
           "green",
           "green",
           "red",
           "green",
           "green",
           "green",
           "green",
           "green",
           "green",
           "green",
           "green",
           "green",
           "red",
           "green",
           "green",
           "green",
           "red",
           "green",
           "green"
          ]
         },
         "name": "Yearly Performance",
         "type": "bar",
         "x": [
          1995,
          1996,
          1997,
          1998,
          1999,
          2000,
          2001,
          2002,
          2003,
          2004,
          2005,
          2006,
          2007,
          2008,
          2009,
          2010,
          2011,
          2012,
          2013,
          2014,
          2015,
          2016,
          2017,
          2018,
          2019,
          2020,
          2021,
          2022,
          2023,
          2024
         ],
         "y": [
          37.389358718229445,
          21.203774679717206,
          33.13708651087727,
          28.03292897264422,
          20.664627889518677,
          -8.849394401483734,
          -10.131507552427042,
          -22.419480023352957,
          24.1843321537686,
          10.747714924403006,
          5.3248967724675005,
          13.842902593875085,
          5.332174639980123,
          -36.23676763726624,
          22.654698287994552,
          13.137352875222597,
          0.8523965369041908,
          14.170851343582036,
          29.00141114719274,
          14.561675148592176,
          1.2884879061516414,
          13.5857669699344,
          20.781431458074817,
          -5.247189166483379,
          31.087458730440805,
          17.23522116126249,
          30.50543907434221,
          -18.646410245680546,
          26.709228113417517,
          25.172302095207556
         ]
        },
        {
         "line": {
          "color": "blue",
          "dash": "dash",
          "width": 2
         },
         "mode": "lines",
         "name": "Average Performance",
         "type": "scatter",
         "x": [
          1995,
          1996,
          1997,
          1998,
          1999,
          2000,
          2001,
          2002,
          2003,
          2004,
          2005,
          2006,
          2007,
          2008,
          2009,
          2010,
          2011,
          2012,
          2013,
          2014,
          2015,
          2016,
          2017,
          2018,
          2019,
          2020,
          2021,
          2022,
          2023,
          2024
         ],
         "y": [
          11.969092322570232,
          11.969092322570232,
          11.969092322570232,
          11.969092322570232,
          11.969092322570232,
          11.969092322570232,
          11.969092322570232,
          11.969092322570232,
          11.969092322570232,
          11.969092322570232,
          11.969092322570232,
          11.969092322570232,
          11.969092322570232,
          11.969092322570232,
          11.969092322570232,
          11.969092322570232,
          11.969092322570232,
          11.969092322570232,
          11.969092322570232,
          11.969092322570232,
          11.969092322570232,
          11.969092322570232,
          11.969092322570232,
          11.969092322570232,
          11.969092322570232,
          11.969092322570232,
          11.969092322570232,
          11.969092322570232,
          11.969092322570232,
          11.969092322570232
         ]
        }
       ],
       "layout": {
        "legend": {
         "font": {
          "size": 12
         },
         "orientation": "h",
         "x": 0.5,
         "xanchor": "center",
         "y": -0.3,
         "yanchor": "bottom"
        },
        "template": {
         "data": {
          "bar": [
           {
            "error_x": {
             "color": "#2a3f5f"
            },
            "error_y": {
             "color": "#2a3f5f"
            },
            "marker": {
             "line": {
              "color": "white",
              "width": 0.5
             },
             "pattern": {
              "fillmode": "overlay",
              "size": 10,
              "solidity": 0.2
             }
            },
            "type": "bar"
           }
          ],
          "barpolar": [
           {
            "marker": {
             "line": {
              "color": "white",
              "width": 0.5
             },
             "pattern": {
              "fillmode": "overlay",
              "size": 10,
              "solidity": 0.2
             }
            },
            "type": "barpolar"
           }
          ],
          "carpet": [
           {
            "aaxis": {
             "endlinecolor": "#2a3f5f",
             "gridcolor": "#C8D4E3",
             "linecolor": "#C8D4E3",
             "minorgridcolor": "#C8D4E3",
             "startlinecolor": "#2a3f5f"
            },
            "baxis": {
             "endlinecolor": "#2a3f5f",
             "gridcolor": "#C8D4E3",
             "linecolor": "#C8D4E3",
             "minorgridcolor": "#C8D4E3",
             "startlinecolor": "#2a3f5f"
            },
            "type": "carpet"
           }
          ],
          "choropleth": [
           {
            "colorbar": {
             "outlinewidth": 0,
             "ticks": ""
            },
            "type": "choropleth"
           }
          ],
          "contour": [
           {
            "colorbar": {
             "outlinewidth": 0,
             "ticks": ""
            },
            "colorscale": [
             [
              0,
              "#0d0887"
             ],
             [
              0.1111111111111111,
              "#46039f"
             ],
             [
              0.2222222222222222,
              "#7201a8"
             ],
             [
              0.3333333333333333,
              "#9c179e"
             ],
             [
              0.4444444444444444,
              "#bd3786"
             ],
             [
              0.5555555555555556,
              "#d8576b"
             ],
             [
              0.6666666666666666,
              "#ed7953"
             ],
             [
              0.7777777777777778,
              "#fb9f3a"
             ],
             [
              0.8888888888888888,
              "#fdca26"
             ],
             [
              1,
              "#f0f921"
             ]
            ],
            "type": "contour"
           }
          ],
          "contourcarpet": [
           {
            "colorbar": {
             "outlinewidth": 0,
             "ticks": ""
            },
            "type": "contourcarpet"
           }
          ],
          "heatmap": [
           {
            "colorbar": {
             "outlinewidth": 0,
             "ticks": ""
            },
            "colorscale": [
             [
              0,
              "#0d0887"
             ],
             [
              0.1111111111111111,
              "#46039f"
             ],
             [
              0.2222222222222222,
              "#7201a8"
             ],
             [
              0.3333333333333333,
              "#9c179e"
             ],
             [
              0.4444444444444444,
              "#bd3786"
             ],
             [
              0.5555555555555556,
              "#d8576b"
             ],
             [
              0.6666666666666666,
              "#ed7953"
             ],
             [
              0.7777777777777778,
              "#fb9f3a"
             ],
             [
              0.8888888888888888,
              "#fdca26"
             ],
             [
              1,
              "#f0f921"
             ]
            ],
            "type": "heatmap"
           }
          ],
          "heatmapgl": [
           {
            "colorbar": {
             "outlinewidth": 0,
             "ticks": ""
            },
            "colorscale": [
             [
              0,
              "#0d0887"
             ],
             [
              0.1111111111111111,
              "#46039f"
             ],
             [
              0.2222222222222222,
              "#7201a8"
             ],
             [
              0.3333333333333333,
              "#9c179e"
             ],
             [
              0.4444444444444444,
              "#bd3786"
             ],
             [
              0.5555555555555556,
              "#d8576b"
             ],
             [
              0.6666666666666666,
              "#ed7953"
             ],
             [
              0.7777777777777778,
              "#fb9f3a"
             ],
             [
              0.8888888888888888,
              "#fdca26"
             ],
             [
              1,
              "#f0f921"
             ]
            ],
            "type": "heatmapgl"
           }
          ],
          "histogram": [
           {
            "marker": {
             "pattern": {
              "fillmode": "overlay",
              "size": 10,
              "solidity": 0.2
             }
            },
            "type": "histogram"
           }
          ],
          "histogram2d": [
           {
            "colorbar": {
             "outlinewidth": 0,
             "ticks": ""
            },
            "colorscale": [
             [
              0,
              "#0d0887"
             ],
             [
              0.1111111111111111,
              "#46039f"
             ],
             [
              0.2222222222222222,
              "#7201a8"
             ],
             [
              0.3333333333333333,
              "#9c179e"
             ],
             [
              0.4444444444444444,
              "#bd3786"
             ],
             [
              0.5555555555555556,
              "#d8576b"
             ],
             [
              0.6666666666666666,
              "#ed7953"
             ],
             [
              0.7777777777777778,
              "#fb9f3a"
             ],
             [
              0.8888888888888888,
              "#fdca26"
             ],
             [
              1,
              "#f0f921"
             ]
            ],
            "type": "histogram2d"
           }
          ],
          "histogram2dcontour": [
           {
            "colorbar": {
             "outlinewidth": 0,
             "ticks": ""
            },
            "colorscale": [
             [
              0,
              "#0d0887"
             ],
             [
              0.1111111111111111,
              "#46039f"
             ],
             [
              0.2222222222222222,
              "#7201a8"
             ],
             [
              0.3333333333333333,
              "#9c179e"
             ],
             [
              0.4444444444444444,
              "#bd3786"
             ],
             [
              0.5555555555555556,
              "#d8576b"
             ],
             [
              0.6666666666666666,
              "#ed7953"
             ],
             [
              0.7777777777777778,
              "#fb9f3a"
             ],
             [
              0.8888888888888888,
              "#fdca26"
             ],
             [
              1,
              "#f0f921"
             ]
            ],
            "type": "histogram2dcontour"
           }
          ],
          "mesh3d": [
           {
            "colorbar": {
             "outlinewidth": 0,
             "ticks": ""
            },
            "type": "mesh3d"
           }
          ],
          "parcoords": [
           {
            "line": {
             "colorbar": {
              "outlinewidth": 0,
              "ticks": ""
             }
            },
            "type": "parcoords"
           }
          ],
          "pie": [
           {
            "automargin": true,
            "type": "pie"
           }
          ],
          "scatter": [
           {
            "fillpattern": {
             "fillmode": "overlay",
             "size": 10,
             "solidity": 0.2
            },
            "type": "scatter"
           }
          ],
          "scatter3d": [
           {
            "line": {
             "colorbar": {
              "outlinewidth": 0,
              "ticks": ""
             }
            },
            "marker": {
             "colorbar": {
              "outlinewidth": 0,
              "ticks": ""
             }
            },
            "type": "scatter3d"
           }
          ],
          "scattercarpet": [
           {
            "marker": {
             "colorbar": {
              "outlinewidth": 0,
              "ticks": ""
             }
            },
            "type": "scattercarpet"
           }
          ],
          "scattergeo": [
           {
            "marker": {
             "colorbar": {
              "outlinewidth": 0,
              "ticks": ""
             }
            },
            "type": "scattergeo"
           }
          ],
          "scattergl": [
           {
            "marker": {
             "colorbar": {
              "outlinewidth": 0,
              "ticks": ""
             }
            },
            "type": "scattergl"
           }
          ],
          "scattermapbox": [
           {
            "marker": {
             "colorbar": {
              "outlinewidth": 0,
              "ticks": ""
             }
            },
            "type": "scattermapbox"
           }
          ],
          "scatterpolar": [
           {
            "marker": {
             "colorbar": {
              "outlinewidth": 0,
              "ticks": ""
             }
            },
            "type": "scatterpolar"
           }
          ],
          "scatterpolargl": [
           {
            "marker": {
             "colorbar": {
              "outlinewidth": 0,
              "ticks": ""
             }
            },
            "type": "scatterpolargl"
           }
          ],
          "scatterternary": [
           {
            "marker": {
             "colorbar": {
              "outlinewidth": 0,
              "ticks": ""
             }
            },
            "type": "scatterternary"
           }
          ],
          "surface": [
           {
            "colorbar": {
             "outlinewidth": 0,
             "ticks": ""
            },
            "colorscale": [
             [
              0,
              "#0d0887"
             ],
             [
              0.1111111111111111,
              "#46039f"
             ],
             [
              0.2222222222222222,
              "#7201a8"
             ],
             [
              0.3333333333333333,
              "#9c179e"
             ],
             [
              0.4444444444444444,
              "#bd3786"
             ],
             [
              0.5555555555555556,
              "#d8576b"
             ],
             [
              0.6666666666666666,
              "#ed7953"
             ],
             [
              0.7777777777777778,
              "#fb9f3a"
             ],
             [
              0.8888888888888888,
              "#fdca26"
             ],
             [
              1,
              "#f0f921"
             ]
            ],
            "type": "surface"
           }
          ],
          "table": [
           {
            "cells": {
             "fill": {
              "color": "#EBF0F8"
             },
             "line": {
              "color": "white"
             }
            },
            "header": {
             "fill": {
              "color": "#C8D4E3"
             },
             "line": {
              "color": "white"
             }
            },
            "type": "table"
           }
          ]
         },
         "layout": {
          "annotationdefaults": {
           "arrowcolor": "#2a3f5f",
           "arrowhead": 0,
           "arrowwidth": 1
          },
          "autotypenumbers": "strict",
          "coloraxis": {
           "colorbar": {
            "outlinewidth": 0,
            "ticks": ""
           }
          },
          "colorscale": {
           "diverging": [
            [
             0,
             "#8e0152"
            ],
            [
             0.1,
             "#c51b7d"
            ],
            [
             0.2,
             "#de77ae"
            ],
            [
             0.3,
             "#f1b6da"
            ],
            [
             0.4,
             "#fde0ef"
            ],
            [
             0.5,
             "#f7f7f7"
            ],
            [
             0.6,
             "#e6f5d0"
            ],
            [
             0.7,
             "#b8e186"
            ],
            [
             0.8,
             "#7fbc41"
            ],
            [
             0.9,
             "#4d9221"
            ],
            [
             1,
             "#276419"
            ]
           ],
           "sequential": [
            [
             0,
             "#0d0887"
            ],
            [
             0.1111111111111111,
             "#46039f"
            ],
            [
             0.2222222222222222,
             "#7201a8"
            ],
            [
             0.3333333333333333,
             "#9c179e"
            ],
            [
             0.4444444444444444,
             "#bd3786"
            ],
            [
             0.5555555555555556,
             "#d8576b"
            ],
            [
             0.6666666666666666,
             "#ed7953"
            ],
            [
             0.7777777777777778,
             "#fb9f3a"
            ],
            [
             0.8888888888888888,
             "#fdca26"
            ],
            [
             1,
             "#f0f921"
            ]
           ],
           "sequentialminus": [
            [
             0,
             "#0d0887"
            ],
            [
             0.1111111111111111,
             "#46039f"
            ],
            [
             0.2222222222222222,
             "#7201a8"
            ],
            [
             0.3333333333333333,
             "#9c179e"
            ],
            [
             0.4444444444444444,
             "#bd3786"
            ],
            [
             0.5555555555555556,
             "#d8576b"
            ],
            [
             0.6666666666666666,
             "#ed7953"
            ],
            [
             0.7777777777777778,
             "#fb9f3a"
            ],
            [
             0.8888888888888888,
             "#fdca26"
            ],
            [
             1,
             "#f0f921"
            ]
           ]
          },
          "colorway": [
           "#636efa",
           "#EF553B",
           "#00cc96",
           "#ab63fa",
           "#FFA15A",
           "#19d3f3",
           "#FF6692",
           "#B6E880",
           "#FF97FF",
           "#FECB52"
          ],
          "font": {
           "color": "#2a3f5f"
          },
          "geo": {
           "bgcolor": "white",
           "lakecolor": "white",
           "landcolor": "white",
           "showlakes": true,
           "showland": true,
           "subunitcolor": "#C8D4E3"
          },
          "hoverlabel": {
           "align": "left"
          },
          "hovermode": "closest",
          "mapbox": {
           "style": "light"
          },
          "paper_bgcolor": "white",
          "plot_bgcolor": "white",
          "polar": {
           "angularaxis": {
            "gridcolor": "#EBF0F8",
            "linecolor": "#EBF0F8",
            "ticks": ""
           },
           "bgcolor": "white",
           "radialaxis": {
            "gridcolor": "#EBF0F8",
            "linecolor": "#EBF0F8",
            "ticks": ""
           }
          },
          "scene": {
           "xaxis": {
            "backgroundcolor": "white",
            "gridcolor": "#DFE8F3",
            "gridwidth": 2,
            "linecolor": "#EBF0F8",
            "showbackground": true,
            "ticks": "",
            "zerolinecolor": "#EBF0F8"
           },
           "yaxis": {
            "backgroundcolor": "white",
            "gridcolor": "#DFE8F3",
            "gridwidth": 2,
            "linecolor": "#EBF0F8",
            "showbackground": true,
            "ticks": "",
            "zerolinecolor": "#EBF0F8"
           },
           "zaxis": {
            "backgroundcolor": "white",
            "gridcolor": "#DFE8F3",
            "gridwidth": 2,
            "linecolor": "#EBF0F8",
            "showbackground": true,
            "ticks": "",
            "zerolinecolor": "#EBF0F8"
           }
          },
          "shapedefaults": {
           "line": {
            "color": "#2a3f5f"
           }
          },
          "ternary": {
           "aaxis": {
            "gridcolor": "#DFE8F3",
            "linecolor": "#A2B1C6",
            "ticks": ""
           },
           "baxis": {
            "gridcolor": "#DFE8F3",
            "linecolor": "#A2B1C6",
            "ticks": ""
           },
           "bgcolor": "white",
           "caxis": {
            "gridcolor": "#DFE8F3",
            "linecolor": "#A2B1C6",
            "ticks": ""
           }
          },
          "title": {
           "x": 0.05
          },
          "xaxis": {
           "automargin": true,
           "gridcolor": "#EBF0F8",
           "linecolor": "#EBF0F8",
           "ticks": "",
           "title": {
            "standoff": 15
           },
           "zerolinecolor": "#EBF0F8",
           "zerolinewidth": 2
          },
          "yaxis": {
           "automargin": true,
           "gridcolor": "#EBF0F8",
           "linecolor": "#EBF0F8",
           "ticks": "",
           "title": {
            "standoff": 15
           },
           "zerolinecolor": "#EBF0F8",
           "zerolinewidth": 2
          }
         }
        },
        "title": {
         "text": "Yearly Performance with Average Line"
        },
        "xaxis": {
         "tickfont": {
          "size": 12
         },
         "tickmode": "linear",
         "title": {
          "text": "Year"
         }
        },
        "yaxis": {
         "tickfont": {
          "size": 12
         },
         "title": {
          "text": "Performance (%)"
         }
        }
       }
      }
     },
     "metadata": {},
     "output_type": "display_data"
    },
    {
     "data": {
      "application/vnd.plotly.v1+json": {
       "config": {
        "plotlyServerURL": "https://plot.ly"
       },
       "data": [
        {
         "line": {
          "color": "red",
          "dash": "dash",
          "width": 2
         },
         "mode": "lines+markers",
         "name": "Annual Std Dev",
         "type": "scatter",
         "x": [
          1995,
          1996,
          1997,
          1998,
          1999,
          2000,
          2001,
          2002,
          2003,
          2004,
          2005,
          2006,
          2007,
          2008,
          2009,
          2010,
          2011,
          2012,
          2013,
          2014,
          2015,
          2016,
          2017,
          2018,
          2019,
          2020,
          2021,
          2022,
          2023,
          2024
         ],
         "y": [
          2.9378418627760063,
          2.542435740284041,
          4.935257226725443,
          4.350745725960124,
          3.8687408419908884,
          3.5847799303102796,
          5.417579791442453,
          7.242394698473595,
          5.560086119517922,
          2.317994554379815,
          2.3739637208807736,
          4.007491976089711,
          3.4900044104923125,
          13.590748696582066,
          9.123415562035168,
          4.548723934610164,
          4.559855657500087,
          4.197443549552346,
          8.864839527371956,
          7.460123663039332,
          4.516114538302437,
          9.753652864279946,
          10.845586978689036,
          9.173294261984294,
          15.151646155922352,
          30.90385828935724,
          28.785145182664554,
          26.66354920954392,
          24.11287417940495,
          37.75921912581358
         ]
        }
       ],
       "layout": {
        "legend": {
         "font": {
          "size": 12
         }
        },
        "template": {
         "data": {
          "bar": [
           {
            "error_x": {
             "color": "#2a3f5f"
            },
            "error_y": {
             "color": "#2a3f5f"
            },
            "marker": {
             "line": {
              "color": "white",
              "width": 0.5
             },
             "pattern": {
              "fillmode": "overlay",
              "size": 10,
              "solidity": 0.2
             }
            },
            "type": "bar"
           }
          ],
          "barpolar": [
           {
            "marker": {
             "line": {
              "color": "white",
              "width": 0.5
             },
             "pattern": {
              "fillmode": "overlay",
              "size": 10,
              "solidity": 0.2
             }
            },
            "type": "barpolar"
           }
          ],
          "carpet": [
           {
            "aaxis": {
             "endlinecolor": "#2a3f5f",
             "gridcolor": "#C8D4E3",
             "linecolor": "#C8D4E3",
             "minorgridcolor": "#C8D4E3",
             "startlinecolor": "#2a3f5f"
            },
            "baxis": {
             "endlinecolor": "#2a3f5f",
             "gridcolor": "#C8D4E3",
             "linecolor": "#C8D4E3",
             "minorgridcolor": "#C8D4E3",
             "startlinecolor": "#2a3f5f"
            },
            "type": "carpet"
           }
          ],
          "choropleth": [
           {
            "colorbar": {
             "outlinewidth": 0,
             "ticks": ""
            },
            "type": "choropleth"
           }
          ],
          "contour": [
           {
            "colorbar": {
             "outlinewidth": 0,
             "ticks": ""
            },
            "colorscale": [
             [
              0,
              "#0d0887"
             ],
             [
              0.1111111111111111,
              "#46039f"
             ],
             [
              0.2222222222222222,
              "#7201a8"
             ],
             [
              0.3333333333333333,
              "#9c179e"
             ],
             [
              0.4444444444444444,
              "#bd3786"
             ],
             [
              0.5555555555555556,
              "#d8576b"
             ],
             [
              0.6666666666666666,
              "#ed7953"
             ],
             [
              0.7777777777777778,
              "#fb9f3a"
             ],
             [
              0.8888888888888888,
              "#fdca26"
             ],
             [
              1,
              "#f0f921"
             ]
            ],
            "type": "contour"
           }
          ],
          "contourcarpet": [
           {
            "colorbar": {
             "outlinewidth": 0,
             "ticks": ""
            },
            "type": "contourcarpet"
           }
          ],
          "heatmap": [
           {
            "colorbar": {
             "outlinewidth": 0,
             "ticks": ""
            },
            "colorscale": [
             [
              0,
              "#0d0887"
             ],
             [
              0.1111111111111111,
              "#46039f"
             ],
             [
              0.2222222222222222,
              "#7201a8"
             ],
             [
              0.3333333333333333,
              "#9c179e"
             ],
             [
              0.4444444444444444,
              "#bd3786"
             ],
             [
              0.5555555555555556,
              "#d8576b"
             ],
             [
              0.6666666666666666,
              "#ed7953"
             ],
             [
              0.7777777777777778,
              "#fb9f3a"
             ],
             [
              0.8888888888888888,
              "#fdca26"
             ],
             [
              1,
              "#f0f921"
             ]
            ],
            "type": "heatmap"
           }
          ],
          "heatmapgl": [
           {
            "colorbar": {
             "outlinewidth": 0,
             "ticks": ""
            },
            "colorscale": [
             [
              0,
              "#0d0887"
             ],
             [
              0.1111111111111111,
              "#46039f"
             ],
             [
              0.2222222222222222,
              "#7201a8"
             ],
             [
              0.3333333333333333,
              "#9c179e"
             ],
             [
              0.4444444444444444,
              "#bd3786"
             ],
             [
              0.5555555555555556,
              "#d8576b"
             ],
             [
              0.6666666666666666,
              "#ed7953"
             ],
             [
              0.7777777777777778,
              "#fb9f3a"
             ],
             [
              0.8888888888888888,
              "#fdca26"
             ],
             [
              1,
              "#f0f921"
             ]
            ],
            "type": "heatmapgl"
           }
          ],
          "histogram": [
           {
            "marker": {
             "pattern": {
              "fillmode": "overlay",
              "size": 10,
              "solidity": 0.2
             }
            },
            "type": "histogram"
           }
          ],
          "histogram2d": [
           {
            "colorbar": {
             "outlinewidth": 0,
             "ticks": ""
            },
            "colorscale": [
             [
              0,
              "#0d0887"
             ],
             [
              0.1111111111111111,
              "#46039f"
             ],
             [
              0.2222222222222222,
              "#7201a8"
             ],
             [
              0.3333333333333333,
              "#9c179e"
             ],
             [
              0.4444444444444444,
              "#bd3786"
             ],
             [
              0.5555555555555556,
              "#d8576b"
             ],
             [
              0.6666666666666666,
              "#ed7953"
             ],
             [
              0.7777777777777778,
              "#fb9f3a"
             ],
             [
              0.8888888888888888,
              "#fdca26"
             ],
             [
              1,
              "#f0f921"
             ]
            ],
            "type": "histogram2d"
           }
          ],
          "histogram2dcontour": [
           {
            "colorbar": {
             "outlinewidth": 0,
             "ticks": ""
            },
            "colorscale": [
             [
              0,
              "#0d0887"
             ],
             [
              0.1111111111111111,
              "#46039f"
             ],
             [
              0.2222222222222222,
              "#7201a8"
             ],
             [
              0.3333333333333333,
              "#9c179e"
             ],
             [
              0.4444444444444444,
              "#bd3786"
             ],
             [
              0.5555555555555556,
              "#d8576b"
             ],
             [
              0.6666666666666666,
              "#ed7953"
             ],
             [
              0.7777777777777778,
              "#fb9f3a"
             ],
             [
              0.8888888888888888,
              "#fdca26"
             ],
             [
              1,
              "#f0f921"
             ]
            ],
            "type": "histogram2dcontour"
           }
          ],
          "mesh3d": [
           {
            "colorbar": {
             "outlinewidth": 0,
             "ticks": ""
            },
            "type": "mesh3d"
           }
          ],
          "parcoords": [
           {
            "line": {
             "colorbar": {
              "outlinewidth": 0,
              "ticks": ""
             }
            },
            "type": "parcoords"
           }
          ],
          "pie": [
           {
            "automargin": true,
            "type": "pie"
           }
          ],
          "scatter": [
           {
            "fillpattern": {
             "fillmode": "overlay",
             "size": 10,
             "solidity": 0.2
            },
            "type": "scatter"
           }
          ],
          "scatter3d": [
           {
            "line": {
             "colorbar": {
              "outlinewidth": 0,
              "ticks": ""
             }
            },
            "marker": {
             "colorbar": {
              "outlinewidth": 0,
              "ticks": ""
             }
            },
            "type": "scatter3d"
           }
          ],
          "scattercarpet": [
           {
            "marker": {
             "colorbar": {
              "outlinewidth": 0,
              "ticks": ""
             }
            },
            "type": "scattercarpet"
           }
          ],
          "scattergeo": [
           {
            "marker": {
             "colorbar": {
              "outlinewidth": 0,
              "ticks": ""
             }
            },
            "type": "scattergeo"
           }
          ],
          "scattergl": [
           {
            "marker": {
             "colorbar": {
              "outlinewidth": 0,
              "ticks": ""
             }
            },
            "type": "scattergl"
           }
          ],
          "scattermapbox": [
           {
            "marker": {
             "colorbar": {
              "outlinewidth": 0,
              "ticks": ""
             }
            },
            "type": "scattermapbox"
           }
          ],
          "scatterpolar": [
           {
            "marker": {
             "colorbar": {
              "outlinewidth": 0,
              "ticks": ""
             }
            },
            "type": "scatterpolar"
           }
          ],
          "scatterpolargl": [
           {
            "marker": {
             "colorbar": {
              "outlinewidth": 0,
              "ticks": ""
             }
            },
            "type": "scatterpolargl"
           }
          ],
          "scatterternary": [
           {
            "marker": {
             "colorbar": {
              "outlinewidth": 0,
              "ticks": ""
             }
            },
            "type": "scatterternary"
           }
          ],
          "surface": [
           {
            "colorbar": {
             "outlinewidth": 0,
             "ticks": ""
            },
            "colorscale": [
             [
              0,
              "#0d0887"
             ],
             [
              0.1111111111111111,
              "#46039f"
             ],
             [
              0.2222222222222222,
              "#7201a8"
             ],
             [
              0.3333333333333333,
              "#9c179e"
             ],
             [
              0.4444444444444444,
              "#bd3786"
             ],
             [
              0.5555555555555556,
              "#d8576b"
             ],
             [
              0.6666666666666666,
              "#ed7953"
             ],
             [
              0.7777777777777778,
              "#fb9f3a"
             ],
             [
              0.8888888888888888,
              "#fdca26"
             ],
             [
              1,
              "#f0f921"
             ]
            ],
            "type": "surface"
           }
          ],
          "table": [
           {
            "cells": {
             "fill": {
              "color": "#EBF0F8"
             },
             "line": {
              "color": "white"
             }
            },
            "header": {
             "fill": {
              "color": "#C8D4E3"
             },
             "line": {
              "color": "white"
             }
            },
            "type": "table"
           }
          ]
         },
         "layout": {
          "annotationdefaults": {
           "arrowcolor": "#2a3f5f",
           "arrowhead": 0,
           "arrowwidth": 1
          },
          "autotypenumbers": "strict",
          "coloraxis": {
           "colorbar": {
            "outlinewidth": 0,
            "ticks": ""
           }
          },
          "colorscale": {
           "diverging": [
            [
             0,
             "#8e0152"
            ],
            [
             0.1,
             "#c51b7d"
            ],
            [
             0.2,
             "#de77ae"
            ],
            [
             0.3,
             "#f1b6da"
            ],
            [
             0.4,
             "#fde0ef"
            ],
            [
             0.5,
             "#f7f7f7"
            ],
            [
             0.6,
             "#e6f5d0"
            ],
            [
             0.7,
             "#b8e186"
            ],
            [
             0.8,
             "#7fbc41"
            ],
            [
             0.9,
             "#4d9221"
            ],
            [
             1,
             "#276419"
            ]
           ],
           "sequential": [
            [
             0,
             "#0d0887"
            ],
            [
             0.1111111111111111,
             "#46039f"
            ],
            [
             0.2222222222222222,
             "#7201a8"
            ],
            [
             0.3333333333333333,
             "#9c179e"
            ],
            [
             0.4444444444444444,
             "#bd3786"
            ],
            [
             0.5555555555555556,
             "#d8576b"
            ],
            [
             0.6666666666666666,
             "#ed7953"
            ],
            [
             0.7777777777777778,
             "#fb9f3a"
            ],
            [
             0.8888888888888888,
             "#fdca26"
            ],
            [
             1,
             "#f0f921"
            ]
           ],
           "sequentialminus": [
            [
             0,
             "#0d0887"
            ],
            [
             0.1111111111111111,
             "#46039f"
            ],
            [
             0.2222222222222222,
             "#7201a8"
            ],
            [
             0.3333333333333333,
             "#9c179e"
            ],
            [
             0.4444444444444444,
             "#bd3786"
            ],
            [
             0.5555555555555556,
             "#d8576b"
            ],
            [
             0.6666666666666666,
             "#ed7953"
            ],
            [
             0.7777777777777778,
             "#fb9f3a"
            ],
            [
             0.8888888888888888,
             "#fdca26"
            ],
            [
             1,
             "#f0f921"
            ]
           ]
          },
          "colorway": [
           "#636efa",
           "#EF553B",
           "#00cc96",
           "#ab63fa",
           "#FFA15A",
           "#19d3f3",
           "#FF6692",
           "#B6E880",
           "#FF97FF",
           "#FECB52"
          ],
          "font": {
           "color": "#2a3f5f"
          },
          "geo": {
           "bgcolor": "white",
           "lakecolor": "white",
           "landcolor": "white",
           "showlakes": true,
           "showland": true,
           "subunitcolor": "#C8D4E3"
          },
          "hoverlabel": {
           "align": "left"
          },
          "hovermode": "closest",
          "mapbox": {
           "style": "light"
          },
          "paper_bgcolor": "white",
          "plot_bgcolor": "white",
          "polar": {
           "angularaxis": {
            "gridcolor": "#EBF0F8",
            "linecolor": "#EBF0F8",
            "ticks": ""
           },
           "bgcolor": "white",
           "radialaxis": {
            "gridcolor": "#EBF0F8",
            "linecolor": "#EBF0F8",
            "ticks": ""
           }
          },
          "scene": {
           "xaxis": {
            "backgroundcolor": "white",
            "gridcolor": "#DFE8F3",
            "gridwidth": 2,
            "linecolor": "#EBF0F8",
            "showbackground": true,
            "ticks": "",
            "zerolinecolor": "#EBF0F8"
           },
           "yaxis": {
            "backgroundcolor": "white",
            "gridcolor": "#DFE8F3",
            "gridwidth": 2,
            "linecolor": "#EBF0F8",
            "showbackground": true,
            "ticks": "",
            "zerolinecolor": "#EBF0F8"
           },
           "zaxis": {
            "backgroundcolor": "white",
            "gridcolor": "#DFE8F3",
            "gridwidth": 2,
            "linecolor": "#EBF0F8",
            "showbackground": true,
            "ticks": "",
            "zerolinecolor": "#EBF0F8"
           }
          },
          "shapedefaults": {
           "line": {
            "color": "#2a3f5f"
           }
          },
          "ternary": {
           "aaxis": {
            "gridcolor": "#DFE8F3",
            "linecolor": "#A2B1C6",
            "ticks": ""
           },
           "baxis": {
            "gridcolor": "#DFE8F3",
            "linecolor": "#A2B1C6",
            "ticks": ""
           },
           "bgcolor": "white",
           "caxis": {
            "gridcolor": "#DFE8F3",
            "linecolor": "#A2B1C6",
            "ticks": ""
           }
          },
          "title": {
           "x": 0.05
          },
          "xaxis": {
           "automargin": true,
           "gridcolor": "#EBF0F8",
           "linecolor": "#EBF0F8",
           "ticks": "",
           "title": {
            "standoff": 15
           },
           "zerolinecolor": "#EBF0F8",
           "zerolinewidth": 2
          },
          "yaxis": {
           "automargin": true,
           "gridcolor": "#EBF0F8",
           "linecolor": "#EBF0F8",
           "ticks": "",
           "title": {
            "standoff": 15
           },
           "zerolinecolor": "#EBF0F8",
           "zerolinewidth": 2
          }
         }
        },
        "title": {
         "text": "Annual Std Dev Oscillator (Filtered from 1995)"
        },
        "xaxis": {
         "range": [
          1995,
          2024
         ],
         "tickfont": {
          "size": 12
         },
         "tickmode": "linear",
         "title": {
          "text": "Year"
         }
        },
        "yaxis": {
         "tickfont": {
          "size": 12
         },
         "title": {
          "text": "Annual Std Dev"
         }
        }
       }
      }
     },
     "metadata": {},
     "output_type": "display_data"
    }
   ],
   "source": [
    "# ---- Figure 1: Line Chart for Start Price (Filtered) \n",
    "fig1_filtered = go.Figure()\n",
    "\n",
    "fig1_filtered.add_trace(go.Scatter(\n",
    "    x=filtered_data['Year'],\n",
    "    y=filtered_data['End Price'],\n",
    "    mode='lines+markers',\n",
    "    name='End Price for the Year',\n",
    "    line=dict(width=2)\n",
    "))\n",
    "\n",
    "fig1_filtered.update_layout(\n",
    "    title=\"End Price for each Year Over Time (Filtered from 1995)\",\n",
    "    xaxis=dict(\n",
    "        title=\"Year\",\n",
    "        tickmode='linear',\n",
    "        tickfont=dict(size=12),\n",
    "        range=[1995, filtered_data['Year'].max()]  # Explicitly set the range\n",
    "    ),\n",
    "    yaxis=dict(title=\"End Price for the Year\", tickfont=dict(size=12)),\n",
    "    template=\"plotly_white\",\n",
    "    legend=dict(font=dict(size=12))\n",
    ")\n",
    "\n",
    "# ---- Figure 2: Bar Chart for Yearly Performance \n",
    "average_performance = yearly_summary['Yearly Performance (%)'].mean()\n",
    "\n",
    "fig2 = go.Figure()\n",
    "\n",
    "fig2.add_trace(go.Bar(\n",
    "    x=yearly_summary['Year'],\n",
    "    y=yearly_summary['Yearly Performance (%)'],\n",
    "    marker=dict(\n",
    "        color=[\"green\" if val >= 0 else \"red\" for val in yearly_summary['Yearly Performance (%)']]\n",
    "    ),\n",
    "    name='Yearly Performance',\n",
    "))\n",
    "\n",
    "fig2.add_trace(go.Scatter(\n",
    "    x=yearly_summary['Year'],\n",
    "    y=[average_performance] * len(yearly_summary),\n",
    "    mode='lines',\n",
    "    name='Average Performance',\n",
    "    line=dict(color='blue', dash='dash', width=2)\n",
    "))\n",
    "\n",
    "fig2.update_layout(\n",
    "    title=\"Yearly Performance with Average Line\",\n",
    "    xaxis=dict(title=\"Year\", tickmode='linear', tickfont=dict(size=12)),\n",
    "    yaxis=dict(title=\"Performance (%)\", tickfont=dict(size=12)),\n",
    "    template=\"plotly_white\",\n",
    "    legend=dict(\n",
    "        orientation=\"h\",\n",
    "        yanchor=\"bottom\",\n",
    "        y=-0.3,\n",
    "        xanchor=\"center\",\n",
    "        x=0.5,\n",
    "        font=dict(size=12)\n",
    "    )\n",
    ")\n",
    "\n",
    "# ---- Figure 3: Line Chart for Annual Std Dev (Filtered) \n",
    "fig3_filtered = go.Figure()\n",
    "\n",
    "fig3_filtered.add_trace(go.Scatter(\n",
    "    x=filtered_data['Year'],\n",
    "    y=filtered_data['Annual Std Dev'],\n",
    "    mode='lines+markers',\n",
    "    name='Annual Std Dev',\n",
    "    line=dict(color='red', dash='dash', width=2)\n",
    "))\n",
    "\n",
    "fig3_filtered.update_layout(\n",
    "    title=\"Annual Std Dev Oscillator (Filtered from 1995)\",\n",
    "    xaxis=dict(\n",
    "        title=\"Year\",\n",
    "        tickmode='linear',\n",
    "        tickfont=dict(size=12),\n",
    "        range=[1995, filtered_data['Year'].max()]  # Explicitly set the range\n",
    "    ),\n",
    "    yaxis=dict(title=\"Annual Std Dev\", tickfont=dict(size=12)),\n",
    "    template=\"plotly_white\",\n",
    "    legend=dict(font=dict(size=12))\n",
    ")\n",
    "\n",
    "fig1_filtered.show()\n",
    "fig2.show()\n",
    "fig3_filtered.show()"
   ]
  },
  {
   "cell_type": "markdown",
   "metadata": {},
   "source": [
    "------------------------------------------------------------------------------------------------------------------------------------------------------------"
   ]
  },
  {
   "cell_type": "markdown",
   "metadata": {},
   "source": [
    "### **Conclusion:**\n",
    "\n",
    "### **Next Steps:**"
   ]
  },
  {
   "cell_type": "markdown",
   "metadata": {},
   "source": [
    "-------------------------------------------------------------------------------------------------------------------------------------------------------------"
   ]
  },
  {
   "cell_type": "markdown",
   "metadata": {},
   "source": [
    "## **Section 2: Feature Engineering on SPY Dataframe**"
   ]
  },
  {
   "cell_type": "markdown",
   "metadata": {},
   "source": [
    "**All these new fields were designed to look at price and volume in the short term.** \n",
    "1. 14-day ATR - This is an additional measure of volatility.\n",
    "2. Varies EMA calculations\n",
    "3. Used each EMA to calculate distance to price\n",
    "4. Volume 20-day moving average \n",
    "\n",
    "**The original goal of this analysis was to:**\n",
    "\n",
    "a. Analyze EMAs and how to use them to improve performance\n",
    "\n",
    "b. Take a look at the distance between EMAs and their distance to price. EMAs distance to price can indicate over expansion. Therefore, I wanted to use them to understand how they can be used to analyze future performance. \n"
   ]
  },
  {
   "cell_type": "code",
   "execution_count": 724,
   "metadata": {
    "id": "F_PxmceDRevz"
   },
   "outputs": [],
   "source": [
    "# Step 1: 14-day ATR\n",
    "def calculate_atr(data, n=14):\n",
    "    data['High-Low'] = data['High'] - data['Low']\n",
    "    data['High-Close'] = (data['High'] - data['Close'].shift(1)).abs()\n",
    "    data['Low-Close'] = (data['Low'] - data['Close'].shift(1)).abs()\n",
    "\n",
    "    data['TrueRange'] = data[['High-Low', 'High-Close', 'Low-Close']].max(axis=1)\n",
    "    # Calculate the 14-day ATR\n",
    "    data['ATR_14'] = data['TrueRange'].rolling(window=n, min_periods=1).mean()\n",
    "    # Drop intermediate columns\n",
    "    data.drop(columns=['High-Low', 'High-Close', 'Low-Close', 'TrueRange'], inplace=True)\n",
    "    return data\n",
    "\n",
    "# Step 2: Calculate the ATR\n",
    "spy_basicdata = calculate_atr(spy_basicdata)"
   ]
  },
  {
   "cell_type": "code",
   "execution_count": 725,
   "metadata": {
    "id": "2uM9wdSKRev0"
   },
   "outputs": [],
   "source": [
    "# Step 3: Define and calculate EMAs and distances without overwriting the ATR column\n",
    "ema_periods = [5, 9, 18, 21, 40, 50, 100]\n",
    "for period in ema_periods:\n",
    "    # Calculate EMA for the current period\n",
    "    ema_column = f'EMA_{period}'\n",
    "    spy_basicdata[ema_column] = spy_basicdata['Close'].ewm(span=period, adjust=False).mean()\n",
    "\n",
    "    # Calculate the distance between Close and the EMA\n",
    "    distance_column = f'Distance_to_EMA_{period}'\n",
    "    spy_basicdata[distance_column] = spy_basicdata['Close'] - spy_basicdata[ema_column]"
   ]
  },
  {
   "cell_type": "code",
   "execution_count": 726,
   "metadata": {
    "id": "FQttHq41Rev0"
   },
   "outputs": [],
   "source": [
    "spy_basicdata['Volume_20D_MA'] = spy_basicdata['Volume'].rolling(window=20, min_periods=1).mean()"
   ]
  },
  {
   "cell_type": "code",
   "execution_count": 727,
   "metadata": {
    "id": "s17QjZuwRev0",
    "outputId": "a9bae492-a036-4524-988a-19f3de2a0288"
   },
   "outputs": [
    {
     "data": {
      "text/plain": [
       "Index(['Open', 'High', 'Low', 'Close', 'Volume', 'ATR_14', 'EMA_5',\n",
       "       'Distance_to_EMA_5', 'EMA_9', 'Distance_to_EMA_9', 'EMA_18',\n",
       "       'Distance_to_EMA_18', 'EMA_21', 'Distance_to_EMA_21', 'EMA_40',\n",
       "       'Distance_to_EMA_40', 'EMA_50', 'Distance_to_EMA_50', 'EMA_100',\n",
       "       'Distance_to_EMA_100', 'Volume_20D_MA'],\n",
       "      dtype='object')"
      ]
     },
     "execution_count": 727,
     "metadata": {},
     "output_type": "execute_result"
    }
   ],
   "source": [
    "spy_basicdata.columns\n",
    "# reprinting the columns to make sure it includes the ATR of the 14-day."
   ]
  },
  {
   "cell_type": "code",
   "execution_count": 728,
   "metadata": {
    "id": "fENqSyprRev0",
    "outputId": "a660a130-454a-47bd-a03a-778a27fae3d4"
   },
   "outputs": [
    {
     "data": {
      "text/html": [
       "<div>\n",
       "<style scoped>\n",
       "    .dataframe tbody tr th:only-of-type {\n",
       "        vertical-align: middle;\n",
       "    }\n",
       "\n",
       "    .dataframe tbody tr th {\n",
       "        vertical-align: top;\n",
       "    }\n",
       "\n",
       "    .dataframe thead th {\n",
       "        text-align: right;\n",
       "    }\n",
       "</style>\n",
       "<table border=\"1\" class=\"dataframe\">\n",
       "  <thead>\n",
       "    <tr style=\"text-align: right;\">\n",
       "      <th></th>\n",
       "      <th>Open</th>\n",
       "      <th>High</th>\n",
       "      <th>Low</th>\n",
       "      <th>Close</th>\n",
       "      <th>Volume</th>\n",
       "      <th>ATR_14</th>\n",
       "      <th>EMA_5</th>\n",
       "      <th>Distance_to_EMA_5</th>\n",
       "      <th>EMA_9</th>\n",
       "      <th>Distance_to_EMA_9</th>\n",
       "      <th>...</th>\n",
       "      <th>Distance_to_EMA_18</th>\n",
       "      <th>EMA_21</th>\n",
       "      <th>Distance_to_EMA_21</th>\n",
       "      <th>EMA_40</th>\n",
       "      <th>Distance_to_EMA_40</th>\n",
       "      <th>EMA_50</th>\n",
       "      <th>Distance_to_EMA_50</th>\n",
       "      <th>EMA_100</th>\n",
       "      <th>Distance_to_EMA_100</th>\n",
       "      <th>Volume_20D_MA</th>\n",
       "    </tr>\n",
       "    <tr>\n",
       "      <th>Date</th>\n",
       "      <th></th>\n",
       "      <th></th>\n",
       "      <th></th>\n",
       "      <th></th>\n",
       "      <th></th>\n",
       "      <th></th>\n",
       "      <th></th>\n",
       "      <th></th>\n",
       "      <th></th>\n",
       "      <th></th>\n",
       "      <th></th>\n",
       "      <th></th>\n",
       "      <th></th>\n",
       "      <th></th>\n",
       "      <th></th>\n",
       "      <th></th>\n",
       "      <th></th>\n",
       "      <th></th>\n",
       "      <th></th>\n",
       "      <th></th>\n",
       "      <th></th>\n",
       "    </tr>\n",
       "  </thead>\n",
       "  <tbody>\n",
       "    <tr>\n",
       "      <th>2024-12-12 00:00:00-05:00</th>\n",
       "      <td>606.580017</td>\n",
       "      <td>607.159973</td>\n",
       "      <td>604.330017</td>\n",
       "      <td>604.330017</td>\n",
       "      <td>31543800</td>\n",
       "      <td>3.501417</td>\n",
       "      <td>605.107122</td>\n",
       "      <td>-0.777105</td>\n",
       "      <td>604.230140</td>\n",
       "      <td>0.099877</td>\n",
       "      <td>...</td>\n",
       "      <td>3.477661</td>\n",
       "      <td>599.666026</td>\n",
       "      <td>4.663991</td>\n",
       "      <td>592.531860</td>\n",
       "      <td>11.798157</td>\n",
       "      <td>589.074369</td>\n",
       "      <td>15.255648</td>\n",
       "      <td>573.817903</td>\n",
       "      <td>30.512114</td>\n",
       "      <td>39114060.0</td>\n",
       "    </tr>\n",
       "    <tr>\n",
       "      <th>2024-12-13 00:00:00-05:00</th>\n",
       "      <td>606.400024</td>\n",
       "      <td>607.130005</td>\n",
       "      <td>602.809998</td>\n",
       "      <td>604.210022</td>\n",
       "      <td>35904700</td>\n",
       "      <td>3.595703</td>\n",
       "      <td>604.808089</td>\n",
       "      <td>-0.598067</td>\n",
       "      <td>604.226117</td>\n",
       "      <td>-0.016095</td>\n",
       "      <td>...</td>\n",
       "      <td>3.004227</td>\n",
       "      <td>600.079117</td>\n",
       "      <td>4.130905</td>\n",
       "      <td>593.101526</td>\n",
       "      <td>11.108496</td>\n",
       "      <td>589.667924</td>\n",
       "      <td>14.542098</td>\n",
       "      <td>574.419727</td>\n",
       "      <td>29.790295</td>\n",
       "      <td>38964090.0</td>\n",
       "    </tr>\n",
       "    <tr>\n",
       "      <th>2024-12-16 00:00:00-05:00</th>\n",
       "      <td>606.000000</td>\n",
       "      <td>607.780029</td>\n",
       "      <td>605.210022</td>\n",
       "      <td>606.789978</td>\n",
       "      <td>43695200</td>\n",
       "      <td>3.446420</td>\n",
       "      <td>605.468718</td>\n",
       "      <td>1.321260</td>\n",
       "      <td>604.738889</td>\n",
       "      <td>2.051089</td>\n",
       "      <td>...</td>\n",
       "      <td>4.996374</td>\n",
       "      <td>600.689195</td>\n",
       "      <td>6.100783</td>\n",
       "      <td>593.769256</td>\n",
       "      <td>13.020722</td>\n",
       "      <td>590.339377</td>\n",
       "      <td>16.450601</td>\n",
       "      <td>575.060722</td>\n",
       "      <td>31.729256</td>\n",
       "      <td>37349410.0</td>\n",
       "    </tr>\n",
       "    <tr>\n",
       "      <th>2024-12-17 00:00:00-05:00</th>\n",
       "      <td>604.190002</td>\n",
       "      <td>605.169983</td>\n",
       "      <td>602.890015</td>\n",
       "      <td>604.289978</td>\n",
       "      <td>55773500</td>\n",
       "      <td>3.453561</td>\n",
       "      <td>605.075805</td>\n",
       "      <td>-0.785827</td>\n",
       "      <td>604.649107</td>\n",
       "      <td>-0.359129</td>\n",
       "      <td>...</td>\n",
       "      <td>2.233598</td>\n",
       "      <td>601.016539</td>\n",
       "      <td>3.273439</td>\n",
       "      <td>594.282462</td>\n",
       "      <td>10.007516</td>\n",
       "      <td>590.886459</td>\n",
       "      <td>13.403519</td>\n",
       "      <td>575.639519</td>\n",
       "      <td>28.650459</td>\n",
       "      <td>38283880.0</td>\n",
       "    </tr>\n",
       "    <tr>\n",
       "      <th>2024-12-18 00:00:00-05:00</th>\n",
       "      <td>603.979980</td>\n",
       "      <td>606.409973</td>\n",
       "      <td>585.890015</td>\n",
       "      <td>586.280029</td>\n",
       "      <td>107728100</td>\n",
       "      <td>4.664276</td>\n",
       "      <td>598.810546</td>\n",
       "      <td>-12.530517</td>\n",
       "      <td>600.975291</td>\n",
       "      <td>-14.695262</td>\n",
       "      <td>...</td>\n",
       "      <td>-14.115682</td>\n",
       "      <td>599.676856</td>\n",
       "      <td>-13.396827</td>\n",
       "      <td>593.892099</td>\n",
       "      <td>-7.612070</td>\n",
       "      <td>590.705815</td>\n",
       "      <td>-4.425786</td>\n",
       "      <td>575.850222</td>\n",
       "      <td>10.429807</td>\n",
       "      <td>41199685.0</td>\n",
       "    </tr>\n",
       "  </tbody>\n",
       "</table>\n",
       "<p>5 rows × 21 columns</p>\n",
       "</div>"
      ],
      "text/plain": [
       "                                 Open        High         Low       Close  \\\n",
       "Date                                                                        \n",
       "2024-12-12 00:00:00-05:00  606.580017  607.159973  604.330017  604.330017   \n",
       "2024-12-13 00:00:00-05:00  606.400024  607.130005  602.809998  604.210022   \n",
       "2024-12-16 00:00:00-05:00  606.000000  607.780029  605.210022  606.789978   \n",
       "2024-12-17 00:00:00-05:00  604.190002  605.169983  602.890015  604.289978   \n",
       "2024-12-18 00:00:00-05:00  603.979980  606.409973  585.890015  586.280029   \n",
       "\n",
       "                              Volume    ATR_14       EMA_5  Distance_to_EMA_5  \\\n",
       "Date                                                                            \n",
       "2024-12-12 00:00:00-05:00   31543800  3.501417  605.107122          -0.777105   \n",
       "2024-12-13 00:00:00-05:00   35904700  3.595703  604.808089          -0.598067   \n",
       "2024-12-16 00:00:00-05:00   43695200  3.446420  605.468718           1.321260   \n",
       "2024-12-17 00:00:00-05:00   55773500  3.453561  605.075805          -0.785827   \n",
       "2024-12-18 00:00:00-05:00  107728100  4.664276  598.810546         -12.530517   \n",
       "\n",
       "                                EMA_9  Distance_to_EMA_9  ...  \\\n",
       "Date                                                      ...   \n",
       "2024-12-12 00:00:00-05:00  604.230140           0.099877  ...   \n",
       "2024-12-13 00:00:00-05:00  604.226117          -0.016095  ...   \n",
       "2024-12-16 00:00:00-05:00  604.738889           2.051089  ...   \n",
       "2024-12-17 00:00:00-05:00  604.649107          -0.359129  ...   \n",
       "2024-12-18 00:00:00-05:00  600.975291         -14.695262  ...   \n",
       "\n",
       "                           Distance_to_EMA_18      EMA_21  Distance_to_EMA_21  \\\n",
       "Date                                                                            \n",
       "2024-12-12 00:00:00-05:00            3.477661  599.666026            4.663991   \n",
       "2024-12-13 00:00:00-05:00            3.004227  600.079117            4.130905   \n",
       "2024-12-16 00:00:00-05:00            4.996374  600.689195            6.100783   \n",
       "2024-12-17 00:00:00-05:00            2.233598  601.016539            3.273439   \n",
       "2024-12-18 00:00:00-05:00          -14.115682  599.676856          -13.396827   \n",
       "\n",
       "                               EMA_40  Distance_to_EMA_40      EMA_50  \\\n",
       "Date                                                                    \n",
       "2024-12-12 00:00:00-05:00  592.531860           11.798157  589.074369   \n",
       "2024-12-13 00:00:00-05:00  593.101526           11.108496  589.667924   \n",
       "2024-12-16 00:00:00-05:00  593.769256           13.020722  590.339377   \n",
       "2024-12-17 00:00:00-05:00  594.282462           10.007516  590.886459   \n",
       "2024-12-18 00:00:00-05:00  593.892099           -7.612070  590.705815   \n",
       "\n",
       "                           Distance_to_EMA_50     EMA_100  \\\n",
       "Date                                                        \n",
       "2024-12-12 00:00:00-05:00           15.255648  573.817903   \n",
       "2024-12-13 00:00:00-05:00           14.542098  574.419727   \n",
       "2024-12-16 00:00:00-05:00           16.450601  575.060722   \n",
       "2024-12-17 00:00:00-05:00           13.403519  575.639519   \n",
       "2024-12-18 00:00:00-05:00           -4.425786  575.850222   \n",
       "\n",
       "                           Distance_to_EMA_100  Volume_20D_MA  \n",
       "Date                                                           \n",
       "2024-12-12 00:00:00-05:00            30.512114     39114060.0  \n",
       "2024-12-13 00:00:00-05:00            29.790295     38964090.0  \n",
       "2024-12-16 00:00:00-05:00            31.729256     37349410.0  \n",
       "2024-12-17 00:00:00-05:00            28.650459     38283880.0  \n",
       "2024-12-18 00:00:00-05:00            10.429807     41199685.0  \n",
       "\n",
       "[5 rows x 21 columns]"
      ]
     },
     "execution_count": 728,
     "metadata": {},
     "output_type": "execute_result"
    }
   ],
   "source": [
    "spy_basicdata.tail()"
   ]
  },
  {
   "cell_type": "markdown",
   "metadata": {
    "id": "WmWwEMSrRev0"
   },
   "source": [
    "## **Section 2: Series of Analysis**\n",
    "\n",
    "- **As a reminder, an Exponential Moving Average (EMA) is** like taking the \"average price\" of a stock over a set number of days but giving more weight to the most recent days. It helps us understand the stock's recent trends.\n",
    "\n",
    "- **What are we investigating?** \n",
    "Therefore, one of the purposes of conducting analyses on the EMAs and price was to understand how price behaves below and above it. I have constantly heard that \"bad things happen\" under certain EMAs. Therefore, we are  calculating the chances (probabilities) that the stock has a positive day (upward price movement) or a negative day (downward price movement), depending on whether the price is above or below the EMA.\n",
    "\n",
    "- **What Do These Probabilities Mean?**\n",
    "The probabilities are calculated by dividing the number of positive or negative days observed when the price is above or below the EMA by the total number of days analyzed.\n",
    "\n",
    "- **IMPORTANT:** Please keep in mind, I am not an expert in the financial industry. I enjoy reading about fundamentals and technical analysis. I am in the process of enhancing my Data Science skills and I wanted conduct analyses on my favorite topics. Therefore, do not take anything I say as a source to make financial decisions. I am having fun and I am in the learning process. \n"
   ]
  },
  {
   "cell_type": "markdown",
   "metadata": {},
   "source": [
    "## *Conditional Probabilities*"
   ]
  },
  {
   "cell_type": "code",
   "execution_count": 729,
   "metadata": {
    "id": "1jrvTjmFRev3"
   },
   "outputs": [],
   "source": [
    "probabilities = {}\n",
    "days_above_below = {}"
   ]
  },
  {
   "cell_type": "code",
   "execution_count": 730,
   "metadata": {
    "id": "DshkCt9sRev3"
   },
   "outputs": [],
   "source": [
    "# Calculate probabilities and durations for each EMA period\n",
    "for period in ema_periods:\n",
    "    ema_column = f'EMA_{period}'\n",
    "    above_col = f'Above_{ema_column}'  # Helper column to indicate if the price is above/below the EMA\n",
    "\n",
    "    # Ensure the EMA column exists before proceeding\n",
    "    if ema_column not in spy_basicdata.columns:\n",
    "        print(f\"Column {ema_column} not found in DataFrame.\")\n",
    "        continue  # Skip to the next EMA period if column is missing\n",
    "\n",
    "    # Determine if Adj Close is above or below EMA and store in a new column\n",
    "    spy_basicdata.loc[:, above_col] = spy_basicdata['Close'] > spy_basicdata[ema_column]\n",
    "\n",
    "    # Calculate probabilities\n",
    "    total_above = spy_basicdata[spy_basicdata[above_col]].shape[0]\n",
    "    total_below = spy_basicdata[~spy_basicdata[above_col]].shape[0]\n",
    "\n",
    "    prob_positive_if_above = spy_basicdata[spy_basicdata[above_col] &\n",
    "                                           (spy_basicdata['Close'].diff() > 0)].shape[0] / total_above\n",
    "    prob_negative_if_below = spy_basicdata[~spy_basicdata[above_col] &\n",
    "                                           (spy_basicdata['Close'].diff() < 0)].shape[0] / total_below\n",
    "    probabilities[f'EMA_{period}'] = {\n",
    "        'Probability of Positive Day if Price is Above': prob_positive_if_above,\n",
    "        'Probability of Negative Day if Price is Below': prob_negative_if_below\n",
    "    }\n",
    "\n",
    "    streak_above_col = f'Streak_Above_{period}'\n",
    "    streak_below_col = f'Streak_Below_{period}'\n",
    "\n",
    "    # Calculate streaks for days above and below\n",
    "    spy_basicdata.loc[:, streak_above_col] = spy_basicdata[above_col].groupby(\n",
    "        (spy_basicdata[above_col] != spy_basicdata[above_col].shift()).cumsum()).cumsum()\n",
    "    spy_basicdata.loc[:, streak_below_col] = (~spy_basicdata[above_col]).groupby(\n",
    "        (~spy_basicdata[above_col] != (~spy_basicdata[above_col]).shift()).cumsum()).cumsum()\n",
    "\n",
    "    # Calculate average streak lengths\n",
    "    avg_days_above = spy_basicdata[spy_basicdata[above_col]][streak_above_col].mean()\n",
    "    avg_days_below = spy_basicdata[~spy_basicdata[above_col]][streak_below_col].mean()\n",
    "\n",
    "    # Store streak results in the dictionary for this EMA\n",
    "    days_above_below[f'EMA_{period}'] = {\n",
    "        'Avg Days Above': avg_days_above,\n",
    "        'Avg Days Below': avg_days_below\n",
    "    }"
   ]
  },
  {
   "cell_type": "code",
   "execution_count": 731,
   "metadata": {
    "id": "_EeBUoqtRev3",
    "outputId": "c2d8aeee-0436-487f-dd5e-1176dbca4d9d"
   },
   "outputs": [
    {
     "name": "stdout",
     "output_type": "stream",
     "text": [
      "Probabilities of Positive and Negative Day by EMA being studied:\n",
      "EMA_5: {'Probability of Positive Day if Price is Above': 0.74, 'Probability of Negative Day if Price is Below': 0.76}\n",
      "EMA_9: {'Probability of Positive Day if Price is Above': 0.69, 'Probability of Negative Day if Price is Below': 0.7}\n",
      "EMA_18: {'Probability of Positive Day if Price is Above': 0.64, 'Probability of Negative Day if Price is Below': 0.64}\n",
      "EMA_21: {'Probability of Positive Day if Price is Above': 0.63, 'Probability of Negative Day if Price is Below': 0.63}\n",
      "EMA_40: {'Probability of Positive Day if Price is Above': 0.6, 'Probability of Negative Day if Price is Below': 0.59}\n",
      "EMA_50: {'Probability of Positive Day if Price is Above': 0.59, 'Probability of Negative Day if Price is Below': 0.58}\n",
      "EMA_100: {'Probability of Positive Day if Price is Above': 0.58, 'Probability of Negative Day if Price is Below': 0.56}\n"
     ]
    }
   ],
   "source": [
    "# Display results with rounding\n",
    "print(\"Probabilities of Positive and Negative Day by EMA being studied:\")\n",
    "for ema, prob_data in probabilities.items():\n",
    "    rounded_prob_data = {key: round(value, 2) for key, value in prob_data.items()}\n",
    "    print(f\"{ema}: {rounded_prob_data}\")"
   ]
  },
  {
   "cell_type": "markdown",
   "metadata": {},
   "source": [
    "### **A. Probability of Negative and Positive Days Based on Each Moving Average and Whether if it was Above or Below Price**\n",
    "\n",
    "#### Interpretation of Results: \n",
    "\n",
    "**EMA_5** - \n",
    "- *Probability of a Positive Day if Price is Above: 0.74 (74% chance)* :This means that if the stock price is above the EMA_5, the stock tends to have a good day 74% of the time.\n",
    "- *Probability of a Negative Day if Price is Below: 0.76 (76% chance)* :If the stock price is below EMA_5, it’s more likely to drop in price.\n",
    "\n",
    "**EMA_50**\n",
    "- *Probability of a Positive Day if Price is Above: 0.59 (59% chance)* :The probability drops compared to EMA_5 because EMA_50 reflects a longer time horizon and doesn’t react as quickly to daily price changes.\n",
    "- *Probability of a Negative Day if Price is Below: 0.58 (58% chance)* :The chances of a negative day are still meaningful but lower because long-term trends are less responsive to daily fluctuations.\n",
    "\n",
    "**EMA_100**\n",
    "- *Probability of a Positive Day if Price is Above: 0.58 (58% chance)* :Similar to EMA_50, the longer time horizon makes this signal less likely to result in a significant daily move.\n",
    "- *Probability of a Negative Day if Price is Below: 0.56 (56% chance)* :This is close to 50%, indicating that the long-term signal is less impactful for predicting daily movements.\n",
    "\n",
    "**Why Do Probabilities Decrease for Longer EMAs?**\n",
    "\n",
    "- Longer EMAs include more historical data, so they smooth out short-term movements. As a result, the price doesn’t stay as consistently above or below the EMA for long periods, making daily moves less predictable. This \"smoothing\" effect dilutes the strength of the signal, leading to lower probabilities.\n",
    "- For example, Longer EMAs (like EMA_50 or EMA_100) look at broader trends over many days. Since they average out longer-term movements, they \"smooth\" out the trend, reducing the immediate impact and lowering the probabilities. \n",
    "- On the other hand, Shorter EMAs (like EMA_5) focus on recent trends, which are more likely to cause a quick reaction in the stock's movement. That’s why the probabilities are higher for positive or negative days.\n",
    "\n",
    "**Next Steps:**\n",
    "- For Shorter EMAs, it would be interesting to assess which days from the 5 days of the 5-day moving average has a higher probability to be positive or negative. \n",
    "- For Longer EMAs, it would be interesting to assess trend exhaustion. However, I am not sure yet how exactly this can be done. "
   ]
  },
  {
   "cell_type": "code",
   "execution_count": 732,
   "metadata": {},
   "outputs": [],
   "source": [
    "probabilities = {}\n",
    "days_above_below = {}\n",
    "transition_probabilities = {}  # New dictionary to store probabilities for 12 days after transition"
   ]
  },
  {
   "cell_type": "code",
   "execution_count": 733,
   "metadata": {},
   "outputs": [],
   "source": [
    "# Calculate probabilities and durations for each EMA period\n",
    "for period in ema_periods:\n",
    "    ema_column = f'EMA_{period}'\n",
    "    above_col = f'Above_{ema_column}'  # Helper column to indicate if the price is above/below the EMA\n",
    "\n",
    "    # Ensure the EMA column exists before proceeding\n",
    "    if ema_column not in spy_basicdata.columns:\n",
    "        print(f\"Column {ema_column} not found in DataFrame.\")\n",
    "        continue  # Skip to the next EMA period if column is missing\n",
    "\n",
    "    # Determine if Close is above or below EMA and store in a new column\n",
    "    spy_basicdata.loc[:, above_col] = spy_basicdata['Close'] > spy_basicdata[ema_column]\n",
    "\n",
    "    # Identify transition points\n",
    "    transitions = spy_basicdata[above_col] != spy_basicdata[above_col].shift()\n",
    "    spy_basicdata.loc[:, 'Transition'] = transitions.cumsum()\n",
    "\n",
    "    # Initialize lists to store probabilities for each of the 12 days\n",
    "    prob_positive = []\n",
    "    prob_negative = []\n",
    "\n",
    "    # Calculate probabilities for each of the first 12 days after transitions\n",
    "    for i in range(1, 15):  # Update the range to 12\n",
    "        day_col = f'Day_{i}_After_Transition'\n",
    "        spy_basicdata[day_col] = spy_basicdata.groupby('Transition')['Close'].shift(-i)\n",
    "\n",
    "        # Calculate positive and negative day counts\n",
    "        positive_days = spy_basicdata[(spy_basicdata[day_col].notna()) & \n",
    "                                      (spy_basicdata[day_col] > spy_basicdata['Close'])]\n",
    "        negative_days = spy_basicdata[(spy_basicdata[day_col].notna()) & \n",
    "                                      (spy_basicdata[day_col] < spy_basicdata['Close'])]\n",
    "\n",
    "        # Total valid days for probability calculation\n",
    "        total_days = spy_basicdata[spy_basicdata[day_col].notna()].shape[0]\n",
    "\n",
    "        prob_positive.append(positive_days.shape[0] / total_days if total_days > 0 else 0)\n",
    "        prob_negative.append(negative_days.shape[0] / total_days if total_days > 0 else 0)\n",
    "\n",
    "    # Store transition probabilities for the 12 days\n",
    "    transition_probabilities[f'EMA_{period}'] = {\n",
    "        f'Probability of Positive Day on Day {i}': round(prob_positive[i - 1], 2)\n",
    "        for i in range(1, 15)\n",
    "    }\n",
    "    transition_probabilities[f'EMA_{period}'].update({\n",
    "        f'Probability of Negative Day on Day {i}': round(prob_negative[i - 1], 2)\n",
    "        for i in range(1, 15)\n",
    "    })\n",
    "\n",
    "    # Original probabilities\n",
    "    total_above = spy_basicdata[spy_basicdata[above_col]].shape[0]\n",
    "    total_below = spy_basicdata[~spy_basicdata[above_col]].shape[0]\n",
    "\n",
    "    prob_positive_if_above = spy_basicdata[spy_basicdata[above_col] & \n",
    "                                           (spy_basicdata['Close'].diff() > 0)].shape[0] / total_above\n",
    "    prob_negative_if_below = spy_basicdata[~spy_basicdata[above_col] & \n",
    "                                           (spy_basicdata['Close'].diff() < 0)].shape[0] / total_below\n",
    "    probabilities[f'EMA_{period}'] = {\n",
    "        'Probability of Positive Day if Price is Above': round(prob_positive_if_above, 2),\n",
    "        'Probability of Negative Day if Price is Below': round(prob_negative_if_below, 2)\n",
    "    }"
   ]
  },
  {
   "cell_type": "code",
   "execution_count": 734,
   "metadata": {},
   "outputs": [],
   "source": [
    "# Define the desired column order for EMAs\n",
    "ema_order = [\"EMA_5\", \"EMA_9\", \"EMA_18\", \"EMA_21\", \"EMA_40\", \"EMA_50\", \"EMA_100\"]"
   ]
  },
  {
   "cell_type": "code",
   "execution_count": 735,
   "metadata": {},
   "outputs": [],
   "source": [
    "# Initialize lists for separate tables\n",
    "positive_table = []\n",
    "negative_table = []\n",
    "\n",
    "# Process transition_probabilities and split into two tables\n",
    "for ema, transition_data in transition_probabilities.items():\n",
    "    for key, value in transition_data.items():\n",
    "        day = int(key.split('Day ')[-1].split()[0])  # Extract day number\n",
    "        if \"Positive\" in key:\n",
    "            positive_table.append({\"EMA\": ema, \"Day\": day, \"Probability\": value})\n",
    "        elif \"Negative\" in key:\n",
    "            negative_table.append({\"EMA\": ema, \"Day\": day, \"Probability\": value})\n",
    "\n",
    "# Convert to DataFrames\n",
    "positive_df = pd.DataFrame(positive_table).pivot(index=\"Day\", columns=\"EMA\", values=\"Probability\")\n",
    "negative_df = pd.DataFrame(negative_table).pivot(index=\"Day\", columns=\"EMA\", values=\"Probability\")"
   ]
  },
  {
   "cell_type": "code",
   "execution_count": 736,
   "metadata": {},
   "outputs": [],
   "source": [
    "# Reorder columns based on desired EMA order\n",
    "positive_df = positive_df.reindex(columns=ema_order)\n",
    "negative_df = negative_df.reindex(columns=ema_order)"
   ]
  },
  {
   "cell_type": "code",
   "execution_count": 737,
   "metadata": {},
   "outputs": [
    {
     "name": "stdout",
     "output_type": "stream",
     "text": [
      "\n",
      "Table: Probability of Positive Day\n",
      "EMA  EMA_5  EMA_9  EMA_18  EMA_21  EMA_40  EMA_50  EMA_100\n",
      "Day                                                       \n",
      "1     0.56   0.55    0.55    0.55    0.55    0.55     0.55\n",
      "2     0.61   0.60    0.59    0.58    0.58    0.58     0.57\n",
      "3     0.68   0.65    0.62    0.61    0.60    0.60     0.59\n",
      "4     0.72   0.68    0.64    0.63    0.61    0.61     0.60\n",
      "5     0.77   0.72    0.66    0.65    0.62    0.62     0.61\n",
      "6     0.80   0.76    0.69    0.67    0.64    0.63     0.61\n",
      "7     0.83   0.79    0.71    0.70    0.66    0.65     0.63\n",
      "8     0.86   0.82    0.75    0.73    0.69    0.67     0.64\n",
      "9     0.88   0.84    0.77    0.75    0.70    0.68     0.65\n",
      "10    0.89   0.86    0.79    0.78    0.71    0.69     0.66\n",
      "11    0.91   0.87    0.81    0.79    0.73    0.71     0.67\n",
      "12    0.93   0.89    0.82    0.81    0.74    0.72     0.67\n",
      "13    0.94   0.89    0.84    0.82    0.75    0.73     0.68\n",
      "14    0.97   0.91    0.86    0.84    0.77    0.75     0.69\n"
     ]
    }
   ],
   "source": [
    "# Display the Positive Probabilities Table\n",
    "print(\"\\nTable: Probability of Positive Day\")\n",
    "print(positive_df)"
   ]
  },
  {
   "cell_type": "code",
   "execution_count": 738,
   "metadata": {},
   "outputs": [
    {
     "name": "stdout",
     "output_type": "stream",
     "text": [
      "\n",
      "Table: Probability of Negative Day\n",
      "EMA  EMA_5  EMA_9  EMA_18  EMA_21  EMA_40  EMA_50  EMA_100\n",
      "Day                                                       \n",
      "1     0.44   0.44    0.44    0.44    0.45    0.45     0.45\n",
      "2     0.38   0.39    0.41    0.41    0.42    0.42     0.42\n",
      "3     0.32   0.35    0.38    0.38    0.40    0.40     0.41\n",
      "4     0.27   0.32    0.36    0.37    0.39    0.39     0.40\n",
      "5     0.23   0.28    0.34    0.35    0.37    0.38     0.39\n",
      "6     0.20   0.24    0.31    0.32    0.35    0.36     0.38\n",
      "7     0.17   0.21    0.29    0.30    0.34    0.35     0.37\n",
      "8     0.14   0.18    0.25    0.27    0.31    0.33     0.36\n",
      "9     0.12   0.16    0.23    0.25    0.30    0.32     0.35\n",
      "10    0.11   0.14    0.21    0.22    0.28    0.31     0.34\n",
      "11    0.09   0.13    0.19    0.21    0.27    0.29     0.33\n",
      "12    0.07   0.11    0.18    0.19    0.26    0.28     0.33\n",
      "13    0.06   0.11    0.16    0.18    0.24    0.27     0.32\n",
      "14    0.03   0.09    0.14    0.16    0.23    0.25     0.30\n"
     ]
    }
   ],
   "source": [
    "# Display the Negative Probabilities Table\n",
    "print(\"\\nTable: Probability of Negative Day\")\n",
    "print(negative_df)"
   ]
  },
  {
   "cell_type": "code",
   "execution_count": 739,
   "metadata": {},
   "outputs": [
    {
     "data": {
      "application/vnd.plotly.v1+json": {
       "config": {
        "plotlyServerURL": "https://plot.ly"
       },
       "data": [
        {
         "cells": {
          "align": "center",
          "fill": {
           "color": [
            [
             "white",
             "white",
             "white",
             "white",
             "white",
             "white",
             "white",
             "white",
             "white",
             "white",
             "white",
             "white",
             "white",
             "white"
            ],
            [
             "white",
             "white",
             "white",
             "white",
             "white",
             "lightgreen",
             "lightgreen",
             "lightgreen",
             "lightgreen",
             "lightgreen",
             "lightgreen",
             "lightgreen",
             "lightgreen",
             "lightgreen"
            ],
            [
             "white",
             "white",
             "white",
             "white",
             "white",
             "white",
             "white",
             "lightgreen",
             "lightgreen",
             "lightgreen",
             "lightgreen",
             "lightgreen",
             "lightgreen",
             "lightgreen"
            ],
            [
             "white",
             "white",
             "white",
             "white",
             "white",
             "white",
             "white",
             "white",
             "white",
             "white",
             "lightgreen",
             "lightgreen",
             "lightgreen",
             "lightgreen"
            ],
            [
             "white",
             "white",
             "white",
             "white",
             "white",
             "white",
             "white",
             "white",
             "white",
             "white",
             "white",
             "lightgreen",
             "lightgreen",
             "lightgreen"
            ],
            [
             "white",
             "white",
             "white",
             "white",
             "white",
             "white",
             "white",
             "white",
             "white",
             "white",
             "white",
             "white",
             "white",
             "white"
            ],
            [
             "white",
             "white",
             "white",
             "white",
             "white",
             "white",
             "white",
             "white",
             "white",
             "white",
             "white",
             "white",
             "white",
             "white"
            ],
            [
             "white",
             "white",
             "white",
             "white",
             "white",
             "white",
             "white",
             "white",
             "white",
             "white",
             "white",
             "white",
             "white",
             "white"
            ]
           ]
          },
          "values": [
           [
            "Day 1",
            "Day 2",
            "Day 3",
            "Day 4",
            "Day 5",
            "Day 6",
            "Day 7",
            "Day 8",
            "Day 9",
            "Day 10",
            "Day 11",
            "Day 12",
            "Day 13",
            "Day 14"
           ],
           [
            0.56,
            0.61,
            0.68,
            0.72,
            0.77,
            0.8,
            0.83,
            0.86,
            0.88,
            0.89,
            0.91,
            0.93,
            0.94,
            0.97
           ],
           [
            0.55,
            0.6,
            0.65,
            0.68,
            0.72,
            0.76,
            0.79,
            0.82,
            0.84,
            0.86,
            0.87,
            0.89,
            0.89,
            0.91
           ],
           [
            0.55,
            0.59,
            0.62,
            0.64,
            0.66,
            0.69,
            0.71,
            0.75,
            0.77,
            0.79,
            0.81,
            0.82,
            0.84,
            0.86
           ],
           [
            0.55,
            0.58,
            0.61,
            0.63,
            0.65,
            0.67,
            0.7,
            0.73,
            0.75,
            0.78,
            0.79,
            0.81,
            0.82,
            0.84
           ],
           [
            0.55,
            0.58,
            0.6,
            0.61,
            0.62,
            0.64,
            0.66,
            0.69,
            0.7,
            0.71,
            0.73,
            0.74,
            0.75,
            0.77
           ],
           [
            0.55,
            0.58,
            0.6,
            0.61,
            0.62,
            0.63,
            0.65,
            0.67,
            0.68,
            0.69,
            0.71,
            0.72,
            0.73,
            0.75
           ],
           [
            0.55,
            0.57,
            0.59,
            0.6,
            0.61,
            0.61,
            0.63,
            0.64,
            0.65,
            0.66,
            0.67,
            0.67,
            0.68,
            0.69
           ]
          ]
         },
         "header": {
          "align": "center",
          "fill": {
           "color": "paleturquoise"
          },
          "values": [
           "Day",
           "EMA_5",
           "EMA_9",
           "EMA_18",
           "EMA_21",
           "EMA_40",
           "EMA_50",
           "EMA_100"
          ]
         },
         "type": "table"
        }
       ],
       "layout": {
        "height": 500,
        "template": {
         "data": {
          "bar": [
           {
            "error_x": {
             "color": "#2a3f5f"
            },
            "error_y": {
             "color": "#2a3f5f"
            },
            "marker": {
             "line": {
              "color": "#E5ECF6",
              "width": 0.5
             },
             "pattern": {
              "fillmode": "overlay",
              "size": 10,
              "solidity": 0.2
             }
            },
            "type": "bar"
           }
          ],
          "barpolar": [
           {
            "marker": {
             "line": {
              "color": "#E5ECF6",
              "width": 0.5
             },
             "pattern": {
              "fillmode": "overlay",
              "size": 10,
              "solidity": 0.2
             }
            },
            "type": "barpolar"
           }
          ],
          "carpet": [
           {
            "aaxis": {
             "endlinecolor": "#2a3f5f",
             "gridcolor": "white",
             "linecolor": "white",
             "minorgridcolor": "white",
             "startlinecolor": "#2a3f5f"
            },
            "baxis": {
             "endlinecolor": "#2a3f5f",
             "gridcolor": "white",
             "linecolor": "white",
             "minorgridcolor": "white",
             "startlinecolor": "#2a3f5f"
            },
            "type": "carpet"
           }
          ],
          "choropleth": [
           {
            "colorbar": {
             "outlinewidth": 0,
             "ticks": ""
            },
            "type": "choropleth"
           }
          ],
          "contour": [
           {
            "colorbar": {
             "outlinewidth": 0,
             "ticks": ""
            },
            "colorscale": [
             [
              0,
              "#0d0887"
             ],
             [
              0.1111111111111111,
              "#46039f"
             ],
             [
              0.2222222222222222,
              "#7201a8"
             ],
             [
              0.3333333333333333,
              "#9c179e"
             ],
             [
              0.4444444444444444,
              "#bd3786"
             ],
             [
              0.5555555555555556,
              "#d8576b"
             ],
             [
              0.6666666666666666,
              "#ed7953"
             ],
             [
              0.7777777777777778,
              "#fb9f3a"
             ],
             [
              0.8888888888888888,
              "#fdca26"
             ],
             [
              1,
              "#f0f921"
             ]
            ],
            "type": "contour"
           }
          ],
          "contourcarpet": [
           {
            "colorbar": {
             "outlinewidth": 0,
             "ticks": ""
            },
            "type": "contourcarpet"
           }
          ],
          "heatmap": [
           {
            "colorbar": {
             "outlinewidth": 0,
             "ticks": ""
            },
            "colorscale": [
             [
              0,
              "#0d0887"
             ],
             [
              0.1111111111111111,
              "#46039f"
             ],
             [
              0.2222222222222222,
              "#7201a8"
             ],
             [
              0.3333333333333333,
              "#9c179e"
             ],
             [
              0.4444444444444444,
              "#bd3786"
             ],
             [
              0.5555555555555556,
              "#d8576b"
             ],
             [
              0.6666666666666666,
              "#ed7953"
             ],
             [
              0.7777777777777778,
              "#fb9f3a"
             ],
             [
              0.8888888888888888,
              "#fdca26"
             ],
             [
              1,
              "#f0f921"
             ]
            ],
            "type": "heatmap"
           }
          ],
          "heatmapgl": [
           {
            "colorbar": {
             "outlinewidth": 0,
             "ticks": ""
            },
            "colorscale": [
             [
              0,
              "#0d0887"
             ],
             [
              0.1111111111111111,
              "#46039f"
             ],
             [
              0.2222222222222222,
              "#7201a8"
             ],
             [
              0.3333333333333333,
              "#9c179e"
             ],
             [
              0.4444444444444444,
              "#bd3786"
             ],
             [
              0.5555555555555556,
              "#d8576b"
             ],
             [
              0.6666666666666666,
              "#ed7953"
             ],
             [
              0.7777777777777778,
              "#fb9f3a"
             ],
             [
              0.8888888888888888,
              "#fdca26"
             ],
             [
              1,
              "#f0f921"
             ]
            ],
            "type": "heatmapgl"
           }
          ],
          "histogram": [
           {
            "marker": {
             "pattern": {
              "fillmode": "overlay",
              "size": 10,
              "solidity": 0.2
             }
            },
            "type": "histogram"
           }
          ],
          "histogram2d": [
           {
            "colorbar": {
             "outlinewidth": 0,
             "ticks": ""
            },
            "colorscale": [
             [
              0,
              "#0d0887"
             ],
             [
              0.1111111111111111,
              "#46039f"
             ],
             [
              0.2222222222222222,
              "#7201a8"
             ],
             [
              0.3333333333333333,
              "#9c179e"
             ],
             [
              0.4444444444444444,
              "#bd3786"
             ],
             [
              0.5555555555555556,
              "#d8576b"
             ],
             [
              0.6666666666666666,
              "#ed7953"
             ],
             [
              0.7777777777777778,
              "#fb9f3a"
             ],
             [
              0.8888888888888888,
              "#fdca26"
             ],
             [
              1,
              "#f0f921"
             ]
            ],
            "type": "histogram2d"
           }
          ],
          "histogram2dcontour": [
           {
            "colorbar": {
             "outlinewidth": 0,
             "ticks": ""
            },
            "colorscale": [
             [
              0,
              "#0d0887"
             ],
             [
              0.1111111111111111,
              "#46039f"
             ],
             [
              0.2222222222222222,
              "#7201a8"
             ],
             [
              0.3333333333333333,
              "#9c179e"
             ],
             [
              0.4444444444444444,
              "#bd3786"
             ],
             [
              0.5555555555555556,
              "#d8576b"
             ],
             [
              0.6666666666666666,
              "#ed7953"
             ],
             [
              0.7777777777777778,
              "#fb9f3a"
             ],
             [
              0.8888888888888888,
              "#fdca26"
             ],
             [
              1,
              "#f0f921"
             ]
            ],
            "type": "histogram2dcontour"
           }
          ],
          "mesh3d": [
           {
            "colorbar": {
             "outlinewidth": 0,
             "ticks": ""
            },
            "type": "mesh3d"
           }
          ],
          "parcoords": [
           {
            "line": {
             "colorbar": {
              "outlinewidth": 0,
              "ticks": ""
             }
            },
            "type": "parcoords"
           }
          ],
          "pie": [
           {
            "automargin": true,
            "type": "pie"
           }
          ],
          "scatter": [
           {
            "fillpattern": {
             "fillmode": "overlay",
             "size": 10,
             "solidity": 0.2
            },
            "type": "scatter"
           }
          ],
          "scatter3d": [
           {
            "line": {
             "colorbar": {
              "outlinewidth": 0,
              "ticks": ""
             }
            },
            "marker": {
             "colorbar": {
              "outlinewidth": 0,
              "ticks": ""
             }
            },
            "type": "scatter3d"
           }
          ],
          "scattercarpet": [
           {
            "marker": {
             "colorbar": {
              "outlinewidth": 0,
              "ticks": ""
             }
            },
            "type": "scattercarpet"
           }
          ],
          "scattergeo": [
           {
            "marker": {
             "colorbar": {
              "outlinewidth": 0,
              "ticks": ""
             }
            },
            "type": "scattergeo"
           }
          ],
          "scattergl": [
           {
            "marker": {
             "colorbar": {
              "outlinewidth": 0,
              "ticks": ""
             }
            },
            "type": "scattergl"
           }
          ],
          "scattermapbox": [
           {
            "marker": {
             "colorbar": {
              "outlinewidth": 0,
              "ticks": ""
             }
            },
            "type": "scattermapbox"
           }
          ],
          "scatterpolar": [
           {
            "marker": {
             "colorbar": {
              "outlinewidth": 0,
              "ticks": ""
             }
            },
            "type": "scatterpolar"
           }
          ],
          "scatterpolargl": [
           {
            "marker": {
             "colorbar": {
              "outlinewidth": 0,
              "ticks": ""
             }
            },
            "type": "scatterpolargl"
           }
          ],
          "scatterternary": [
           {
            "marker": {
             "colorbar": {
              "outlinewidth": 0,
              "ticks": ""
             }
            },
            "type": "scatterternary"
           }
          ],
          "surface": [
           {
            "colorbar": {
             "outlinewidth": 0,
             "ticks": ""
            },
            "colorscale": [
             [
              0,
              "#0d0887"
             ],
             [
              0.1111111111111111,
              "#46039f"
             ],
             [
              0.2222222222222222,
              "#7201a8"
             ],
             [
              0.3333333333333333,
              "#9c179e"
             ],
             [
              0.4444444444444444,
              "#bd3786"
             ],
             [
              0.5555555555555556,
              "#d8576b"
             ],
             [
              0.6666666666666666,
              "#ed7953"
             ],
             [
              0.7777777777777778,
              "#fb9f3a"
             ],
             [
              0.8888888888888888,
              "#fdca26"
             ],
             [
              1,
              "#f0f921"
             ]
            ],
            "type": "surface"
           }
          ],
          "table": [
           {
            "cells": {
             "fill": {
              "color": "#EBF0F8"
             },
             "line": {
              "color": "white"
             }
            },
            "header": {
             "fill": {
              "color": "#C8D4E3"
             },
             "line": {
              "color": "white"
             }
            },
            "type": "table"
           }
          ]
         },
         "layout": {
          "annotationdefaults": {
           "arrowcolor": "#2a3f5f",
           "arrowhead": 0,
           "arrowwidth": 1
          },
          "autotypenumbers": "strict",
          "coloraxis": {
           "colorbar": {
            "outlinewidth": 0,
            "ticks": ""
           }
          },
          "colorscale": {
           "diverging": [
            [
             0,
             "#8e0152"
            ],
            [
             0.1,
             "#c51b7d"
            ],
            [
             0.2,
             "#de77ae"
            ],
            [
             0.3,
             "#f1b6da"
            ],
            [
             0.4,
             "#fde0ef"
            ],
            [
             0.5,
             "#f7f7f7"
            ],
            [
             0.6,
             "#e6f5d0"
            ],
            [
             0.7,
             "#b8e186"
            ],
            [
             0.8,
             "#7fbc41"
            ],
            [
             0.9,
             "#4d9221"
            ],
            [
             1,
             "#276419"
            ]
           ],
           "sequential": [
            [
             0,
             "#0d0887"
            ],
            [
             0.1111111111111111,
             "#46039f"
            ],
            [
             0.2222222222222222,
             "#7201a8"
            ],
            [
             0.3333333333333333,
             "#9c179e"
            ],
            [
             0.4444444444444444,
             "#bd3786"
            ],
            [
             0.5555555555555556,
             "#d8576b"
            ],
            [
             0.6666666666666666,
             "#ed7953"
            ],
            [
             0.7777777777777778,
             "#fb9f3a"
            ],
            [
             0.8888888888888888,
             "#fdca26"
            ],
            [
             1,
             "#f0f921"
            ]
           ],
           "sequentialminus": [
            [
             0,
             "#0d0887"
            ],
            [
             0.1111111111111111,
             "#46039f"
            ],
            [
             0.2222222222222222,
             "#7201a8"
            ],
            [
             0.3333333333333333,
             "#9c179e"
            ],
            [
             0.4444444444444444,
             "#bd3786"
            ],
            [
             0.5555555555555556,
             "#d8576b"
            ],
            [
             0.6666666666666666,
             "#ed7953"
            ],
            [
             0.7777777777777778,
             "#fb9f3a"
            ],
            [
             0.8888888888888888,
             "#fdca26"
            ],
            [
             1,
             "#f0f921"
            ]
           ]
          },
          "colorway": [
           "#636efa",
           "#EF553B",
           "#00cc96",
           "#ab63fa",
           "#FFA15A",
           "#19d3f3",
           "#FF6692",
           "#B6E880",
           "#FF97FF",
           "#FECB52"
          ],
          "font": {
           "color": "#2a3f5f"
          },
          "geo": {
           "bgcolor": "white",
           "lakecolor": "white",
           "landcolor": "#E5ECF6",
           "showlakes": true,
           "showland": true,
           "subunitcolor": "white"
          },
          "hoverlabel": {
           "align": "left"
          },
          "hovermode": "closest",
          "mapbox": {
           "style": "light"
          },
          "paper_bgcolor": "white",
          "plot_bgcolor": "#E5ECF6",
          "polar": {
           "angularaxis": {
            "gridcolor": "white",
            "linecolor": "white",
            "ticks": ""
           },
           "bgcolor": "#E5ECF6",
           "radialaxis": {
            "gridcolor": "white",
            "linecolor": "white",
            "ticks": ""
           }
          },
          "scene": {
           "xaxis": {
            "backgroundcolor": "#E5ECF6",
            "gridcolor": "white",
            "gridwidth": 2,
            "linecolor": "white",
            "showbackground": true,
            "ticks": "",
            "zerolinecolor": "white"
           },
           "yaxis": {
            "backgroundcolor": "#E5ECF6",
            "gridcolor": "white",
            "gridwidth": 2,
            "linecolor": "white",
            "showbackground": true,
            "ticks": "",
            "zerolinecolor": "white"
           },
           "zaxis": {
            "backgroundcolor": "#E5ECF6",
            "gridcolor": "white",
            "gridwidth": 2,
            "linecolor": "white",
            "showbackground": true,
            "ticks": "",
            "zerolinecolor": "white"
           }
          },
          "shapedefaults": {
           "line": {
            "color": "#2a3f5f"
           }
          },
          "ternary": {
           "aaxis": {
            "gridcolor": "white",
            "linecolor": "white",
            "ticks": ""
           },
           "baxis": {
            "gridcolor": "white",
            "linecolor": "white",
            "ticks": ""
           },
           "bgcolor": "#E5ECF6",
           "caxis": {
            "gridcolor": "white",
            "linecolor": "white",
            "ticks": ""
           }
          },
          "title": {
           "x": 0.05
          },
          "xaxis": {
           "automargin": true,
           "gridcolor": "white",
           "linecolor": "white",
           "ticks": "",
           "title": {
            "standoff": 15
           },
           "zerolinecolor": "white",
           "zerolinewidth": 2
          },
          "yaxis": {
           "automargin": true,
           "gridcolor": "white",
           "linecolor": "white",
           "ticks": "",
           "title": {
            "standoff": 15
           },
           "zerolinecolor": "white",
           "zerolinewidth": 2
          }
         }
        },
        "title": {
         "text": "Probability of Positive Day (Shaded Cells Above 80%)"
        },
        "width": 1100
       }
      }
     },
     "metadata": {},
     "output_type": "display_data"
    },
    {
     "data": {
      "application/vnd.plotly.v1+json": {
       "config": {
        "plotlyServerURL": "https://plot.ly"
       },
       "data": [
        {
         "cells": {
          "align": "center",
          "fill": {
           "color": [
            [
             "white",
             "white",
             "white",
             "white",
             "white",
             "white",
             "white",
             "white",
             "white",
             "white",
             "white",
             "white",
             "white",
             "white"
            ],
            [
             "white",
             "white",
             "white",
             "white",
             "lightgrey",
             "lightgrey",
             "lightgrey",
             "lightgrey",
             "lightgrey",
             "lightgrey",
             "lightgrey",
             "lightgrey",
             "lightgrey",
             "lightgrey"
            ],
            [
             "white",
             "white",
             "white",
             "white",
             "white",
             "lightgrey",
             "lightgrey",
             "lightgrey",
             "lightgrey",
             "lightgrey",
             "lightgrey",
             "lightgrey",
             "lightgrey",
             "lightgrey"
            ],
            [
             "white",
             "white",
             "white",
             "white",
             "white",
             "white",
             "white",
             "lightgrey",
             "lightgrey",
             "lightgrey",
             "lightgrey",
             "lightgrey",
             "lightgrey",
             "lightgrey"
            ],
            [
             "white",
             "white",
             "white",
             "white",
             "white",
             "white",
             "white",
             "white",
             "lightgrey",
             "lightgrey",
             "lightgrey",
             "lightgrey",
             "lightgrey",
             "lightgrey"
            ],
            [
             "white",
             "white",
             "white",
             "white",
             "white",
             "white",
             "white",
             "white",
             "white",
             "white",
             "white",
             "white",
             "lightgrey",
             "lightgrey"
            ],
            [
             "white",
             "white",
             "white",
             "white",
             "white",
             "white",
             "white",
             "white",
             "white",
             "white",
             "white",
             "white",
             "white",
             "lightgrey"
            ],
            [
             "white",
             "white",
             "white",
             "white",
             "white",
             "white",
             "white",
             "white",
             "white",
             "white",
             "white",
             "white",
             "white",
             "white"
            ]
           ]
          },
          "values": [
           [
            "Day 1",
            "Day 2",
            "Day 3",
            "Day 4",
            "Day 5",
            "Day 6",
            "Day 7",
            "Day 8",
            "Day 9",
            "Day 10",
            "Day 11",
            "Day 12",
            "Day 13",
            "Day 14"
           ],
           [
            0.44,
            0.38,
            0.32,
            0.27,
            0.23,
            0.2,
            0.17,
            0.14,
            0.12,
            0.11,
            0.09,
            0.07,
            0.06,
            0.03
           ],
           [
            0.44,
            0.39,
            0.35,
            0.32,
            0.28,
            0.24,
            0.21,
            0.18,
            0.16,
            0.14,
            0.13,
            0.11,
            0.11,
            0.09
           ],
           [
            0.44,
            0.41,
            0.38,
            0.36,
            0.34,
            0.31,
            0.29,
            0.25,
            0.23,
            0.21,
            0.19,
            0.18,
            0.16,
            0.14
           ],
           [
            0.44,
            0.41,
            0.38,
            0.37,
            0.35,
            0.32,
            0.3,
            0.27,
            0.25,
            0.22,
            0.21,
            0.19,
            0.18,
            0.16
           ],
           [
            0.45,
            0.42,
            0.4,
            0.39,
            0.37,
            0.35,
            0.34,
            0.31,
            0.3,
            0.28,
            0.27,
            0.26,
            0.24,
            0.23
           ],
           [
            0.45,
            0.42,
            0.4,
            0.39,
            0.38,
            0.36,
            0.35,
            0.33,
            0.32,
            0.31,
            0.29,
            0.28,
            0.27,
            0.25
           ],
           [
            0.45,
            0.42,
            0.41,
            0.4,
            0.39,
            0.38,
            0.37,
            0.36,
            0.35,
            0.34,
            0.33,
            0.33,
            0.32,
            0.3
           ]
          ]
         },
         "header": {
          "align": "center",
          "fill": {
           "color": "lightpink"
          },
          "values": [
           "Day",
           "EMA_5",
           "EMA_9",
           "EMA_18",
           "EMA_21",
           "EMA_40",
           "EMA_50",
           "EMA_100"
          ]
         },
         "type": "table"
        }
       ],
       "layout": {
        "height": 500,
        "template": {
         "data": {
          "bar": [
           {
            "error_x": {
             "color": "#2a3f5f"
            },
            "error_y": {
             "color": "#2a3f5f"
            },
            "marker": {
             "line": {
              "color": "#E5ECF6",
              "width": 0.5
             },
             "pattern": {
              "fillmode": "overlay",
              "size": 10,
              "solidity": 0.2
             }
            },
            "type": "bar"
           }
          ],
          "barpolar": [
           {
            "marker": {
             "line": {
              "color": "#E5ECF6",
              "width": 0.5
             },
             "pattern": {
              "fillmode": "overlay",
              "size": 10,
              "solidity": 0.2
             }
            },
            "type": "barpolar"
           }
          ],
          "carpet": [
           {
            "aaxis": {
             "endlinecolor": "#2a3f5f",
             "gridcolor": "white",
             "linecolor": "white",
             "minorgridcolor": "white",
             "startlinecolor": "#2a3f5f"
            },
            "baxis": {
             "endlinecolor": "#2a3f5f",
             "gridcolor": "white",
             "linecolor": "white",
             "minorgridcolor": "white",
             "startlinecolor": "#2a3f5f"
            },
            "type": "carpet"
           }
          ],
          "choropleth": [
           {
            "colorbar": {
             "outlinewidth": 0,
             "ticks": ""
            },
            "type": "choropleth"
           }
          ],
          "contour": [
           {
            "colorbar": {
             "outlinewidth": 0,
             "ticks": ""
            },
            "colorscale": [
             [
              0,
              "#0d0887"
             ],
             [
              0.1111111111111111,
              "#46039f"
             ],
             [
              0.2222222222222222,
              "#7201a8"
             ],
             [
              0.3333333333333333,
              "#9c179e"
             ],
             [
              0.4444444444444444,
              "#bd3786"
             ],
             [
              0.5555555555555556,
              "#d8576b"
             ],
             [
              0.6666666666666666,
              "#ed7953"
             ],
             [
              0.7777777777777778,
              "#fb9f3a"
             ],
             [
              0.8888888888888888,
              "#fdca26"
             ],
             [
              1,
              "#f0f921"
             ]
            ],
            "type": "contour"
           }
          ],
          "contourcarpet": [
           {
            "colorbar": {
             "outlinewidth": 0,
             "ticks": ""
            },
            "type": "contourcarpet"
           }
          ],
          "heatmap": [
           {
            "colorbar": {
             "outlinewidth": 0,
             "ticks": ""
            },
            "colorscale": [
             [
              0,
              "#0d0887"
             ],
             [
              0.1111111111111111,
              "#46039f"
             ],
             [
              0.2222222222222222,
              "#7201a8"
             ],
             [
              0.3333333333333333,
              "#9c179e"
             ],
             [
              0.4444444444444444,
              "#bd3786"
             ],
             [
              0.5555555555555556,
              "#d8576b"
             ],
             [
              0.6666666666666666,
              "#ed7953"
             ],
             [
              0.7777777777777778,
              "#fb9f3a"
             ],
             [
              0.8888888888888888,
              "#fdca26"
             ],
             [
              1,
              "#f0f921"
             ]
            ],
            "type": "heatmap"
           }
          ],
          "heatmapgl": [
           {
            "colorbar": {
             "outlinewidth": 0,
             "ticks": ""
            },
            "colorscale": [
             [
              0,
              "#0d0887"
             ],
             [
              0.1111111111111111,
              "#46039f"
             ],
             [
              0.2222222222222222,
              "#7201a8"
             ],
             [
              0.3333333333333333,
              "#9c179e"
             ],
             [
              0.4444444444444444,
              "#bd3786"
             ],
             [
              0.5555555555555556,
              "#d8576b"
             ],
             [
              0.6666666666666666,
              "#ed7953"
             ],
             [
              0.7777777777777778,
              "#fb9f3a"
             ],
             [
              0.8888888888888888,
              "#fdca26"
             ],
             [
              1,
              "#f0f921"
             ]
            ],
            "type": "heatmapgl"
           }
          ],
          "histogram": [
           {
            "marker": {
             "pattern": {
              "fillmode": "overlay",
              "size": 10,
              "solidity": 0.2
             }
            },
            "type": "histogram"
           }
          ],
          "histogram2d": [
           {
            "colorbar": {
             "outlinewidth": 0,
             "ticks": ""
            },
            "colorscale": [
             [
              0,
              "#0d0887"
             ],
             [
              0.1111111111111111,
              "#46039f"
             ],
             [
              0.2222222222222222,
              "#7201a8"
             ],
             [
              0.3333333333333333,
              "#9c179e"
             ],
             [
              0.4444444444444444,
              "#bd3786"
             ],
             [
              0.5555555555555556,
              "#d8576b"
             ],
             [
              0.6666666666666666,
              "#ed7953"
             ],
             [
              0.7777777777777778,
              "#fb9f3a"
             ],
             [
              0.8888888888888888,
              "#fdca26"
             ],
             [
              1,
              "#f0f921"
             ]
            ],
            "type": "histogram2d"
           }
          ],
          "histogram2dcontour": [
           {
            "colorbar": {
             "outlinewidth": 0,
             "ticks": ""
            },
            "colorscale": [
             [
              0,
              "#0d0887"
             ],
             [
              0.1111111111111111,
              "#46039f"
             ],
             [
              0.2222222222222222,
              "#7201a8"
             ],
             [
              0.3333333333333333,
              "#9c179e"
             ],
             [
              0.4444444444444444,
              "#bd3786"
             ],
             [
              0.5555555555555556,
              "#d8576b"
             ],
             [
              0.6666666666666666,
              "#ed7953"
             ],
             [
              0.7777777777777778,
              "#fb9f3a"
             ],
             [
              0.8888888888888888,
              "#fdca26"
             ],
             [
              1,
              "#f0f921"
             ]
            ],
            "type": "histogram2dcontour"
           }
          ],
          "mesh3d": [
           {
            "colorbar": {
             "outlinewidth": 0,
             "ticks": ""
            },
            "type": "mesh3d"
           }
          ],
          "parcoords": [
           {
            "line": {
             "colorbar": {
              "outlinewidth": 0,
              "ticks": ""
             }
            },
            "type": "parcoords"
           }
          ],
          "pie": [
           {
            "automargin": true,
            "type": "pie"
           }
          ],
          "scatter": [
           {
            "fillpattern": {
             "fillmode": "overlay",
             "size": 10,
             "solidity": 0.2
            },
            "type": "scatter"
           }
          ],
          "scatter3d": [
           {
            "line": {
             "colorbar": {
              "outlinewidth": 0,
              "ticks": ""
             }
            },
            "marker": {
             "colorbar": {
              "outlinewidth": 0,
              "ticks": ""
             }
            },
            "type": "scatter3d"
           }
          ],
          "scattercarpet": [
           {
            "marker": {
             "colorbar": {
              "outlinewidth": 0,
              "ticks": ""
             }
            },
            "type": "scattercarpet"
           }
          ],
          "scattergeo": [
           {
            "marker": {
             "colorbar": {
              "outlinewidth": 0,
              "ticks": ""
             }
            },
            "type": "scattergeo"
           }
          ],
          "scattergl": [
           {
            "marker": {
             "colorbar": {
              "outlinewidth": 0,
              "ticks": ""
             }
            },
            "type": "scattergl"
           }
          ],
          "scattermapbox": [
           {
            "marker": {
             "colorbar": {
              "outlinewidth": 0,
              "ticks": ""
             }
            },
            "type": "scattermapbox"
           }
          ],
          "scatterpolar": [
           {
            "marker": {
             "colorbar": {
              "outlinewidth": 0,
              "ticks": ""
             }
            },
            "type": "scatterpolar"
           }
          ],
          "scatterpolargl": [
           {
            "marker": {
             "colorbar": {
              "outlinewidth": 0,
              "ticks": ""
             }
            },
            "type": "scatterpolargl"
           }
          ],
          "scatterternary": [
           {
            "marker": {
             "colorbar": {
              "outlinewidth": 0,
              "ticks": ""
             }
            },
            "type": "scatterternary"
           }
          ],
          "surface": [
           {
            "colorbar": {
             "outlinewidth": 0,
             "ticks": ""
            },
            "colorscale": [
             [
              0,
              "#0d0887"
             ],
             [
              0.1111111111111111,
              "#46039f"
             ],
             [
              0.2222222222222222,
              "#7201a8"
             ],
             [
              0.3333333333333333,
              "#9c179e"
             ],
             [
              0.4444444444444444,
              "#bd3786"
             ],
             [
              0.5555555555555556,
              "#d8576b"
             ],
             [
              0.6666666666666666,
              "#ed7953"
             ],
             [
              0.7777777777777778,
              "#fb9f3a"
             ],
             [
              0.8888888888888888,
              "#fdca26"
             ],
             [
              1,
              "#f0f921"
             ]
            ],
            "type": "surface"
           }
          ],
          "table": [
           {
            "cells": {
             "fill": {
              "color": "#EBF0F8"
             },
             "line": {
              "color": "white"
             }
            },
            "header": {
             "fill": {
              "color": "#C8D4E3"
             },
             "line": {
              "color": "white"
             }
            },
            "type": "table"
           }
          ]
         },
         "layout": {
          "annotationdefaults": {
           "arrowcolor": "#2a3f5f",
           "arrowhead": 0,
           "arrowwidth": 1
          },
          "autotypenumbers": "strict",
          "coloraxis": {
           "colorbar": {
            "outlinewidth": 0,
            "ticks": ""
           }
          },
          "colorscale": {
           "diverging": [
            [
             0,
             "#8e0152"
            ],
            [
             0.1,
             "#c51b7d"
            ],
            [
             0.2,
             "#de77ae"
            ],
            [
             0.3,
             "#f1b6da"
            ],
            [
             0.4,
             "#fde0ef"
            ],
            [
             0.5,
             "#f7f7f7"
            ],
            [
             0.6,
             "#e6f5d0"
            ],
            [
             0.7,
             "#b8e186"
            ],
            [
             0.8,
             "#7fbc41"
            ],
            [
             0.9,
             "#4d9221"
            ],
            [
             1,
             "#276419"
            ]
           ],
           "sequential": [
            [
             0,
             "#0d0887"
            ],
            [
             0.1111111111111111,
             "#46039f"
            ],
            [
             0.2222222222222222,
             "#7201a8"
            ],
            [
             0.3333333333333333,
             "#9c179e"
            ],
            [
             0.4444444444444444,
             "#bd3786"
            ],
            [
             0.5555555555555556,
             "#d8576b"
            ],
            [
             0.6666666666666666,
             "#ed7953"
            ],
            [
             0.7777777777777778,
             "#fb9f3a"
            ],
            [
             0.8888888888888888,
             "#fdca26"
            ],
            [
             1,
             "#f0f921"
            ]
           ],
           "sequentialminus": [
            [
             0,
             "#0d0887"
            ],
            [
             0.1111111111111111,
             "#46039f"
            ],
            [
             0.2222222222222222,
             "#7201a8"
            ],
            [
             0.3333333333333333,
             "#9c179e"
            ],
            [
             0.4444444444444444,
             "#bd3786"
            ],
            [
             0.5555555555555556,
             "#d8576b"
            ],
            [
             0.6666666666666666,
             "#ed7953"
            ],
            [
             0.7777777777777778,
             "#fb9f3a"
            ],
            [
             0.8888888888888888,
             "#fdca26"
            ],
            [
             1,
             "#f0f921"
            ]
           ]
          },
          "colorway": [
           "#636efa",
           "#EF553B",
           "#00cc96",
           "#ab63fa",
           "#FFA15A",
           "#19d3f3",
           "#FF6692",
           "#B6E880",
           "#FF97FF",
           "#FECB52"
          ],
          "font": {
           "color": "#2a3f5f"
          },
          "geo": {
           "bgcolor": "white",
           "lakecolor": "white",
           "landcolor": "#E5ECF6",
           "showlakes": true,
           "showland": true,
           "subunitcolor": "white"
          },
          "hoverlabel": {
           "align": "left"
          },
          "hovermode": "closest",
          "mapbox": {
           "style": "light"
          },
          "paper_bgcolor": "white",
          "plot_bgcolor": "#E5ECF6",
          "polar": {
           "angularaxis": {
            "gridcolor": "white",
            "linecolor": "white",
            "ticks": ""
           },
           "bgcolor": "#E5ECF6",
           "radialaxis": {
            "gridcolor": "white",
            "linecolor": "white",
            "ticks": ""
           }
          },
          "scene": {
           "xaxis": {
            "backgroundcolor": "#E5ECF6",
            "gridcolor": "white",
            "gridwidth": 2,
            "linecolor": "white",
            "showbackground": true,
            "ticks": "",
            "zerolinecolor": "white"
           },
           "yaxis": {
            "backgroundcolor": "#E5ECF6",
            "gridcolor": "white",
            "gridwidth": 2,
            "linecolor": "white",
            "showbackground": true,
            "ticks": "",
            "zerolinecolor": "white"
           },
           "zaxis": {
            "backgroundcolor": "#E5ECF6",
            "gridcolor": "white",
            "gridwidth": 2,
            "linecolor": "white",
            "showbackground": true,
            "ticks": "",
            "zerolinecolor": "white"
           }
          },
          "shapedefaults": {
           "line": {
            "color": "#2a3f5f"
           }
          },
          "ternary": {
           "aaxis": {
            "gridcolor": "white",
            "linecolor": "white",
            "ticks": ""
           },
           "baxis": {
            "gridcolor": "white",
            "linecolor": "white",
            "ticks": ""
           },
           "bgcolor": "#E5ECF6",
           "caxis": {
            "gridcolor": "white",
            "linecolor": "white",
            "ticks": ""
           }
          },
          "title": {
           "x": 0.05
          },
          "xaxis": {
           "automargin": true,
           "gridcolor": "white",
           "linecolor": "white",
           "ticks": "",
           "title": {
            "standoff": 15
           },
           "zerolinecolor": "white",
           "zerolinewidth": 2
          },
          "yaxis": {
           "automargin": true,
           "gridcolor": "white",
           "linecolor": "white",
           "ticks": "",
           "title": {
            "standoff": 15
           },
           "zerolinecolor": "white",
           "zerolinewidth": 2
          }
         }
        },
        "title": {
         "text": "Probability of Negative Day (Shaded Cells Below 25%)"
        },
        "width": 1100
       }
      }
     },
     "metadata": {},
     "output_type": "display_data"
    }
   ],
   "source": [
    "# Helper function to generate cell background colors\n",
    "def shade_cells(dataframe):\n",
    "    colors = []\n",
    "    for col in dataframe.columns:\n",
    "        col_colors = []\n",
    "        for value in dataframe[col]:\n",
    "            if value <= 0.25:\n",
    "                col_colors.append(\"lightgrey\")  # Values < 25% shaded grey\n",
    "            elif value >= 0.8:\n",
    "                col_colors.append(\"lightgreen\")  # Values > 80% shaded green\n",
    "            else:\n",
    "                col_colors.append(\"white\")  # Default white background\n",
    "        colors.append(col_colors)\n",
    "    return colors\n",
    "\n",
    "# Generate background colors for the positive and negative tables\n",
    "positive_colors = shade_cells(positive_df)\n",
    "negative_colors = shade_cells(negative_df)\n",
    "\n",
    "# Create Plotly table for Positive Probabilities\n",
    "fig_positive = go.Figure(data=[go.Table(\n",
    "    header=dict(values=[\"Day\"] + list(positive_df.columns),\n",
    "                fill_color='paleturquoise',\n",
    "                align='center'),\n",
    "    cells=dict(\n",
    "        values=[[f\"Day {i}\" for i in positive_df.index]] + [positive_df[col].round(2).tolist() for col in positive_df.columns],\n",
    "        align='center',\n",
    "        fill_color=[['white'] * len(positive_df)] + positive_colors\n",
    "    )\n",
    ")])\n",
    "\n",
    "# Create Plotly table for Negative Probabilities\n",
    "fig_negative = go.Figure(data=[go.Table(\n",
    "    header=dict(values=[\"Day\"] + list(negative_df.columns),\n",
    "                fill_color='lightpink',\n",
    "                align='center'),\n",
    "    cells=dict(\n",
    "        values=[[f\"Day {i}\" for i in negative_df.index]] + [negative_df[col].round(2).tolist() for col in negative_df.columns],\n",
    "        align='center',\n",
    "        fill_color=[['white'] * len(negative_df)] + negative_colors\n",
    "    )\n",
    ")])\n",
    "\n",
    "# Update the layout to ensure all days fit within the table view\n",
    "fig_positive.update_layout(\n",
    "    title=\"Probability of Positive Day (Shaded Cells Above 80%)\",\n",
    "    height=500,\n",
    "    width=1100  # Increase width to fit all days\n",
    ")\n",
    "\n",
    "fig_negative.update_layout(\n",
    "    title=\"Probability of Negative Day (Shaded Cells Below 25%)\",\n",
    "    height=500,\n",
    "    width=1100  # Increase width to fit all days\n",
    ")\n",
    "\n",
    "# Show updated tables\n",
    "fig_positive.show()\n",
    "fig_negative.show()"
   ]
  },
  {
   "cell_type": "code",
   "execution_count": 740,
   "metadata": {},
   "outputs": [],
   "source": [
    "# Export the data frames to CSV files\n",
    "positive_df.to_csv(\"probability_positive_eachday.csv\", index=True)\n",
    "negative_df.to_csv(\"probability_negative_eachday.csv\", index=True)"
   ]
  },
  {
   "cell_type": "code",
   "execution_count": 741,
   "metadata": {},
   "outputs": [],
   "source": [
    "# Prepare data for visualization\n",
    "visualization_data = []\n",
    "\n",
    "# Filter for EMA_5 and EMA_9 from transition_probabilities\n",
    "filtered_emas = [\"EMA_5\", \"EMA_9\"]\n",
    "\n",
    "for ema, transition_data in transition_probabilities.items():\n",
    "    if ema in filtered_emas:\n",
    "        for key, value in transition_data.items():\n",
    "            day = int(key.split('Day ')[-1].split()[0])  # Extract day number dynamically\n",
    "            direction = \"Positive\" if \"Positive\" in key else \"Negative\"\n",
    "            visualization_data.append({\n",
    "                \"EMA\": ema,\n",
    "                \"Day\": day,\n",
    "                \"Direction\": direction,\n",
    "                \"Probability\": value\n",
    "            })\n",
    "\n",
    "# Convert to DataFrame\n",
    "vis_df = pd.DataFrame(visualization_data)"
   ]
  },
  {
   "cell_type": "code",
   "execution_count": 742,
   "metadata": {},
   "outputs": [
    {
     "data": {
      "application/vnd.plotly.v1+json": {
       "config": {
        "plotlyServerURL": "https://plot.ly"
       },
       "data": [
        {
         "hovertemplate": "Direction=Positive<br>EMA=EMA_5<br>Day After Transition=%{x}<br>Probability=%{y}<extra></extra>",
         "legendgroup": "Positive",
         "line": {
          "color": "#636efa",
          "dash": "solid"
         },
         "marker": {
          "symbol": "circle"
         },
         "mode": "lines",
         "name": "Positive",
         "orientation": "v",
         "showlegend": true,
         "type": "scatter",
         "x": [
          1,
          2,
          3,
          4,
          5,
          6,
          7,
          8,
          9,
          10,
          11,
          12,
          13,
          14
         ],
         "xaxis": "x",
         "y": [
          0.56,
          0.61,
          0.68,
          0.72,
          0.77,
          0.8,
          0.83,
          0.86,
          0.88,
          0.89,
          0.91,
          0.93,
          0.94,
          0.97
         ],
         "yaxis": "y"
        },
        {
         "hovertemplate": "Direction=Positive<br>EMA=EMA_9<br>Day After Transition=%{x}<br>Probability=%{y}<extra></extra>",
         "legendgroup": "Positive",
         "line": {
          "color": "#636efa",
          "dash": "solid"
         },
         "marker": {
          "symbol": "circle"
         },
         "mode": "lines",
         "name": "Positive",
         "orientation": "v",
         "showlegend": false,
         "type": "scatter",
         "x": [
          1,
          2,
          3,
          4,
          5,
          6,
          7,
          8,
          9,
          10,
          11,
          12,
          13,
          14
         ],
         "xaxis": "x2",
         "y": [
          0.55,
          0.6,
          0.65,
          0.68,
          0.72,
          0.76,
          0.79,
          0.82,
          0.84,
          0.86,
          0.87,
          0.89,
          0.89,
          0.91
         ],
         "yaxis": "y2"
        },
        {
         "hovertemplate": "Direction=Negative<br>EMA=EMA_5<br>Day After Transition=%{x}<br>Probability=%{y}<extra></extra>",
         "legendgroup": "Negative",
         "line": {
          "color": "#EF553B",
          "dash": "solid"
         },
         "marker": {
          "symbol": "circle"
         },
         "mode": "lines",
         "name": "Negative",
         "orientation": "v",
         "showlegend": true,
         "type": "scatter",
         "x": [
          1,
          2,
          3,
          4,
          5,
          6,
          7,
          8,
          9,
          10,
          11,
          12,
          13,
          14
         ],
         "xaxis": "x",
         "y": [
          0.44,
          0.38,
          0.32,
          0.27,
          0.23,
          0.2,
          0.17,
          0.14,
          0.12,
          0.11,
          0.09,
          0.07,
          0.06,
          0.03
         ],
         "yaxis": "y"
        },
        {
         "hovertemplate": "Direction=Negative<br>EMA=EMA_9<br>Day After Transition=%{x}<br>Probability=%{y}<extra></extra>",
         "legendgroup": "Negative",
         "line": {
          "color": "#EF553B",
          "dash": "solid"
         },
         "marker": {
          "symbol": "circle"
         },
         "mode": "lines",
         "name": "Negative",
         "orientation": "v",
         "showlegend": false,
         "type": "scatter",
         "x": [
          1,
          2,
          3,
          4,
          5,
          6,
          7,
          8,
          9,
          10,
          11,
          12,
          13,
          14
         ],
         "xaxis": "x2",
         "y": [
          0.44,
          0.39,
          0.35,
          0.32,
          0.28,
          0.24,
          0.21,
          0.18,
          0.16,
          0.14,
          0.13,
          0.11,
          0.11,
          0.09
         ],
         "yaxis": "y2"
        }
       ],
       "layout": {
        "annotations": [
         {
          "showarrow": false,
          "text": "EMA=EMA_5",
          "x": 0.245,
          "xanchor": "center",
          "xref": "paper",
          "y": 1,
          "yanchor": "bottom",
          "yref": "paper"
         },
         {
          "showarrow": false,
          "text": "EMA=EMA_9",
          "x": 0.755,
          "xanchor": "center",
          "xref": "paper",
          "y": 1,
          "yanchor": "bottom",
          "yref": "paper"
         },
         {
          "showarrow": false,
          "text": "Zero Line",
          "x": 0,
          "xanchor": "left",
          "xref": "x domain",
          "y": 0,
          "yanchor": "bottom",
          "yref": "y"
         },
         {
          "showarrow": false,
          "text": "Zero Line",
          "x": 0,
          "xanchor": "left",
          "xref": "x2 domain",
          "y": 0,
          "yanchor": "bottom",
          "yref": "y2"
         }
        ],
        "height": 600,
        "legend": {
         "orientation": "h",
         "title": {
          "text": "Direction"
         },
         "tracegroupgap": 0,
         "x": 0.5,
         "xanchor": "center",
         "y": -0.2
        },
        "shapes": [
         {
          "line": {
           "color": "black",
           "dash": "solid"
          },
          "type": "line",
          "x0": 0,
          "x1": 1,
          "xref": "x domain",
          "y0": 0,
          "y1": 0,
          "yref": "y"
         },
         {
          "line": {
           "color": "black",
           "dash": "solid"
          },
          "type": "line",
          "x0": 0,
          "x1": 1,
          "xref": "x2 domain",
          "y0": 0,
          "y1": 0,
          "yref": "y2"
         }
        ],
        "template": {
         "data": {
          "bar": [
           {
            "error_x": {
             "color": "#2a3f5f"
            },
            "error_y": {
             "color": "#2a3f5f"
            },
            "marker": {
             "line": {
              "color": "#E5ECF6",
              "width": 0.5
             },
             "pattern": {
              "fillmode": "overlay",
              "size": 10,
              "solidity": 0.2
             }
            },
            "type": "bar"
           }
          ],
          "barpolar": [
           {
            "marker": {
             "line": {
              "color": "#E5ECF6",
              "width": 0.5
             },
             "pattern": {
              "fillmode": "overlay",
              "size": 10,
              "solidity": 0.2
             }
            },
            "type": "barpolar"
           }
          ],
          "carpet": [
           {
            "aaxis": {
             "endlinecolor": "#2a3f5f",
             "gridcolor": "white",
             "linecolor": "white",
             "minorgridcolor": "white",
             "startlinecolor": "#2a3f5f"
            },
            "baxis": {
             "endlinecolor": "#2a3f5f",
             "gridcolor": "white",
             "linecolor": "white",
             "minorgridcolor": "white",
             "startlinecolor": "#2a3f5f"
            },
            "type": "carpet"
           }
          ],
          "choropleth": [
           {
            "colorbar": {
             "outlinewidth": 0,
             "ticks": ""
            },
            "type": "choropleth"
           }
          ],
          "contour": [
           {
            "colorbar": {
             "outlinewidth": 0,
             "ticks": ""
            },
            "colorscale": [
             [
              0,
              "#0d0887"
             ],
             [
              0.1111111111111111,
              "#46039f"
             ],
             [
              0.2222222222222222,
              "#7201a8"
             ],
             [
              0.3333333333333333,
              "#9c179e"
             ],
             [
              0.4444444444444444,
              "#bd3786"
             ],
             [
              0.5555555555555556,
              "#d8576b"
             ],
             [
              0.6666666666666666,
              "#ed7953"
             ],
             [
              0.7777777777777778,
              "#fb9f3a"
             ],
             [
              0.8888888888888888,
              "#fdca26"
             ],
             [
              1,
              "#f0f921"
             ]
            ],
            "type": "contour"
           }
          ],
          "contourcarpet": [
           {
            "colorbar": {
             "outlinewidth": 0,
             "ticks": ""
            },
            "type": "contourcarpet"
           }
          ],
          "heatmap": [
           {
            "colorbar": {
             "outlinewidth": 0,
             "ticks": ""
            },
            "colorscale": [
             [
              0,
              "#0d0887"
             ],
             [
              0.1111111111111111,
              "#46039f"
             ],
             [
              0.2222222222222222,
              "#7201a8"
             ],
             [
              0.3333333333333333,
              "#9c179e"
             ],
             [
              0.4444444444444444,
              "#bd3786"
             ],
             [
              0.5555555555555556,
              "#d8576b"
             ],
             [
              0.6666666666666666,
              "#ed7953"
             ],
             [
              0.7777777777777778,
              "#fb9f3a"
             ],
             [
              0.8888888888888888,
              "#fdca26"
             ],
             [
              1,
              "#f0f921"
             ]
            ],
            "type": "heatmap"
           }
          ],
          "heatmapgl": [
           {
            "colorbar": {
             "outlinewidth": 0,
             "ticks": ""
            },
            "colorscale": [
             [
              0,
              "#0d0887"
             ],
             [
              0.1111111111111111,
              "#46039f"
             ],
             [
              0.2222222222222222,
              "#7201a8"
             ],
             [
              0.3333333333333333,
              "#9c179e"
             ],
             [
              0.4444444444444444,
              "#bd3786"
             ],
             [
              0.5555555555555556,
              "#d8576b"
             ],
             [
              0.6666666666666666,
              "#ed7953"
             ],
             [
              0.7777777777777778,
              "#fb9f3a"
             ],
             [
              0.8888888888888888,
              "#fdca26"
             ],
             [
              1,
              "#f0f921"
             ]
            ],
            "type": "heatmapgl"
           }
          ],
          "histogram": [
           {
            "marker": {
             "pattern": {
              "fillmode": "overlay",
              "size": 10,
              "solidity": 0.2
             }
            },
            "type": "histogram"
           }
          ],
          "histogram2d": [
           {
            "colorbar": {
             "outlinewidth": 0,
             "ticks": ""
            },
            "colorscale": [
             [
              0,
              "#0d0887"
             ],
             [
              0.1111111111111111,
              "#46039f"
             ],
             [
              0.2222222222222222,
              "#7201a8"
             ],
             [
              0.3333333333333333,
              "#9c179e"
             ],
             [
              0.4444444444444444,
              "#bd3786"
             ],
             [
              0.5555555555555556,
              "#d8576b"
             ],
             [
              0.6666666666666666,
              "#ed7953"
             ],
             [
              0.7777777777777778,
              "#fb9f3a"
             ],
             [
              0.8888888888888888,
              "#fdca26"
             ],
             [
              1,
              "#f0f921"
             ]
            ],
            "type": "histogram2d"
           }
          ],
          "histogram2dcontour": [
           {
            "colorbar": {
             "outlinewidth": 0,
             "ticks": ""
            },
            "colorscale": [
             [
              0,
              "#0d0887"
             ],
             [
              0.1111111111111111,
              "#46039f"
             ],
             [
              0.2222222222222222,
              "#7201a8"
             ],
             [
              0.3333333333333333,
              "#9c179e"
             ],
             [
              0.4444444444444444,
              "#bd3786"
             ],
             [
              0.5555555555555556,
              "#d8576b"
             ],
             [
              0.6666666666666666,
              "#ed7953"
             ],
             [
              0.7777777777777778,
              "#fb9f3a"
             ],
             [
              0.8888888888888888,
              "#fdca26"
             ],
             [
              1,
              "#f0f921"
             ]
            ],
            "type": "histogram2dcontour"
           }
          ],
          "mesh3d": [
           {
            "colorbar": {
             "outlinewidth": 0,
             "ticks": ""
            },
            "type": "mesh3d"
           }
          ],
          "parcoords": [
           {
            "line": {
             "colorbar": {
              "outlinewidth": 0,
              "ticks": ""
             }
            },
            "type": "parcoords"
           }
          ],
          "pie": [
           {
            "automargin": true,
            "type": "pie"
           }
          ],
          "scatter": [
           {
            "fillpattern": {
             "fillmode": "overlay",
             "size": 10,
             "solidity": 0.2
            },
            "type": "scatter"
           }
          ],
          "scatter3d": [
           {
            "line": {
             "colorbar": {
              "outlinewidth": 0,
              "ticks": ""
             }
            },
            "marker": {
             "colorbar": {
              "outlinewidth": 0,
              "ticks": ""
             }
            },
            "type": "scatter3d"
           }
          ],
          "scattercarpet": [
           {
            "marker": {
             "colorbar": {
              "outlinewidth": 0,
              "ticks": ""
             }
            },
            "type": "scattercarpet"
           }
          ],
          "scattergeo": [
           {
            "marker": {
             "colorbar": {
              "outlinewidth": 0,
              "ticks": ""
             }
            },
            "type": "scattergeo"
           }
          ],
          "scattergl": [
           {
            "marker": {
             "colorbar": {
              "outlinewidth": 0,
              "ticks": ""
             }
            },
            "type": "scattergl"
           }
          ],
          "scattermapbox": [
           {
            "marker": {
             "colorbar": {
              "outlinewidth": 0,
              "ticks": ""
             }
            },
            "type": "scattermapbox"
           }
          ],
          "scatterpolar": [
           {
            "marker": {
             "colorbar": {
              "outlinewidth": 0,
              "ticks": ""
             }
            },
            "type": "scatterpolar"
           }
          ],
          "scatterpolargl": [
           {
            "marker": {
             "colorbar": {
              "outlinewidth": 0,
              "ticks": ""
             }
            },
            "type": "scatterpolargl"
           }
          ],
          "scatterternary": [
           {
            "marker": {
             "colorbar": {
              "outlinewidth": 0,
              "ticks": ""
             }
            },
            "type": "scatterternary"
           }
          ],
          "surface": [
           {
            "colorbar": {
             "outlinewidth": 0,
             "ticks": ""
            },
            "colorscale": [
             [
              0,
              "#0d0887"
             ],
             [
              0.1111111111111111,
              "#46039f"
             ],
             [
              0.2222222222222222,
              "#7201a8"
             ],
             [
              0.3333333333333333,
              "#9c179e"
             ],
             [
              0.4444444444444444,
              "#bd3786"
             ],
             [
              0.5555555555555556,
              "#d8576b"
             ],
             [
              0.6666666666666666,
              "#ed7953"
             ],
             [
              0.7777777777777778,
              "#fb9f3a"
             ],
             [
              0.8888888888888888,
              "#fdca26"
             ],
             [
              1,
              "#f0f921"
             ]
            ],
            "type": "surface"
           }
          ],
          "table": [
           {
            "cells": {
             "fill": {
              "color": "#EBF0F8"
             },
             "line": {
              "color": "white"
             }
            },
            "header": {
             "fill": {
              "color": "#C8D4E3"
             },
             "line": {
              "color": "white"
             }
            },
            "type": "table"
           }
          ]
         },
         "layout": {
          "annotationdefaults": {
           "arrowcolor": "#2a3f5f",
           "arrowhead": 0,
           "arrowwidth": 1
          },
          "autotypenumbers": "strict",
          "coloraxis": {
           "colorbar": {
            "outlinewidth": 0,
            "ticks": ""
           }
          },
          "colorscale": {
           "diverging": [
            [
             0,
             "#8e0152"
            ],
            [
             0.1,
             "#c51b7d"
            ],
            [
             0.2,
             "#de77ae"
            ],
            [
             0.3,
             "#f1b6da"
            ],
            [
             0.4,
             "#fde0ef"
            ],
            [
             0.5,
             "#f7f7f7"
            ],
            [
             0.6,
             "#e6f5d0"
            ],
            [
             0.7,
             "#b8e186"
            ],
            [
             0.8,
             "#7fbc41"
            ],
            [
             0.9,
             "#4d9221"
            ],
            [
             1,
             "#276419"
            ]
           ],
           "sequential": [
            [
             0,
             "#0d0887"
            ],
            [
             0.1111111111111111,
             "#46039f"
            ],
            [
             0.2222222222222222,
             "#7201a8"
            ],
            [
             0.3333333333333333,
             "#9c179e"
            ],
            [
             0.4444444444444444,
             "#bd3786"
            ],
            [
             0.5555555555555556,
             "#d8576b"
            ],
            [
             0.6666666666666666,
             "#ed7953"
            ],
            [
             0.7777777777777778,
             "#fb9f3a"
            ],
            [
             0.8888888888888888,
             "#fdca26"
            ],
            [
             1,
             "#f0f921"
            ]
           ],
           "sequentialminus": [
            [
             0,
             "#0d0887"
            ],
            [
             0.1111111111111111,
             "#46039f"
            ],
            [
             0.2222222222222222,
             "#7201a8"
            ],
            [
             0.3333333333333333,
             "#9c179e"
            ],
            [
             0.4444444444444444,
             "#bd3786"
            ],
            [
             0.5555555555555556,
             "#d8576b"
            ],
            [
             0.6666666666666666,
             "#ed7953"
            ],
            [
             0.7777777777777778,
             "#fb9f3a"
            ],
            [
             0.8888888888888888,
             "#fdca26"
            ],
            [
             1,
             "#f0f921"
            ]
           ]
          },
          "colorway": [
           "#636efa",
           "#EF553B",
           "#00cc96",
           "#ab63fa",
           "#FFA15A",
           "#19d3f3",
           "#FF6692",
           "#B6E880",
           "#FF97FF",
           "#FECB52"
          ],
          "font": {
           "color": "#2a3f5f"
          },
          "geo": {
           "bgcolor": "white",
           "lakecolor": "white",
           "landcolor": "#E5ECF6",
           "showlakes": true,
           "showland": true,
           "subunitcolor": "white"
          },
          "hoverlabel": {
           "align": "left"
          },
          "hovermode": "closest",
          "mapbox": {
           "style": "light"
          },
          "paper_bgcolor": "white",
          "plot_bgcolor": "#E5ECF6",
          "polar": {
           "angularaxis": {
            "gridcolor": "white",
            "linecolor": "white",
            "ticks": ""
           },
           "bgcolor": "#E5ECF6",
           "radialaxis": {
            "gridcolor": "white",
            "linecolor": "white",
            "ticks": ""
           }
          },
          "scene": {
           "xaxis": {
            "backgroundcolor": "#E5ECF6",
            "gridcolor": "white",
            "gridwidth": 2,
            "linecolor": "white",
            "showbackground": true,
            "ticks": "",
            "zerolinecolor": "white"
           },
           "yaxis": {
            "backgroundcolor": "#E5ECF6",
            "gridcolor": "white",
            "gridwidth": 2,
            "linecolor": "white",
            "showbackground": true,
            "ticks": "",
            "zerolinecolor": "white"
           },
           "zaxis": {
            "backgroundcolor": "#E5ECF6",
            "gridcolor": "white",
            "gridwidth": 2,
            "linecolor": "white",
            "showbackground": true,
            "ticks": "",
            "zerolinecolor": "white"
           }
          },
          "shapedefaults": {
           "line": {
            "color": "#2a3f5f"
           }
          },
          "ternary": {
           "aaxis": {
            "gridcolor": "white",
            "linecolor": "white",
            "ticks": ""
           },
           "baxis": {
            "gridcolor": "white",
            "linecolor": "white",
            "ticks": ""
           },
           "bgcolor": "#E5ECF6",
           "caxis": {
            "gridcolor": "white",
            "linecolor": "white",
            "ticks": ""
           }
          },
          "title": {
           "x": 0.05
          },
          "xaxis": {
           "automargin": true,
           "gridcolor": "white",
           "linecolor": "white",
           "ticks": "",
           "title": {
            "standoff": 15
           },
           "zerolinecolor": "white",
           "zerolinewidth": 2
          },
          "yaxis": {
           "automargin": true,
           "gridcolor": "white",
           "linecolor": "white",
           "ticks": "",
           "title": {
            "standoff": 15
           },
           "zerolinecolor": "white",
           "zerolinewidth": 2
          }
         }
        },
        "title": {
         "text": "Probabilities for 12 Days After Transitions (EMA_5 and EMA_9)"
        },
        "width": 1500,
        "xaxis": {
         "anchor": "y",
         "domain": [
          0,
          0.49
         ],
         "dtick": 1,
         "showgrid": true,
         "tickmode": "linear",
         "title": {
          "text": "Day After Transition"
         }
        },
        "xaxis2": {
         "anchor": "y2",
         "domain": [
          0.51,
          1
         ],
         "dtick": 1,
         "matches": "x",
         "showgrid": true,
         "tickmode": "linear",
         "title": {
          "text": "Day After Transition"
         }
        },
        "yaxis": {
         "anchor": "x",
         "domain": [
          0,
          1
         ],
         "dtick": 0.5,
         "range": [
          -1,
          1
         ],
         "showgrid": true,
         "tickmode": "linear",
         "title": {
          "text": "Probability"
         }
        },
        "yaxis2": {
         "anchor": "x2",
         "domain": [
          0,
          1
         ],
         "dtick": 0.5,
         "matches": "y",
         "range": [
          -1,
          1
         ],
         "showticklabels": false
        }
       }
      }
     },
     "metadata": {},
     "output_type": "display_data"
    }
   ],
   "source": [
    "# Create Plotly visualization for filtered EMAs\n",
    "fig = px.line(\n",
    "    vis_df,  # Replace vis_df with your DataFrame\n",
    "    x=\"Day\",\n",
    "    y=\"Probability\",\n",
    "    color=\"Direction\",\n",
    "    line_group=\"EMA\",\n",
    "    facet_col=\"EMA\",\n",
    "    title=\"Probabilities for 12 Days After Transitions (EMA_5 and EMA_9)\",\n",
    "    labels={\"Day\": \"Day After Transition\", \"Probability\": \"Probability\"}\n",
    ")\n",
    "\n",
    "# Update layout for balanced y-axis range and identical gridlines\n",
    "fig.update_layout(\n",
    "    height=600,\n",
    "    width=1500,\n",
    "    legend_title=\"Direction\",\n",
    "    xaxis=dict(\n",
    "        tickmode='linear',\n",
    "        dtick=1,        # Day tick interval\n",
    "        showgrid=True   # Ensure vertical gridlines are shown\n",
    "    ),\n",
    "    yaxis=dict(\n",
    "        range=[-1, 1],   # Uniform y-axis range\n",
    "        tickmode='linear',\n",
    "        dtick=0.5,      # Probability tick interval\n",
    "        showgrid=True    # Horizontal gridlines\n",
    "    ),\n",
    "    legend=dict(\n",
    "        orientation=\"h\",  # Horizontal orientation\n",
    "        y=-0.2,           # Position below the chart\n",
    "        x=0.5,            # Centered horizontally\n",
    "        xanchor=\"center\"\n",
    "    )\n",
    ")\n",
    "\n",
    "# Apply the x-axis grid settings to all subplots, including EMA_9\n",
    "fig.for_each_xaxis(lambda axis: axis.update(tickmode='linear', dtick=1, showgrid=True))\n",
    "fig.for_each_yaxis(lambda axis: axis.update(range=[-1, 1], dtick=0.5))\n",
    "fig.add_hline(\n",
    "    y=0,\n",
    "    line_dash=\"solid\",    # Solid line style\n",
    "    line_color=\"black\",   # Black line color\n",
    "    annotation_text=\"Zero Line\",  # Optional annotation label\n",
    "    annotation_position=\"top left\"  # Position of the label\n",
    ")\n",
    "\n",
    "fig.show()\n"
   ]
  },
  {
   "cell_type": "code",
   "execution_count": 743,
   "metadata": {
    "id": "HnWioOFARev4"
   },
   "outputs": [],
   "source": [
    "streak_summary = {}\n",
    "for period in ema_periods:\n",
    "    ema_column = f'EMA_{period}'\n",
    "    above_col = f'Above_{ema_column}'\n",
    "    streak_above_col = f'Streak_Above_{period}'\n",
    "    streak_below_col = f'Streak_Below_{period}'\n",
    "\n",
    "    # Median / and Mean streaks / std, rounded to 2 decimal places\n",
    "    # Had to round because it was giving very long floats\n",
    "    median_days_above = round(spy_basicdata[spy_basicdata[above_col]][streak_above_col].median(), 2)\n",
    "    median_days_below = round(spy_basicdata[~spy_basicdata[above_col]][streak_below_col].median(), 2)\n",
    "    mean_days_above = round(spy_basicdata[spy_basicdata[above_col]][streak_above_col].mean(), 2)\n",
    "    mean_days_below = round(spy_basicdata[~spy_basicdata[above_col]][streak_below_col].mean(), 2)\n",
    "    std_days_above = round(spy_basicdata[spy_basicdata[above_col]][streak_above_col].std(), 2)\n",
    "    std_days_below = round(spy_basicdata[~spy_basicdata[above_col]][streak_below_col].std(), 2)\n",
    "\n",
    "    streak_summary[f'EMA_{period}'] = {\n",
    "        'Median Days Above': median_days_above,\n",
    "        'Median Days Below': median_days_below,\n",
    "        \"Mean Days Above\": mean_days_above,\n",
    "        \"Mean Days Below\": mean_days_below,\n",
    "        \"Std Days Above\": std_days_above,\n",
    "        \"Std Days Below\": std_days_below\n",
    "    }"
   ]
  },
  {
   "cell_type": "code",
   "execution_count": 744,
   "metadata": {
    "id": "ME1GvawhRev4",
    "outputId": "5108efb0-c310-46bc-884d-013949821b43"
   },
   "outputs": [
    {
     "name": "stdout",
     "output_type": "stream",
     "text": [
      "EMA_5: {'Median Days Above': 4.0, 'Median Days Below': 2.0, 'Mean Days Above': 5.14, 'Mean Days Below': 3.17, 'Std Days Above': 4.48, 'Std Days Below': 2.57}\n",
      "EMA_9: {'Median Days Above': 5.0, 'Median Days Below': 3.0, 'Mean Days Above': 7.61, 'Mean Days Below': 4.17, 'Std Days Above': 7.03, 'Std Days Below': 3.74}\n",
      "EMA_18: {'Median Days Above': 10.0, 'Median Days Below': 4.0, 'Mean Days Above': 13.63, 'Mean Days Below': 6.38, 'Std Days Above': 12.62, 'Std Days Below': 6.04}\n",
      "EMA_21: {'Median Days Above': 11.0, 'Median Days Below': 5.0, 'Mean Days Above': 16.21, 'Mean Days Below': 7.06, 'Std Days Above': 16.37, 'Std Days Below': 6.93}\n",
      "EMA_40: {'Median Days Above': 17.0, 'Median Days Below': 7.0, 'Mean Days Above': 28.2, 'Mean Days Below': 11.11, 'Std Days Above': 31.45, 'Std Days Below': 11.67}\n",
      "EMA_50: {'Median Days Above': 22.0, 'Median Days Below': 9.0, 'Mean Days Above': 34.51, 'Mean Days Below': 13.73, 'Std Days Above': 37.95, 'Std Days Below': 14.55}\n",
      "EMA_100: {'Median Days Above': 53.0, 'Median Days Below': 16.0, 'Mean Days Above': 74.82, 'Mean Days Below': 32.84, 'Std Days Above': 74.97, 'Std Days Below': 42.6}\n"
     ]
    }
   ],
   "source": [
    "# Display streak summary\n",
    "for ema, summary in streak_summary.items():\n",
    "    print(f\"{ema}: {summary}\")"
   ]
  },
  {
   "cell_type": "markdown",
   "metadata": {},
   "source": [
    "### **B. AVERAGE / MEDIAN / STANDARD DEVIATION DAY ABOVE EACH EMA**\n",
    "- Avg Days Above: This is the average number of consecutive days that the price remains above the EMA before crossing below it.\n",
    "\n",
    "- Each time the price moves above the EMA and stays there, it starts counting days in that streak.\n",
    "The streak ends when the price crosses back below the EMA, and the average streak length is calculated.\n",
    "Avg Days Below: This is the average number of consecutive days that the price remains below the EMA before crossing back above it.\n",
    "\n",
    "- Each time the price drops below the EMA and stays there, it starts counting days in that streak.\n",
    "The streak ends when the price crosses back above the EMA, and the average streak length is calculated.\n",
    "These metrics indicate how long price tends to remain in a “bullish” position above the EMA or a “bearish” position below the EMA for each period, providing insight into the persistence of trends relative to each EMA."
   ]
  },
  {
   "cell_type": "code",
   "execution_count": 745,
   "metadata": {},
   "outputs": [
    {
     "name": "stdout",
     "output_type": "stream",
     "text": [
      "Yearly Probabilities for EMA_5:\n",
      "1995: {'Probability of Positive Day if Price is Above EMA': 0.72, 'Probability of Negative Day if Price is Below EMA': 0.76}\n",
      "1996: {'Probability of Positive Day if Price is Above EMA': 0.69, 'Probability of Negative Day if Price is Below EMA': 0.77}\n",
      "1997: {'Probability of Positive Day if Price is Above EMA': 0.73, 'Probability of Negative Day if Price is Below EMA': 0.73}\n",
      "1998: {'Probability of Positive Day if Price is Above EMA': 0.68, 'Probability of Negative Day if Price is Below EMA': 0.79}\n",
      "1999: {'Probability of Positive Day if Price is Above EMA': 0.73, 'Probability of Negative Day if Price is Below EMA': 0.79}\n",
      "2000: {'Probability of Positive Day if Price is Above EMA': 0.75, 'Probability of Negative Day if Price is Below EMA': 0.79}\n",
      "2001: {'Probability of Positive Day if Price is Above EMA': 0.74, 'Probability of Negative Day if Price is Below EMA': 0.71}\n",
      "2002: {'Probability of Positive Day if Price is Above EMA': 0.73, 'Probability of Negative Day if Price is Below EMA': 0.71}\n",
      "2003: {'Probability of Positive Day if Price is Above EMA': 0.76, 'Probability of Negative Day if Price is Below EMA': 0.74}\n",
      "2004: {'Probability of Positive Day if Price is Above EMA': 0.79, 'Probability of Negative Day if Price is Below EMA': 0.75}\n",
      "2005: {'Probability of Positive Day if Price is Above EMA': 0.78, 'Probability of Negative Day if Price is Below EMA': 0.73}\n",
      "2006: {'Probability of Positive Day if Price is Above EMA': 0.75, 'Probability of Negative Day if Price is Below EMA': 0.77}\n",
      "2007: {'Probability of Positive Day if Price is Above EMA': 0.72, 'Probability of Negative Day if Price is Below EMA': 0.7}\n",
      "2008: {'Probability of Positive Day if Price is Above EMA': 0.82, 'Probability of Negative Day if Price is Below EMA': 0.73}\n",
      "2009: {'Probability of Positive Day if Price is Above EMA': 0.73, 'Probability of Negative Day if Price is Below EMA': 0.73}\n",
      "2010: {'Probability of Positive Day if Price is Above EMA': 0.77, 'Probability of Negative Day if Price is Below EMA': 0.8}\n",
      "2011: {'Probability of Positive Day if Price is Above EMA': 0.75, 'Probability of Negative Day if Price is Below EMA': 0.76}\n",
      "2012: {'Probability of Positive Day if Price is Above EMA': 0.74, 'Probability of Negative Day if Price is Below EMA': 0.78}\n",
      "2013: {'Probability of Positive Day if Price is Above EMA': 0.75, 'Probability of Negative Day if Price is Below EMA': 0.82}\n",
      "2014: {'Probability of Positive Day if Price is Above EMA': 0.77, 'Probability of Negative Day if Price is Below EMA': 0.77}\n",
      "2015: {'Probability of Positive Day if Price is Above EMA': 0.68, 'Probability of Negative Day if Price is Below EMA': 0.79}\n",
      "2016: {'Probability of Positive Day if Price is Above EMA': 0.73, 'Probability of Negative Day if Price is Below EMA': 0.73}\n",
      "2017: {'Probability of Positive Day if Price is Above EMA': 0.71, 'Probability of Negative Day if Price is Below EMA': 0.81}\n",
      "2018: {'Probability of Positive Day if Price is Above EMA': 0.73, 'Probability of Negative Day if Price is Below EMA': 0.75}\n",
      "2019: {'Probability of Positive Day if Price is Above EMA': 0.72, 'Probability of Negative Day if Price is Below EMA': 0.74}\n",
      "2020: {'Probability of Positive Day if Price is Above EMA': 0.73, 'Probability of Negative Day if Price is Below EMA': 0.75}\n",
      "2021: {'Probability of Positive Day if Price is Above EMA': 0.76, 'Probability of Negative Day if Price is Below EMA': 0.81}\n",
      "2022: {'Probability of Positive Day if Price is Above EMA': 0.7, 'Probability of Negative Day if Price is Below EMA': 0.82}\n",
      "2023: {'Probability of Positive Day if Price is Above EMA': 0.77, 'Probability of Negative Day if Price is Below EMA': 0.78}\n",
      "2024: {'Probability of Positive Day if Price is Above EMA': 0.76, 'Probability of Negative Day if Price is Below EMA': 0.8}\n"
     ]
    }
   ],
   "source": [
    "yearly_probabilities = {}\n",
    "\n",
    "for period in ema_periods:\n",
    "    ema_column = f'EMA_{period}'\n",
    "    above_col = f'Above_{ema_column}'  \n",
    "\n",
    "    # Ensure the EMA column exists before proceeding\n",
    "    if ema_column not in spy_basicdata.columns:\n",
    "        print(f\"Column {ema_column} not found in DataFrame.\")\n",
    "        continue  \n",
    "    # Determine if Adj Close is above or below EMA and store in a new column\n",
    "    spy_basicdata.loc[:, above_col] = spy_basicdata['Close'] > spy_basicdata[ema_column]\n",
    "\n",
    "    # Group data by year\n",
    "    spy_basicdata['Year'] = spy_basicdata.index.year\n",
    "    grouped_by_year = spy_basicdata.groupby('Year')\n",
    "\n",
    "    # Store yearly probabilities for this EMA\n",
    "    yearly_probabilities[f'EMA_{period}'] = {}\n",
    "    for year, group in grouped_by_year:\n",
    "        # Calculate probabilities for the year\n",
    "        total_above = group[group[above_col]].shape[0]\n",
    "        total_below = group[~group[above_col]].shape[0]\n",
    "\n",
    "        # Avoid division by zero\n",
    "        prob_positive_if_above = (group[group[above_col] & (group['Close'].diff() > 0)].shape[0] / total_above\n",
    "                                  if total_above > 0 else None)\n",
    "        prob_negative_if_below = (group[~group[above_col] & (group['Close'].diff() < 0)].shape[0] / total_below\n",
    "                                  if total_below > 0 else None)\n",
    "\n",
    "        yearly_probabilities[f'EMA_{period}'][year] = {\n",
    "            'Probability of Positive Day if Price is Above EMA': round(prob_positive_if_above, 2) if prob_positive_if_above is not None else None,\n",
    "            'Probability of Negative Day if Price is Below EMA': round(prob_negative_if_below, 2) if prob_negative_if_below is not None else None\n",
    "        }\n",
    "print(\"Yearly Probabilities for EMA_5:\")\n",
    "for year, prob_data in yearly_probabilities['EMA_5'].items():\n",
    "    print(f\"{year}: {prob_data}\")"
   ]
  },
  {
   "cell_type": "code",
   "execution_count": 746,
   "metadata": {},
   "outputs": [],
   "source": [
    "# Extract the data for EMA_5\n",
    "ema_5_data = yearly_probabilities['EMA_5']\n",
    "\n",
    "# Create a DataFrame from the dictionary\n",
    "df_ema_5 = pd.DataFrame.from_dict(ema_5_data, orient='index')\n",
    "top_positive_df = df_ema_5.nlargest(5, 'Probability of Positive Day if Price is Above EMA')\n",
    "top_negative_df = df_ema_5.nlargest(5, 'Probability of Negative Day if Price is Below EMA')\n"
   ]
  },
  {
   "cell_type": "code",
   "execution_count": 747,
   "metadata": {},
   "outputs": [
    {
     "name": "stdout",
     "output_type": "stream",
     "text": [
      "Top 5 Years for 'Probability of Positive Day if Price is Above 5-Day EMA':\n",
      "      Probability of Positive Day if Price is Above EMA  \\\n",
      "2008                                               0.82   \n",
      "2004                                               0.79   \n",
      "2005                                               0.78   \n",
      "2010                                               0.77   \n",
      "2014                                               0.77   \n",
      "\n",
      "      Probability of Negative Day if Price is Below EMA  \n",
      "2008                                               0.73  \n",
      "2004                                               0.75  \n",
      "2005                                               0.73  \n",
      "2010                                               0.80  \n",
      "2014                                               0.77  \n"
     ]
    }
   ],
   "source": [
    "print(\"Top 5 Years for 'Probability of Positive Day if Price is Above 5-Day EMA':\")\n",
    "print(top_positive_df)"
   ]
  },
  {
   "cell_type": "markdown",
   "metadata": {},
   "source": [
    "--------------------------------------------------------------------------------------------------------------------------------------------------"
   ]
  },
  {
   "cell_type": "markdown",
   "metadata": {},
   "source": [
    "### **Interpretation for \"Top 5 Years for 'Probability of Positive Day if Price is Above 5-Day EMA':\":**\n",
    "- I was curious to know which years had the strongest 'Probability of Positive Day if Price is Above 5-Day EMA'. The one year that stands out is 2008 with 82%. I initially believed this metrics can be  used to understand the years when the positive trend was the strongest. When I look at SPY Prices, I don't see any similarities between these years. In 2008, Stock Prices were already near or at the bottom. In 2004, 2005 the uptrend had already started post the dot-com bubble. "
   ]
  },
  {
   "cell_type": "code",
   "execution_count": 748,
   "metadata": {},
   "outputs": [
    {
     "name": "stdout",
     "output_type": "stream",
     "text": [
      "\n",
      "Top 5 Years for 'Probability of Negative Day if Price is Above 5-Day EMA':\n",
      "      Probability of Positive Day if Price is Above EMA  \\\n",
      "2013                                               0.75   \n",
      "2022                                               0.70   \n",
      "2017                                               0.71   \n",
      "2021                                               0.76   \n",
      "2010                                               0.77   \n",
      "\n",
      "      Probability of Negative Day if Price is Below EMA  \n",
      "2013                                               0.82  \n",
      "2022                                               0.82  \n",
      "2017                                               0.81  \n",
      "2021                                               0.81  \n",
      "2010                                               0.80  \n"
     ]
    }
   ],
   "source": [
    "print(\"\\nTop 5 Years for 'Probability of Negative Day if Price is Above 5-Day EMA':\")\n",
    "print(top_negative_df)"
   ]
  },
  {
   "cell_type": "markdown",
   "metadata": {},
   "source": [
    "**Interpretation for \"Top 5 Years for 'Probability of Negative Day if Price is Above 5-Day EMA\"**\n",
    "- For the Top 5 Years for 'Probability of Negative Day if Price is Above 5-Day EMA', the year that quickly stands out is 2022 since there was a short bear-market but it also was a bottom year starting Oct 2022. Similar to \"Top 5 Years for 'Probability of Positive Day if Price is Above 5-Day EMA', when I looked at the SPY chart, I did not see any similarities between these years. "
   ]
  },
  {
   "cell_type": "code",
   "execution_count": 749,
   "metadata": {},
   "outputs": [],
   "source": [
    "# Convert yearly probabilities for EMA_5 into a DataFrame\n",
    "ema_5_data = yearly_probabilities['EMA_5']\n",
    "ema_5_df = pd.DataFrame.from_dict(ema_5_data, orient='index')\n",
    "ema_5_df.index.name = 'Year'\n",
    "ema_5_df.to_csv('EMA_5_Yearly_Probabilities.csv', index=True)"
   ]
  },
  {
   "cell_type": "code",
   "execution_count": 750,
   "metadata": {},
   "outputs": [],
   "source": [
    "# Convert yearly probabilities for EMA_5 into a DataFrame\n",
    "ema_9_data = yearly_probabilities['EMA_9']\n",
    "ema_9_df = pd.DataFrame.from_dict(ema_5_data, orient='index')\n",
    "ema_9_df.index.name = 'Year'\n",
    "ema_9_df.to_csv('EMA_9_Yearly_Probabilities.csv', index=True)"
   ]
  },
  {
   "cell_type": "code",
   "execution_count": 751,
   "metadata": {},
   "outputs": [
    {
     "data": {
      "image/png": "[encoded data removed]",
      "text/plain": [
       "<Figure size 1500x600 with 1 Axes>"
      ]
     },
     "metadata": {},
     "output_type": "display_data"
    }
   ],
   "source": [
    "# Plot probabilities of positive and negative days for EMA_5\n",
    "ax = ema_5_df.plot(\n",
    "    kind='bar',\n",
    "    figsize=(15, 6),  # Increase width and height\n",
    "    title='Yearly Probabilities for EMA_5',\n",
    "    ylabel='Probability',\n",
    "    xlabel='Year',\n",
    "    rot=45\n",
    ")\n",
    "ax.set_ylim(0, 1)\n",
    "\n",
    "# Move the legend to the bottom of the chart\n",
    "plt.legend(loc='lower center', bbox_to_anchor=(0.5, -0.15), ncol=2)  # Center legend at the bottom with 2 columns\n",
    "\n",
    "plt.grid(axis='y', linestyle='--', alpha=0.7)\n",
    "plt.tight_layout()  \n",
    "plt.show()\n"
   ]
  },
  {
   "cell_type": "markdown",
   "metadata": {},
   "source": [
    "### **Interpretation - 'Yearly Probabilities for EMA_5'**\n",
    "- This bar-chart displays the Probability of a Positive day if price is above EMA and the Pobability of a Negative Day if price is Below. \n",
    "- The most important year that stands out as it is clearly different from all other years is 2008. There has not been a similar year since. \n",
    "- The results for 2008 are: {'Probability of Positive Day if Price is Above EMA': 0.82, 'Probability of Negative Day if Price Below EMA': 0.73}\n",
    "- Perhaps this is a sign of the euphoria in the markets during that year. "
   ]
  },
  {
   "cell_type": "code",
   "execution_count": 752,
   "metadata": {},
   "outputs": [
    {
     "data": {
      "image/png": "[encoded data removed]",
      "text/plain": [
       "<Figure size 1500x600 with 1 Axes>"
      ]
     },
     "metadata": {},
     "output_type": "display_data"
    }
   ],
   "source": [
    "bar_colors = ['blue', 'red']  \n",
    "# Plot probabilities of positive and negative days for EMA_9\n",
    "ax = ema_9_df.plot(\n",
    "    kind='bar',\n",
    "    figsize=(15, 6),  # Increase width and height\n",
    "    title='Yearly Probabilities for EMA_9',\n",
    "    ylabel='Probability',\n",
    "    xlabel='Year',\n",
    "    rot=45,\n",
    "    color=bar_colors  \n",
    ")\n",
    "ax.set_ylim(0, 1)\n",
    "\n",
    "# Move the legend to the bottom of the chart\n",
    "plt.legend(loc='lower center', bbox_to_anchor=(0.5, -0.15), ncol=2)  # Center legend at the bottom with 2 columns\n",
    "\n",
    "plt.grid(axis='y', linestyle='--', alpha=0.7)\n",
    "plt.tight_layout()\n",
    "plt.show()"
   ]
  },
  {
   "cell_type": "code",
   "execution_count": 753,
   "metadata": {},
   "outputs": [],
   "source": [
    "# Reset the index to make \"Year\" a column\n",
    "ema_5_df = ema_5_df.reset_index()\n",
    "ema_5_df['Year'] = ema_5_df['Year'].astype(int)\n",
    "ema_5_df = ema_5_df[['Year'] + [col for col in ema_5_df.columns if col != 'Year']]\n"
   ]
  },
  {
   "cell_type": "code",
   "execution_count": 754,
   "metadata": {},
   "outputs": [],
   "source": [
    "# Step 1: Add the 'Difference' column\n",
    "ema_5_df['Difference'] = (\n",
    "    ema_5_df['Probability of Positive Day if Price is Above EMA'] -\n",
    "    ema_5_df['Probability of Negative Day if Price is Below EMA']\n",
    ")"
   ]
  },
  {
   "cell_type": "code",
   "execution_count": 755,
   "metadata": {},
   "outputs": [],
   "source": [
    "# Merge yearly_summary, ema_5_df, and spy_basicdata on 'Year'\n",
    "merged_df = pd.merge(yearly_summary, ema_5_df, on='Year', how='inner')\n",
    "merged_df = pd.merge(merged_df, spy_basicdata[['Year', 'Close']], on='Year', how='inner')"
   ]
  },
  {
   "cell_type": "code",
   "execution_count": 756,
   "metadata": {},
   "outputs": [],
   "source": [
    "merged_df.to_csv('merged_df.csv', index=False)"
   ]
  },
  {
   "cell_type": "code",
   "execution_count": 757,
   "metadata": {},
   "outputs": [],
   "source": [
    "# Ensure the data types are correct\n",
    "merged_df['Year'] = merged_df['Year'].astype(int)\n",
    "merged_df['Yearly Performance (%)'] = merged_df['Yearly Performance (%)'].astype(float)\n",
    "merged_df['Difference'] = merged_df['Difference'].astype(float)"
   ]
  },
  {
   "cell_type": "markdown",
   "metadata": {},
   "source": [
    "### **Interpretation of 'Difference' (Between Probability of Positive vs Negative Day) and 'Yearly Performance (%)'**\n",
    "- The purpose of the barcharts below is to visually show the 'Difference' between Probability of Positive vs Negative Day and how 2008 was an outlier of a year. \n",
    "- It is interested that we are not see that type of behavior in the market at the current moment, although the narrative is that we are very overextended. \n",
    "- NOTE: These charts had to be created on Tableau, because I was not able to do it properly with Plotly or Matplotliib. "
   ]
  },
  {
   "cell_type": "markdown",
   "metadata": {
    "id": "R1Z7HL4zRev5"
   },
   "source": [
    "Exporting Process for Future Use"
   ]
  },
  {
   "cell_type": "code",
   "execution_count": 758,
   "metadata": {
    "id": "0q6sIq83Rev5"
   },
   "outputs": [],
   "source": [
    "# Ensure the index is in datetime format\n",
    "spy_basicdata.index = pd.to_datetime(spy_basicdata.index)\n",
    "spy_basicdata['Year'] = spy_basicdata.index.year"
   ]
  },
  {
   "cell_type": "code",
   "execution_count": 759,
   "metadata": {
    "id": "XZLJLJxYRev5"
   },
   "outputs": [],
   "source": [
    "ema_periods = [5, 9, 18, 21, 40, 50, 100]\n",
    "yearly_probabilities = {}"
   ]
  },
  {
   "cell_type": "code",
   "execution_count": 760,
   "metadata": {
    "id": "y4ozGudGRev5"
   },
   "outputs": [],
   "source": [
    "# Group by year and calculate probabilities for each year\n",
    "for year, year_data in spy_basicdata.groupby('Year'):\n",
    "    yearly_probabilities[year] = {}\n",
    "\n",
    "    for period in ema_periods:\n",
    "        ema_column = f'EMA_{period}'\n",
    "        above_col = f'Above_{ema_column}'  # Helper column to indicate if the price is above/below the EMA\n",
    "\n",
    "        # Ensure the EMA column exists before proceeding\n",
    "        if ema_column not in year_data.columns:\n",
    "            continue  # Skip to the next EMA period if column is missing\n",
    "\n",
    "        # Determine if Adj Close is above or below EMA and store in a new column\n",
    "        year_data[above_col] = year_data['Close'] > year_data[ema_column]\n",
    "\n",
    "        # Calculate probabilities for each EMA period\n",
    "        total_above = year_data[year_data[above_col]].shape[0]\n",
    "        total_below = year_data[~year_data[above_col]].shape[0]\n",
    "\n",
    "        # Avoid division by zero if there are no days above/below\n",
    "        prob_positive_if_above = (\n",
    "            year_data[year_data[above_col] & (year_data['Close'].diff() > 0)].shape[0] / total_above\n",
    "            if total_above > 0 else 0\n",
    "        )\n",
    "        prob_negative_if_below = (\n",
    "            year_data[~year_data[above_col] & (year_data['Close'].diff() < 0)].shape[0] / total_below\n",
    "            if total_below > 0 else 0\n",
    "        )\n",
    "\n",
    "        # Store yearly probabilities\n",
    "        yearly_probabilities[year][f'EMA_{period}'] = {\n",
    "            'Probability of Positive Day if Above': round(prob_positive_if_above, 2),\n",
    "            'Probability of Negative Day if Below': round(prob_negative_if_below, 2)\n",
    "        }"
   ]
  },
  {
   "cell_type": "code",
   "execution_count": 761,
   "metadata": {
    "id": "Ilv8q3H-Rev5"
   },
   "outputs": [],
   "source": [
    "export_data = []\n",
    "for year, probs in yearly_probabilities.items():\n",
    "    for ema, prob_data in probs.items():\n",
    "        export_data.append({\n",
    "            'Year': year,\n",
    "            'EMA': ema,\n",
    "            'Probability of Positive Day if Above': prob_data['Probability of Positive Day if Above'],\n",
    "            'Probability of Negative Day if Below': prob_data['Probability of Negative Day if Below']\n",
    "        })\n",
    "yearly_probabilities_df = pd.DataFrame(export_data)\n",
    "yearly_probabilities_df.to_csv('SPY_EMA_yearly_probabilities.csv', index=False)"
   ]
  },
  {
   "cell_type": "code",
   "execution_count": 762,
   "metadata": {
    "id": "2taeab8cRev5",
    "outputId": "b3ede311-e404-4a5d-aa16-82b0d4c99aa2"
   },
   "outputs": [
    {
     "data": {
      "application/vnd.plotly.v1+json": {
       "config": {
        "plotlyServerURL": "https://plot.ly"
       },
       "data": [
        {
         "hovertemplate": "EMA Period=EMA_5<br>Year=%{x}<br>Probability of Positive Day if Above=%{y}<extra></extra>",
         "legendgroup": "EMA_5",
         "line": {
          "color": "#636efa",
          "dash": "solid"
         },
         "marker": {
          "symbol": "circle"
         },
         "mode": "lines",
         "name": "EMA_5",
         "orientation": "v",
         "showlegend": true,
         "type": "scatter",
         "x": [
          "1995-01-01T00:00:00",
          "1996-01-01T00:00:00",
          "1997-01-01T00:00:00",
          "1998-01-01T00:00:00",
          "1999-01-01T00:00:00",
          "2000-01-01T00:00:00",
          "2001-01-01T00:00:00",
          "2002-01-01T00:00:00",
          "2003-01-01T00:00:00",
          "2004-01-01T00:00:00",
          "2005-01-01T00:00:00",
          "2006-01-01T00:00:00",
          "2007-01-01T00:00:00",
          "2008-01-01T00:00:00",
          "2009-01-01T00:00:00",
          "2010-01-01T00:00:00",
          "2011-01-01T00:00:00",
          "2012-01-01T00:00:00",
          "2013-01-01T00:00:00",
          "2014-01-01T00:00:00",
          "2015-01-01T00:00:00",
          "2016-01-01T00:00:00",
          "2017-01-01T00:00:00",
          "2018-01-01T00:00:00",
          "2019-01-01T00:00:00",
          "2020-01-01T00:00:00",
          "2021-01-01T00:00:00",
          "2022-01-01T00:00:00",
          "2023-01-01T00:00:00",
          "2024-01-01T00:00:00"
         ],
         "xaxis": "x",
         "y": [
          0.72,
          0.69,
          0.73,
          0.68,
          0.73,
          0.75,
          0.74,
          0.73,
          0.76,
          0.79,
          0.78,
          0.75,
          0.72,
          0.82,
          0.73,
          0.77,
          0.75,
          0.74,
          0.75,
          0.77,
          0.68,
          0.73,
          0.71,
          0.73,
          0.72,
          0.73,
          0.76,
          0.7,
          0.77,
          0.76
         ],
         "yaxis": "y"
        },
        {
         "hovertemplate": "EMA Period=EMA_9<br>Year=%{x}<br>Probability of Positive Day if Above=%{y}<extra></extra>",
         "legendgroup": "EMA_9",
         "line": {
          "color": "#EF553B",
          "dash": "solid"
         },
         "marker": {
          "symbol": "circle"
         },
         "mode": "lines",
         "name": "EMA_9",
         "orientation": "v",
         "showlegend": true,
         "type": "scatter",
         "x": [
          "1995-01-01T00:00:00",
          "1996-01-01T00:00:00",
          "1997-01-01T00:00:00",
          "1998-01-01T00:00:00",
          "1999-01-01T00:00:00",
          "2000-01-01T00:00:00",
          "2001-01-01T00:00:00",
          "2002-01-01T00:00:00",
          "2003-01-01T00:00:00",
          "2004-01-01T00:00:00",
          "2005-01-01T00:00:00",
          "2006-01-01T00:00:00",
          "2007-01-01T00:00:00",
          "2008-01-01T00:00:00",
          "2009-01-01T00:00:00",
          "2010-01-01T00:00:00",
          "2011-01-01T00:00:00",
          "2012-01-01T00:00:00",
          "2013-01-01T00:00:00",
          "2014-01-01T00:00:00",
          "2015-01-01T00:00:00",
          "2016-01-01T00:00:00",
          "2017-01-01T00:00:00",
          "2018-01-01T00:00:00",
          "2019-01-01T00:00:00",
          "2020-01-01T00:00:00",
          "2021-01-01T00:00:00",
          "2022-01-01T00:00:00",
          "2023-01-01T00:00:00",
          "2024-01-01T00:00:00"
         ],
         "xaxis": "x",
         "y": [
          0.65,
          0.66,
          0.67,
          0.64,
          0.67,
          0.68,
          0.67,
          0.68,
          0.71,
          0.7,
          0.71,
          0.7,
          0.69,
          0.77,
          0.69,
          0.74,
          0.68,
          0.68,
          0.7,
          0.74,
          0.64,
          0.68,
          0.65,
          0.68,
          0.7,
          0.68,
          0.69,
          0.65,
          0.72,
          0.73
         ],
         "yaxis": "y"
        },
        {
         "hovertemplate": "EMA Period=EMA_18<br>Year=%{x}<br>Probability of Positive Day if Above=%{y}<extra></extra>",
         "legendgroup": "EMA_18",
         "line": {
          "color": "#00cc96",
          "dash": "solid"
         },
         "marker": {
          "symbol": "circle"
         },
         "mode": "lines",
         "name": "EMA_18",
         "orientation": "v",
         "showlegend": true,
         "type": "scatter",
         "x": [
          "1995-01-01T00:00:00",
          "1996-01-01T00:00:00",
          "1997-01-01T00:00:00",
          "1998-01-01T00:00:00",
          "1999-01-01T00:00:00",
          "2000-01-01T00:00:00",
          "2001-01-01T00:00:00",
          "2002-01-01T00:00:00",
          "2003-01-01T00:00:00",
          "2004-01-01T00:00:00",
          "2005-01-01T00:00:00",
          "2006-01-01T00:00:00",
          "2007-01-01T00:00:00",
          "2008-01-01T00:00:00",
          "2009-01-01T00:00:00",
          "2010-01-01T00:00:00",
          "2011-01-01T00:00:00",
          "2012-01-01T00:00:00",
          "2013-01-01T00:00:00",
          "2014-01-01T00:00:00",
          "2015-01-01T00:00:00",
          "2016-01-01T00:00:00",
          "2017-01-01T00:00:00",
          "2018-01-01T00:00:00",
          "2019-01-01T00:00:00",
          "2020-01-01T00:00:00",
          "2021-01-01T00:00:00",
          "2022-01-01T00:00:00",
          "2023-01-01T00:00:00",
          "2024-01-01T00:00:00"
         ],
         "xaxis": "x",
         "y": [
          0.61,
          0.59,
          0.62,
          0.59,
          0.63,
          0.62,
          0.63,
          0.61,
          0.63,
          0.64,
          0.67,
          0.64,
          0.65,
          0.69,
          0.63,
          0.69,
          0.67,
          0.63,
          0.64,
          0.68,
          0.59,
          0.63,
          0.6,
          0.62,
          0.65,
          0.64,
          0.65,
          0.6,
          0.67,
          0.66
         ],
         "yaxis": "y"
        },
        {
         "hovertemplate": "EMA Period=EMA_21<br>Year=%{x}<br>Probability of Positive Day if Above=%{y}<extra></extra>",
         "legendgroup": "EMA_21",
         "line": {
          "color": "#ab63fa",
          "dash": "solid"
         },
         "marker": {
          "symbol": "circle"
         },
         "mode": "lines",
         "name": "EMA_21",
         "orientation": "v",
         "showlegend": true,
         "type": "scatter",
         "x": [
          "1995-01-01T00:00:00",
          "1996-01-01T00:00:00",
          "1997-01-01T00:00:00",
          "1998-01-01T00:00:00",
          "1999-01-01T00:00:00",
          "2000-01-01T00:00:00",
          "2001-01-01T00:00:00",
          "2002-01-01T00:00:00",
          "2003-01-01T00:00:00",
          "2004-01-01T00:00:00",
          "2005-01-01T00:00:00",
          "2006-01-01T00:00:00",
          "2007-01-01T00:00:00",
          "2008-01-01T00:00:00",
          "2009-01-01T00:00:00",
          "2010-01-01T00:00:00",
          "2011-01-01T00:00:00",
          "2012-01-01T00:00:00",
          "2013-01-01T00:00:00",
          "2014-01-01T00:00:00",
          "2015-01-01T00:00:00",
          "2016-01-01T00:00:00",
          "2017-01-01T00:00:00",
          "2018-01-01T00:00:00",
          "2019-01-01T00:00:00",
          "2020-01-01T00:00:00",
          "2021-01-01T00:00:00",
          "2022-01-01T00:00:00",
          "2023-01-01T00:00:00",
          "2024-01-01T00:00:00"
         ],
         "xaxis": "x",
         "y": [
          0.6,
          0.58,
          0.61,
          0.58,
          0.62,
          0.61,
          0.63,
          0.6,
          0.63,
          0.63,
          0.66,
          0.63,
          0.64,
          0.68,
          0.62,
          0.69,
          0.66,
          0.62,
          0.63,
          0.68,
          0.59,
          0.63,
          0.6,
          0.61,
          0.65,
          0.63,
          0.65,
          0.58,
          0.65,
          0.65
         ],
         "yaxis": "y"
        },
        {
         "hovertemplate": "EMA Period=EMA_40<br>Year=%{x}<br>Probability of Positive Day if Above=%{y}<extra></extra>",
         "legendgroup": "EMA_40",
         "line": {
          "color": "#FFA15A",
          "dash": "solid"
         },
         "marker": {
          "symbol": "circle"
         },
         "mode": "lines",
         "name": "EMA_40",
         "orientation": "v",
         "showlegend": true,
         "type": "scatter",
         "x": [
          "1995-01-01T00:00:00",
          "1996-01-01T00:00:00",
          "1997-01-01T00:00:00",
          "1998-01-01T00:00:00",
          "1999-01-01T00:00:00",
          "2000-01-01T00:00:00",
          "2001-01-01T00:00:00",
          "2002-01-01T00:00:00",
          "2003-01-01T00:00:00",
          "2004-01-01T00:00:00",
          "2005-01-01T00:00:00",
          "2006-01-01T00:00:00",
          "2007-01-01T00:00:00",
          "2008-01-01T00:00:00",
          "2009-01-01T00:00:00",
          "2010-01-01T00:00:00",
          "2011-01-01T00:00:00",
          "2012-01-01T00:00:00",
          "2013-01-01T00:00:00",
          "2014-01-01T00:00:00",
          "2015-01-01T00:00:00",
          "2016-01-01T00:00:00",
          "2017-01-01T00:00:00",
          "2018-01-01T00:00:00",
          "2019-01-01T00:00:00",
          "2020-01-01T00:00:00",
          "2021-01-01T00:00:00",
          "2022-01-01T00:00:00",
          "2023-01-01T00:00:00",
          "2024-01-01T00:00:00"
         ],
         "xaxis": "x",
         "y": [
          0.58,
          0.56,
          0.59,
          0.56,
          0.57,
          0.55,
          0.58,
          0.57,
          0.59,
          0.61,
          0.62,
          0.61,
          0.62,
          0.7,
          0.59,
          0.67,
          0.61,
          0.59,
          0.59,
          0.64,
          0.54,
          0.61,
          0.58,
          0.59,
          0.63,
          0.62,
          0.62,
          0.54,
          0.63,
          0.63
         ],
         "yaxis": "y"
        },
        {
         "hovertemplate": "EMA Period=EMA_50<br>Year=%{x}<br>Probability of Positive Day if Above=%{y}<extra></extra>",
         "legendgroup": "EMA_50",
         "line": {
          "color": "#19d3f3",
          "dash": "solid"
         },
         "marker": {
          "symbol": "circle"
         },
         "mode": "lines",
         "name": "EMA_50",
         "orientation": "v",
         "showlegend": true,
         "type": "scatter",
         "x": [
          "1995-01-01T00:00:00",
          "1996-01-01T00:00:00",
          "1997-01-01T00:00:00",
          "1998-01-01T00:00:00",
          "1999-01-01T00:00:00",
          "2000-01-01T00:00:00",
          "2001-01-01T00:00:00",
          "2002-01-01T00:00:00",
          "2003-01-01T00:00:00",
          "2004-01-01T00:00:00",
          "2005-01-01T00:00:00",
          "2006-01-01T00:00:00",
          "2007-01-01T00:00:00",
          "2008-01-01T00:00:00",
          "2009-01-01T00:00:00",
          "2010-01-01T00:00:00",
          "2011-01-01T00:00:00",
          "2012-01-01T00:00:00",
          "2013-01-01T00:00:00",
          "2014-01-01T00:00:00",
          "2015-01-01T00:00:00",
          "2016-01-01T00:00:00",
          "2017-01-01T00:00:00",
          "2018-01-01T00:00:00",
          "2019-01-01T00:00:00",
          "2020-01-01T00:00:00",
          "2021-01-01T00:00:00",
          "2022-01-01T00:00:00",
          "2023-01-01T00:00:00",
          "2024-01-01T00:00:00"
         ],
         "xaxis": "x",
         "y": [
          0.58,
          0.55,
          0.58,
          0.56,
          0.56,
          0.56,
          0.57,
          0.57,
          0.59,
          0.61,
          0.58,
          0.61,
          0.6,
          0.7,
          0.6,
          0.66,
          0.59,
          0.58,
          0.58,
          0.63,
          0.55,
          0.59,
          0.58,
          0.58,
          0.61,
          0.61,
          0.6,
          0.51,
          0.61,
          0.62
         ],
         "yaxis": "y"
        },
        {
         "hovertemplate": "EMA Period=EMA_100<br>Year=%{x}<br>Probability of Positive Day if Above=%{y}<extra></extra>",
         "legendgroup": "EMA_100",
         "line": {
          "color": "#FF6692",
          "dash": "solid"
         },
         "marker": {
          "symbol": "circle"
         },
         "mode": "lines",
         "name": "EMA_100",
         "orientation": "v",
         "showlegend": true,
         "type": "scatter",
         "x": [
          "1995-01-01T00:00:00",
          "1996-01-01T00:00:00",
          "1997-01-01T00:00:00",
          "1998-01-01T00:00:00",
          "1999-01-01T00:00:00",
          "2000-01-01T00:00:00",
          "2001-01-01T00:00:00",
          "2002-01-01T00:00:00",
          "2003-01-01T00:00:00",
          "2004-01-01T00:00:00",
          "2005-01-01T00:00:00",
          "2006-01-01T00:00:00",
          "2007-01-01T00:00:00",
          "2008-01-01T00:00:00",
          "2009-01-01T00:00:00",
          "2010-01-01T00:00:00",
          "2011-01-01T00:00:00",
          "2012-01-01T00:00:00",
          "2013-01-01T00:00:00",
          "2014-01-01T00:00:00",
          "2015-01-01T00:00:00",
          "2016-01-01T00:00:00",
          "2017-01-01T00:00:00",
          "2018-01-01T00:00:00",
          "2019-01-01T00:00:00",
          "2020-01-01T00:00:00",
          "2021-01-01T00:00:00",
          "2022-01-01T00:00:00",
          "2023-01-01T00:00:00",
          "2024-01-01T00:00:00"
         ],
         "xaxis": "x",
         "y": [
          0.58,
          0.53,
          0.55,
          0.54,
          0.54,
          0.53,
          0.59,
          0.54,
          0.58,
          0.59,
          0.56,
          0.59,
          0.6,
          0.65,
          0.6,
          0.64,
          0.57,
          0.56,
          0.58,
          0.61,
          0.5,
          0.57,
          0.57,
          0.57,
          0.6,
          0.6,
          0.58,
          0.47,
          0.6,
          0.59
         ],
         "yaxis": "y"
        }
       ],
       "layout": {
        "annotations": [
         {
          "showarrow": false,
          "text": "Recession",
          "x": "2001-03-01T00:00:00",
          "xanchor": "left",
          "xref": "x",
          "y": 1,
          "yanchor": "top",
          "yref": "y domain"
         },
         {
          "showarrow": false,
          "text": "Recession",
          "x": "2007-12-01T00:00:00",
          "xanchor": "left",
          "xref": "x",
          "y": 1,
          "yanchor": "top",
          "yref": "y domain"
         },
         {
          "showarrow": false,
          "text": "Recession",
          "x": "2020-02-01T00:00:00",
          "xanchor": "left",
          "xref": "x",
          "y": 1,
          "yanchor": "top",
          "yref": "y domain"
         }
        ],
        "legend": {
         "title": {
          "text": "EMA Period"
         },
         "tracegroupgap": 0
        },
        "shapes": [
         {
          "fillcolor": "grey",
          "line": {
           "width": 0
          },
          "opacity": 0.3,
          "type": "rect",
          "x0": "2001-03-01T00:00:00",
          "x1": "2001-11-30T00:00:00",
          "xref": "x",
          "y0": 0,
          "y1": 1,
          "yref": "y domain"
         },
         {
          "fillcolor": "grey",
          "line": {
           "width": 0
          },
          "opacity": 0.3,
          "type": "rect",
          "x0": "2007-12-01T00:00:00",
          "x1": "2009-06-30T00:00:00",
          "xref": "x",
          "y0": 0,
          "y1": 1,
          "yref": "y domain"
         },
         {
          "fillcolor": "grey",
          "line": {
           "width": 0
          },
          "opacity": 0.3,
          "type": "rect",
          "x0": "2020-02-01T00:00:00",
          "x1": "2020-04-30T00:00:00",
          "xref": "x",
          "y0": 0,
          "y1": 1,
          "yref": "y domain"
         }
        ],
        "template": {
         "data": {
          "bar": [
           {
            "error_x": {
             "color": "#2a3f5f"
            },
            "error_y": {
             "color": "#2a3f5f"
            },
            "marker": {
             "line": {
              "color": "#E5ECF6",
              "width": 0.5
             },
             "pattern": {
              "fillmode": "overlay",
              "size": 10,
              "solidity": 0.2
             }
            },
            "type": "bar"
           }
          ],
          "barpolar": [
           {
            "marker": {
             "line": {
              "color": "#E5ECF6",
              "width": 0.5
             },
             "pattern": {
              "fillmode": "overlay",
              "size": 10,
              "solidity": 0.2
             }
            },
            "type": "barpolar"
           }
          ],
          "carpet": [
           {
            "aaxis": {
             "endlinecolor": "#2a3f5f",
             "gridcolor": "white",
             "linecolor": "white",
             "minorgridcolor": "white",
             "startlinecolor": "#2a3f5f"
            },
            "baxis": {
             "endlinecolor": "#2a3f5f",
             "gridcolor": "white",
             "linecolor": "white",
             "minorgridcolor": "white",
             "startlinecolor": "#2a3f5f"
            },
            "type": "carpet"
           }
          ],
          "choropleth": [
           {
            "colorbar": {
             "outlinewidth": 0,
             "ticks": ""
            },
            "type": "choropleth"
           }
          ],
          "contour": [
           {
            "colorbar": {
             "outlinewidth": 0,
             "ticks": ""
            },
            "colorscale": [
             [
              0,
              "#0d0887"
             ],
             [
              0.1111111111111111,
              "#46039f"
             ],
             [
              0.2222222222222222,
              "#7201a8"
             ],
             [
              0.3333333333333333,
              "#9c179e"
             ],
             [
              0.4444444444444444,
              "#bd3786"
             ],
             [
              0.5555555555555556,
              "#d8576b"
             ],
             [
              0.6666666666666666,
              "#ed7953"
             ],
             [
              0.7777777777777778,
              "#fb9f3a"
             ],
             [
              0.8888888888888888,
              "#fdca26"
             ],
             [
              1,
              "#f0f921"
             ]
            ],
            "type": "contour"
           }
          ],
          "contourcarpet": [
           {
            "colorbar": {
             "outlinewidth": 0,
             "ticks": ""
            },
            "type": "contourcarpet"
           }
          ],
          "heatmap": [
           {
            "colorbar": {
             "outlinewidth": 0,
             "ticks": ""
            },
            "colorscale": [
             [
              0,
              "#0d0887"
             ],
             [
              0.1111111111111111,
              "#46039f"
             ],
             [
              0.2222222222222222,
              "#7201a8"
             ],
             [
              0.3333333333333333,
              "#9c179e"
             ],
             [
              0.4444444444444444,
              "#bd3786"
             ],
             [
              0.5555555555555556,
              "#d8576b"
             ],
             [
              0.6666666666666666,
              "#ed7953"
             ],
             [
              0.7777777777777778,
              "#fb9f3a"
             ],
             [
              0.8888888888888888,
              "#fdca26"
             ],
             [
              1,
              "#f0f921"
             ]
            ],
            "type": "heatmap"
           }
          ],
          "heatmapgl": [
           {
            "colorbar": {
             "outlinewidth": 0,
             "ticks": ""
            },
            "colorscale": [
             [
              0,
              "#0d0887"
             ],
             [
              0.1111111111111111,
              "#46039f"
             ],
             [
              0.2222222222222222,
              "#7201a8"
             ],
             [
              0.3333333333333333,
              "#9c179e"
             ],
             [
              0.4444444444444444,
              "#bd3786"
             ],
             [
              0.5555555555555556,
              "#d8576b"
             ],
             [
              0.6666666666666666,
              "#ed7953"
             ],
             [
              0.7777777777777778,
              "#fb9f3a"
             ],
             [
              0.8888888888888888,
              "#fdca26"
             ],
             [
              1,
              "#f0f921"
             ]
            ],
            "type": "heatmapgl"
           }
          ],
          "histogram": [
           {
            "marker": {
             "pattern": {
              "fillmode": "overlay",
              "size": 10,
              "solidity": 0.2
             }
            },
            "type": "histogram"
           }
          ],
          "histogram2d": [
           {
            "colorbar": {
             "outlinewidth": 0,
             "ticks": ""
            },
            "colorscale": [
             [
              0,
              "#0d0887"
             ],
             [
              0.1111111111111111,
              "#46039f"
             ],
             [
              0.2222222222222222,
              "#7201a8"
             ],
             [
              0.3333333333333333,
              "#9c179e"
             ],
             [
              0.4444444444444444,
              "#bd3786"
             ],
             [
              0.5555555555555556,
              "#d8576b"
             ],
             [
              0.6666666666666666,
              "#ed7953"
             ],
             [
              0.7777777777777778,
              "#fb9f3a"
             ],
             [
              0.8888888888888888,
              "#fdca26"
             ],
             [
              1,
              "#f0f921"
             ]
            ],
            "type": "histogram2d"
           }
          ],
          "histogram2dcontour": [
           {
            "colorbar": {
             "outlinewidth": 0,
             "ticks": ""
            },
            "colorscale": [
             [
              0,
              "#0d0887"
             ],
             [
              0.1111111111111111,
              "#46039f"
             ],
             [
              0.2222222222222222,
              "#7201a8"
             ],
             [
              0.3333333333333333,
              "#9c179e"
             ],
             [
              0.4444444444444444,
              "#bd3786"
             ],
             [
              0.5555555555555556,
              "#d8576b"
             ],
             [
              0.6666666666666666,
              "#ed7953"
             ],
             [
              0.7777777777777778,
              "#fb9f3a"
             ],
             [
              0.8888888888888888,
              "#fdca26"
             ],
             [
              1,
              "#f0f921"
             ]
            ],
            "type": "histogram2dcontour"
           }
          ],
          "mesh3d": [
           {
            "colorbar": {
             "outlinewidth": 0,
             "ticks": ""
            },
            "type": "mesh3d"
           }
          ],
          "parcoords": [
           {
            "line": {
             "colorbar": {
              "outlinewidth": 0,
              "ticks": ""
             }
            },
            "type": "parcoords"
           }
          ],
          "pie": [
           {
            "automargin": true,
            "type": "pie"
           }
          ],
          "scatter": [
           {
            "fillpattern": {
             "fillmode": "overlay",
             "size": 10,
             "solidity": 0.2
            },
            "type": "scatter"
           }
          ],
          "scatter3d": [
           {
            "line": {
             "colorbar": {
              "outlinewidth": 0,
              "ticks": ""
             }
            },
            "marker": {
             "colorbar": {
              "outlinewidth": 0,
              "ticks": ""
             }
            },
            "type": "scatter3d"
           }
          ],
          "scattercarpet": [
           {
            "marker": {
             "colorbar": {
              "outlinewidth": 0,
              "ticks": ""
             }
            },
            "type": "scattercarpet"
           }
          ],
          "scattergeo": [
           {
            "marker": {
             "colorbar": {
              "outlinewidth": 0,
              "ticks": ""
             }
            },
            "type": "scattergeo"
           }
          ],
          "scattergl": [
           {
            "marker": {
             "colorbar": {
              "outlinewidth": 0,
              "ticks": ""
             }
            },
            "type": "scattergl"
           }
          ],
          "scattermapbox": [
           {
            "marker": {
             "colorbar": {
              "outlinewidth": 0,
              "ticks": ""
             }
            },
            "type": "scattermapbox"
           }
          ],
          "scatterpolar": [
           {
            "marker": {
             "colorbar": {
              "outlinewidth": 0,
              "ticks": ""
             }
            },
            "type": "scatterpolar"
           }
          ],
          "scatterpolargl": [
           {
            "marker": {
             "colorbar": {
              "outlinewidth": 0,
              "ticks": ""
             }
            },
            "type": "scatterpolargl"
           }
          ],
          "scatterternary": [
           {
            "marker": {
             "colorbar": {
              "outlinewidth": 0,
              "ticks": ""
             }
            },
            "type": "scatterternary"
           }
          ],
          "surface": [
           {
            "colorbar": {
             "outlinewidth": 0,
             "ticks": ""
            },
            "colorscale": [
             [
              0,
              "#0d0887"
             ],
             [
              0.1111111111111111,
              "#46039f"
             ],
             [
              0.2222222222222222,
              "#7201a8"
             ],
             [
              0.3333333333333333,
              "#9c179e"
             ],
             [
              0.4444444444444444,
              "#bd3786"
             ],
             [
              0.5555555555555556,
              "#d8576b"
             ],
             [
              0.6666666666666666,
              "#ed7953"
             ],
             [
              0.7777777777777778,
              "#fb9f3a"
             ],
             [
              0.8888888888888888,
              "#fdca26"
             ],
             [
              1,
              "#f0f921"
             ]
            ],
            "type": "surface"
           }
          ],
          "table": [
           {
            "cells": {
             "fill": {
              "color": "#EBF0F8"
             },
             "line": {
              "color": "white"
             }
            },
            "header": {
             "fill": {
              "color": "#C8D4E3"
             },
             "line": {
              "color": "white"
             }
            },
            "type": "table"
           }
          ]
         },
         "layout": {
          "annotationdefaults": {
           "arrowcolor": "#2a3f5f",
           "arrowhead": 0,
           "arrowwidth": 1
          },
          "autotypenumbers": "strict",
          "coloraxis": {
           "colorbar": {
            "outlinewidth": 0,
            "ticks": ""
           }
          },
          "colorscale": {
           "diverging": [
            [
             0,
             "#8e0152"
            ],
            [
             0.1,
             "#c51b7d"
            ],
            [
             0.2,
             "#de77ae"
            ],
            [
             0.3,
             "#f1b6da"
            ],
            [
             0.4,
             "#fde0ef"
            ],
            [
             0.5,
             "#f7f7f7"
            ],
            [
             0.6,
             "#e6f5d0"
            ],
            [
             0.7,
             "#b8e186"
            ],
            [
             0.8,
             "#7fbc41"
            ],
            [
             0.9,
             "#4d9221"
            ],
            [
             1,
             "#276419"
            ]
           ],
           "sequential": [
            [
             0,
             "#0d0887"
            ],
            [
             0.1111111111111111,
             "#46039f"
            ],
            [
             0.2222222222222222,
             "#7201a8"
            ],
            [
             0.3333333333333333,
             "#9c179e"
            ],
            [
             0.4444444444444444,
             "#bd3786"
            ],
            [
             0.5555555555555556,
             "#d8576b"
            ],
            [
             0.6666666666666666,
             "#ed7953"
            ],
            [
             0.7777777777777778,
             "#fb9f3a"
            ],
            [
             0.8888888888888888,
             "#fdca26"
            ],
            [
             1,
             "#f0f921"
            ]
           ],
           "sequentialminus": [
            [
             0,
             "#0d0887"
            ],
            [
             0.1111111111111111,
             "#46039f"
            ],
            [
             0.2222222222222222,
             "#7201a8"
            ],
            [
             0.3333333333333333,
             "#9c179e"
            ],
            [
             0.4444444444444444,
             "#bd3786"
            ],
            [
             0.5555555555555556,
             "#d8576b"
            ],
            [
             0.6666666666666666,
             "#ed7953"
            ],
            [
             0.7777777777777778,
             "#fb9f3a"
            ],
            [
             0.8888888888888888,
             "#fdca26"
            ],
            [
             1,
             "#f0f921"
            ]
           ]
          },
          "colorway": [
           "#636efa",
           "#EF553B",
           "#00cc96",
           "#ab63fa",
           "#FFA15A",
           "#19d3f3",
           "#FF6692",
           "#B6E880",
           "#FF97FF",
           "#FECB52"
          ],
          "font": {
           "color": "#2a3f5f"
          },
          "geo": {
           "bgcolor": "white",
           "lakecolor": "white",
           "landcolor": "#E5ECF6",
           "showlakes": true,
           "showland": true,
           "subunitcolor": "white"
          },
          "hoverlabel": {
           "align": "left"
          },
          "hovermode": "closest",
          "mapbox": {
           "style": "light"
          },
          "paper_bgcolor": "white",
          "plot_bgcolor": "#E5ECF6",
          "polar": {
           "angularaxis": {
            "gridcolor": "white",
            "linecolor": "white",
            "ticks": ""
           },
           "bgcolor": "#E5ECF6",
           "radialaxis": {
            "gridcolor": "white",
            "linecolor": "white",
            "ticks": ""
           }
          },
          "scene": {
           "xaxis": {
            "backgroundcolor": "#E5ECF6",
            "gridcolor": "white",
            "gridwidth": 2,
            "linecolor": "white",
            "showbackground": true,
            "ticks": "",
            "zerolinecolor": "white"
           },
           "yaxis": {
            "backgroundcolor": "#E5ECF6",
            "gridcolor": "white",
            "gridwidth": 2,
            "linecolor": "white",
            "showbackground": true,
            "ticks": "",
            "zerolinecolor": "white"
           },
           "zaxis": {
            "backgroundcolor": "#E5ECF6",
            "gridcolor": "white",
            "gridwidth": 2,
            "linecolor": "white",
            "showbackground": true,
            "ticks": "",
            "zerolinecolor": "white"
           }
          },
          "shapedefaults": {
           "line": {
            "color": "#2a3f5f"
           }
          },
          "ternary": {
           "aaxis": {
            "gridcolor": "white",
            "linecolor": "white",
            "ticks": ""
           },
           "baxis": {
            "gridcolor": "white",
            "linecolor": "white",
            "ticks": ""
           },
           "bgcolor": "#E5ECF6",
           "caxis": {
            "gridcolor": "white",
            "linecolor": "white",
            "ticks": ""
           }
          },
          "title": {
           "x": 0.05
          },
          "xaxis": {
           "automargin": true,
           "gridcolor": "white",
           "linecolor": "white",
           "ticks": "",
           "title": {
            "standoff": 15
           },
           "zerolinecolor": "white",
           "zerolinewidth": 2
          },
          "yaxis": {
           "automargin": true,
           "gridcolor": "white",
           "linecolor": "white",
           "ticks": "",
           "title": {
            "standoff": 15
           },
           "zerolinecolor": "white",
           "zerolinewidth": 2
          }
         }
        },
        "title": {
         "text": "S&P500 - Probability of Positive Day if Price Above EMA over Time"
        },
        "xaxis": {
         "anchor": "y",
         "domain": [
          0,
          1
         ],
         "title": {
          "text": "Year"
         },
         "type": "date"
        },
        "yaxis": {
         "anchor": "x",
         "domain": [
          0,
          1
         ],
         "title": {
          "text": "Probability of Positive Day if Price Above EMA"
         }
        }
       }
      }
     },
     "metadata": {},
     "output_type": "display_data"
    }
   ],
   "source": [
    "yearly_probabilities_df['Year'] = pd.to_datetime(yearly_probabilities_df['Year'], format='%Y')\n",
    "fig = px.line(\n",
    "    yearly_probabilities_df,\n",
    "    x='Year',\n",
    "    y='Probability of Positive Day if Above',\n",
    "    color='EMA',\n",
    "    title=\"S&P500 - Probability of Positive Day if Price Above EMA over Time\",\n",
    "    labels={\n",
    "        'Year': 'Year',\n",
    "        'Probability of Positive Day if Price Above EMA': 'Probability of Positive Day if Price Above EMA',\n",
    "        'EMA': 'EMA Period'\n",
    "    }\n",
    ")\n",
    "\n",
    "# Define recession periods and convert to datetime\n",
    "recession_periods = [\n",
    "    {'start': pd.to_datetime('2001-03-01'), 'end': pd.to_datetime('2001-11-30')},\n",
    "    {'start': pd.to_datetime('2007-12-01'), 'end': pd.to_datetime('2009-06-30')},\n",
    "    {'start': pd.to_datetime('2020-02-01'), 'end': pd.to_datetime('2020-04-30')}\n",
    "]\n",
    "\n",
    "# Add vertical shaded regions for each recession\n",
    "for recession in recession_periods:\n",
    "    fig.add_vrect(\n",
    "        x0=recession['start'], x1=recession['end'],\n",
    "        fillcolor=\"grey\", opacity=0.3, line_width=0,\n",
    "        annotation_text=\"Recession\", annotation_position=\"top left\"\n",
    "    )\n",
    "\n",
    "fig.update_layout(\n",
    "    xaxis=dict(title='Year', type='date'),\n",
    "    yaxis=dict(title='Probability of Positive Day if Price Above EMA'),\n",
    "    legend=dict(title=\"EMA Period\")\n",
    ")\n",
    "\n",
    "fig.show()\n"
   ]
  },
  {
   "cell_type": "markdown",
   "metadata": {
    "id": "dbscOJjmRev5"
   },
   "source": [
    "### **Interpretation: Probability of Positive Day if Price Above EMA Over time**"
   ]
  },
  {
   "cell_type": "markdown",
   "metadata": {},
   "source": [
    "### **Different EMA Lines:**\n",
    "\n",
    "**The chart \"S&P500 - Probability of Positive Day if Price Above EMA over Time\", includes multiple EMA periods: EMA_5, EMA_9, EMA_18, EMA_21, EMA_40, EMA_50, and EMA_100.** Shorter EMAs (e.g., EMA_5, EMA_9) are more responsive to recent price changes, while longer EMAs (e.g., EMA_50, EMA_100) smooth out price trends over longer durations.\n",
    "\n",
    "### **Higher Probabilities for Shorter EMAs:**\n",
    "\n",
    "The probabilities for shorter EMAs like EMA_5 and EMA_9 tend to be consistently higher, often between 0.7 and 0.8. This suggests that when the price is above shorter EMAs, the likelihood of a positive day increases significantly. Short-term EMAs (e.g., EMA_5, EMA_9) provide a higher probability of a positive day when prices are above them. This makes shorter EMAs potentially useful for traders focused on short-term signals.\n",
    "\n",
    "### **Lower Probabilities for Longer EMAs:**\n",
    "\n",
    "Longer EMAs like EMA_50 and EMA_100 show lower probabilities, usually between 0.55 and 0.6. This indicates that price movements relative to longer EMAs have less immediate influence on the probability of a positive day. Long-term EMAs (e.g., EMA_50, EMA_100) offer a lower but more stable probability of positive days, indicating a longer-term price strength signal.\n",
    "\n",
    "### **Recession Periods & Post-Recession Recovery:**\n",
    "\n",
    "The grey-shaded recession periods (e.g., around 2001, 2008, and 2020) coincide with significant drops in probabilities across all EMAs.\n",
    "During recessions, the probability of a positive day decreases across all EMA periods. This highlights greater uncertainty and volatility during economic downturns. After recession periods, probabilities tend to recover, particularly for shorter EMAs. For example, after the 2008 financial crisis, EMA_5 and EMA_9 probabilities sharply increase and stabilize.\n",
    "\n",
    "### **Practical Applications:** \n",
    "\n",
    "I personally do not consider this information to be signals to jump in and take any particular actions. In fact, no technical indicator should be considered green light to reduce risk and dive in to any particular direction. However, these high probability results are useful information that should be considered when taking action. "
   ]
  },
  {
   "cell_type": "markdown",
   "metadata": {},
   "source": [
    "--------------------------------------------------------------------------------------------------------------------------------------------------"
   ]
  }
 ],
 "metadata": {
  "colab": {
   "provenance": []
  },
  "kernelspec": {
   "display_name": "Python 3",
   "language": "python",
   "name": "python3"
  },
  "language_info": {
   "codemirror_mode": {
    "name": "ipython",
    "version": 3
   },
   "file_extension": ".py",
   "mimetype": "text/x-python",
   "name": "python",
   "nbconvert_exporter": "python",
   "pygments_lexer": "ipython3",
   "version": "3.10.5"
  }
 },
 "nbformat": 4,
 "nbformat_minor": 0
}
